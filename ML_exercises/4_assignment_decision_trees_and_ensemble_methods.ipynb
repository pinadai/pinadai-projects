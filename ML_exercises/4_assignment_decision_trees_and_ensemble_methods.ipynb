{
 "cells": [
  {
   "cell_type": "markdown",
   "id": "542ee399",
   "metadata": {},
   "source": [
    "# Assignment 4: Decision Trees and Ensemble Methods\n",
    "## Daisy Pinaroc"
   ]
  },
  {
   "cell_type": "markdown",
   "id": "bced95b4",
   "metadata": {},
   "source": [
    "## 1) Feature Engineering"
   ]
  },
  {
   "cell_type": "markdown",
   "id": "2852b115",
   "metadata": {},
   "source": [
    "Let's load the data into a Pandas DataFrame. "
   ]
  },
  {
   "cell_type": "code",
   "execution_count": 107,
   "id": "8747fc8a",
   "metadata": {},
   "outputs": [
    {
     "data": {
      "text/html": [
       "<div>\n",
       "<style scoped>\n",
       "    .dataframe tbody tr th:only-of-type {\n",
       "        vertical-align: middle;\n",
       "    }\n",
       "\n",
       "    .dataframe tbody tr th {\n",
       "        vertical-align: top;\n",
       "    }\n",
       "\n",
       "    .dataframe thead th {\n",
       "        text-align: right;\n",
       "    }\n",
       "</style>\n",
       "<table border=\"1\" class=\"dataframe\">\n",
       "  <thead>\n",
       "    <tr style=\"text-align: right;\">\n",
       "      <th></th>\n",
       "      <th>Unnamed: 0</th>\n",
       "      <th>Date</th>\n",
       "      <th>Route</th>\n",
       "      <th>Succeeded</th>\n",
       "      <th>Battery Voltage AVG</th>\n",
       "      <th>Temperature AVG</th>\n",
       "      <th>Relative Humidity AVG</th>\n",
       "      <th>Wind Speed Daily AVG</th>\n",
       "      <th>Wind Direction AVG</th>\n",
       "      <th>Solare Radiation AVG</th>\n",
       "    </tr>\n",
       "  </thead>\n",
       "  <tbody>\n",
       "    <tr>\n",
       "      <th>0</th>\n",
       "      <td>0</td>\n",
       "      <td>11/27/2015</td>\n",
       "      <td>Disappointment Cleaver</td>\n",
       "      <td>0</td>\n",
       "      <td>13.643750</td>\n",
       "      <td>26.321667</td>\n",
       "      <td>19.715000</td>\n",
       "      <td>27.839583</td>\n",
       "      <td>68.004167</td>\n",
       "      <td>88.496250</td>\n",
       "    </tr>\n",
       "    <tr>\n",
       "      <th>1</th>\n",
       "      <td>1</td>\n",
       "      <td>11/21/2015</td>\n",
       "      <td>Disappointment Cleaver</td>\n",
       "      <td>0</td>\n",
       "      <td>13.749583</td>\n",
       "      <td>31.300000</td>\n",
       "      <td>21.690708</td>\n",
       "      <td>2.245833</td>\n",
       "      <td>117.549667</td>\n",
       "      <td>93.660417</td>\n",
       "    </tr>\n",
       "    <tr>\n",
       "      <th>2</th>\n",
       "      <td>2</td>\n",
       "      <td>10/15/2015</td>\n",
       "      <td>Disappointment Cleaver</td>\n",
       "      <td>0</td>\n",
       "      <td>13.461250</td>\n",
       "      <td>46.447917</td>\n",
       "      <td>27.211250</td>\n",
       "      <td>17.163625</td>\n",
       "      <td>259.121375</td>\n",
       "      <td>138.387000</td>\n",
       "    </tr>\n",
       "    <tr>\n",
       "      <th>3</th>\n",
       "      <td>3</td>\n",
       "      <td>10/13/2015</td>\n",
       "      <td>Little Tahoma</td>\n",
       "      <td>0</td>\n",
       "      <td>13.532083</td>\n",
       "      <td>40.979583</td>\n",
       "      <td>28.335708</td>\n",
       "      <td>19.591167</td>\n",
       "      <td>279.779167</td>\n",
       "      <td>176.382667</td>\n",
       "    </tr>\n",
       "    <tr>\n",
       "      <th>4</th>\n",
       "      <td>4</td>\n",
       "      <td>10/9/2015</td>\n",
       "      <td>Disappointment Cleaver</td>\n",
       "      <td>0</td>\n",
       "      <td>13.216250</td>\n",
       "      <td>38.260417</td>\n",
       "      <td>74.329167</td>\n",
       "      <td>65.138333</td>\n",
       "      <td>264.687500</td>\n",
       "      <td>27.791292</td>\n",
       "    </tr>\n",
       "  </tbody>\n",
       "</table>\n",
       "</div>"
      ],
      "text/plain": [
       "   Unnamed: 0        Date                   Route  Succeeded  \\\n",
       "0           0  11/27/2015  Disappointment Cleaver          0   \n",
       "1           1  11/21/2015  Disappointment Cleaver          0   \n",
       "2           2  10/15/2015  Disappointment Cleaver          0   \n",
       "3           3  10/13/2015           Little Tahoma          0   \n",
       "4           4   10/9/2015  Disappointment Cleaver          0   \n",
       "\n",
       "   Battery Voltage AVG  Temperature AVG  Relative Humidity AVG  \\\n",
       "0            13.643750        26.321667              19.715000   \n",
       "1            13.749583        31.300000              21.690708   \n",
       "2            13.461250        46.447917              27.211250   \n",
       "3            13.532083        40.979583              28.335708   \n",
       "4            13.216250        38.260417              74.329167   \n",
       "\n",
       "   Wind Speed Daily AVG  Wind Direction AVG  Solare Radiation AVG  \n",
       "0             27.839583           68.004167             88.496250  \n",
       "1              2.245833          117.549667             93.660417  \n",
       "2             17.163625          259.121375            138.387000  \n",
       "3             19.591167          279.779167            176.382667  \n",
       "4             65.138333          264.687500             27.791292  "
      ]
     },
     "execution_count": 107,
     "metadata": {},
     "output_type": "execute_result"
    }
   ],
   "source": [
    "# Load the dataset as a dataframe using pandas library \n",
    "import pandas as pd\n",
    "import numpy as np\n",
    "# Importing OneHotEncoder class from scikit-learn preprocessing for later use\n",
    "from sklearn.preprocessing import MinMaxScaler, OneHotEncoder\n",
    "from sklearn.model_selection import train_test_split\n",
    "from sklearn.model_selection import cross_val_score\n",
    "\n",
    "mt_rainier_df = pd.read_csv(\"MtRainier_data.csv\")\n",
    "\n",
    "# Print a few columns using head() function\n",
    "mt_rainier_df.head()"
   ]
  },
  {
   "cell_type": "markdown",
   "id": "616fc135",
   "metadata": {},
   "source": [
    "### Exploratory data analysis\n",
    "Check and remove duplicates. Check and clean rows with NULL entries."
   ]
  },
  {
   "cell_type": "code",
   "execution_count": 108,
   "id": "c21b6e05",
   "metadata": {},
   "outputs": [
    {
     "name": "stdout",
     "output_type": "stream",
     "text": [
      "<class 'pandas.core.frame.DataFrame'>\n",
      "Int64Index: 1895 entries, 0 to 1894\n",
      "Data columns (total 10 columns):\n",
      " #   Column                 Non-Null Count  Dtype  \n",
      "---  ------                 --------------  -----  \n",
      " 0   Unnamed: 0             1895 non-null   int64  \n",
      " 1   Date                   1895 non-null   object \n",
      " 2   Route                  1895 non-null   object \n",
      " 3   Succeeded              1895 non-null   int64  \n",
      " 4   Battery Voltage AVG    1895 non-null   float64\n",
      " 5   Temperature AVG        1895 non-null   float64\n",
      " 6   Relative Humidity AVG  1895 non-null   float64\n",
      " 7   Wind Speed Daily AVG   1895 non-null   float64\n",
      " 8   Wind Direction AVG     1895 non-null   float64\n",
      " 9   Solare Radiation AVG   1895 non-null   float64\n",
      "dtypes: float64(6), int64(2), object(2)\n",
      "memory usage: 162.9+ KB\n"
     ]
    }
   ],
   "source": [
    "# Dropping duplicated data, if any\n",
    "mt_rainier_df = mt_rainier_df.drop_duplicates()\n",
    "\n",
    "# Applying dropna() for completeness\n",
    "mt_rainier_df = mt_rainier_df.dropna()\n",
    "\n",
    "# Check the data types of the columns using info() function, also checking for completeness\n",
    "mt_rainier_df.info()"
   ]
  },
  {
   "cell_type": "code",
   "execution_count": 109,
   "id": "6c73fdf5",
   "metadata": {
    "scrolled": false
   },
   "outputs": [
    {
     "name": "stdout",
     "output_type": "stream",
     "text": [
      "Rows: 1895\n",
      "Columns: 10\n"
     ]
    }
   ],
   "source": [
    "# Printing the number of rows and columns in the dataframe\n",
    "\n",
    "# Rows\n",
    "rows = len(mt_rainier_df.index)\n",
    "\n",
    "# Columns\n",
    "col = len(mt_rainier_df.axes[1])\n",
    "\n",
    "print('Rows:',rows)\n",
    "print('Columns:', col)"
   ]
  },
  {
   "cell_type": "markdown",
   "id": "10920dbc",
   "metadata": {},
   "source": [
    "I've determined the number of rows and columns in the dataframe because I would like to see if this changes after feature engineering."
   ]
  },
  {
   "cell_type": "markdown",
   "id": "137e797f",
   "metadata": {},
   "source": [
    "### Feature and Label Definition"
   ]
  },
  {
   "cell_type": "code",
   "execution_count": 110,
   "id": "5fc4626c",
   "metadata": {
    "scrolled": true
   },
   "outputs": [
    {
     "data": {
      "text/html": [
       "<div>\n",
       "<style scoped>\n",
       "    .dataframe tbody tr th:only-of-type {\n",
       "        vertical-align: middle;\n",
       "    }\n",
       "\n",
       "    .dataframe tbody tr th {\n",
       "        vertical-align: top;\n",
       "    }\n",
       "\n",
       "    .dataframe thead th {\n",
       "        text-align: right;\n",
       "    }\n",
       "</style>\n",
       "<table border=\"1\" class=\"dataframe\">\n",
       "  <thead>\n",
       "    <tr style=\"text-align: right;\">\n",
       "      <th></th>\n",
       "      <th>Temperature AVG</th>\n",
       "      <th>Relative Humidity AVG</th>\n",
       "      <th>Wind Speed Daily AVG</th>\n",
       "      <th>Wind Direction AVG</th>\n",
       "      <th>Solare Radiation AVG</th>\n",
       "    </tr>\n",
       "  </thead>\n",
       "  <tbody>\n",
       "    <tr>\n",
       "      <th>0</th>\n",
       "      <td>26.321667</td>\n",
       "      <td>19.715000</td>\n",
       "      <td>27.839583</td>\n",
       "      <td>68.004167</td>\n",
       "      <td>88.496250</td>\n",
       "    </tr>\n",
       "    <tr>\n",
       "      <th>1</th>\n",
       "      <td>31.300000</td>\n",
       "      <td>21.690708</td>\n",
       "      <td>2.245833</td>\n",
       "      <td>117.549667</td>\n",
       "      <td>93.660417</td>\n",
       "    </tr>\n",
       "    <tr>\n",
       "      <th>2</th>\n",
       "      <td>46.447917</td>\n",
       "      <td>27.211250</td>\n",
       "      <td>17.163625</td>\n",
       "      <td>259.121375</td>\n",
       "      <td>138.387000</td>\n",
       "    </tr>\n",
       "    <tr>\n",
       "      <th>3</th>\n",
       "      <td>40.979583</td>\n",
       "      <td>28.335708</td>\n",
       "      <td>19.591167</td>\n",
       "      <td>279.779167</td>\n",
       "      <td>176.382667</td>\n",
       "    </tr>\n",
       "    <tr>\n",
       "      <th>4</th>\n",
       "      <td>38.260417</td>\n",
       "      <td>74.329167</td>\n",
       "      <td>65.138333</td>\n",
       "      <td>264.687500</td>\n",
       "      <td>27.791292</td>\n",
       "    </tr>\n",
       "  </tbody>\n",
       "</table>\n",
       "</div>"
      ],
      "text/plain": [
       "   Temperature AVG  Relative Humidity AVG  Wind Speed Daily AVG  \\\n",
       "0        26.321667              19.715000             27.839583   \n",
       "1        31.300000              21.690708              2.245833   \n",
       "2        46.447917              27.211250             17.163625   \n",
       "3        40.979583              28.335708             19.591167   \n",
       "4        38.260417              74.329167             65.138333   \n",
       "\n",
       "   Wind Direction AVG  Solare Radiation AVG  \n",
       "0           68.004167             88.496250  \n",
       "1          117.549667             93.660417  \n",
       "2          259.121375            138.387000  \n",
       "3          279.779167            176.382667  \n",
       "4          264.687500             27.791292  "
      ]
     },
     "execution_count": 110,
     "metadata": {},
     "output_type": "execute_result"
    }
   ],
   "source": [
    "mt_rainier_features_df = mt_rainier_df[[\"Temperature AVG\", \"Relative Humidity AVG\", \"Wind Speed Daily AVG\", \"Wind Direction AVG\",\"Solare Radiation AVG\"]] \n",
    "mt_rainier_features_df.head()"
   ]
  },
  {
   "cell_type": "code",
   "execution_count": 111,
   "id": "c38b70c2",
   "metadata": {
    "scrolled": true
   },
   "outputs": [
    {
     "data": {
      "text/html": [
       "<div>\n",
       "<style scoped>\n",
       "    .dataframe tbody tr th:only-of-type {\n",
       "        vertical-align: middle;\n",
       "    }\n",
       "\n",
       "    .dataframe tbody tr th {\n",
       "        vertical-align: top;\n",
       "    }\n",
       "\n",
       "    .dataframe thead th {\n",
       "        text-align: right;\n",
       "    }\n",
       "</style>\n",
       "<table border=\"1\" class=\"dataframe\">\n",
       "  <thead>\n",
       "    <tr style=\"text-align: right;\">\n",
       "      <th></th>\n",
       "      <th>Succeeded</th>\n",
       "    </tr>\n",
       "  </thead>\n",
       "  <tbody>\n",
       "    <tr>\n",
       "      <th>0</th>\n",
       "      <td>0</td>\n",
       "    </tr>\n",
       "    <tr>\n",
       "      <th>1</th>\n",
       "      <td>0</td>\n",
       "    </tr>\n",
       "    <tr>\n",
       "      <th>2</th>\n",
       "      <td>0</td>\n",
       "    </tr>\n",
       "    <tr>\n",
       "      <th>3</th>\n",
       "      <td>0</td>\n",
       "    </tr>\n",
       "    <tr>\n",
       "      <th>4</th>\n",
       "      <td>0</td>\n",
       "    </tr>\n",
       "  </tbody>\n",
       "</table>\n",
       "</div>"
      ],
      "text/plain": [
       "   Succeeded\n",
       "0          0\n",
       "1          0\n",
       "2          0\n",
       "3          0\n",
       "4          0"
      ]
     },
     "execution_count": 111,
     "metadata": {},
     "output_type": "execute_result"
    }
   ],
   "source": [
    "mt_rainier_labels_df = mt_rainier_df[[\"Succeeded\"]]\n",
    "mt_rainier_labels_df.head()"
   ]
  },
  {
   "cell_type": "markdown",
   "id": "60210ab9",
   "metadata": {},
   "source": [
    "Features to keep:\n",
    "* Temperature AVG\n",
    "* Relative Humidity AVG\n",
    "* Wind Speed Daily AVG\n",
    "* Wind Direction AVG\n",
    "* Solare Radiation AVG\n",
    "\n",
    "\n",
    "* I'm not keeping \"Date\" because it caused problems with scaling later on. \n",
    "* \"Battery Voltage AVG\" also seems like a feature that won't help the user decide whether to hike on a given day. \n",
    "\n",
    "I originally had \"Route\" as a feature but decided to remove it since we cannot ablate categorical features."
   ]
  },
  {
   "cell_type": "markdown",
   "id": "e307bc7d",
   "metadata": {},
   "source": [
    "**Succeeded** is our label: carries a binary value for chances of sumitting (1- for success and 0- for no sucess)"
   ]
  },
  {
   "cell_type": "markdown",
   "id": "03f10416",
   "metadata": {},
   "source": [
    "### Feature Scaling"
   ]
  },
  {
   "cell_type": "markdown",
   "id": "f6e8fd81",
   "metadata": {},
   "source": [
    "Let's scale features using MinMax scaling."
   ]
  },
  {
   "cell_type": "code",
   "execution_count": 112,
   "id": "d0c8c326",
   "metadata": {
    "scrolled": false
   },
   "outputs": [
    {
     "name": "stderr",
     "output_type": "stream",
     "text": [
      "C:\\Users\\daisy\\AppData\\Local\\Temp\\ipykernel_16300\\2821389350.py:10: SettingWithCopyWarning: \n",
      "A value is trying to be set on a copy of a slice from a DataFrame.\n",
      "Try using .loc[row_indexer,col_indexer] = value instead\n",
      "\n",
      "See the caveats in the documentation: https://pandas.pydata.org/pandas-docs/stable/user_guide/indexing.html#returning-a-view-versus-a-copy\n",
      "  mt_rainier_features_df[numerical_feature_names] = scaler.fit_transform(mt_rainier_features_df[numerical_feature_names])\n"
     ]
    },
    {
     "data": {
      "text/html": [
       "<div>\n",
       "<style scoped>\n",
       "    .dataframe tbody tr th:only-of-type {\n",
       "        vertical-align: middle;\n",
       "    }\n",
       "\n",
       "    .dataframe tbody tr th {\n",
       "        vertical-align: top;\n",
       "    }\n",
       "\n",
       "    .dataframe thead th {\n",
       "        text-align: right;\n",
       "    }\n",
       "</style>\n",
       "<table border=\"1\" class=\"dataframe\">\n",
       "  <thead>\n",
       "    <tr style=\"text-align: right;\">\n",
       "      <th></th>\n",
       "      <th>Temperature AVG</th>\n",
       "      <th>Relative Humidity AVG</th>\n",
       "      <th>Wind Speed Daily AVG</th>\n",
       "      <th>Wind Direction AVG</th>\n",
       "      <th>Solare Radiation AVG</th>\n",
       "    </tr>\n",
       "  </thead>\n",
       "  <tbody>\n",
       "    <tr>\n",
       "      <th>0</th>\n",
       "      <td>0.395119</td>\n",
       "      <td>0.083886</td>\n",
       "      <td>0.427392</td>\n",
       "      <td>0.204255</td>\n",
       "      <td>0.240442</td>\n",
       "    </tr>\n",
       "    <tr>\n",
       "      <th>1</th>\n",
       "      <td>0.496061</td>\n",
       "      <td>0.106431</td>\n",
       "      <td>0.034478</td>\n",
       "      <td>0.389892</td>\n",
       "      <td>0.254473</td>\n",
       "    </tr>\n",
       "    <tr>\n",
       "      <th>2</th>\n",
       "      <td>0.803203</td>\n",
       "      <td>0.169424</td>\n",
       "      <td>0.263495</td>\n",
       "      <td>0.920335</td>\n",
       "      <td>0.375994</td>\n",
       "    </tr>\n",
       "    <tr>\n",
       "      <th>3</th>\n",
       "      <td>0.692326</td>\n",
       "      <td>0.182255</td>\n",
       "      <td>0.300762</td>\n",
       "      <td>0.997736</td>\n",
       "      <td>0.479228</td>\n",
       "    </tr>\n",
       "    <tr>\n",
       "      <th>4</th>\n",
       "      <td>0.637191</td>\n",
       "      <td>0.707076</td>\n",
       "      <td>1.000000</td>\n",
       "      <td>0.941191</td>\n",
       "      <td>0.075508</td>\n",
       "    </tr>\n",
       "  </tbody>\n",
       "</table>\n",
       "</div>"
      ],
      "text/plain": [
       "   Temperature AVG  Relative Humidity AVG  Wind Speed Daily AVG  \\\n",
       "0         0.395119               0.083886              0.427392   \n",
       "1         0.496061               0.106431              0.034478   \n",
       "2         0.803203               0.169424              0.263495   \n",
       "3         0.692326               0.182255              0.300762   \n",
       "4         0.637191               0.707076              1.000000   \n",
       "\n",
       "   Wind Direction AVG  Solare Radiation AVG  \n",
       "0            0.204255              0.240442  \n",
       "1            0.389892              0.254473  \n",
       "2            0.920335              0.375994  \n",
       "3            0.997736              0.479228  \n",
       "4            0.941191              0.075508  "
      ]
     },
     "execution_count": 112,
     "metadata": {},
     "output_type": "execute_result"
    }
   ],
   "source": [
    "# Creating the scaler \n",
    "scaler = MinMaxScaler()\n",
    "\n",
    "# Scaleing the numerical features with MinMax scaler\n",
    "numerical_feature_names = ['Temperature AVG', \n",
    "                   'Relative Humidity AVG', \n",
    "                   'Wind Speed Daily AVG', \n",
    "                   'Wind Direction AVG', \n",
    "                   'Solare Radiation AVG']\n",
    "mt_rainier_features_df[numerical_feature_names] = scaler.fit_transform(mt_rainier_features_df[numerical_feature_names])\n",
    "\n",
    "# Printing out the head of the feature-engineered dataframe\n",
    "mt_rainier_features_df.head()"
   ]
  },
  {
   "cell_type": "markdown",
   "id": "efb2ca45",
   "metadata": {},
   "source": [
    "## 2) Data Splitting"
   ]
  },
  {
   "cell_type": "markdown",
   "id": "f82f7ad2",
   "metadata": {},
   "source": [
    "We form the train-test split. The train split can be used for cross validation"
   ]
  },
  {
   "cell_type": "code",
   "execution_count": 113,
   "id": "05a61f1c",
   "metadata": {},
   "outputs": [],
   "source": [
    "# Putting the features and labels into a numpy array for sklearn's data splitter\n",
    "features = mt_rainier_features_df.to_numpy()\n",
    "labels = mt_rainier_labels_df.to_numpy()\n",
    "\n",
    "# Splitting the data into test and training data\n",
    "_x, x_test, _y, y_test = train_test_split(features, labels, test_size=0.10, random_state=512)\n",
    "\n",
    "k = 5 # 5-fold"
   ]
  },
  {
   "cell_type": "markdown",
   "id": "6746917f",
   "metadata": {},
   "source": [
    "## 3) Define classifiers and performing cross validation\n",
    "Let's instantiate our classifiers, namely, \n",
    "- Logistic Regression (default)\n",
    "- Support Vector Classifier (default)\n",
    "- Decision Tree\n",
    "- Random Forest\n",
    "- GradientBoostingClassifier\n",
    "\n",
    "We will cross validate with k=5 throughout. "
   ]
  },
  {
   "cell_type": "code",
   "execution_count": 114,
   "id": "c478400c",
   "metadata": {},
   "outputs": [
    {
     "name": "stdout",
     "output_type": "stream",
     "text": [
      "We are working with classifiers dict_keys(['lr', 'svm', 'decision_tree', 'random_forest', 'grad_boost'])\n"
     ]
    }
   ],
   "source": [
    "from sklearn.linear_model import LogisticRegression\n",
    "from sklearn.svm import SVC\n",
    "from sklearn.tree import DecisionTreeClassifier\n",
    "from sklearn.ensemble import RandomForestClassifier, GradientBoostingClassifier\n",
    "\n",
    "\n",
    "lr_vanilla = LogisticRegression(penalty= \"none\") # OR penalty=\"none\" depending on your sklearn version\n",
    "svm_linear = SVC(kernel=\"linear\")\n",
    "dt = DecisionTreeClassifier()\n",
    "rf = RandomForestClassifier(random_state=23) # some random seed for reproducibility\n",
    "grad_boost = GradientBoostingClassifier()\n",
    "\n",
    "all_models = {\"lr\":lr_vanilla, \n",
    "              \"svm\":svm_linear,\n",
    "              \"decision_tree\":dt,\n",
    "              \"random_forest\":rf,\n",
    "              \"grad_boost\":grad_boost}\n",
    "\n",
    "print (f\"We are working with classifiers {all_models.keys()}\")"
   ]
  },
  {
   "cell_type": "code",
   "execution_count": 115,
   "id": "af6a3ee4",
   "metadata": {
    "scrolled": true
   },
   "outputs": [
    {
     "name": "stdout",
     "output_type": "stream",
     "text": [
      "Mean cross validation accuracy for model lr = 0.6017595307917889\n",
      "Mean cross validation accuracy for model svm = 0.5929618768328446\n",
      "Mean cross validation accuracy for model decision_tree = 0.6093841642228739\n",
      "Mean cross validation accuracy for model random_forest = 0.6052785923753665\n",
      "Mean cross validation accuracy for model grad_boost = 0.6170087976539589\n",
      "Best model is grad_boost with 5-fold accuracy of 0.6170087976539589\n"
     ]
    }
   ],
   "source": [
    "# We can use sklearn's cross validation score directly\n",
    "# We can speed up training using n_jobs parameter which specifies how many cpu_cores to use\n",
    "\n",
    "best_model_name = \"\"\n",
    "best_model_valid_accuracy = 0\n",
    "best_model = None\n",
    "\n",
    "for model_name in all_models.keys():\n",
    "    model = all_models[model_name]\n",
    "    cv_scores = cross_val_score(model,_x,_y.flatten(), cv=k, n_jobs=4) \n",
    "    average_cv_score = cv_scores.mean()\n",
    "    print (f\"Mean cross validation accuracy for model {model_name} = {average_cv_score}\")\n",
    "\n",
    "    if average_cv_score > best_model_valid_accuracy :\n",
    "        best_model_name = model_name\n",
    "        best_model_valid_accuracy  = average_cv_score\n",
    "        best_model = model\n",
    "\n",
    "print (f\"Best model is {best_model_name} with {k}-fold accuracy of {best_model_valid_accuracy}\")"
   ]
  },
  {
   "cell_type": "markdown",
   "id": "7c57842e",
   "metadata": {},
   "source": [
    "### Testing Accuracy\n",
    "Let's print the testing accuracy"
   ]
  },
  {
   "cell_type": "code",
   "execution_count": 119,
   "id": "3346a572",
   "metadata": {},
   "outputs": [
    {
     "name": "stdout",
     "output_type": "stream",
     "text": [
      "GradientBoostingClassifier()\n",
      "\n",
      "Test accuracy for model 0.6526315789473685\n"
     ]
    }
   ],
   "source": [
    "from sklearn.metrics import accuracy_score\n",
    "\n",
    "# Let's fit the best model again with train+valid data\n",
    "# This is the model we are gonna ship/deploy to practice\n",
    "\n",
    "best_model.fit(_x,_y.flatten())\n",
    "\n",
    "y_pred_test = best_model.predict(x_test)\n",
    "test_accuracy = accuracy_score(y_pred_test, y_test.flatten())\n",
    "\n",
    "print(best_model, end='\\n\\n')\n",
    "print (f\"Test accuracy for model {test_accuracy}\")"
   ]
  },
  {
   "cell_type": "markdown",
   "id": "3b6ff99b",
   "metadata": {},
   "source": [
    "### Test Accuracy for best classifier\n",
    "0.653: Gradient Boosting Classifier"
   ]
  },
  {
   "cell_type": "markdown",
   "id": "08fdf5f0",
   "metadata": {},
   "source": [
    "## 4) Feature Ranking - Ablation Test\n",
    "To assess feature importance and rank features based on their importance, we will perform ablation test models.\n",
    "\n",
    "We skip one feature at a time and run our k-fold validation for a model of our choice to examine how much impact does droping that feature have on the overall accuracy"
   ]
  },
  {
   "cell_type": "code",
   "execution_count": 117,
   "id": "17e4fcfe",
   "metadata": {},
   "outputs": [
    {
     "name": "stdout",
     "output_type": "stream",
     "text": [
      "Removing feature Temperature AVG\n",
      "Mean cross validation accuracy = 0.612316715542522\n",
      "Removing feature Relative Humidity AVG\n",
      "Mean cross validation accuracy = 0.6187683284457478\n",
      "Removing feature Wind Speed Daily AVG\n",
      "Mean cross validation accuracy = 0.6129032258064516\n",
      "Removing feature Wind Direction AVG\n",
      "Mean cross validation accuracy = 0.6158357771260997\n",
      "Removing feature Solare Radiation AVG\n",
      "Mean cross validation accuracy = 0.6076246334310851\n"
     ]
    }
   ],
   "source": [
    "# Let's run ablation tests on our best model\n",
    "# You could choose any model to do this test\n",
    "best_model = GradientBoostingClassifier()\n",
    "\n",
    "feature_names = mt_rainier_features_df.columns\n",
    "\n",
    "# Let's maintain an accuracy dictionary\n",
    "\n",
    "accuracy_drop_log = {\"No ablation\":0}\n",
    "\n",
    "for i in range(len(feature_names)):\n",
    "    # we are going to drop one feature at a time\n",
    "    feature_name = feature_names[i]\n",
    "    print (f\"Removing feature {feature_name}\")\n",
    "    \n",
    "    # Remmeber? We have the train + valid data in the above section?\n",
    "    # We just remove the feature by not selecting the column from the index i\n",
    "\n",
    "    x_ablated = np.delete(_x,i,axis=1) # axis = 1 means columns\n",
    "    \n",
    "    cv_scores = cross_val_score(best_model,x_ablated,_y.flatten(), cv=k, n_jobs=4)\n",
    "    average_cv_score = cv_scores.mean()\n",
    "    print (f\"Mean cross validation accuracy = {average_cv_score}\")\n",
    "    accuracy_drop_log[feature_name] = best_model_valid_accuracy-average_cv_score"
   ]
  },
  {
   "cell_type": "markdown",
   "id": "fcab5b8e",
   "metadata": {},
   "source": [
    "### Sorting and printing the features"
   ]
  },
  {
   "cell_type": "code",
   "execution_count": 118,
   "id": "8d517507",
   "metadata": {
    "scrolled": true
   },
   "outputs": [
    {
     "name": "stdout",
     "output_type": "stream",
     "text": [
      "Features are ranked from best to worst (based on how removing them impacts the accuracy of grad_boost)\n",
      "**************************************\n",
      "Feature 1.Solare Radiation AVG, drop in acc 0.009384164222873803\n",
      "Feature 2.Temperature AVG, drop in acc 0.004692082111436902\n",
      "Feature 3.Wind Speed Daily AVG, drop in acc 0.004105571847507261\n",
      "Feature 4.Wind Direction AVG, drop in acc 0.0011730205278591699\n",
      "Feature 5.Relative Humidity AVG, drop in acc -0.0017595307917889214\n"
     ]
    }
   ],
   "source": [
    "def criteria(l):\n",
    "    return l[1]\n",
    "\n",
    "sorted_accs =  sorted(accuracy_drop_log.items(),key=criteria, reverse=True)\n",
    "\n",
    "print (f\"Features are ranked from best to worst (based on how removing them impacts the accuracy of {best_model_name})\")\n",
    "print (f\"**************************************\")\n",
    "\n",
    "i=1\n",
    "for entry in sorted_accs:\n",
    "    feature_name = entry[0]\n",
    "    acc_drop = entry[1]\n",
    "    \n",
    "    # We do not want to print \"No ablation\"\n",
    "    if feature_name != \"No ablation\":\n",
    "        print (f\"Feature {i}.{feature_name}, drop in acc {acc_drop}\")\n",
    "        i=i+1\n"
   ]
  },
  {
   "cell_type": "markdown",
   "id": "31c2061e",
   "metadata": {},
   "source": [
    "**Insights:** As seen, factors like Solare Radiation, Temperature AVG, Wind Speed Daily AVG are better predictors than Wind Direction AVG or Relative Humidity based on our dataset and chosen model\n",
    "\n",
    "* I think it makes sense for Wind Direction and Humidity to have less impact on predicting summit success compared to Solare Radiation, Temperature, or Wind Speed. However, I would think that Wind Speed would have more impact than Solare Radiation at least."
   ]
  }
 ],
 "metadata": {
  "kernelspec": {
   "display_name": "Python 3 (ipykernel)",
   "language": "python",
   "name": "python3"
  },
  "language_info": {
   "codemirror_mode": {
    "name": "ipython",
    "version": 3
   },
   "file_extension": ".py",
   "mimetype": "text/x-python",
   "name": "python",
   "nbconvert_exporter": "python",
   "pygments_lexer": "ipython3",
   "version": "3.9.13"
  }
 },
 "nbformat": 4,
 "nbformat_minor": 5
}
