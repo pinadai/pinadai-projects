{
 "cells": [
  {
   "cell_type": "markdown",
   "id": "e8c064a5",
   "metadata": {},
   "source": [
    "# Assignment 1: Feature Engineering"
   ]
  },
  {
   "cell_type": "markdown",
   "id": "cc18113f",
   "metadata": {},
   "source": [
    "## Daisy Pinaroc"
   ]
  },
  {
   "cell_type": "markdown",
   "id": "8c289f3a",
   "metadata": {},
   "source": [
    "## (a)"
   ]
  },
  {
   "cell_type": "code",
   "execution_count": 1,
   "id": "ac995eee",
   "metadata": {
    "scrolled": false
   },
   "outputs": [
    {
     "data": {
      "text/html": [
       "<div>\n",
       "<style scoped>\n",
       "    .dataframe tbody tr th:only-of-type {\n",
       "        vertical-align: middle;\n",
       "    }\n",
       "\n",
       "    .dataframe tbody tr th {\n",
       "        vertical-align: top;\n",
       "    }\n",
       "\n",
       "    .dataframe thead th {\n",
       "        text-align: right;\n",
       "    }\n",
       "</style>\n",
       "<table border=\"1\" class=\"dataframe\">\n",
       "  <thead>\n",
       "    <tr style=\"text-align: right;\">\n",
       "      <th></th>\n",
       "      <th>Id</th>\n",
       "      <th>MSSubClass</th>\n",
       "      <th>MSZoning</th>\n",
       "      <th>LotFrontage</th>\n",
       "      <th>LotArea</th>\n",
       "      <th>Street</th>\n",
       "      <th>Alley</th>\n",
       "      <th>LotShape</th>\n",
       "      <th>LandContour</th>\n",
       "      <th>Utilities</th>\n",
       "      <th>...</th>\n",
       "      <th>PoolArea</th>\n",
       "      <th>PoolQC</th>\n",
       "      <th>Fence</th>\n",
       "      <th>MiscFeature</th>\n",
       "      <th>MiscVal</th>\n",
       "      <th>MoSold</th>\n",
       "      <th>YrSold</th>\n",
       "      <th>SaleType</th>\n",
       "      <th>SaleCondition</th>\n",
       "      <th>SalePrice</th>\n",
       "    </tr>\n",
       "  </thead>\n",
       "  <tbody>\n",
       "    <tr>\n",
       "      <th>0</th>\n",
       "      <td>1</td>\n",
       "      <td>60</td>\n",
       "      <td>RL</td>\n",
       "      <td>65.0</td>\n",
       "      <td>8450</td>\n",
       "      <td>Pave</td>\n",
       "      <td>NaN</td>\n",
       "      <td>Reg</td>\n",
       "      <td>Lvl</td>\n",
       "      <td>AllPub</td>\n",
       "      <td>...</td>\n",
       "      <td>0</td>\n",
       "      <td>NaN</td>\n",
       "      <td>NaN</td>\n",
       "      <td>NaN</td>\n",
       "      <td>0</td>\n",
       "      <td>2</td>\n",
       "      <td>2008</td>\n",
       "      <td>WD</td>\n",
       "      <td>Normal</td>\n",
       "      <td>208500</td>\n",
       "    </tr>\n",
       "    <tr>\n",
       "      <th>1</th>\n",
       "      <td>2</td>\n",
       "      <td>20</td>\n",
       "      <td>RL</td>\n",
       "      <td>80.0</td>\n",
       "      <td>9600</td>\n",
       "      <td>Pave</td>\n",
       "      <td>NaN</td>\n",
       "      <td>Reg</td>\n",
       "      <td>Lvl</td>\n",
       "      <td>AllPub</td>\n",
       "      <td>...</td>\n",
       "      <td>0</td>\n",
       "      <td>NaN</td>\n",
       "      <td>NaN</td>\n",
       "      <td>NaN</td>\n",
       "      <td>0</td>\n",
       "      <td>5</td>\n",
       "      <td>2007</td>\n",
       "      <td>WD</td>\n",
       "      <td>Normal</td>\n",
       "      <td>181500</td>\n",
       "    </tr>\n",
       "    <tr>\n",
       "      <th>2</th>\n",
       "      <td>3</td>\n",
       "      <td>60</td>\n",
       "      <td>RL</td>\n",
       "      <td>68.0</td>\n",
       "      <td>11250</td>\n",
       "      <td>Pave</td>\n",
       "      <td>NaN</td>\n",
       "      <td>IR1</td>\n",
       "      <td>Lvl</td>\n",
       "      <td>AllPub</td>\n",
       "      <td>...</td>\n",
       "      <td>0</td>\n",
       "      <td>NaN</td>\n",
       "      <td>NaN</td>\n",
       "      <td>NaN</td>\n",
       "      <td>0</td>\n",
       "      <td>9</td>\n",
       "      <td>2008</td>\n",
       "      <td>WD</td>\n",
       "      <td>Normal</td>\n",
       "      <td>223500</td>\n",
       "    </tr>\n",
       "    <tr>\n",
       "      <th>3</th>\n",
       "      <td>4</td>\n",
       "      <td>70</td>\n",
       "      <td>RL</td>\n",
       "      <td>60.0</td>\n",
       "      <td>9550</td>\n",
       "      <td>Pave</td>\n",
       "      <td>NaN</td>\n",
       "      <td>IR1</td>\n",
       "      <td>Lvl</td>\n",
       "      <td>AllPub</td>\n",
       "      <td>...</td>\n",
       "      <td>0</td>\n",
       "      <td>NaN</td>\n",
       "      <td>NaN</td>\n",
       "      <td>NaN</td>\n",
       "      <td>0</td>\n",
       "      <td>2</td>\n",
       "      <td>2006</td>\n",
       "      <td>WD</td>\n",
       "      <td>Abnorml</td>\n",
       "      <td>140000</td>\n",
       "    </tr>\n",
       "    <tr>\n",
       "      <th>4</th>\n",
       "      <td>5</td>\n",
       "      <td>60</td>\n",
       "      <td>RL</td>\n",
       "      <td>84.0</td>\n",
       "      <td>14260</td>\n",
       "      <td>Pave</td>\n",
       "      <td>NaN</td>\n",
       "      <td>IR1</td>\n",
       "      <td>Lvl</td>\n",
       "      <td>AllPub</td>\n",
       "      <td>...</td>\n",
       "      <td>0</td>\n",
       "      <td>NaN</td>\n",
       "      <td>NaN</td>\n",
       "      <td>NaN</td>\n",
       "      <td>0</td>\n",
       "      <td>12</td>\n",
       "      <td>2008</td>\n",
       "      <td>WD</td>\n",
       "      <td>Normal</td>\n",
       "      <td>250000</td>\n",
       "    </tr>\n",
       "  </tbody>\n",
       "</table>\n",
       "<p>5 rows × 81 columns</p>\n",
       "</div>"
      ],
      "text/plain": [
       "   Id  MSSubClass MSZoning  LotFrontage  LotArea Street Alley LotShape  \\\n",
       "0   1          60       RL         65.0     8450   Pave   NaN      Reg   \n",
       "1   2          20       RL         80.0     9600   Pave   NaN      Reg   \n",
       "2   3          60       RL         68.0    11250   Pave   NaN      IR1   \n",
       "3   4          70       RL         60.0     9550   Pave   NaN      IR1   \n",
       "4   5          60       RL         84.0    14260   Pave   NaN      IR1   \n",
       "\n",
       "  LandContour Utilities  ... PoolArea PoolQC Fence MiscFeature MiscVal MoSold  \\\n",
       "0         Lvl    AllPub  ...        0    NaN   NaN         NaN       0      2   \n",
       "1         Lvl    AllPub  ...        0    NaN   NaN         NaN       0      5   \n",
       "2         Lvl    AllPub  ...        0    NaN   NaN         NaN       0      9   \n",
       "3         Lvl    AllPub  ...        0    NaN   NaN         NaN       0      2   \n",
       "4         Lvl    AllPub  ...        0    NaN   NaN         NaN       0     12   \n",
       "\n",
       "  YrSold  SaleType  SaleCondition  SalePrice  \n",
       "0   2008        WD         Normal     208500  \n",
       "1   2007        WD         Normal     181500  \n",
       "2   2008        WD         Normal     223500  \n",
       "3   2006        WD        Abnorml     140000  \n",
       "4   2008        WD         Normal     250000  \n",
       "\n",
       "[5 rows x 81 columns]"
      ]
     },
     "execution_count": 1,
     "metadata": {},
     "output_type": "execute_result"
    }
   ],
   "source": [
    "# Load the dataset as a dataframe using pandas library \n",
    "import pandas as pd\n",
    "\n",
    "train_dataframe = pd.read_csv(\"train.csv\")\n",
    "\n",
    "# Print a few columns using head() function\n",
    "train_dataframe.head()"
   ]
  },
  {
   "cell_type": "markdown",
   "id": "633ac8ae",
   "metadata": {},
   "source": [
    "## (b) Exploratory data analysis"
   ]
  },
  {
   "cell_type": "code",
   "execution_count": 136,
   "id": "0b56d2ff",
   "metadata": {},
   "outputs": [
    {
     "data": {
      "text/plain": [
       "0"
      ]
     },
     "execution_count": 136,
     "metadata": {},
     "output_type": "execute_result"
    }
   ],
   "source": [
    "# Checking for duplicate rows\n",
    "train_dataframe.duplicated().sum()"
   ]
  },
  {
   "cell_type": "markdown",
   "id": "cc2824e2",
   "metadata": {},
   "source": [
    "* Are there duplicate rows in the data? If yes, how many?  \n",
    "There are **no** duplicate rows so we won't have to drop any\n"
   ]
  },
  {
   "cell_type": "code",
   "execution_count": 137,
   "id": "93aae540",
   "metadata": {
    "scrolled": true
   },
   "outputs": [
    {
     "name": "stdout",
     "output_type": "stream",
     "text": [
      "<class 'pandas.core.frame.DataFrame'>\n",
      "RangeIndex: 1460 entries, 0 to 1459\n",
      "Data columns (total 81 columns):\n",
      " #   Column         Non-Null Count  Dtype  \n",
      "---  ------         --------------  -----  \n",
      " 0   Id             1460 non-null   int64  \n",
      " 1   MSSubClass     1460 non-null   int64  \n",
      " 2   MSZoning       1460 non-null   object \n",
      " 3   LotFrontage    1201 non-null   float64\n",
      " 4   LotArea        1460 non-null   int64  \n",
      " 5   Street         1460 non-null   object \n",
      " 6   Alley          91 non-null     object \n",
      " 7   LotShape       1460 non-null   object \n",
      " 8   LandContour    1460 non-null   object \n",
      " 9   Utilities      1460 non-null   object \n",
      " 10  LotConfig      1460 non-null   object \n",
      " 11  LandSlope      1460 non-null   object \n",
      " 12  Neighborhood   1460 non-null   object \n",
      " 13  Condition1     1460 non-null   object \n",
      " 14  Condition2     1460 non-null   object \n",
      " 15  BldgType       1460 non-null   object \n",
      " 16  HouseStyle     1460 non-null   object \n",
      " 17  OverallQual    1460 non-null   int64  \n",
      " 18  OverallCond    1460 non-null   int64  \n",
      " 19  YearBuilt      1460 non-null   int64  \n",
      " 20  YearRemodAdd   1460 non-null   int64  \n",
      " 21  RoofStyle      1460 non-null   object \n",
      " 22  RoofMatl       1460 non-null   object \n",
      " 23  Exterior1st    1460 non-null   object \n",
      " 24  Exterior2nd    1460 non-null   object \n",
      " 25  MasVnrType     1452 non-null   object \n",
      " 26  MasVnrArea     1452 non-null   float64\n",
      " 27  ExterQual      1460 non-null   object \n",
      " 28  ExterCond      1460 non-null   object \n",
      " 29  Foundation     1460 non-null   object \n",
      " 30  BsmtQual       1423 non-null   object \n",
      " 31  BsmtCond       1423 non-null   object \n",
      " 32  BsmtExposure   1422 non-null   object \n",
      " 33  BsmtFinType1   1423 non-null   object \n",
      " 34  BsmtFinSF1     1460 non-null   int64  \n",
      " 35  BsmtFinType2   1422 non-null   object \n",
      " 36  BsmtFinSF2     1460 non-null   int64  \n",
      " 37  BsmtUnfSF      1460 non-null   int64  \n",
      " 38  TotalBsmtSF    1460 non-null   int64  \n",
      " 39  Heating        1460 non-null   object \n",
      " 40  HeatingQC      1460 non-null   object \n",
      " 41  CentralAir     1460 non-null   object \n",
      " 42  Electrical     1459 non-null   object \n",
      " 43  1stFlrSF       1460 non-null   int64  \n",
      " 44  2ndFlrSF       1460 non-null   int64  \n",
      " 45  LowQualFinSF   1460 non-null   int64  \n",
      " 46  GrLivArea      1460 non-null   int64  \n",
      " 47  BsmtFullBath   1460 non-null   int64  \n",
      " 48  BsmtHalfBath   1460 non-null   int64  \n",
      " 49  FullBath       1460 non-null   int64  \n",
      " 50  HalfBath       1460 non-null   int64  \n",
      " 51  BedroomAbvGr   1460 non-null   int64  \n",
      " 52  KitchenAbvGr   1460 non-null   int64  \n",
      " 53  KitchenQual    1460 non-null   object \n",
      " 54  TotRmsAbvGrd   1460 non-null   int64  \n",
      " 55  Functional     1460 non-null   object \n",
      " 56  Fireplaces     1460 non-null   int64  \n",
      " 57  FireplaceQu    770 non-null    object \n",
      " 58  GarageType     1379 non-null   object \n",
      " 59  GarageYrBlt    1379 non-null   float64\n",
      " 60  GarageFinish   1379 non-null   object \n",
      " 61  GarageCars     1460 non-null   int64  \n",
      " 62  GarageArea     1460 non-null   int64  \n",
      " 63  GarageQual     1379 non-null   object \n",
      " 64  GarageCond     1379 non-null   object \n",
      " 65  PavedDrive     1460 non-null   object \n",
      " 66  WoodDeckSF     1460 non-null   int64  \n",
      " 67  OpenPorchSF    1460 non-null   int64  \n",
      " 68  EnclosedPorch  1460 non-null   int64  \n",
      " 69  3SsnPorch      1460 non-null   int64  \n",
      " 70  ScreenPorch    1460 non-null   int64  \n",
      " 71  PoolArea       1460 non-null   int64  \n",
      " 72  PoolQC         7 non-null      object \n",
      " 73  Fence          281 non-null    object \n",
      " 74  MiscFeature    54 non-null     object \n",
      " 75  MiscVal        1460 non-null   int64  \n",
      " 76  MoSold         1460 non-null   int64  \n",
      " 77  YrSold         1460 non-null   int64  \n",
      " 78  SaleType       1460 non-null   object \n",
      " 79  SaleCondition  1460 non-null   object \n",
      " 80  SalePrice      1460 non-null   int64  \n",
      "dtypes: float64(3), int64(35), object(43)\n",
      "memory usage: 924.0+ KB\n"
     ]
    }
   ],
   "source": [
    "# Check the data types of the columns using info() function\n",
    "train_dataframe.info()"
   ]
  },
  {
   "cell_type": "code",
   "execution_count": 138,
   "id": "91d3db9a",
   "metadata": {},
   "outputs": [
    {
     "data": {
      "text/plain": [
       "1460"
      ]
     },
     "execution_count": 138,
     "metadata": {},
     "output_type": "execute_result"
    }
   ],
   "source": [
    "# Print the number of rows you are left with after removing duplicate rows\n",
    "len(train_dataframe.index)"
   ]
  },
  {
   "cell_type": "markdown",
   "id": "62cb66e1",
   "metadata": {},
   "source": [
    "## (c) Feature and Label Definition"
   ]
  },
  {
   "cell_type": "code",
   "execution_count": 139,
   "id": "9865ef99",
   "metadata": {},
   "outputs": [
    {
     "data": {
      "text/html": [
       "<div>\n",
       "<style scoped>\n",
       "    .dataframe tbody tr th:only-of-type {\n",
       "        vertical-align: middle;\n",
       "    }\n",
       "\n",
       "    .dataframe tbody tr th {\n",
       "        vertical-align: top;\n",
       "    }\n",
       "\n",
       "    .dataframe thead th {\n",
       "        text-align: right;\n",
       "    }\n",
       "</style>\n",
       "<table border=\"1\" class=\"dataframe\">\n",
       "  <thead>\n",
       "    <tr style=\"text-align: right;\">\n",
       "      <th></th>\n",
       "      <th>LotShape</th>\n",
       "      <th>LotConfig</th>\n",
       "      <th>Neighborhood</th>\n",
       "      <th>OverallQual</th>\n",
       "      <th>OverallCond</th>\n",
       "      <th>YearRemodAdd</th>\n",
       "      <th>GrLivArea</th>\n",
       "      <th>MoSold</th>\n",
       "    </tr>\n",
       "  </thead>\n",
       "  <tbody>\n",
       "    <tr>\n",
       "      <th>0</th>\n",
       "      <td>Reg</td>\n",
       "      <td>Inside</td>\n",
       "      <td>CollgCr</td>\n",
       "      <td>7</td>\n",
       "      <td>5</td>\n",
       "      <td>2003</td>\n",
       "      <td>1710</td>\n",
       "      <td>2</td>\n",
       "    </tr>\n",
       "    <tr>\n",
       "      <th>1</th>\n",
       "      <td>Reg</td>\n",
       "      <td>FR2</td>\n",
       "      <td>Veenker</td>\n",
       "      <td>6</td>\n",
       "      <td>8</td>\n",
       "      <td>1976</td>\n",
       "      <td>1262</td>\n",
       "      <td>5</td>\n",
       "    </tr>\n",
       "    <tr>\n",
       "      <th>2</th>\n",
       "      <td>IR1</td>\n",
       "      <td>Inside</td>\n",
       "      <td>CollgCr</td>\n",
       "      <td>7</td>\n",
       "      <td>5</td>\n",
       "      <td>2002</td>\n",
       "      <td>1786</td>\n",
       "      <td>9</td>\n",
       "    </tr>\n",
       "    <tr>\n",
       "      <th>3</th>\n",
       "      <td>IR1</td>\n",
       "      <td>Corner</td>\n",
       "      <td>Crawfor</td>\n",
       "      <td>7</td>\n",
       "      <td>5</td>\n",
       "      <td>1970</td>\n",
       "      <td>1717</td>\n",
       "      <td>2</td>\n",
       "    </tr>\n",
       "    <tr>\n",
       "      <th>4</th>\n",
       "      <td>IR1</td>\n",
       "      <td>FR2</td>\n",
       "      <td>NoRidge</td>\n",
       "      <td>8</td>\n",
       "      <td>5</td>\n",
       "      <td>2000</td>\n",
       "      <td>2198</td>\n",
       "      <td>12</td>\n",
       "    </tr>\n",
       "  </tbody>\n",
       "</table>\n",
       "</div>"
      ],
      "text/plain": [
       "  LotShape LotConfig Neighborhood  OverallQual  OverallCond  YearRemodAdd  \\\n",
       "0      Reg    Inside      CollgCr            7            5          2003   \n",
       "1      Reg       FR2      Veenker            6            8          1976   \n",
       "2      IR1    Inside      CollgCr            7            5          2002   \n",
       "3      IR1    Corner      Crawfor            7            5          1970   \n",
       "4      IR1       FR2      NoRidge            8            5          2000   \n",
       "\n",
       "   GrLivArea  MoSold  \n",
       "0       1710       2  \n",
       "1       1262       5  \n",
       "2       1786       9  \n",
       "3       1717       2  \n",
       "4       2198      12  "
      ]
     },
     "execution_count": 139,
     "metadata": {},
     "output_type": "execute_result"
    }
   ],
   "source": [
    "train_features_df = train_dataframe[[\"LotShape\",\"LotConfig\",\"Neighborhood\",\"OverallQual\", \"OverallCond\",\"YearRemodAdd\", \"GrLivArea\",\"MoSold\"]] \n",
    "train_features_df.head()"
   ]
  },
  {
   "cell_type": "code",
   "execution_count": 140,
   "id": "e1159899",
   "metadata": {},
   "outputs": [
    {
     "name": "stdout",
     "output_type": "stream",
     "text": [
      "<class 'pandas.core.frame.DataFrame'>\n",
      "RangeIndex: 1460 entries, 0 to 1459\n",
      "Data columns (total 8 columns):\n",
      " #   Column        Non-Null Count  Dtype \n",
      "---  ------        --------------  ----- \n",
      " 0   LotShape      1460 non-null   object\n",
      " 1   LotConfig     1460 non-null   object\n",
      " 2   Neighborhood  1460 non-null   object\n",
      " 3   OverallQual   1460 non-null   int64 \n",
      " 4   OverallCond   1460 non-null   int64 \n",
      " 5   YearRemodAdd  1460 non-null   int64 \n",
      " 6   GrLivArea     1460 non-null   int64 \n",
      " 7   MoSold        1460 non-null   int64 \n",
      "dtypes: int64(5), object(3)\n",
      "memory usage: 91.4+ KB\n"
     ]
    }
   ],
   "source": [
    "# Check for completeness\n",
    "train_features_df.info()"
   ]
  },
  {
   "cell_type": "code",
   "execution_count": 141,
   "id": "c7fd46fa",
   "metadata": {},
   "outputs": [],
   "source": [
    "# Drop rows where you see at least one NULL entry\n",
    "train_features_df = train_features_df.dropna()"
   ]
  },
  {
   "cell_type": "code",
   "execution_count": 142,
   "id": "843c1e9e",
   "metadata": {
    "scrolled": true
   },
   "outputs": [
    {
     "name": "stdout",
     "output_type": "stream",
     "text": [
      "<class 'pandas.core.frame.DataFrame'>\n",
      "RangeIndex: 1460 entries, 0 to 1459\n",
      "Data columns (total 8 columns):\n",
      " #   Column        Non-Null Count  Dtype \n",
      "---  ------        --------------  ----- \n",
      " 0   LotShape      1460 non-null   object\n",
      " 1   LotConfig     1460 non-null   object\n",
      " 2   Neighborhood  1460 non-null   object\n",
      " 3   OverallQual   1460 non-null   int64 \n",
      " 4   OverallCond   1460 non-null   int64 \n",
      " 5   YearRemodAdd  1460 non-null   int64 \n",
      " 6   GrLivArea     1460 non-null   int64 \n",
      " 7   MoSold        1460 non-null   int64 \n",
      "dtypes: int64(5), object(3)\n",
      "memory usage: 91.4+ KB\n"
     ]
    }
   ],
   "source": [
    "# Check for completeness AGAIN\n",
    "train_features_df.info()"
   ]
  },
  {
   "cell_type": "code",
   "execution_count": 143,
   "id": "594647d3",
   "metadata": {},
   "outputs": [
    {
     "data": {
      "text/html": [
       "<div>\n",
       "<style scoped>\n",
       "    .dataframe tbody tr th:only-of-type {\n",
       "        vertical-align: middle;\n",
       "    }\n",
       "\n",
       "    .dataframe tbody tr th {\n",
       "        vertical-align: top;\n",
       "    }\n",
       "\n",
       "    .dataframe thead th {\n",
       "        text-align: right;\n",
       "    }\n",
       "</style>\n",
       "<table border=\"1\" class=\"dataframe\">\n",
       "  <thead>\n",
       "    <tr style=\"text-align: right;\">\n",
       "      <th></th>\n",
       "      <th>LotShape</th>\n",
       "      <th>LotConfig</th>\n",
       "      <th>Neighborhood</th>\n",
       "      <th>OverallQual</th>\n",
       "      <th>OverallCond</th>\n",
       "      <th>YearRemodAdd</th>\n",
       "      <th>GrLivArea</th>\n",
       "      <th>MoSold</th>\n",
       "    </tr>\n",
       "  </thead>\n",
       "  <tbody>\n",
       "    <tr>\n",
       "      <th>0</th>\n",
       "      <td>Reg</td>\n",
       "      <td>Inside</td>\n",
       "      <td>CollgCr</td>\n",
       "      <td>7</td>\n",
       "      <td>5</td>\n",
       "      <td>2003</td>\n",
       "      <td>1710</td>\n",
       "      <td>2</td>\n",
       "    </tr>\n",
       "    <tr>\n",
       "      <th>1</th>\n",
       "      <td>Reg</td>\n",
       "      <td>FR2</td>\n",
       "      <td>Veenker</td>\n",
       "      <td>6</td>\n",
       "      <td>8</td>\n",
       "      <td>1976</td>\n",
       "      <td>1262</td>\n",
       "      <td>5</td>\n",
       "    </tr>\n",
       "    <tr>\n",
       "      <th>2</th>\n",
       "      <td>IR1</td>\n",
       "      <td>Inside</td>\n",
       "      <td>CollgCr</td>\n",
       "      <td>7</td>\n",
       "      <td>5</td>\n",
       "      <td>2002</td>\n",
       "      <td>1786</td>\n",
       "      <td>9</td>\n",
       "    </tr>\n",
       "    <tr>\n",
       "      <th>3</th>\n",
       "      <td>IR1</td>\n",
       "      <td>Corner</td>\n",
       "      <td>Crawfor</td>\n",
       "      <td>7</td>\n",
       "      <td>5</td>\n",
       "      <td>1970</td>\n",
       "      <td>1717</td>\n",
       "      <td>2</td>\n",
       "    </tr>\n",
       "    <tr>\n",
       "      <th>4</th>\n",
       "      <td>IR1</td>\n",
       "      <td>FR2</td>\n",
       "      <td>NoRidge</td>\n",
       "      <td>8</td>\n",
       "      <td>5</td>\n",
       "      <td>2000</td>\n",
       "      <td>2198</td>\n",
       "      <td>12</td>\n",
       "    </tr>\n",
       "  </tbody>\n",
       "</table>\n",
       "</div>"
      ],
      "text/plain": [
       "  LotShape LotConfig Neighborhood  OverallQual  OverallCond  YearRemodAdd  \\\n",
       "0      Reg    Inside      CollgCr            7            5          2003   \n",
       "1      Reg       FR2      Veenker            6            8          1976   \n",
       "2      IR1    Inside      CollgCr            7            5          2002   \n",
       "3      IR1    Corner      Crawfor            7            5          1970   \n",
       "4      IR1       FR2      NoRidge            8            5          2000   \n",
       "\n",
       "   GrLivArea  MoSold  \n",
       "0       1710       2  \n",
       "1       1262       5  \n",
       "2       1786       9  \n",
       "3       1717       2  \n",
       "4       2198      12  "
      ]
     },
     "execution_count": 143,
     "metadata": {},
     "output_type": "execute_result"
    }
   ],
   "source": [
    "# Creating a housing_features_df data frame with mentioned columns\n",
    "housing_features_df = train_features_df[[\"LotShape\",\"LotConfig\",\"Neighborhood\",\"OverallQual\", \"OverallCond\",\"YearRemodAdd\", \"GrLivArea\",\"MoSold\"]] \n",
    "\n",
    "# Print a few rows of the data frame\n",
    "housing_features_df.head()"
   ]
  },
  {
   "cell_type": "code",
   "execution_count": 144,
   "id": "e0b6fdd3",
   "metadata": {
    "scrolled": true
   },
   "outputs": [
    {
     "data": {
      "text/html": [
       "<div>\n",
       "<style scoped>\n",
       "    .dataframe tbody tr th:only-of-type {\n",
       "        vertical-align: middle;\n",
       "    }\n",
       "\n",
       "    .dataframe tbody tr th {\n",
       "        vertical-align: top;\n",
       "    }\n",
       "\n",
       "    .dataframe thead th {\n",
       "        text-align: right;\n",
       "    }\n",
       "</style>\n",
       "<table border=\"1\" class=\"dataframe\">\n",
       "  <thead>\n",
       "    <tr style=\"text-align: right;\">\n",
       "      <th></th>\n",
       "      <th>SalePrice</th>\n",
       "    </tr>\n",
       "  </thead>\n",
       "  <tbody>\n",
       "    <tr>\n",
       "      <th>0</th>\n",
       "      <td>208500</td>\n",
       "    </tr>\n",
       "    <tr>\n",
       "      <th>1</th>\n",
       "      <td>181500</td>\n",
       "    </tr>\n",
       "    <tr>\n",
       "      <th>2</th>\n",
       "      <td>223500</td>\n",
       "    </tr>\n",
       "    <tr>\n",
       "      <th>3</th>\n",
       "      <td>140000</td>\n",
       "    </tr>\n",
       "    <tr>\n",
       "      <th>4</th>\n",
       "      <td>250000</td>\n",
       "    </tr>\n",
       "  </tbody>\n",
       "</table>\n",
       "</div>"
      ],
      "text/plain": [
       "   SalePrice\n",
       "0     208500\n",
       "1     181500\n",
       "2     223500\n",
       "3     140000\n",
       "4     250000"
      ]
     },
     "execution_count": 144,
     "metadata": {},
     "output_type": "execute_result"
    }
   ],
   "source": [
    "# Creating sales_price_df data frame with mentioned column as label\n",
    "sales_price_df = train_dataframe[[\"SalePrice\"]]\n",
    "\n",
    "# Printing a few rows of the data frame\n",
    "sales_price_df.head()"
   ]
  },
  {
   "cell_type": "markdown",
   "id": "b56352a0",
   "metadata": {},
   "source": [
    "#### Which features are **categorical-nominal?** "
   ]
  },
  {
   "cell_type": "markdown",
   "id": "d3c46ae9",
   "metadata": {},
   "source": [
    "* LotConfig: Nominal\n",
    "* Neighborhood: Nominal"
   ]
  },
  {
   "cell_type": "markdown",
   "id": "ee161f99",
   "metadata": {},
   "source": [
    "## (d) Feature Tranformation"
   ]
  },
  {
   "cell_type": "markdown",
   "id": "e0c9a305",
   "metadata": {},
   "source": [
    "#### Categorical features: LotShape, LotConfig, Neighborhood"
   ]
  },
  {
   "cell_type": "markdown",
   "id": "82835aa1",
   "metadata": {},
   "source": [
    "####  Tranforming LotShape feature"
   ]
  },
  {
   "cell_type": "code",
   "execution_count": 145,
   "id": "6519c472",
   "metadata": {},
   "outputs": [
    {
     "name": "stdout",
     "output_type": "stream",
     "text": [
      "['Reg', 'Reg', 'IR1', 'IR1', 'IR1', 'IR1', 'Reg', 'IR1', 'Reg', 'Reg', 'Reg', 'IR1', 'IR2', 'IR1', 'IR1', 'Reg', 'IR1', 'Reg', 'Reg', 'Reg', 'IR1', 'Reg', 'Reg', 'Reg', 'IR1', 'Reg', 'Reg', 'Reg', 'IR1', 'IR1', 'Reg', 'IR1', 'Reg', 'IR1', 'Reg', 'Reg', 'Reg', 'Reg', 'Reg', 'Reg', 'Reg', 'Reg', 'IR1', 'IR1', 'Reg', 'Reg', 'IR1', 'Reg', 'Reg', 'Reg', 'IR2', 'Reg', 'IR2', 'IR1', 'Reg', 'IR1', 'Reg', 'IR1', 'IR2', 'Reg', 'Reg', 'Reg', 'IR1', 'IR1', 'Reg', 'Reg', 'Reg', 'IR1', 'Reg', 'Reg', 'IR1', 'Reg', 'IR1', 'Reg', 'Reg', 'Reg', 'IR1', 'Reg', 'Reg', 'Reg', 'Reg', 'Reg', 'Reg', 'IR1', 'IR1', 'Reg', 'IR2', 'Reg', 'IR1', 'Reg', 'Reg', 'Reg', 'IR1', 'Reg', 'IR1', 'IR2', 'IR1', 'Reg', 'Reg', 'IR1', 'IR1', 'Reg', 'Reg', 'IR1', 'Reg', 'Reg', 'Reg', 'Reg', 'Reg', 'IR1', 'Reg', 'IR1', 'Reg', 'Reg', 'IR1', 'Reg', 'Reg', 'Reg', 'Reg', 'Reg', 'IR1', 'Reg', 'Reg', 'Reg', 'IR1', 'Reg', 'IR1', 'IR1', 'Reg', 'Reg', 'Reg', 'IR1', 'Reg', 'IR1', 'IR1', 'Reg', 'IR1', 'Reg', 'IR1', 'IR1', 'Reg', 'Reg', 'Reg', 'IR1', 'Reg', 'Reg', 'Reg', 'IR1', 'Reg', 'Reg', 'Reg', 'Reg', 'IR1', 'Reg', 'Reg', 'Reg', 'Reg', 'Reg', 'Reg', 'IR1', 'IR1', 'IR1', 'Reg', 'Reg', 'Reg', 'Reg', 'IR1', 'Reg', 'IR1', 'IR1', 'IR1', 'IR1', 'IR1', 'IR1', 'IR1', 'Reg', 'IR1', 'Reg', 'IR1', 'Reg', 'Reg', 'Reg', 'Reg', 'Reg', 'IR1', 'IR2', 'IR1', 'Reg', 'Reg', 'Reg', 'Reg', 'IR1', 'IR1', 'Reg', 'IR1', 'Reg', 'Reg', 'Reg', 'Reg', 'Reg', 'Reg', 'Reg', 'Reg', 'Reg', 'Reg', 'Reg', 'IR1', 'IR1', 'IR1', 'Reg', 'Reg', 'Reg', 'Reg', 'IR2', 'IR1', 'IR1', 'Reg', 'Reg', 'IR1', 'Reg', 'IR1', 'IR1', 'Reg', 'Reg', 'Reg', 'Reg', 'IR1', 'Reg', 'Reg', 'Reg', 'Reg', 'IR1', 'Reg', 'Reg', 'Reg', 'Reg', 'Reg', 'IR1', 'Reg', 'Reg', 'Reg', 'Reg', 'Reg', 'Reg', 'IR1', 'Reg', 'Reg', 'Reg', 'Reg', 'IR2', 'IR1', 'IR1', 'IR1', 'Reg', 'Reg', 'IR1', 'IR1', 'Reg', 'Reg', 'Reg', 'Reg', 'IR1', 'IR1', 'Reg', 'IR3', 'IR1', 'IR1', 'Reg', 'Reg', 'IR1', 'Reg', 'IR1', 'IR1', 'Reg', 'Reg', 'Reg', 'IR1', 'Reg', 'Reg', 'Reg', 'Reg', 'Reg', 'Reg', 'Reg', 'Reg', 'IR1', 'IR1', 'IR1', 'IR1', 'Reg', 'Reg', 'Reg', 'Reg', 'IR1', 'Reg', 'IR1', 'Reg', 'IR1', 'Reg', 'Reg', 'Reg', 'IR3', 'IR1', 'Reg', 'Reg', 'Reg', 'Reg', 'IR1', 'IR1', 'IR1', 'IR1', 'Reg', 'Reg', 'IR3', 'Reg', 'IR1', 'IR1', 'Reg', 'Reg', 'Reg', 'Reg', 'IR1', 'IR1', 'Reg', 'Reg', 'Reg', 'IR1', 'Reg', 'IR1', 'Reg', 'IR1', 'Reg', 'IR1', 'Reg', 'IR1', 'IR1', 'IR1', 'Reg', 'Reg', 'IR1', 'Reg', 'Reg', 'Reg', 'IR1', 'Reg', 'Reg', 'IR1', 'IR1', 'Reg', 'IR2', 'IR1', 'IR1', 'Reg', 'Reg', 'Reg', 'IR2', 'IR1', 'Reg', 'IR1', 'IR1', 'IR1', 'Reg', 'Reg', 'Reg', 'IR1', 'Reg', 'IR1', 'IR1', 'Reg', 'IR1', 'IR1', 'Reg', 'Reg', 'Reg', 'Reg', 'IR1', 'IR1', 'IR1', 'Reg', 'IR1', 'Reg', 'Reg', 'IR1', 'Reg', 'IR2', 'Reg', 'Reg', 'Reg', 'IR1', 'Reg', 'Reg', 'IR1', 'IR1', 'Reg', 'Reg', 'Reg', 'Reg', 'Reg', 'Reg', 'Reg', 'IR2', 'IR1', 'Reg', 'Reg', 'IR1', 'IR1', 'Reg', 'Reg', 'Reg', 'Reg', 'Reg', 'Reg', 'IR2', 'Reg', 'IR2', 'IR1', 'Reg', 'IR1', 'Reg', 'Reg', 'Reg', 'IR1', 'Reg', 'Reg', 'Reg', 'Reg', 'Reg', 'IR1', 'Reg', 'IR1', 'Reg', 'IR1', 'Reg', 'IR1', 'Reg', 'IR2', 'Reg', 'Reg', 'Reg', 'Reg', 'Reg', 'Reg', 'Reg', 'Reg', 'Reg', 'Reg', 'IR1', 'IR1', 'Reg', 'Reg', 'Reg', 'IR1', 'IR1', 'Reg', 'Reg', 'Reg', 'Reg', 'IR1', 'Reg', 'IR1', 'IR1', 'Reg', 'IR1', 'IR1', 'Reg', 'Reg', 'Reg', 'Reg', 'IR1', 'IR1', 'IR1', 'Reg', 'Reg', 'IR1', 'Reg', 'Reg', 'Reg', 'Reg', 'Reg', 'Reg', 'IR1', 'IR1', 'Reg', 'Reg', 'IR1', 'Reg', 'Reg', 'IR1', 'Reg', 'Reg', 'Reg', 'Reg', 'IR1', 'Reg', 'Reg', 'Reg', 'IR1', 'Reg', 'Reg', 'IR1', 'Reg', 'Reg', 'Reg', 'IR1', 'Reg', 'Reg', 'IR1', 'IR1', 'Reg', 'Reg', 'Reg', 'IR1', 'Reg', 'Reg', 'Reg', 'Reg', 'IR1', 'IR1', 'IR1', 'Reg', 'Reg', 'IR1', 'Reg', 'IR1', 'IR1', 'Reg', 'Reg', 'IR1', 'IR1', 'IR1', 'Reg', 'IR1', 'Reg', 'Reg', 'IR1', 'Reg', 'IR1', 'IR1', 'IR1', 'Reg', 'Reg', 'Reg', 'Reg', 'Reg', 'IR1', 'IR1', 'IR1', 'Reg', 'IR1', 'Reg', 'Reg', 'Reg', 'IR1', 'Reg', 'Reg', 'Reg', 'IR1', 'Reg', 'IR2', 'Reg', 'IR1', 'Reg', 'Reg', 'Reg', 'IR1', 'Reg', 'IR1', 'IR1', 'IR1', 'IR1', 'IR1', 'Reg', 'IR1', 'IR1', 'Reg', 'Reg', 'Reg', 'IR1', 'Reg', 'Reg', 'IR1', 'Reg', 'Reg', 'Reg', 'Reg', 'Reg', 'Reg', 'IR1', 'IR1', 'Reg', 'Reg', 'IR1', 'Reg', 'Reg', 'IR1', 'IR1', 'Reg', 'Reg', 'Reg', 'Reg', 'Reg', 'Reg', 'IR1', 'Reg', 'IR1', 'Reg', 'IR2', 'Reg', 'Reg', 'Reg', 'Reg', 'IR1', 'Reg', 'Reg', 'Reg', 'Reg', 'IR1', 'Reg', 'Reg', 'Reg', 'Reg', 'Reg', 'Reg', 'Reg', 'Reg', 'IR1', 'IR1', 'Reg', 'IR1', 'Reg', 'Reg', 'Reg', 'Reg', 'Reg', 'Reg', 'Reg', 'Reg', 'Reg', 'Reg', 'Reg', 'IR1', 'Reg', 'Reg', 'Reg', 'Reg', 'IR1', 'Reg', 'IR1', 'Reg', 'Reg', 'Reg', 'Reg', 'Reg', 'Reg', 'IR1', 'Reg', 'IR1', 'Reg', 'Reg', 'Reg', 'Reg', 'IR2', 'Reg', 'Reg', 'IR2', 'IR1', 'IR1', 'Reg', 'Reg', 'Reg', 'Reg', 'Reg', 'IR1', 'Reg', 'Reg', 'Reg', 'Reg', 'Reg', 'IR1', 'IR1', 'Reg', 'IR2', 'Reg', 'IR1', 'IR2', 'IR1', 'Reg', 'IR2', 'Reg', 'IR1', 'Reg', 'IR1', 'IR1', 'Reg', 'Reg', 'IR1', 'Reg', 'IR1', 'Reg', 'IR2', 'Reg', 'Reg', 'IR1', 'Reg', 'Reg', 'Reg', 'IR2', 'Reg', 'IR1', 'IR1', 'IR1', 'Reg', 'IR1', 'Reg', 'IR1', 'Reg', 'Reg', 'Reg', 'Reg', 'IR1', 'IR1', 'Reg', 'Reg', 'Reg', 'IR1', 'Reg', 'IR1', 'Reg', 'Reg', 'Reg', 'IR1', 'IR1', 'IR1', 'Reg', 'IR1', 'Reg', 'Reg', 'IR1', 'Reg', 'IR1', 'Reg', 'IR1', 'Reg', 'IR1', 'IR1', 'IR1', 'IR1', 'IR1', 'IR1', 'Reg', 'Reg', 'Reg', 'IR1', 'Reg', 'Reg', 'Reg', 'IR1', 'IR1', 'Reg', 'IR1', 'Reg', 'Reg', 'Reg', 'Reg', 'IR1', 'IR1', 'Reg', 'IR1', 'Reg', 'IR2', 'IR1', 'Reg', 'Reg', 'Reg', 'Reg', 'Reg', 'IR1', 'IR1', 'Reg', 'Reg', 'Reg', 'Reg', 'IR2', 'IR1', 'Reg', 'Reg', 'Reg', 'IR1', 'Reg', 'IR1', 'Reg', 'IR1', 'IR1', 'Reg', 'IR1', 'Reg', 'Reg', 'Reg', 'Reg', 'Reg', 'IR1', 'Reg', 'Reg', 'Reg', 'Reg', 'IR1', 'Reg', 'Reg', 'Reg', 'Reg', 'Reg', 'Reg', 'Reg', 'Reg', 'Reg', 'IR2', 'IR1', 'IR1', 'Reg', 'IR1', 'IR1', 'Reg', 'IR1', 'Reg', 'Reg', 'Reg', 'Reg', 'IR1', 'IR2', 'Reg', 'IR1', 'Reg', 'IR1', 'Reg', 'Reg', 'Reg', 'Reg', 'Reg', 'Reg', 'Reg', 'IR1', 'Reg', 'Reg', 'Reg', 'IR1', 'IR1', 'Reg', 'IR1', 'IR2', 'Reg', 'Reg', 'Reg', 'Reg', 'IR1', 'Reg', 'IR1', 'IR1', 'Reg', 'Reg', 'IR1', 'Reg', 'Reg', 'Reg', 'Reg', 'Reg', 'IR1', 'IR1', 'Reg', 'IR2', 'Reg', 'Reg', 'Reg', 'Reg', 'Reg', 'Reg', 'Reg', 'Reg', 'Reg', 'IR1', 'IR1', 'Reg', 'IR1', 'IR1', 'Reg', 'Reg', 'IR1', 'Reg', 'IR1', 'IR1', 'Reg', 'Reg', 'Reg', 'Reg', 'Reg', 'Reg', 'Reg', 'Reg', 'Reg', 'IR1', 'Reg', 'IR1', 'IR1', 'Reg', 'IR1', 'IR1', 'Reg', 'IR1', 'IR1', 'IR1', 'IR2', 'Reg', 'IR1', 'Reg', 'Reg', 'Reg', 'Reg', 'Reg', 'Reg', 'IR1', 'IR1', 'IR1', 'Reg', 'Reg', 'Reg', 'Reg', 'IR1', 'Reg', 'Reg', 'Reg', 'IR1', 'IR1', 'Reg', 'IR1', 'Reg', 'IR2', 'IR1', 'Reg', 'Reg', 'Reg', 'Reg', 'IR1', 'IR1', 'IR1', 'Reg', 'IR1', 'Reg', 'Reg', 'Reg', 'IR1', 'Reg', 'Reg', 'Reg', 'Reg', 'IR1', 'IR1', 'IR1', 'Reg', 'Reg', 'Reg', 'Reg', 'IR1', 'IR1', 'Reg', 'IR1', 'Reg', 'Reg', 'IR1', 'IR1', 'Reg', 'Reg', 'Reg', 'Reg', 'Reg', 'Reg', 'IR1', 'Reg', 'IR1', 'IR1', 'Reg', 'Reg', 'IR1', 'IR1', 'Reg', 'Reg', 'Reg', 'Reg', 'Reg', 'IR1', 'IR1', 'Reg', 'Reg', 'Reg', 'Reg', 'Reg', 'Reg', 'IR1', 'IR1', 'IR1', 'Reg', 'Reg', 'Reg', 'Reg', 'IR1', 'IR1', 'Reg', 'Reg', 'IR3', 'Reg', 'IR1', 'Reg', 'Reg', 'Reg', 'Reg', 'Reg', 'Reg', 'Reg', 'Reg', 'IR1', 'IR1', 'Reg', 'Reg', 'Reg', 'Reg', 'Reg', 'IR1', 'Reg', 'Reg', 'IR1', 'Reg', 'Reg', 'Reg', 'Reg', 'IR1', 'Reg', 'Reg', 'IR1', 'IR1', 'Reg', 'Reg', 'Reg', 'Reg', 'Reg', 'IR1', 'Reg', 'Reg', 'IR1', 'IR1', 'IR2', 'Reg', 'Reg', 'IR1', 'IR1', 'Reg', 'Reg', 'Reg', 'Reg', 'IR1', 'IR2', 'IR1', 'IR1', 'Reg', 'Reg', 'Reg', 'Reg', 'IR1', 'Reg', 'IR1', 'Reg', 'Reg', 'Reg', 'Reg', 'Reg', 'Reg', 'IR1', 'Reg', 'Reg', 'Reg', 'IR1', 'Reg', 'Reg', 'Reg', 'Reg', 'Reg', 'Reg', 'IR2', 'Reg', 'Reg', 'Reg', 'Reg', 'IR1', 'Reg', 'Reg', 'Reg', 'Reg', 'Reg', 'IR1', 'Reg', 'Reg', 'Reg', 'IR1', 'Reg', 'IR1', 'Reg', 'Reg', 'Reg', 'IR1', 'IR1', 'IR3', 'Reg', 'IR1', 'Reg', 'Reg', 'IR1', 'Reg', 'Reg', 'Reg', 'Reg', 'IR1', 'Reg', 'Reg', 'Reg', 'Reg', 'IR1', 'Reg', 'IR1', 'Reg', 'Reg', 'IR3', 'IR1', 'Reg', 'Reg', 'Reg', 'Reg', 'IR1', 'IR1', 'Reg', 'Reg', 'Reg', 'IR1', 'IR1', 'Reg', 'IR1', 'Reg', 'Reg', 'Reg', 'Reg', 'Reg', 'Reg', 'Reg', 'Reg', 'IR1', 'Reg', 'IR1', 'Reg', 'IR1', 'IR1', 'Reg', 'IR1', 'Reg', 'Reg', 'Reg', 'IR1', 'Reg', 'Reg', 'IR1', 'IR1', 'IR1', 'IR1', 'Reg', 'IR1', 'Reg', 'Reg', 'IR1', 'IR1', 'IR1', 'Reg', 'IR1', 'Reg', 'IR1', 'Reg', 'IR2', 'IR1', 'IR1', 'Reg', 'Reg', 'Reg', 'IR1', 'Reg', 'IR1', 'Reg', 'Reg', 'Reg', 'Reg', 'Reg', 'Reg', 'IR1', 'IR1', 'IR1', 'Reg', 'Reg', 'Reg', 'Reg', 'Reg', 'Reg', 'Reg', 'IR1', 'Reg', 'Reg', 'Reg', 'IR1', 'Reg', 'IR1', 'Reg', 'IR1', 'IR1', 'IR1', 'Reg', 'Reg', 'Reg', 'Reg', 'IR1', 'Reg', 'Reg', 'Reg', 'IR1', 'Reg', 'IR1', 'Reg', 'Reg', 'Reg', 'IR1', 'Reg', 'Reg', 'IR1', 'Reg', 'Reg', 'Reg', 'IR2', 'Reg', 'IR1', 'Reg', 'Reg', 'Reg', 'Reg', 'IR1', 'Reg', 'Reg', 'IR1', 'Reg', 'Reg', 'Reg', 'IR1', 'Reg', 'IR1', 'Reg', 'Reg', 'IR1', 'Reg', 'IR1', 'Reg', 'IR3', 'Reg', 'Reg', 'Reg', 'Reg', 'Reg', 'IR1', 'IR1', 'IR1', 'Reg', 'Reg', 'IR1', 'IR1', 'IR1', 'Reg', 'Reg', 'IR1', 'IR1', 'Reg', 'Reg', 'IR1', 'IR1', 'IR1', 'Reg', 'Reg', 'Reg', 'Reg', 'IR1', 'IR1', 'IR1', 'IR1', 'Reg', 'Reg', 'Reg', 'Reg', 'Reg', 'Reg', 'Reg', 'IR3', 'Reg', 'IR1', 'IR1', 'Reg', 'Reg', 'Reg', 'IR1', 'IR1', 'Reg', 'Reg', 'Reg', 'Reg', 'Reg', 'IR1', 'IR1', 'Reg', 'Reg', 'IR1', 'Reg', 'IR2', 'Reg', 'Reg', 'IR1', 'IR1', 'Reg', 'Reg', 'Reg', 'Reg', 'Reg', 'Reg', 'IR1', 'Reg', 'IR1', 'Reg', 'Reg', 'Reg', 'Reg', 'IR1', 'IR1', 'IR1', 'IR1', 'Reg', 'Reg', 'Reg', 'Reg', 'IR1', 'Reg', 'IR2', 'IR1', 'IR3', 'Reg', 'Reg', 'IR1', 'Reg', 'IR1', 'IR1', 'IR1', 'Reg', 'IR1', 'Reg', 'Reg', 'Reg', 'IR1', 'IR1', 'IR1', 'Reg', 'Reg', 'IR1', 'Reg', 'Reg', 'IR2', 'Reg', 'Reg', 'Reg', 'Reg', 'Reg', 'IR1', 'Reg', 'Reg', 'Reg', 'Reg', 'Reg', 'IR1', 'Reg', 'Reg', 'Reg', 'Reg', 'IR1', 'Reg', 'IR1', 'Reg', 'Reg', 'Reg', 'Reg', 'Reg', 'Reg', 'IR1', 'IR1', 'Reg', 'Reg', 'Reg', 'Reg', 'IR1', 'Reg', 'IR1', 'Reg', 'IR1', 'Reg', 'IR1', 'Reg', 'IR1', 'Reg', 'Reg', 'Reg', 'IR1', 'Reg', 'Reg', 'Reg', 'IR1', 'Reg', 'IR1', 'Reg', 'Reg', 'Reg', 'IR1', 'Reg', 'IR1', 'IR1', 'Reg', 'Reg', 'IR1', 'IR3', 'IR1', 'Reg', 'IR1', 'Reg', 'Reg', 'Reg', 'Reg', 'Reg', 'Reg', 'IR1', 'Reg', 'Reg', 'Reg', 'Reg', 'Reg', 'IR1', 'Reg', 'Reg', 'Reg', 'Reg', 'Reg', 'Reg', 'Reg', 'Reg', 'Reg', 'Reg', 'Reg', 'Reg', 'Reg']\n"
     ]
    }
   ],
   "source": [
    "# Transforming LotShape column to a list\n",
    "\n",
    "lotshape_to_list = housing_features_df[\"LotShape\"].to_list()\n",
    "\n",
    "print (lotshape_to_list)"
   ]
  },
  {
   "cell_type": "code",
   "execution_count": 146,
   "id": "3794f679",
   "metadata": {},
   "outputs": [
    {
     "name": "stdout",
     "output_type": "stream",
     "text": [
      "[['Reg'], ['Reg'], ['IR1'], ['IR1'], ['IR1']]\n"
     ]
    }
   ],
   "source": [
    "# We can now transform the data to one hot vectors using scikit-learn \n",
    "# But scikit learn can work with multiple features at once, so it expects list of lists\n",
    "# We need to convert the 1-dimensional list into a list of lists(2D)\n",
    "\n",
    "\n",
    "lotshape_to_list_of_lists = []\n",
    "\n",
    "for shape in lotshape_to_list:\n",
    "    lotshape_to_list_of_lists.append([shape])\n",
    "\n",
    "# Sanity check: print the first 5 elements\n",
    "print (lotshape_to_list_of_lists[:5])\n"
   ]
  },
  {
   "cell_type": "code",
   "execution_count": 147,
   "id": "e9f53e24",
   "metadata": {
    "scrolled": true
   },
   "outputs": [
    {
     "name": "stdout",
     "output_type": "stream",
     "text": [
      "Unique vocabulary items 4\n",
      "\n",
      "[[0. 0. 0. 1.]\n",
      " [0. 0. 0. 1.]\n",
      " [1. 0. 0. 0.]\n",
      " ...\n",
      " [0. 0. 0. 1.]\n",
      " [0. 0. 0. 1.]\n",
      " [0. 0. 0. 1.]]\n"
     ]
    }
   ],
   "source": [
    "# We import the OneHotEncoder class from scikit-learn preprocessing\n",
    "from sklearn.preprocessing import OneHotEncoder\n",
    "\n",
    "# now let's define an object\n",
    "lotshape_encoder = OneHotEncoder()\n",
    "\n",
    "# Fit our data (i.e., extract and order vocabulary)\n",
    "lotshape_encoder.fit(lotshape_to_list_of_lists)\n",
    "\n",
    "print(f\"Unique vocabulary items {len(lotshape_encoder.categories_[0])}\\n\")\n",
    "\n",
    "# Now transform each example in our data into 1-hot form\n",
    "lotshape_transformed = lotshape_encoder.transform(lotshape_to_list_of_lists)\n",
    "\n",
    "# Transform the result object into a matrix\n",
    "lotshape_transformed = lotshape_transformed.toarray()\n",
    "\n",
    "# Print the transformed data\n",
    "print (lotshape_transformed)"
   ]
  },
  {
   "cell_type": "code",
   "execution_count": 148,
   "id": "fef8dcd0",
   "metadata": {},
   "outputs": [
    {
     "name": "stdout",
     "output_type": "stream",
     "text": [
      "(1460, 4)\n",
      "(1460, 8)\n"
     ]
    }
   ],
   "source": [
    "# create a dataframe back from the array\n",
    "\n",
    "lotshape_transformed_df = pd.DataFrame(lotshape_transformed)\n",
    "lotshape_transformed_df.head()\n",
    "print(lotshape_transformed_df.shape)\n",
    "print(housing_features_df.shape)"
   ]
  },
  {
   "cell_type": "code",
   "execution_count": 149,
   "id": "d56e5e94",
   "metadata": {},
   "outputs": [
    {
     "data": {
      "text/plain": [
       "(1460, 12)"
      ]
     },
     "execution_count": 149,
     "metadata": {},
     "output_type": "execute_result"
    }
   ],
   "source": [
    "# Now concatenate this feature back to the original dataframe \n",
    "housing_features_df.reset_index(drop=True, inplace=True)\n",
    "lotshape_transformed_df.reset_index(drop=True, inplace=True)\n",
    "\n",
    "housing_features_transformed_df = pd.concat([housing_features_df,lotshape_transformed_df], axis=1)\n",
    "housing_features_transformed_df.shape"
   ]
  },
  {
   "cell_type": "code",
   "execution_count": 150,
   "id": "a31c4dd5",
   "metadata": {},
   "outputs": [],
   "source": [
    "# We don't need LotShape now since we have already transformed it\n",
    "housing_features_transformed_df = housing_features_transformed_df.drop(columns=[\"LotShape\"], axis=1)\n",
    "# housing_features_transformed_df.head()"
   ]
  },
  {
   "cell_type": "markdown",
   "id": "318b6948",
   "metadata": {},
   "source": [
    "####  Tranforming **LotConfig** feature"
   ]
  },
  {
   "cell_type": "code",
   "execution_count": 151,
   "id": "61e33b3a",
   "metadata": {},
   "outputs": [
    {
     "name": "stdout",
     "output_type": "stream",
     "text": [
      "['Inside', 'FR2', 'Inside', 'Corner', 'FR2', 'Inside', 'Inside', 'Corner', 'Inside', 'Corner', 'Inside', 'Inside', 'Inside', 'Inside', 'Corner', 'Corner', 'CulDSac', 'Inside', 'Inside', 'Inside', 'Corner', 'Inside', 'Inside', 'Inside', 'Inside', 'Corner', 'Corner', 'Inside', 'CulDSac', 'Inside', 'Inside', 'CulDSac', 'Corner', 'Inside', 'Inside', 'Inside', 'Corner', 'Inside', 'Inside', 'Inside', 'Inside', 'Inside', 'CulDSac', 'CulDSac', 'Inside', 'Inside', 'CulDSac', 'Inside', 'Inside', 'Inside', 'Corner', 'Inside', 'Corner', 'Inside', 'Inside', 'Inside', 'Inside', 'Corner', 'CulDSac', 'Inside', 'Inside', 'Inside', 'Inside', 'Inside', 'Inside', 'Inside', 'Inside', 'Inside', 'Corner', 'Corner', 'Inside', 'Corner', 'Corner', 'Inside', 'Corner', 'Inside', 'Inside', 'Inside', 'Inside', 'Corner', 'Corner', 'FR2', 'Inside', 'Inside', 'Inside', 'Corner', 'Inside', 'Corner', 'Corner', 'Inside', 'Inside', 'Inside', 'Inside', 'Corner', 'Inside', 'Corner', 'Inside', 'Inside', 'Corner', 'Inside', 'Inside', 'Inside', 'Inside', 'Corner', 'Corner', 'Inside', 'Inside', 'Inside', 'Corner', 'Inside', 'Inside', 'Inside', 'Inside', 'Corner', 'Inside', 'Corner', 'Inside', 'Corner', 'Corner', 'Inside', 'CulDSac', 'Inside', 'Corner', 'Inside', 'CulDSac', 'Inside', 'Inside', 'Inside', 'Inside', 'Inside', 'Corner', 'Corner', 'Corner', 'Inside', 'Inside', 'Inside', 'Corner', 'Inside', 'Inside', 'Inside', 'FR2', 'Inside', 'Corner', 'Inside', 'Inside', 'Inside', 'Corner', 'CulDSac', 'Inside', 'Inside', 'Corner', 'Inside', 'CulDSac', 'Inside', 'Corner', 'Corner', 'Inside', 'Corner', 'Corner', 'Corner', 'CulDSac', 'Inside', 'Corner', 'Inside', 'Corner', 'Inside', 'Inside', 'Inside', 'Inside', 'Corner', 'Inside', 'Corner', 'Inside', 'Inside', 'Inside', 'Corner', 'Corner', 'Inside', 'CulDSac', 'Inside', 'Inside', 'Inside', 'Inside', 'Inside', 'Inside', 'Inside', 'CulDSac', 'Inside', 'Inside', 'Inside', 'Inside', 'CulDSac', 'Inside', 'Inside', 'Inside', 'FR2', 'Inside', 'Corner', 'Corner', 'Inside', 'Corner', 'Inside', 'Corner', 'Inside', 'Inside', 'Corner', 'CulDSac', 'Inside', 'Inside', 'Inside', 'Inside', 'Corner', 'Inside', 'CulDSac', 'FR2', 'Inside', 'Inside', 'Inside', 'Corner', 'Inside', 'Inside', 'Inside', 'Inside', 'FR2', 'Inside', 'Inside', 'Inside', 'Inside', 'FR2', 'Inside', 'Inside', 'Inside', 'Inside', 'Corner', 'Inside', 'Inside', 'FR2', 'CulDSac', 'Inside', 'Inside', 'Inside', 'Inside', 'Corner', 'Corner', 'Inside', 'Inside', 'Inside', 'Inside', 'Inside', 'CulDSac', 'Inside', 'Inside', 'Inside', 'Inside', 'Inside', 'Inside', 'Inside', 'Inside', 'Inside', 'Inside', 'Corner', 'Inside', 'Corner', 'Corner', 'Inside', 'Inside', 'FR2', 'Inside', 'Inside', 'Corner', 'Inside', 'CulDSac', 'CulDSac', 'Inside', 'Corner', 'Inside', 'Inside', 'Corner', 'Inside', 'Inside', 'Inside', 'Inside', 'Inside', 'Inside', 'Inside', 'Inside', 'Inside', 'Corner', 'Inside', 'Inside', 'Inside', 'Inside', 'Inside', 'Corner', 'Inside', 'CulDSac', 'Inside', 'Inside', 'Inside', 'Inside', 'Corner', 'Inside', 'Corner', 'Corner', 'Inside', 'Inside', 'Inside', 'Inside', 'Inside', 'Inside', 'Inside', 'Inside', 'Inside', 'Inside', 'Inside', 'Inside', 'Corner', 'Inside', 'Inside', 'Inside', 'Corner', 'Inside', 'Inside', 'Inside', 'Corner', 'Inside', 'CulDSac', 'Inside', 'Inside', 'Corner', 'Inside', 'Inside', 'Inside', 'FR3', 'Inside', 'Corner', 'Corner', 'Inside', 'Corner', 'Inside', 'Inside', 'Inside', 'Inside', 'Inside', 'Inside', 'Inside', 'CulDSac', 'Inside', 'Inside', 'Inside', 'Inside', 'Inside', 'Inside', 'Inside', 'Inside', 'Inside', 'Inside', 'Inside', 'Inside', 'CulDSac', 'CulDSac', 'Inside', 'Corner', 'Inside', 'FR2', 'Inside', 'Inside', 'Corner', 'Inside', 'Corner', 'Inside', 'Inside', 'Inside', 'Inside', 'Inside', 'Inside', 'CulDSac', 'Corner', 'Corner', 'Inside', 'Inside', 'Inside', 'Inside', 'Corner', 'Corner', 'Inside', 'FR2', 'Inside', 'CulDSac', 'Inside', 'Inside', 'CulDSac', 'Inside', 'Corner', 'Inside', 'Inside', 'Inside', 'Inside', 'Corner', 'Inside', 'Inside', 'Inside', 'Inside', 'Corner', 'Inside', 'Corner', 'Inside', 'Inside', 'Corner', 'Inside', 'Inside', 'Inside', 'Inside', 'Inside', 'CulDSac', 'Inside', 'Inside', 'Inside', 'Inside', 'Inside', 'Inside', 'FR2', 'Inside', 'Inside', 'Inside', 'Inside', 'Inside', 'Inside', 'Inside', 'Corner', 'Inside', 'Inside', 'Inside', 'Corner', 'Inside', 'CulDSac', 'Inside', 'Inside', 'Inside', 'Corner', 'Inside', 'Inside', 'Inside', 'Inside', 'Inside', 'Corner', 'Corner', 'Corner', 'Inside', 'Inside', 'Inside', 'Inside', 'Corner', 'Inside', 'Inside', 'Inside', 'Inside', 'CulDSac', 'Inside', 'Corner', 'Inside', 'Inside', 'Inside', 'Inside', 'Inside', 'Inside', 'Inside', 'Inside', 'Inside', 'Corner', 'Corner', 'Inside', 'Inside', 'Inside', 'Inside', 'Corner', 'Inside', 'Inside', 'Inside', 'Inside', 'FR2', 'Inside', 'Corner', 'FR2', 'Corner', 'Inside', 'Inside', 'Inside', 'Corner', 'Inside', 'Inside', 'Inside', 'Corner', 'Inside', 'Inside', 'Inside', 'Inside', 'Inside', 'Inside', 'Inside', 'Inside', 'Inside', 'Corner', 'Inside', 'Inside', 'Inside', 'Inside', 'Inside', 'Inside', 'Corner', 'Inside', 'Inside', 'Corner', 'Corner', 'Inside', 'Inside', 'Corner', 'Inside', 'CulDSac', 'Inside', 'Inside', 'Corner', 'Corner', 'Inside', 'Inside', 'Inside', 'Inside', 'Inside', 'Inside', 'CulDSac', 'Inside', 'FR3', 'Inside', 'Inside', 'Inside', 'Inside', 'CulDSac', 'FR2', 'Inside', 'Inside', 'Inside', 'FR2', 'Inside', 'Inside', 'Inside', 'Corner', 'Inside', 'Inside', 'Inside', 'Inside', 'Inside', 'Inside', 'Inside', 'Inside', 'Inside', 'Inside', 'Inside', 'Inside', 'FR2', 'Inside', 'Inside', 'Inside', 'Inside', 'Inside', 'CulDSac', 'Corner', 'Inside', 'Inside', 'Inside', 'Corner', 'Inside', 'Inside', 'Corner', 'Inside', 'FR2', 'Inside', 'Inside', 'Inside', 'Corner', 'Inside', 'CulDSac', 'Inside', 'Inside', 'Inside', 'Inside', 'Inside', 'Inside', 'Inside', 'Inside', 'Inside', 'Inside', 'Corner', 'Inside', 'Inside', 'Inside', 'Inside', 'Inside', 'Inside', 'Inside', 'Inside', 'Inside', 'Inside', 'Inside', 'Inside', 'Inside', 'Inside', 'Corner', 'Inside', 'Inside', 'Inside', 'Inside', 'FR2', 'Inside', 'Inside', 'Inside', 'Inside', 'Inside', 'Corner', 'Inside', 'Inside', 'Inside', 'Inside', 'Inside', 'Inside', 'Inside', 'Corner', 'Inside', 'Inside', 'Inside', 'Corner', 'Corner', 'Inside', 'Inside', 'Corner', 'Inside', 'Inside', 'Inside', 'Inside', 'Inside', 'Inside', 'Inside', 'Inside', 'Inside', 'Inside', 'Inside', 'Corner', 'Inside', 'Inside', 'Inside', 'Inside', 'Inside', 'Inside', 'Inside', 'Inside', 'Inside', 'Inside', 'Inside', 'Inside', 'Inside', 'Corner', 'CulDSac', 'CulDSac', 'Corner', 'Inside', 'CulDSac', 'Corner', 'Inside', 'Inside', 'Corner', 'Inside', 'FR2', 'Inside', 'Inside', 'Inside', 'Inside', 'Inside', 'Inside', 'Inside', 'Inside', 'Inside', 'Inside', 'Inside', 'Inside', 'Corner', 'CulDSac', 'CulDSac', 'Inside', 'FR2', 'Inside', 'Corner', 'Inside', 'Corner', 'Inside', 'Corner', 'Corner', 'Inside', 'Inside', 'Inside', 'Inside', 'Inside', 'Inside', 'Inside', 'Inside', 'Inside', 'Inside', 'Inside', 'CulDSac', 'Inside', 'Inside', 'Inside', 'Inside', 'Inside', 'Inside', 'Inside', 'CulDSac', 'Inside', 'Inside', 'Inside', 'Inside', 'Inside', 'CulDSac', 'Inside', 'Inside', 'Inside', 'Inside', 'Inside', 'Corner', 'Inside', 'Corner', 'Inside', 'Inside', 'Corner', 'Inside', 'Corner', 'Corner', 'Inside', 'Inside', 'CulDSac', 'Inside', 'Inside', 'Inside', 'Inside', 'Inside', 'Inside', 'Inside', 'Inside', 'Inside', 'Corner', 'Inside', 'Inside', 'Corner', 'Inside', 'Inside', 'Inside', 'Inside', 'Inside', 'Inside', 'CulDSac', 'Inside', 'Inside', 'Inside', 'FR2', 'Inside', 'Inside', 'CulDSac', 'Inside', 'Inside', 'Inside', 'Inside', 'CulDSac', 'CulDSac', 'Inside', 'Inside', 'Inside', 'Corner', 'FR2', 'Inside', 'Inside', 'Inside', 'Inside', 'Inside', 'Inside', 'Inside', 'Corner', 'Inside', 'Inside', 'Inside', 'Inside', 'Corner', 'Inside', 'Inside', 'Corner', 'CulDSac', 'Inside', 'Corner', 'Inside', 'Inside', 'Inside', 'Inside', 'Corner', 'Inside', 'Inside', 'Inside', 'Inside', 'Inside', 'FR2', 'Inside', 'Inside', 'Inside', 'Corner', 'Inside', 'Inside', 'Inside', 'Inside', 'Inside', 'CulDSac', 'Corner', 'CulDSac', 'Inside', 'Inside', 'CulDSac', 'Inside', 'Corner', 'Inside', 'Inside', 'Inside', 'Inside', 'Inside', 'CulDSac', 'Inside', 'Corner', 'Inside', 'CulDSac', 'Inside', 'Inside', 'Inside', 'Inside', 'Inside', 'Inside', 'Inside', 'Inside', 'Inside', 'Inside', 'Corner', 'Inside', 'CulDSac', 'Inside', 'CulDSac', 'Inside', 'FR2', 'Inside', 'Inside', 'Inside', 'Corner', 'Inside', 'Corner', 'Inside', 'Inside', 'Inside', 'Corner', 'Corner', 'Inside', 'Corner', 'Inside', 'Inside', 'Inside', 'Inside', 'Corner', 'Corner', 'Inside', 'Inside', 'Inside', 'Corner', 'Inside', 'Inside', 'Inside', 'Inside', 'Inside', 'Inside', 'CulDSac', 'Inside', 'CulDSac', 'Corner', 'Inside', 'Inside', 'CulDSac', 'Corner', 'Inside', 'Inside', 'Inside', 'Corner', 'Inside', 'Inside', 'Inside', 'Inside', 'Inside', 'Inside', 'Inside', 'Inside', 'Inside', 'Inside', 'Inside', 'Inside', 'CulDSac', 'Inside', 'Inside', 'Corner', 'Inside', 'Inside', 'Inside', 'Corner', 'CulDSac', 'Inside', 'Inside', 'Inside', 'Inside', 'Inside', 'Inside', 'Corner', 'Corner', 'Inside', 'Inside', 'Inside', 'Inside', 'Inside', 'Corner', 'Inside', 'Inside', 'Inside', 'Corner', 'Inside', 'Inside', 'Corner', 'FR2', 'Inside', 'Inside', 'Inside', 'Inside', 'Inside', 'Inside', 'Inside', 'FR2', 'Inside', 'Inside', 'CulDSac', 'Corner', 'Inside', 'Inside', 'Inside', 'Inside', 'Inside', 'Corner', 'Inside', 'Inside', 'CulDSac', 'Inside', 'Inside', 'Inside', 'Inside', 'FR2', 'Inside', 'Corner', 'Corner', 'Corner', 'Corner', 'Inside', 'Inside', 'Inside', 'Inside', 'Inside', 'Inside', 'Inside', 'Inside', 'Corner', 'Corner', 'FR2', 'Inside', 'Inside', 'Inside', 'Corner', 'Corner', 'Corner', 'Inside', 'Corner', 'Inside', 'Inside', 'Corner', 'Inside', 'Inside', 'Inside', 'Inside', 'Corner', 'Inside', 'Inside', 'FR2', 'Inside', 'Inside', 'Inside', 'Inside', 'Inside', 'Corner', 'Corner', 'Inside', 'Corner', 'Inside', 'Inside', 'Inside', 'Inside', 'CulDSac', 'Inside', 'Inside', 'Inside', 'Inside', 'Inside', 'Inside', 'Inside', 'Inside', 'CulDSac', 'FR2', 'Inside', 'Inside', 'Inside', 'Inside', 'Inside', 'Corner', 'Corner', 'Inside', 'Inside', 'Inside', 'Inside', 'Inside', 'Corner', 'Corner', 'Inside', 'Inside', 'CulDSac', 'Inside', 'Inside', 'Inside', 'Inside', 'Corner', 'Inside', 'Inside', 'Inside', 'Inside', 'CulDSac', 'Inside', 'Inside', 'Inside', 'Inside', 'Inside', 'Corner', 'Corner', 'Inside', 'Corner', 'Inside', 'Inside', 'FR2', 'Inside', 'Corner', 'Inside', 'Inside', 'Inside', 'Inside', 'CulDSac', 'Inside', 'Inside', 'Inside', 'Inside', 'Inside', 'Inside', 'Inside', 'Inside', 'Corner', 'Inside', 'Inside', 'Inside', 'Corner', 'Inside', 'Inside', 'Inside', 'Corner', 'Inside', 'Inside', 'Corner', 'Inside', 'Inside', 'Inside', 'Inside', 'Inside', 'Corner', 'Inside', 'Inside', 'Corner', 'Inside', 'Inside', 'Inside', 'Inside', 'Inside', 'Inside', 'Inside', 'Inside', 'Inside', 'Corner', 'Inside', 'Corner', 'Corner', 'CulDSac', 'Inside', 'Inside', 'Inside', 'Inside', 'Corner', 'Inside', 'Inside', 'Inside', 'Inside', 'FR2', 'Inside', 'Inside', 'Inside', 'Inside', 'Corner', 'Inside', 'Inside', 'Inside', 'Inside', 'Corner', 'Inside', 'Inside', 'Inside', 'Inside', 'Inside', 'Inside', 'Inside', 'Corner', 'Inside', 'Inside', 'Inside', 'Inside', 'Corner', 'CulDSac', 'Inside', 'Inside', 'Inside', 'Inside', 'Inside', 'Inside', 'Inside', 'Inside', 'Inside', 'Inside', 'Inside', 'Corner', 'Inside', 'Corner', 'Inside', 'Inside', 'FR2', 'Inside', 'Inside', 'CulDSac', 'Inside', 'Inside', 'FR2', 'Inside', 'Corner', 'Inside', 'Corner', 'CulDSac', 'Inside', 'Inside', 'Inside', 'Inside', 'Inside', 'Inside', 'CulDSac', 'Inside', 'FR2', 'Corner', 'Corner', 'Inside', 'Corner', 'Inside', 'Inside', 'Inside', 'Corner', 'Corner', 'Inside', 'Inside', 'Inside', 'Inside', 'Inside', 'FR2', 'Corner', 'Inside', 'Inside', 'Corner', 'Inside', 'Inside', 'Inside', 'Corner', 'Corner', 'Inside', 'Inside', 'CulDSac', 'Inside', 'Inside', 'Inside', 'CulDSac', 'Inside', 'Inside', 'Inside', 'CulDSac', 'Inside', 'Inside', 'Inside', 'Inside', 'Inside', 'Inside', 'Inside', 'Inside', 'Inside', 'Inside', 'Inside', 'Inside', 'CulDSac', 'Corner', 'Corner', 'Inside', 'Inside', 'Inside', 'FR2', 'Inside', 'Inside', 'Inside', 'Inside', 'FR2', 'Inside', 'Inside', 'Inside', 'Inside', 'Inside', 'Inside', 'Corner', 'Inside', 'Inside', 'Inside', 'Inside', 'Inside', 'Corner', 'Corner', 'Inside', 'Inside', 'Inside', 'Inside', 'Corner', 'Corner', 'Inside', 'FR2', 'CulDSac', 'Inside', 'Inside', 'Inside', 'Inside', 'FR3', 'Inside', 'Inside', 'Inside', 'Inside', 'Inside', 'Inside', 'CulDSac', 'Corner', 'Corner', 'Corner', 'CulDSac', 'CulDSac', 'Inside', 'Inside', 'Inside', 'CulDSac', 'Inside', 'Corner', 'Inside', 'Inside', 'Inside', 'Inside', 'Inside', 'Inside', 'Corner', 'Inside', 'Corner', 'Inside', 'Inside', 'Inside', 'Inside', 'Inside', 'Corner', 'Inside', 'CulDSac', 'Inside', 'Inside', 'Inside', 'Inside', 'Corner', 'Inside', 'Inside', 'Inside', 'Inside', 'Inside', 'Inside', 'Inside', 'Corner', 'Inside', 'Inside', 'Inside', 'Corner', 'CulDSac', 'Inside', 'Inside', 'Corner', 'Inside', 'Inside', 'Inside', 'Inside', 'Inside', 'Inside', 'Corner', 'Inside', 'Inside', 'Inside', 'Inside', 'Corner', 'Inside', 'Inside', 'Inside', 'Corner', 'Corner', 'Corner', 'Inside', 'Inside', 'Inside', 'Inside', 'Corner', 'Inside', 'CulDSac', 'Corner', 'Inside', 'Inside', 'Inside', 'Inside', 'Inside', 'CulDSac', 'Inside', 'Inside', 'Corner', 'CulDSac', 'Inside', 'FR3', 'Inside', 'Inside', 'FR2', 'Inside', 'Inside', 'Inside', 'Inside', 'Inside', 'Inside', 'FR2', 'Corner', 'Inside', 'Corner', 'Inside', 'Inside', 'Inside', 'Inside', 'Inside', 'Inside', 'Inside', 'Inside', 'Corner', 'Corner', 'Inside', 'Inside', 'Inside', 'Inside', 'Inside', 'CulDSac', 'Inside', 'Inside', 'Inside', 'Inside', 'Inside', 'Inside', 'Inside', 'Inside', 'Inside', 'Inside', 'Inside', 'Corner', 'Inside', 'Inside', 'CulDSac', 'Corner', 'Inside', 'Corner', 'Corner', 'Inside', 'CulDSac', 'Inside', 'Inside', 'Inside', 'Corner', 'Inside', 'Inside', 'Inside', 'Inside', 'Inside', 'Inside', 'Corner', 'Inside', 'Inside', 'CulDSac', 'Inside', 'Inside', 'Inside', 'Inside', 'Corner', 'Corner', 'Inside', 'Inside', 'Inside', 'Inside', 'Inside', 'Inside', 'FR2', 'FR2', 'Inside', 'Inside', 'Inside', 'Inside', 'Inside', 'Inside', 'FR2', 'Inside', 'CulDSac', 'Inside', 'Inside', 'Inside', 'FR2', 'Inside', 'Inside', 'Inside', 'Inside', 'Inside', 'Inside', 'Inside', 'Inside', 'Inside']\n"
     ]
    }
   ],
   "source": [
    "# Transforming LotConfig column to a list\n",
    "\n",
    "lotconfig_to_list = housing_features_transformed_df[\"LotConfig\"].to_list()\n",
    "\n",
    "print (lotconfig_to_list)"
   ]
  },
  {
   "cell_type": "code",
   "execution_count": 152,
   "id": "8a04b2a9",
   "metadata": {},
   "outputs": [
    {
     "name": "stdout",
     "output_type": "stream",
     "text": [
      "[['Inside'], ['FR2'], ['Inside'], ['Corner'], ['FR2']]\n"
     ]
    }
   ],
   "source": [
    "# We can now transform the data to one hot vectors using scikit-learn \n",
    "# But scikit learn can work with multiple features at once, so it expects list of lists\n",
    "# We need to convert the 1-dimensional list into a list of lists(2D)\n",
    "\n",
    "\n",
    "lotconfig_to_list_of_lists = []\n",
    "\n",
    "for config in lotconfig_to_list:\n",
    "    lotconfig_to_list_of_lists.append([config])\n",
    "\n",
    "# Sanity check: print the first 5 elements\n",
    "print (lotconfig_to_list_of_lists[:5])\n"
   ]
  },
  {
   "cell_type": "code",
   "execution_count": 153,
   "id": "970b108c",
   "metadata": {},
   "outputs": [
    {
     "name": "stdout",
     "output_type": "stream",
     "text": [
      "Unique vocabulary items 5\n",
      "\n",
      "[[0. 0. 0. 0. 1.]\n",
      " [0. 0. 1. 0. 0.]\n",
      " [0. 0. 0. 0. 1.]\n",
      " ...\n",
      " [0. 0. 0. 0. 1.]\n",
      " [0. 0. 0. 0. 1.]\n",
      " [0. 0. 0. 0. 1.]]\n"
     ]
    }
   ],
   "source": [
    "# We import the OneHotEncoder class from scikit-learn preprocessing\n",
    "# from sklearn.preprocessing import OneHotEncoder\n",
    "\n",
    "# now let's define an object\n",
    "lotconfig_encoder = OneHotEncoder()\n",
    "\n",
    "# Fit our data (i.e., extract and order vocabulary)\n",
    "lotconfig_encoder.fit(lotconfig_to_list_of_lists)\n",
    "\n",
    "print(f\"Unique vocabulary items {len(lotconfig_encoder.categories_[0])}\\n\")\n",
    "\n",
    "# Now transform each example in our data into 1-hot form\n",
    "lotconfig_transformed = lotconfig_encoder.transform(lotconfig_to_list_of_lists)\n",
    "\n",
    "# Transform the result object into a matrix\n",
    "lotconfig_transformed = lotconfig_transformed.toarray()\n",
    "\n",
    "# Print the transformed data\n",
    "print (lotconfig_transformed)"
   ]
  },
  {
   "cell_type": "code",
   "execution_count": 154,
   "id": "22355a2b",
   "metadata": {},
   "outputs": [
    {
     "name": "stdout",
     "output_type": "stream",
     "text": [
      "(1460, 5)\n",
      "(1460, 11)\n"
     ]
    }
   ],
   "source": [
    "# create a dataframe back from the array\n",
    "\n",
    "lotconfig_transformed_df = pd.DataFrame(lotconfig_transformed)\n",
    "lotconfig_transformed_df.head()\n",
    "print(lotconfig_transformed_df.shape)\n",
    "print(housing_features_transformed_df.shape)"
   ]
  },
  {
   "cell_type": "code",
   "execution_count": 155,
   "id": "de8337da",
   "metadata": {},
   "outputs": [
    {
     "data": {
      "text/plain": [
       "(1460, 16)"
      ]
     },
     "execution_count": 155,
     "metadata": {},
     "output_type": "execute_result"
    }
   ],
   "source": [
    "# Now concatenate this feature back to the original dataframe \n",
    "housing_features_transformed_df.reset_index(drop=True, inplace=True)\n",
    "lotconfig_transformed_df.reset_index(drop=True, inplace=True)\n",
    "\n",
    "housing_features_transformed_df = pd.concat([housing_features_transformed_df,lotconfig_transformed_df], axis=1)\n",
    "housing_features_transformed_df.shape"
   ]
  },
  {
   "cell_type": "code",
   "execution_count": 156,
   "id": "df79825e",
   "metadata": {},
   "outputs": [],
   "source": [
    "# We don't need LotConfig now since we have already transformed it\n",
    "housing_features_transformed_df = housing_features_transformed_df.drop(columns=[\"LotConfig\"], axis=1)\n",
    "# housing_features_transformed_df.head()"
   ]
  },
  {
   "cell_type": "markdown",
   "id": "08377854",
   "metadata": {},
   "source": [
    "####  Tranforming Neighborhood feature"
   ]
  },
  {
   "cell_type": "code",
   "execution_count": 157,
   "id": "15e18184",
   "metadata": {},
   "outputs": [
    {
     "name": "stdout",
     "output_type": "stream",
     "text": [
      "['CollgCr', 'Veenker', 'CollgCr', 'Crawfor', 'NoRidge', 'Mitchel', 'Somerst', 'NWAmes', 'OldTown', 'BrkSide', 'Sawyer', 'NridgHt', 'Sawyer', 'CollgCr', 'NAmes', 'BrkSide', 'NAmes', 'Sawyer', 'SawyerW', 'NAmes', 'NridgHt', 'IDOTRR', 'CollgCr', 'MeadowV', 'Sawyer', 'NridgHt', 'NAmes', 'NridgHt', 'NAmes', 'BrkSide', 'IDOTRR', 'Sawyer', 'CollgCr', 'NAmes', 'NridgHt', 'NridgHt', 'CollgCr', 'NAmes', 'NAmes', 'Edwards', 'NAmes', 'Timber', 'SawyerW', 'CollgCr', 'NAmes', 'NridgHt', 'Mitchel', 'Somerst', 'OldTown', 'Sawyer', 'Gilbert', 'BrkSide', 'IDOTRR', 'Veenker', 'NAmes', 'NAmes', 'Somerst', 'CollgCr', 'StoneBr', 'CollgCr', 'SawyerW', 'IDOTRR', 'NridgHt', 'OldTown', 'CollgCr', 'NridgHt', 'NAmes', 'CollgCr', 'OldTown', 'ClearCr', 'NAmes', 'Mitchel', 'Gilbert', 'NAmes', 'OldTown', 'MeadowV', 'NAmes', 'BrkSide', 'Sawyer', 'OldTown', 'NAmes', 'Mitchel', 'Somerst', 'NAmes', 'Gilbert', 'NoRidge', 'Gilbert', 'Somerst', 'IDOTRR', 'CollgCr', 'NAmes', 'NAmes', 'Crawfor', 'OldTown', 'CollgCr', 'Gilbert', 'CollgCr', 'Edwards', 'Edwards', 'NAmes', 'NWAmes', 'SawyerW', 'SawyerW', 'CollgCr', 'IDOTRR', 'Somerst', 'OldTown', 'OldTown', 'IDOTRR', 'NWAmes', 'Edwards', 'Gilbert', 'CollgCr', 'Crawfor', 'Crawfor', 'Somerst', 'Sawyer', 'Edwards', 'SawyerW', 'CollgCr', 'ClearCr', 'IDOTRR', 'NAmes', 'SawyerW', 'NWAmes', 'IDOTRR', 'NPkVill', 'OldTown', 'NAmes', 'NAmes', 'NAmes', 'Gilbert', 'NAmes', 'Timber', 'Sawyer', 'NWAmes', 'NAmes', 'Mitchel', 'CollgCr', 'CollgCr', 'NAmes', 'CollgCr', 'NAmes', 'CollgCr', 'Sawyer', 'Edwards', 'BrkSide', 'Gilbert', 'SawyerW', 'BrkSide', 'CollgCr', 'NridgHt', 'NWAmes', 'ClearCr', 'OldTown', 'Edwards', 'NAmes', 'Timber', 'Somerst', 'Gilbert', 'Veenker', 'NridgHt', 'NridgHt', 'OldTown', 'OldTown', 'Edwards', 'ClearCr', 'NridgHt', 'Gilbert', 'Timber', 'OldTown', 'NAmes', 'StoneBr', 'NAmes', 'Timber', 'Edwards', 'ClearCr', 'Sawyer', 'StoneBr', 'OldTown', 'Somerst', 'Crawfor', 'Edwards', 'OldTown', 'BrkSide', 'OldTown', 'Mitchel', 'OldTown', 'SawyerW', 'StoneBr', 'Crawfor', 'NAmes', 'CollgCr', 'Edwards', 'CollgCr', 'NPkVill', 'Somerst', 'NAmes', 'OldTown', 'NridgHt', 'Edwards', 'Mitchel', 'OldTown', 'CollgCr', 'OldTown', 'Gilbert', 'Sawyer', 'NAmes', 'SawyerW', 'NAmes', 'Edwards', 'Edwards', 'Somerst', 'CollgCr', 'CollgCr', 'NAmes', 'CollgCr', 'OldTown', 'Crawfor', 'Blmngtn', 'CollgCr', 'Gilbert', 'NWAmes', 'NAmes', 'NridgHt', 'BrDale', 'NoRidge', 'BrDale', 'Sawyer', 'Blmngtn', 'NAmes', 'NoRidge', 'BrDale', 'CollgCr', 'Gilbert', 'BrDale', 'CollgCr', 'SawyerW', 'NridgHt', 'Edwards', 'Somerst', 'OldTown', 'OldTown', 'SawyerW', 'SawyerW', 'NWAmes', 'OldTown', 'NAmes', 'CollgCr', 'ClearCr', 'BrkSide', 'Crawfor', 'SawyerW', 'NAmes', 'NAmes', 'Gilbert', 'Somerst', 'CollgCr', 'CollgCr', 'OldTown', 'NAmes', 'CollgCr', 'Sawyer', 'OldTown', 'OldTown', 'NWAmes', 'Gilbert', 'SWISU', 'IDOTRR', 'Edwards', 'Somerst', 'ClearCr', 'NoRidge', 'NAmes', 'Mitchel', 'BrkSide', 'Mitchel', 'Gilbert', 'NridgHt', 'ClearCr', 'SawyerW', 'Somerst', 'NridgHt', 'Somerst', 'SawyerW', 'Somerst', 'NAmes', 'NAmes', 'Sawyer', 'BrkSide', 'CollgCr', 'SWISU', 'Edwards', 'NWAmes', 'NAmes', 'Mitchel', 'IDOTRR', 'Somerst', 'NWAmes', 'Crawfor', 'Crawfor', 'CollgCr', 'CollgCr', 'CollgCr', 'OldTown', 'CollgCr', 'SawyerW', 'IDOTRR', 'Edwards', 'NridgHt', 'Gilbert', 'NAmes', 'OldTown', 'Timber', 'OldTown', 'Gilbert', 'NWAmes', 'Somerst', 'NoRidge', 'NWAmes', 'NridgHt', 'NridgHt', 'SawyerW', 'OldTown', 'NAmes', 'IDOTRR', 'Veenker', 'NAmes', 'BrkSide', 'IDOTRR', 'NAmes', 'NAmes', 'NridgHt', 'NridgHt', 'Gilbert', 'Timber', 'StoneBr', 'CollgCr', 'NWAmes', 'NAmes', 'Timber', 'SawyerW', 'NAmes', 'NridgHt', 'MeadowV', 'BrkSide', 'NAmes', 'NAmes', 'NridgHt', 'NridgHt', 'NridgHt', 'ClearCr', 'Edwards', 'OldTown', 'SWISU', 'CollgCr', 'Gilbert', 'MeadowV', 'ClearCr', 'NoRidge', 'Mitchel', 'BrkSide', 'Edwards', 'BrDale', 'NWAmes', 'IDOTRR', 'NAmes', 'NAmes', 'NAmes', 'NAmes', 'Gilbert', 'ClearCr', 'SawyerW', 'NAmes', 'CollgCr', 'Edwards', 'CollgCr', 'Somerst', 'StoneBr', 'Gilbert', 'SWISU', 'Somerst', 'CollgCr', 'SawyerW', 'ClearCr', 'Blmngtn', 'Edwards', 'Edwards', 'CollgCr', 'NridgHt', 'Edwards', 'Mitchel', 'NAmes', 'BrkSide', 'OldTown', 'Edwards', 'CollgCr', 'NAmes', 'IDOTRR', 'Somerst', 'Veenker', 'CollgCr', 'Sawyer', 'NoRidge', 'Gilbert', 'Sawyer', 'SWISU', 'Crawfor', 'NridgHt', 'Somerst', 'Edwards', 'Gilbert', 'Somerst', 'OldTown', 'SawyerW', 'Gilbert', 'Sawyer', 'Crawfor', 'Edwards', 'NAmes', 'Mitchel', 'NWAmes', 'Mitchel', 'NoRidge', 'NAmes', 'OldTown', 'SawyerW', 'NAmes', 'CollgCr', 'Timber', 'BrDale', 'OldTown', 'BrDale', 'Gilbert', 'MeadowV', 'CollgCr', 'OldTown', 'BrkSide', 'Crawfor', 'Edwards', 'NridgHt', 'Edwards', 'BrkSide', 'Blmngtn', 'CollgCr', 'Edwards', 'NAmes', 'Gilbert', 'IDOTRR', 'OldTown', 'OldTown', 'ClearCr', 'Timber', 'Somerst', 'Mitchel', 'NWAmes', 'OldTown', 'ClearCr', 'OldTown', 'BrkSide', 'Somerst', 'SWISU', 'Sawyer', 'Crawfor', 'CollgCr', 'Blmngtn', 'NAmes', 'NAmes', 'NridgHt', 'SawyerW', 'StoneBr', 'NWAmes', 'Edwards', 'NridgHt', 'StoneBr', 'Sawyer', 'CollgCr', 'NridgHt', 'CollgCr', 'OldTown', 'NridgHt', 'NridgHt', 'OldTown', 'Mitchel', 'Sawyer', 'NAmes', 'NAmes', 'NWAmes', 'OldTown', 'MeadowV', 'MeadowV', 'NAmes', 'Gilbert', 'NAmes', 'OldTown', 'IDOTRR', 'NoRidge', 'BrkSide', 'Sawyer', 'NAmes', 'BrDale', 'Somerst', 'Edwards', 'Crawfor', 'NPkVill', 'OldTown', 'SawyerW', 'Somerst', 'OldTown', 'NAmes', 'NAmes', 'NridgHt', 'NAmes', 'Mitchel', 'Crawfor', 'NridgHt', 'NWAmes', 'NoRidge', 'CollgCr', 'Crawfor', 'OldTown', 'NAmes', 'BrkSide', 'Edwards', 'NoRidge', 'Somerst', 'NAmes', 'NridgHt', 'Edwards', 'Crawfor', 'Timber', 'BrkSide', 'NAmes', 'BrkSide', 'Gilbert', 'Edwards', 'CollgCr', 'NAmes', 'Sawyer', 'CollgCr', 'Timber', 'NoRidge', 'NWAmes', 'NAmes', 'Gilbert', 'NWAmes', 'BrkSide', 'Mitchel', 'OldTown', 'Somerst', 'NPkVill', 'OldTown', 'NridgHt', 'Edwards', 'NridgHt', 'BrkSide', 'NAmes', 'IDOTRR', 'Gilbert', 'Blmngtn', 'Sawyer', 'Mitchel', 'Edwards', 'Edwards', 'NoRidge', 'SWISU', 'StoneBr', 'NridgHt', 'SawyerW', 'NAmes', 'NAmes', 'NAmes', 'Timber', 'Gilbert', 'NAmes', 'NAmes', 'SWISU', 'Sawyer', 'Somerst', 'OldTown', 'NAmes', 'NridgHt', 'Edwards', 'OldTown', 'BrkSide', 'Timber', 'BrkSide', 'Sawyer', 'ClearCr', 'BrkSide', 'CollgCr', 'NridgHt', 'Mitchel', 'CollgCr', 'CollgCr', 'StoneBr', 'OldTown', 'Blmngtn', 'Crawfor', 'Blueste', 'NridgHt', 'IDOTRR', 'SawyerW', 'Somerst', 'CollgCr', 'NAmes', 'CollgCr', 'Edwards', 'Crawfor', 'Sawyer', 'CollgCr', 'NWAmes', 'CollgCr', 'Mitchel', 'MeadowV', 'NAmes', 'Gilbert', 'NAmes', 'NridgHt', 'Timber', 'Edwards', 'NWAmes', 'Sawyer', 'Somerst', 'NWAmes', 'NAmes', 'NAmes', 'NAmes', 'NAmes', 'NAmes', 'OldTown', 'NridgHt', 'NWAmes', 'NAmes', 'OldTown', 'SWISU', 'BrkSide', 'OldTown', 'Edwards', 'Blmngtn', 'NridgHt', 'Somerst', 'NAmes', 'NWAmes', 'Somerst', 'NAmes', 'NAmes', 'Edwards', 'NAmes', 'MeadowV', 'Somerst', 'Edwards', 'CollgCr', 'IDOTRR', 'NoRidge', 'BrDale', 'NAmes', 'Crawfor', 'NAmes', 'Edwards', 'NWAmes', 'NoRidge', 'NAmes', 'Edwards', 'Somerst', 'Gilbert', 'NAmes', 'SawyerW', 'Sawyer', 'Crawfor', 'CollgCr', 'Edwards', 'Veenker', 'Crawfor', 'NAmes', 'NPkVill', 'OldTown', 'OldTown', 'StoneBr', 'Sawyer', 'SawyerW', 'SWISU', 'ClearCr', 'CollgCr', 'NoRidge', 'StoneBr', 'Somerst', 'Somerst', 'StoneBr', 'NridgHt', 'CollgCr', 'NoRidge', 'Timber', 'OldTown', 'BrkSide', 'Timber', 'BrkSide', 'Edwards', 'Sawyer', 'Somerst', 'Timber', 'NWAmes', 'StoneBr', 'OldTown', 'CollgCr', 'IDOTRR', 'ClearCr', 'NridgHt', 'Gilbert', 'Sawyer', 'BrkSide', 'IDOTRR', 'StoneBr', 'BrkSide', 'Sawyer', 'NWAmes', 'OldTown', 'NWAmes', 'NoRidge', 'CollgCr', 'StoneBr', 'CollgCr', 'NAmes', 'Edwards', 'Edwards', 'NAmes', 'Crawfor', 'CollgCr', 'NAmes', 'IDOTRR', 'StoneBr', 'Timber', 'CollgCr', 'Sawyer', 'Sawyer', 'OldTown', 'NAmes', 'Gilbert', 'Edwards', 'CollgCr', 'OldTown', 'Sawyer', 'SawyerW', 'Sawyer', 'StoneBr', 'NWAmes', 'Gilbert', 'OldTown', 'NoRidge', 'Edwards', 'OldTown', 'Gilbert', 'CollgCr', 'NridgHt', 'NAmes', 'Somerst', 'CollgCr', 'Sawyer', 'Somerst', 'NoRidge', 'NAmes', 'BrkSide', 'Somerst', 'NoRidge', 'Veenker', 'Somerst', 'NWAmes', 'Mitchel', 'CollgCr', 'StoneBr', 'Sawyer', 'Edwards', 'Edwards', 'NAmes', 'NridgHt', 'Mitchel', 'CollgCr', 'Sawyer', 'SawyerW', 'Mitchel', 'Gilbert', 'SawyerW', 'CollgCr', 'Mitchel', 'OldTown', 'NWAmes', 'OldTown', 'SawyerW', 'OldTown', 'ClearCr', 'Blmngtn', 'Mitchel', 'NoRidge', 'Somerst', 'Gilbert', 'SawyerW', 'Sawyer', 'NAmes', 'NridgHt', 'SWISU', 'ClearCr', 'IDOTRR', 'CollgCr', 'NridgHt', 'NAmes', 'Somerst', 'NAmes', 'BrkSide', 'NAmes', 'OldTown', 'NWAmes', 'CollgCr', 'IDOTRR', 'NAmes', 'Edwards', 'CollgCr', 'NAmes', 'Mitchel', 'ClearCr', 'NridgHt', 'CollgCr', 'OldTown', 'Gilbert', 'SWISU', 'Somerst', 'NridgHt', 'BrkSide', 'SawyerW', 'ClearCr', 'Somerst', 'NAmes', 'Somerst', 'CollgCr', 'NAmes', 'NAmes', 'Sawyer', 'OldTown', 'BrDale', 'CollgCr', 'Edwards', 'SWISU', 'OldTown', 'NAmes', 'NAmes', 'OldTown', 'Sawyer', 'SawyerW', 'CollgCr', 'ClearCr', 'Veenker', 'CollgCr', 'Blmngtn', 'Crawfor', 'NAmes', 'Sawyer', 'Sawyer', 'CollgCr', 'Gilbert', 'NWAmes', 'NWAmes', 'Crawfor', 'Sawyer', 'SawyerW', 'NAmes', 'Somerst', 'NAmes', 'Timber', 'Sawyer', 'Gilbert', 'SawyerW', 'NAmes', 'CollgCr', 'NAmes', 'NAmes', 'OldTown', 'Somerst', 'Mitchel', 'NridgHt', 'Sawyer', 'CollgCr', 'Edwards', 'Timber', 'Gilbert', 'SWISU', 'NAmes', 'Somerst', 'NAmes', 'Edwards', 'NAmes', 'NAmes', 'NAmes', 'Sawyer', 'Sawyer', 'Sawyer', 'SawyerW', 'NAmes', 'IDOTRR', 'SawyerW', 'NridgHt', 'Sawyer', 'NAmes', 'NAmes', 'Gilbert', 'Gilbert', 'Sawyer', 'NAmes', 'Somerst', 'Crawfor', 'Mitchel', 'Gilbert', 'NAmes', 'CollgCr', 'BrkSide', 'Crawfor', 'Somerst', 'MeadowV', 'IDOTRR', 'Edwards', 'SawyerW', 'NAmes', 'SawyerW', 'Edwards', 'Gilbert', 'SawyerW', 'NWAmes', 'NWAmes', 'NridgHt', 'NWAmes', 'CollgCr', 'Gilbert', 'Timber', 'NAmes', 'Somerst', 'CollgCr', 'NAmes', 'BrkSide', 'SawyerW', 'Somerst', 'CollgCr', 'ClearCr', 'Mitchel', 'Gilbert', 'Edwards', 'Mitchel', 'Timber', 'OldTown', 'NAmes', 'Timber', 'CollgCr', 'NWAmes', 'NAmes', 'SawyerW', 'CollgCr', 'Mitchel', 'Edwards', 'Crawfor', 'Blueste', 'Sawyer', 'CollgCr', 'Somerst', 'BrkSide', 'NWAmes', 'NPkVill', 'CollgCr', 'Timber', 'Gilbert', 'Crawfor', 'NAmes', 'OldTown', 'NAmes', 'NAmes', 'NridgHt', 'SawyerW', 'Somerst', 'BrkSide', 'Somerst', 'BrkSide', 'Somerst', 'Edwards', 'Sawyer', 'NAmes', 'NoRidge', 'Blmngtn', 'CollgCr', 'Mitchel', 'Edwards', 'OldTown', 'NridgHt', 'NWAmes', 'Somerst', 'NoRidge', 'OldTown', 'NAmes', 'CollgCr', 'NridgHt', 'BrkSide', 'NAmes', 'NWAmes', 'IDOTRR', 'CollgCr', 'Edwards', 'OldTown', 'Somerst', 'NWAmes', 'Blmngtn', 'CollgCr', 'NAmes', 'MeadowV', 'Mitchel', 'SWISU', 'Sawyer', 'Edwards', 'Crawfor', 'OldTown', 'NAmes', 'NWAmes', 'CollgCr', 'StoneBr', 'Gilbert', 'Blmngtn', 'Edwards', 'CollgCr', 'OldTown', 'Blmngtn', 'Timber', 'CollgCr', 'NAmes', 'Timber', 'NAmes', 'BrDale', 'SWISU', 'SWISU', 'NoRidge', 'CollgCr', 'Crawfor', 'Edwards', 'Timber', 'CollgCr', 'MeadowV', 'MeadowV', 'Sawyer', 'NWAmes', 'NridgHt', 'SawyerW', 'NWAmes', 'Edwards', 'StoneBr', 'CollgCr', 'Mitchel', 'Edwards', 'Gilbert', 'CollgCr', 'NAmes', 'Edwards', 'CollgCr', 'NWAmes', 'NridgHt', 'NoRidge', 'NridgHt', 'Crawfor', 'StoneBr', 'IDOTRR', 'OldTown', 'OldTown', 'NAmes', 'ClearCr', 'Gilbert', 'NAmes', 'MeadowV', 'NAmes', 'NAmes', 'NWAmes', 'Edwards', 'Edwards', 'CollgCr', 'Crawfor', 'OldTown', 'NAmes', 'CollgCr', 'CollgCr', 'NWAmes', 'Sawyer', 'CollgCr', 'NAmes', 'Gilbert', 'SawyerW', 'MeadowV', 'Somerst', 'Edwards', 'Somerst', 'NAmes', 'Somerst', 'SWISU', 'NAmes', 'NAmes', 'CollgCr', 'IDOTRR', 'StoneBr', 'BrkSide', 'NWAmes', 'SWISU', 'NAmes', 'NAmes', 'NAmes', 'BrDale', 'NoRidge', 'SawyerW', 'Gilbert', 'Gilbert', 'NridgHt', 'Gilbert', 'NWAmes', 'NAmes', 'NAmes', 'OldTown', 'NridgHt', 'Gilbert', 'Sawyer', 'Sawyer', 'NAmes', 'IDOTRR', 'CollgCr', 'Edwards', 'Edwards', 'Gilbert', 'NAmes', 'Blmngtn', 'Gilbert', 'Gilbert', 'OldTown', 'SWISU', 'Mitchel', 'OldTown', 'SawyerW', 'Gilbert', 'BrkSide', 'NAmes', 'Sawyer', 'Mitchel', 'BrkSide', 'NAmes', 'NWAmes', 'CollgCr', 'Sawyer', 'Edwards', 'BrkSide', 'SawyerW', 'Crawfor', 'OldTown', 'OldTown', 'NAmes', 'Edwards', 'Crawfor', 'IDOTRR', 'NAmes', 'Veenker', 'NAmes', 'NridgHt', 'Somerst', 'NWAmes', 'NPkVill', 'Crawfor', 'Sawyer', 'Sawyer', 'Veenker', 'NridgHt', 'CollgCr', 'Gilbert', 'Edwards', 'NoRidge', 'Mitchel', 'NAmes', 'Somerst', 'ClearCr', 'Crawfor', 'NoRidge', 'Mitchel', 'OldTown', 'Crawfor', 'Edwards', 'Timber', 'Crawfor', 'NoRidge', 'OldTown', 'Timber', 'Edwards', 'OldTown', 'NoRidge', 'CollgCr', 'Gilbert', 'Mitchel', 'Somerst', 'OldTown', 'Mitchel', 'Sawyer', 'Gilbert', 'Gilbert', 'OldTown', 'CollgCr', 'Sawyer', 'NAmes', 'CollgCr', 'BrkSide', 'CollgCr', 'NWAmes', 'SawyerW', 'SawyerW', 'CollgCr', 'NAmes', 'Somerst', 'SawyerW', 'Gilbert', 'Edwards', 'Sawyer', 'NAmes', 'Sawyer', 'Sawyer', 'Somerst', 'BrkSide', 'BrDale', 'NAmes', 'Sawyer', 'NAmes', 'NAmes', 'Gilbert', 'NAmes', 'Somerst', 'NAmes', 'NridgHt', 'NAmes', 'Sawyer', 'NAmes', 'NAmes', 'NAmes', 'SWISU', 'Crawfor', 'NridgHt', 'CollgCr', 'SawyerW', 'Timber', 'CollgCr', 'Somerst', 'NWAmes', 'NridgHt', 'Crawfor', 'NWAmes', 'Somerst', 'Mitchel', 'OldTown', 'NAmes', 'NAmes', 'NridgHt', 'Mitchel', 'Veenker', 'Edwards', 'BrkSide', 'NoRidge', 'Edwards', 'Gilbert', 'NAmes', 'Gilbert', 'NAmes', 'ClearCr', 'BrkSide', 'NAmes', 'Somerst', 'OldTown', 'Timber', 'Crawfor', 'NAmes', 'ClearCr', 'NWAmes', 'Sawyer', 'Edwards', 'Crawfor', 'NAmes', 'NWAmes', 'NWAmes', 'CollgCr', 'IDOTRR', 'CollgCr', 'Timber', 'CollgCr', 'Mitchel', 'SWISU', 'BrkSide', 'NWAmes', 'ClearCr', 'StoneBr', 'NridgHt', 'NAmes', 'BrDale', 'OldTown', 'NWAmes', 'Edwards', 'NAmes', 'NAmes', 'Edwards', 'Edwards', 'NAmes', 'Gilbert', 'Crawfor', 'NoRidge', 'Somerst', 'Edwards', 'NridgHt', 'NridgHt', 'CollgCr', 'OldTown', 'SawyerW', 'Crawfor', 'CollgCr', 'NoRidge', 'NoRidge', 'Edwards', 'NAmes', 'CollgCr', 'Somerst', 'CollgCr', 'Edwards', 'NAmes', 'BrkSide', 'NoRidge', 'BrkSide', 'Somerst', 'IDOTRR', 'Edwards', 'Mitchel', 'OldTown', 'Gilbert', 'Somerst', 'CollgCr', 'Edwards', 'IDOTRR', 'BrDale', 'NWAmes', 'NWAmes', 'OldTown', 'CollgCr', 'CollgCr', 'NAmes', 'SawyerW', 'CollgCr', 'Crawfor', 'CollgCr', 'OldTown', 'NWAmes', 'Timber', 'SawyerW', 'OldTown', 'NAmes', 'NAmes', 'BrkSide', 'NoRidge', 'CollgCr', 'NWAmes', 'NAmes', 'NAmes', 'Somerst', 'NridgHt', 'SWISU', 'StoneBr', 'NAmes', 'Gilbert', 'Somerst', 'Somerst', 'CollgCr', 'MeadowV', 'CollgCr', 'CollgCr', 'OldTown', 'NAmes', 'CollgCr', 'NoRidge', 'Somerst', 'Timber', 'SWISU', 'Edwards', 'BrDale', 'Timber', 'Edwards', 'NAmes', 'OldTown', 'Sawyer', 'Edwards', 'IDOTRR', 'NWAmes', 'OldTown', 'Gilbert', 'BrkSide', 'CollgCr', 'NAmes', 'NAmes', 'OldTown', 'Blmngtn', 'Timber', 'Timber', 'BrkSide', 'NAmes', 'SWISU', 'BrkSide', 'Gilbert', 'CollgCr', 'Somerst', 'OldTown', 'Crawfor', 'CollgCr', 'Mitchel', 'OldTown', 'NWAmes', 'CollgCr', 'NAmes', 'NAmes', 'SawyerW', 'BrkSide', 'Blmngtn', 'OldTown', 'NoRidge', 'NAmes', 'Crawfor', 'NWAmes', 'NPkVill', 'CollgCr', 'Edwards', 'NAmes', 'NAmes', 'NoRidge', 'NAmes', 'OldTown', 'NWAmes', 'Gilbert', 'NPkVill', 'OldTown', 'Gilbert', 'Mitchel', 'NAmes', 'NAmes', 'NridgHt', 'OldTown', 'NWAmes', 'Crawfor', 'CollgCr', 'Somerst', 'BrkSide', 'CollgCr', 'Sawyer', 'Mitchel', 'CollgCr', 'Edwards', 'MeadowV', 'NAmes', 'Somerst', 'Edwards', 'Mitchel', 'Somerst', 'Gilbert', 'NWAmes', 'Crawfor', 'NAmes', 'Edwards']\n"
     ]
    }
   ],
   "source": [
    "# Transforming Neighborhood column to a list\n",
    "\n",
    "neigh_to_list = housing_features_transformed_df[\"Neighborhood\"].to_list()\n",
    "\n",
    "print (neigh_to_list)"
   ]
  },
  {
   "cell_type": "code",
   "execution_count": 158,
   "id": "89813b25",
   "metadata": {},
   "outputs": [
    {
     "name": "stdout",
     "output_type": "stream",
     "text": [
      "[['CollgCr'], ['Veenker'], ['CollgCr'], ['Crawfor'], ['NoRidge']]\n"
     ]
    }
   ],
   "source": [
    "# We can now transform the data to one hot vectors using scikit-learn \n",
    "# But scikit learn can work with multiple features at once, so it expects list of lists\n",
    "# We need to convert the 1-dimensional list into a list of lists(2D)\n",
    "\n",
    "\n",
    "neigh_to_list_of_lists = []\n",
    "\n",
    "for h in neigh_to_list:\n",
    "    neigh_to_list_of_lists.append([h])\n",
    "\n",
    "# Sanity check: print the first 5 elements\n",
    "print (neigh_to_list_of_lists[:5])\n"
   ]
  },
  {
   "cell_type": "code",
   "execution_count": 159,
   "id": "2c013476",
   "metadata": {},
   "outputs": [
    {
     "name": "stdout",
     "output_type": "stream",
     "text": [
      "Unique vocabulary items 25\n",
      "\n",
      "[[0. 0. 0. ... 0. 0. 0.]\n",
      " [0. 0. 0. ... 0. 0. 1.]\n",
      " [0. 0. 0. ... 0. 0. 0.]\n",
      " ...\n",
      " [0. 0. 0. ... 0. 0. 0.]\n",
      " [0. 0. 0. ... 0. 0. 0.]\n",
      " [0. 0. 0. ... 0. 0. 0.]]\n"
     ]
    }
   ],
   "source": [
    "# We import the OneHotEncoder class from scikit-learn preprocessing\n",
    "# from sklearn.preprocessing import OneHotEncoder\n",
    "\n",
    "# now let's define an object\n",
    "neigh_encoder = OneHotEncoder()\n",
    "\n",
    "# Fit our data (i.e., extract and order vocabulary)\n",
    "neigh_encoder.fit(neigh_to_list_of_lists)\n",
    "\n",
    "print(f\"Unique vocabulary items {len(neigh_encoder.categories_[0])}\\n\")\n",
    "\n",
    "# Now transform each example in our data into 1-hot form\n",
    "neigh_transformed = neigh_encoder.transform(neigh_to_list_of_lists)\n",
    "\n",
    "# Transform the result object into a matrix\n",
    "neigh_transformed = neigh_transformed.toarray()\n",
    "\n",
    "# Print the transformed data\n",
    "print (neigh_transformed)"
   ]
  },
  {
   "cell_type": "code",
   "execution_count": 160,
   "id": "eef5face",
   "metadata": {},
   "outputs": [
    {
     "name": "stdout",
     "output_type": "stream",
     "text": [
      "(1460, 25)\n",
      "(1460, 15)\n"
     ]
    }
   ],
   "source": [
    "# create a dataframe back from the array\n",
    "\n",
    "neigh_transformed_df = pd.DataFrame(neigh_transformed)\n",
    "neigh_transformed_df.head()\n",
    "print(neigh_transformed_df.shape)\n",
    "print(housing_features_transformed_df.shape)"
   ]
  },
  {
   "cell_type": "code",
   "execution_count": 161,
   "id": "731f0d44",
   "metadata": {},
   "outputs": [
    {
     "data": {
      "text/plain": [
       "(1460, 40)"
      ]
     },
     "execution_count": 161,
     "metadata": {},
     "output_type": "execute_result"
    }
   ],
   "source": [
    "# Now concatenate this feature back to the original dataframe \n",
    "housing_features_transformed_df.reset_index(drop=True, inplace=True)\n",
    "neigh_transformed_df.reset_index(drop=True, inplace=True)\n",
    "\n",
    "housing_features_transformed_df = pd.concat([housing_features_transformed_df,neigh_transformed_df], axis=1)\n",
    "housing_features_transformed_df.shape"
   ]
  },
  {
   "cell_type": "code",
   "execution_count": 162,
   "id": "756ef30d",
   "metadata": {},
   "outputs": [],
   "source": [
    "# We don't need Neighborhood now since we have already transformed it\n",
    "housing_features_transformed_df = housing_features_transformed_df.drop(columns=[\"Neighborhood\"], axis=1)\n",
    "# housing_features_transformed_df.head()"
   ]
  },
  {
   "cell_type": "markdown",
   "id": "19806523",
   "metadata": {},
   "source": [
    "### How many rows and columns are there in the dataset now? \n",
    "* 1460 rows\n",
    "* 39 columns "
   ]
  },
  {
   "cell_type": "code",
   "execution_count": 163,
   "id": "b69b0e43",
   "metadata": {
    "scrolled": true
   },
   "outputs": [
    {
     "name": "stdout",
     "output_type": "stream",
     "text": [
      "      OverallQual  OverallCond  YearRemodAdd  GrLivArea  MoSold    0    1  \\\n",
      "0               7            5          2003       1710       2  0.0  0.0   \n",
      "1               6            8          1976       1262       5  0.0  0.0   \n",
      "2               7            5          2002       1786       9  1.0  0.0   \n",
      "3               7            5          1970       1717       2  1.0  0.0   \n",
      "4               8            5          2000       2198      12  1.0  0.0   \n",
      "...           ...          ...           ...        ...     ...  ...  ...   \n",
      "1455            6            5          2000       1647       8  0.0  0.0   \n",
      "1456            6            6          1988       2073       2  0.0  0.0   \n",
      "1457            7            9          2006       2340       5  0.0  0.0   \n",
      "1458            5            6          1996       1078       4  0.0  0.0   \n",
      "1459            5            6          1965       1256       6  0.0  0.0   \n",
      "\n",
      "        2    3    0  ...   15   16   17   18   19   20   21   22   23   24  \n",
      "0     0.0  1.0  0.0  ...  0.0  0.0  0.0  0.0  0.0  0.0  0.0  0.0  0.0  0.0  \n",
      "1     0.0  1.0  0.0  ...  0.0  0.0  0.0  0.0  0.0  0.0  0.0  0.0  0.0  1.0  \n",
      "2     0.0  0.0  0.0  ...  0.0  0.0  0.0  0.0  0.0  0.0  0.0  0.0  0.0  0.0  \n",
      "3     0.0  0.0  1.0  ...  0.0  0.0  0.0  0.0  0.0  0.0  0.0  0.0  0.0  0.0  \n",
      "4     0.0  0.0  0.0  ...  1.0  0.0  0.0  0.0  0.0  0.0  0.0  0.0  0.0  0.0  \n",
      "...   ...  ...  ...  ...  ...  ...  ...  ...  ...  ...  ...  ...  ...  ...  \n",
      "1455  0.0  1.0  0.0  ...  0.0  0.0  0.0  0.0  0.0  0.0  0.0  0.0  0.0  0.0  \n",
      "1456  0.0  1.0  0.0  ...  0.0  0.0  0.0  0.0  0.0  0.0  0.0  0.0  0.0  0.0  \n",
      "1457  0.0  1.0  0.0  ...  0.0  0.0  0.0  0.0  0.0  0.0  0.0  0.0  0.0  0.0  \n",
      "1458  0.0  1.0  0.0  ...  0.0  0.0  0.0  0.0  0.0  0.0  0.0  0.0  0.0  0.0  \n",
      "1459  0.0  1.0  0.0  ...  0.0  0.0  0.0  0.0  0.0  0.0  0.0  0.0  0.0  0.0  \n",
      "\n",
      "[1460 rows x 39 columns]\n"
     ]
    }
   ],
   "source": [
    "# Checking to see how many rows and columns there are in the dataset\n",
    "print(housing_features_transformed_df)"
   ]
  },
  {
   "cell_type": "code",
   "execution_count": 164,
   "id": "fb02e5bd",
   "metadata": {
    "scrolled": false
   },
   "outputs": [
    {
     "data": {
      "text/html": [
       "<div>\n",
       "<style scoped>\n",
       "    .dataframe tbody tr th:only-of-type {\n",
       "        vertical-align: middle;\n",
       "    }\n",
       "\n",
       "    .dataframe tbody tr th {\n",
       "        vertical-align: top;\n",
       "    }\n",
       "\n",
       "    .dataframe thead th {\n",
       "        text-align: right;\n",
       "    }\n",
       "</style>\n",
       "<table border=\"1\" class=\"dataframe\">\n",
       "  <thead>\n",
       "    <tr style=\"text-align: right;\">\n",
       "      <th></th>\n",
       "      <th>OverallQual</th>\n",
       "      <th>OverallCond</th>\n",
       "      <th>YearRemodAdd</th>\n",
       "      <th>GrLivArea</th>\n",
       "      <th>MoSold</th>\n",
       "      <th>0</th>\n",
       "      <th>1</th>\n",
       "      <th>2</th>\n",
       "      <th>3</th>\n",
       "      <th>0</th>\n",
       "      <th>...</th>\n",
       "      <th>15</th>\n",
       "      <th>16</th>\n",
       "      <th>17</th>\n",
       "      <th>18</th>\n",
       "      <th>19</th>\n",
       "      <th>20</th>\n",
       "      <th>21</th>\n",
       "      <th>22</th>\n",
       "      <th>23</th>\n",
       "      <th>24</th>\n",
       "    </tr>\n",
       "  </thead>\n",
       "  <tbody>\n",
       "    <tr>\n",
       "      <th>0</th>\n",
       "      <td>7</td>\n",
       "      <td>5</td>\n",
       "      <td>2003</td>\n",
       "      <td>1710</td>\n",
       "      <td>2</td>\n",
       "      <td>0.0</td>\n",
       "      <td>0.0</td>\n",
       "      <td>0.0</td>\n",
       "      <td>1.0</td>\n",
       "      <td>0.0</td>\n",
       "      <td>...</td>\n",
       "      <td>0.0</td>\n",
       "      <td>0.0</td>\n",
       "      <td>0.0</td>\n",
       "      <td>0.0</td>\n",
       "      <td>0.0</td>\n",
       "      <td>0.0</td>\n",
       "      <td>0.0</td>\n",
       "      <td>0.0</td>\n",
       "      <td>0.0</td>\n",
       "      <td>0.0</td>\n",
       "    </tr>\n",
       "    <tr>\n",
       "      <th>1</th>\n",
       "      <td>6</td>\n",
       "      <td>8</td>\n",
       "      <td>1976</td>\n",
       "      <td>1262</td>\n",
       "      <td>5</td>\n",
       "      <td>0.0</td>\n",
       "      <td>0.0</td>\n",
       "      <td>0.0</td>\n",
       "      <td>1.0</td>\n",
       "      <td>0.0</td>\n",
       "      <td>...</td>\n",
       "      <td>0.0</td>\n",
       "      <td>0.0</td>\n",
       "      <td>0.0</td>\n",
       "      <td>0.0</td>\n",
       "      <td>0.0</td>\n",
       "      <td>0.0</td>\n",
       "      <td>0.0</td>\n",
       "      <td>0.0</td>\n",
       "      <td>0.0</td>\n",
       "      <td>1.0</td>\n",
       "    </tr>\n",
       "    <tr>\n",
       "      <th>2</th>\n",
       "      <td>7</td>\n",
       "      <td>5</td>\n",
       "      <td>2002</td>\n",
       "      <td>1786</td>\n",
       "      <td>9</td>\n",
       "      <td>1.0</td>\n",
       "      <td>0.0</td>\n",
       "      <td>0.0</td>\n",
       "      <td>0.0</td>\n",
       "      <td>0.0</td>\n",
       "      <td>...</td>\n",
       "      <td>0.0</td>\n",
       "      <td>0.0</td>\n",
       "      <td>0.0</td>\n",
       "      <td>0.0</td>\n",
       "      <td>0.0</td>\n",
       "      <td>0.0</td>\n",
       "      <td>0.0</td>\n",
       "      <td>0.0</td>\n",
       "      <td>0.0</td>\n",
       "      <td>0.0</td>\n",
       "    </tr>\n",
       "    <tr>\n",
       "      <th>3</th>\n",
       "      <td>7</td>\n",
       "      <td>5</td>\n",
       "      <td>1970</td>\n",
       "      <td>1717</td>\n",
       "      <td>2</td>\n",
       "      <td>1.0</td>\n",
       "      <td>0.0</td>\n",
       "      <td>0.0</td>\n",
       "      <td>0.0</td>\n",
       "      <td>1.0</td>\n",
       "      <td>...</td>\n",
       "      <td>0.0</td>\n",
       "      <td>0.0</td>\n",
       "      <td>0.0</td>\n",
       "      <td>0.0</td>\n",
       "      <td>0.0</td>\n",
       "      <td>0.0</td>\n",
       "      <td>0.0</td>\n",
       "      <td>0.0</td>\n",
       "      <td>0.0</td>\n",
       "      <td>0.0</td>\n",
       "    </tr>\n",
       "    <tr>\n",
       "      <th>4</th>\n",
       "      <td>8</td>\n",
       "      <td>5</td>\n",
       "      <td>2000</td>\n",
       "      <td>2198</td>\n",
       "      <td>12</td>\n",
       "      <td>1.0</td>\n",
       "      <td>0.0</td>\n",
       "      <td>0.0</td>\n",
       "      <td>0.0</td>\n",
       "      <td>0.0</td>\n",
       "      <td>...</td>\n",
       "      <td>1.0</td>\n",
       "      <td>0.0</td>\n",
       "      <td>0.0</td>\n",
       "      <td>0.0</td>\n",
       "      <td>0.0</td>\n",
       "      <td>0.0</td>\n",
       "      <td>0.0</td>\n",
       "      <td>0.0</td>\n",
       "      <td>0.0</td>\n",
       "      <td>0.0</td>\n",
       "    </tr>\n",
       "  </tbody>\n",
       "</table>\n",
       "<p>5 rows × 39 columns</p>\n",
       "</div>"
      ],
      "text/plain": [
       "   OverallQual  OverallCond  YearRemodAdd  GrLivArea  MoSold    0    1    2  \\\n",
       "0            7            5          2003       1710       2  0.0  0.0  0.0   \n",
       "1            6            8          1976       1262       5  0.0  0.0  0.0   \n",
       "2            7            5          2002       1786       9  1.0  0.0  0.0   \n",
       "3            7            5          1970       1717       2  1.0  0.0  0.0   \n",
       "4            8            5          2000       2198      12  1.0  0.0  0.0   \n",
       "\n",
       "     3    0  ...   15   16   17   18   19   20   21   22   23   24  \n",
       "0  1.0  0.0  ...  0.0  0.0  0.0  0.0  0.0  0.0  0.0  0.0  0.0  0.0  \n",
       "1  1.0  0.0  ...  0.0  0.0  0.0  0.0  0.0  0.0  0.0  0.0  0.0  1.0  \n",
       "2  0.0  0.0  ...  0.0  0.0  0.0  0.0  0.0  0.0  0.0  0.0  0.0  0.0  \n",
       "3  0.0  1.0  ...  0.0  0.0  0.0  0.0  0.0  0.0  0.0  0.0  0.0  0.0  \n",
       "4  0.0  0.0  ...  1.0  0.0  0.0  0.0  0.0  0.0  0.0  0.0  0.0  0.0  \n",
       "\n",
       "[5 rows x 39 columns]"
      ]
     },
     "execution_count": 164,
     "metadata": {},
     "output_type": "execute_result"
    }
   ],
   "source": [
    "# Print a few columns of the transformed housing_features_df using head() function\n",
    "housing_features_transformed_df.head()"
   ]
  },
  {
   "cell_type": "markdown",
   "id": "5f60c5f1",
   "metadata": {},
   "source": [
    "## (e) Feature Scaling (extra credit) "
   ]
  },
  {
   "cell_type": "code",
   "execution_count": 165,
   "id": "6a51ea6c",
   "metadata": {
    "scrolled": false
   },
   "outputs": [
    {
     "data": {
      "text/html": [
       "<div>\n",
       "<style scoped>\n",
       "    .dataframe tbody tr th:only-of-type {\n",
       "        vertical-align: middle;\n",
       "    }\n",
       "\n",
       "    .dataframe tbody tr th {\n",
       "        vertical-align: top;\n",
       "    }\n",
       "\n",
       "    .dataframe thead th {\n",
       "        text-align: right;\n",
       "    }\n",
       "</style>\n",
       "<table border=\"1\" class=\"dataframe\">\n",
       "  <thead>\n",
       "    <tr style=\"text-align: right;\">\n",
       "      <th></th>\n",
       "      <th>OverallQual</th>\n",
       "      <th>OverallCond</th>\n",
       "      <th>YearRemodAdd</th>\n",
       "      <th>GrLivArea</th>\n",
       "      <th>MoSold</th>\n",
       "      <th>0</th>\n",
       "      <th>1</th>\n",
       "      <th>2</th>\n",
       "      <th>3</th>\n",
       "      <th>0</th>\n",
       "      <th>...</th>\n",
       "      <th>15</th>\n",
       "      <th>16</th>\n",
       "      <th>17</th>\n",
       "      <th>18</th>\n",
       "      <th>19</th>\n",
       "      <th>20</th>\n",
       "      <th>21</th>\n",
       "      <th>22</th>\n",
       "      <th>23</th>\n",
       "      <th>24</th>\n",
       "    </tr>\n",
       "  </thead>\n",
       "  <tbody>\n",
       "    <tr>\n",
       "      <th>0</th>\n",
       "      <td>0.651479</td>\n",
       "      <td>-0.517200</td>\n",
       "      <td>0.878668</td>\n",
       "      <td>0.370333</td>\n",
       "      <td>-1.599111</td>\n",
       "      <td>0.0</td>\n",
       "      <td>0.0</td>\n",
       "      <td>0.0</td>\n",
       "      <td>1.0</td>\n",
       "      <td>0.0</td>\n",
       "      <td>...</td>\n",
       "      <td>0.0</td>\n",
       "      <td>0.0</td>\n",
       "      <td>0.0</td>\n",
       "      <td>0.0</td>\n",
       "      <td>0.0</td>\n",
       "      <td>0.0</td>\n",
       "      <td>0.0</td>\n",
       "      <td>0.0</td>\n",
       "      <td>0.0</td>\n",
       "      <td>0.0</td>\n",
       "    </tr>\n",
       "    <tr>\n",
       "      <th>1</th>\n",
       "      <td>-0.071836</td>\n",
       "      <td>2.179628</td>\n",
       "      <td>-0.429577</td>\n",
       "      <td>-0.482512</td>\n",
       "      <td>-0.489110</td>\n",
       "      <td>0.0</td>\n",
       "      <td>0.0</td>\n",
       "      <td>0.0</td>\n",
       "      <td>1.0</td>\n",
       "      <td>0.0</td>\n",
       "      <td>...</td>\n",
       "      <td>0.0</td>\n",
       "      <td>0.0</td>\n",
       "      <td>0.0</td>\n",
       "      <td>0.0</td>\n",
       "      <td>0.0</td>\n",
       "      <td>0.0</td>\n",
       "      <td>0.0</td>\n",
       "      <td>0.0</td>\n",
       "      <td>0.0</td>\n",
       "      <td>1.0</td>\n",
       "    </tr>\n",
       "    <tr>\n",
       "      <th>2</th>\n",
       "      <td>0.651479</td>\n",
       "      <td>-0.517200</td>\n",
       "      <td>0.830215</td>\n",
       "      <td>0.515013</td>\n",
       "      <td>0.990891</td>\n",
       "      <td>1.0</td>\n",
       "      <td>0.0</td>\n",
       "      <td>0.0</td>\n",
       "      <td>0.0</td>\n",
       "      <td>0.0</td>\n",
       "      <td>...</td>\n",
       "      <td>0.0</td>\n",
       "      <td>0.0</td>\n",
       "      <td>0.0</td>\n",
       "      <td>0.0</td>\n",
       "      <td>0.0</td>\n",
       "      <td>0.0</td>\n",
       "      <td>0.0</td>\n",
       "      <td>0.0</td>\n",
       "      <td>0.0</td>\n",
       "      <td>0.0</td>\n",
       "    </tr>\n",
       "    <tr>\n",
       "      <th>3</th>\n",
       "      <td>0.651479</td>\n",
       "      <td>-0.517200</td>\n",
       "      <td>-0.720298</td>\n",
       "      <td>0.383659</td>\n",
       "      <td>-1.599111</td>\n",
       "      <td>1.0</td>\n",
       "      <td>0.0</td>\n",
       "      <td>0.0</td>\n",
       "      <td>0.0</td>\n",
       "      <td>1.0</td>\n",
       "      <td>...</td>\n",
       "      <td>0.0</td>\n",
       "      <td>0.0</td>\n",
       "      <td>0.0</td>\n",
       "      <td>0.0</td>\n",
       "      <td>0.0</td>\n",
       "      <td>0.0</td>\n",
       "      <td>0.0</td>\n",
       "      <td>0.0</td>\n",
       "      <td>0.0</td>\n",
       "      <td>0.0</td>\n",
       "    </tr>\n",
       "    <tr>\n",
       "      <th>4</th>\n",
       "      <td>1.374795</td>\n",
       "      <td>-0.517200</td>\n",
       "      <td>0.733308</td>\n",
       "      <td>1.299326</td>\n",
       "      <td>2.100892</td>\n",
       "      <td>1.0</td>\n",
       "      <td>0.0</td>\n",
       "      <td>0.0</td>\n",
       "      <td>0.0</td>\n",
       "      <td>0.0</td>\n",
       "      <td>...</td>\n",
       "      <td>1.0</td>\n",
       "      <td>0.0</td>\n",
       "      <td>0.0</td>\n",
       "      <td>0.0</td>\n",
       "      <td>0.0</td>\n",
       "      <td>0.0</td>\n",
       "      <td>0.0</td>\n",
       "      <td>0.0</td>\n",
       "      <td>0.0</td>\n",
       "      <td>0.0</td>\n",
       "    </tr>\n",
       "  </tbody>\n",
       "</table>\n",
       "<p>5 rows × 39 columns</p>\n",
       "</div>"
      ],
      "text/plain": [
       "   OverallQual  OverallCond  YearRemodAdd  GrLivArea    MoSold    0    1    2  \\\n",
       "0     0.651479    -0.517200      0.878668   0.370333 -1.599111  0.0  0.0  0.0   \n",
       "1    -0.071836     2.179628     -0.429577  -0.482512 -0.489110  0.0  0.0  0.0   \n",
       "2     0.651479    -0.517200      0.830215   0.515013  0.990891  1.0  0.0  0.0   \n",
       "3     0.651479    -0.517200     -0.720298   0.383659 -1.599111  1.0  0.0  0.0   \n",
       "4     1.374795    -0.517200      0.733308   1.299326  2.100892  1.0  0.0  0.0   \n",
       "\n",
       "     3    0  ...   15   16   17   18   19   20   21   22   23   24  \n",
       "0  1.0  0.0  ...  0.0  0.0  0.0  0.0  0.0  0.0  0.0  0.0  0.0  0.0  \n",
       "1  1.0  0.0  ...  0.0  0.0  0.0  0.0  0.0  0.0  0.0  0.0  0.0  1.0  \n",
       "2  0.0  0.0  ...  0.0  0.0  0.0  0.0  0.0  0.0  0.0  0.0  0.0  0.0  \n",
       "3  0.0  1.0  ...  0.0  0.0  0.0  0.0  0.0  0.0  0.0  0.0  0.0  0.0  \n",
       "4  0.0  0.0  ...  1.0  0.0  0.0  0.0  0.0  0.0  0.0  0.0  0.0  0.0  \n",
       "\n",
       "[5 rows x 39 columns]"
      ]
     },
     "execution_count": 165,
     "metadata": {},
     "output_type": "execute_result"
    }
   ],
   "source": [
    "# We will implement Standard Scaling\n",
    "from sklearn.preprocessing import StandardScaler\n",
    "\n",
    "scaler = StandardScaler()\n",
    "housing_features_transformed_df[\n",
    "    ['OverallQual',\n",
    "    'OverallCond',\n",
    "    'YearRemodAdd', # not too sure whether to include this feature\n",
    "    'GrLivArea',\n",
    "    'MoSold']] = scaler.fit_transform(housing_features_transformed_df[['OverallQual', 'OverallCond','YearRemodAdd','GrLivArea','MoSold']])\n",
    "housing_features_transformed_df.head()\n",
    "\n"
   ]
  },
  {
   "cell_type": "markdown",
   "id": "8d72ddc0",
   "metadata": {},
   "source": [
    "## Questions/Concerns/Insights:\n",
    "* I hope I didn't miss a categorical feature when transforming/do one that wasn't supposed to be tranformed\n",
    "* \"YearRemodAdd\" - unsure about the category because it's numbers so of course it could be a numerical category... right? But the data is years so that's why I'm confused because it could potentially be categorical \n",
    "    * Unsure whether to scale the feature since i don't know if it's numerical\n",
    "    * YearRemodAdd: *Nominal? could be ordinal (is this even a categorical feature)*"
   ]
  }
 ],
 "metadata": {
  "kernelspec": {
   "display_name": "Python 3 (ipykernel)",
   "language": "python",
   "name": "python3"
  },
  "language_info": {
   "codemirror_mode": {
    "name": "ipython",
    "version": 3
   },
   "file_extension": ".py",
   "mimetype": "text/x-python",
   "name": "python",
   "nbconvert_exporter": "python",
   "pygments_lexer": "ipython3",
   "version": "3.9.13"
  }
 },
 "nbformat": 4,
 "nbformat_minor": 5
}
