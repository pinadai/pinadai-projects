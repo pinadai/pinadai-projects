{
 "cells": [
  {
   "cell_type": "markdown",
   "id": "b7f8b67c",
   "metadata": {},
   "source": [
    "# Assignment 6: Evaluation of Models\n",
    "###  Daisy Pinaroc"
   ]
  },
  {
   "cell_type": "markdown",
   "id": "91f821bf",
   "metadata": {},
   "source": [
    "## Step 2) Compute classification metrics with the default threshold "
   ]
  },
  {
   "cell_type": "code",
   "execution_count": 146,
   "id": "7f6609e3",
   "metadata": {},
   "outputs": [],
   "source": [
    "import pandas as pd\n",
    "from googleapiclient import discovery\n",
    "import json\n",
    "import numpy as np\n",
    "import time\n",
    "\n",
    "import warnings\n",
    "warnings.filterwarnings(\"ignore\")"
   ]
  },
  {
   "cell_type": "code",
   "execution_count": 147,
   "id": "24e407fb",
   "metadata": {},
   "outputs": [
    {
     "data": {
      "text/html": [
       "<div>\n",
       "<style scoped>\n",
       "    .dataframe tbody tr th:only-of-type {\n",
       "        vertical-align: middle;\n",
       "    }\n",
       "\n",
       "    .dataframe tbody tr th {\n",
       "        vertical-align: top;\n",
       "    }\n",
       "\n",
       "    .dataframe thead th {\n",
       "        text-align: right;\n",
       "    }\n",
       "</style>\n",
       "<table border=\"1\" class=\"dataframe\">\n",
       "  <thead>\n",
       "    <tr style=\"text-align: right;\">\n",
       "      <th></th>\n",
       "      <th>comment_text</th>\n",
       "      <th>toxic</th>\n",
       "    </tr>\n",
       "  </thead>\n",
       "  <tbody>\n",
       "    <tr>\n",
       "      <th>0</th>\n",
       "      <td>Thank you</td>\n",
       "      <td>no</td>\n",
       "    </tr>\n",
       "    <tr>\n",
       "      <th>1</th>\n",
       "      <td>dbadvert tag on KPDFCA   Wow Doesnt seem to...</td>\n",
       "      <td>no</td>\n",
       "    </tr>\n",
       "    <tr>\n",
       "      <th>2</th>\n",
       "      <td>Good Bye Intoronto1125 RIP  Hope to see you in...</td>\n",
       "      <td>yes</td>\n",
       "    </tr>\n",
       "    <tr>\n",
       "      <th>3</th>\n",
       "      <td>You were trying to ban me Perhaps in future yo...</td>\n",
       "      <td>yes</td>\n",
       "    </tr>\n",
       "    <tr>\n",
       "      <th>4</th>\n",
       "      <td>retarded cousin of the spork</td>\n",
       "      <td>yes</td>\n",
       "    </tr>\n",
       "  </tbody>\n",
       "</table>\n",
       "</div>"
      ],
      "text/plain": [
       "                                        comment_text toxic\n",
       "0                                          Thank you    no\n",
       "1     dbadvert tag on KPDFCA   Wow Doesnt seem to...    no\n",
       "2  Good Bye Intoronto1125 RIP  Hope to see you in...   yes\n",
       "3  You were trying to ban me Perhaps in future yo...   yes\n",
       "4                       retarded cousin of the spork   yes"
      ]
     },
     "execution_count": 147,
     "metadata": {},
     "output_type": "execute_result"
    }
   ],
   "source": [
    "# Load the sample data CSV files into a dataframe\n",
    "df = pd.read_csv('toxicity_labeled_test_data_sub_sampled.csv')\n",
    "df = df.drop_duplicates()\n",
    "df = df.dropna()\n",
    "#df['toxicity_scores'] = ''\n",
    "df.head()"
   ]
  },
  {
   "cell_type": "code",
   "execution_count": 10,
   "id": "86073e80",
   "metadata": {
    "scrolled": false
   },
   "outputs": [],
   "source": [
    "# Create a function that can take any comment (string) as input and return perpective's toxicity score as output\n",
    "def toxicity_score(comment):\n",
    "    # second API key created\n",
    "    API_KEY = 'XXXXXX'\n",
    "    \n",
    "    client = discovery.build(\"commentanalyzer\",\"v1alpha1\", developerKey=API_KEY, discoveryServiceUrl=\"https://commentanalyzer.googleapis.com/$discovery/rest?version=v1alpha1\", static_discovery=False,)\n",
    "\n",
    "    analyze_request = {'comment': { 'text': comment},'requestedAttributes': {'TOXICITY': {}},'languages': ['en']}\n",
    "    \n",
    "    response = client.comments().analyze(body=analyze_request).execute()\n",
    "    toxic_score = response[\"attributeScores\"][\"TOXICITY\"][\"summaryScore\"][\"value\"]\n",
    "    \n",
    "    return toxic_score\n",
    "    # print(json.dumps(response, indent=2))"
   ]
  },
  {
   "cell_type": "code",
   "execution_count": 148,
   "id": "3bd06047",
   "metadata": {},
   "outputs": [
    {
     "name": "stdout",
     "output_type": "stream",
     "text": [
      "[0.011309455, 0.15048122, 0.7308154, 0.50789946, 0.63782936, 0.46186632, 0.8696708, 0.6426206, 0.31132057, 0.78711975, 0.09481675, 0.3666224, 0.6989911, 0.42568782, 0.037577134, 0.13214645, 0.8778702, 0.74954444, 0.03592727, 0.04067813, 0.015330595, 0.687436, 0.012943043, 0.1269396, 0.32764325, 0.054779384, 0.5779532, 0.013257195, 0.085582085, 0.01822079, 0.3561489, 0.11119666, 0.24763705, 0.11305673, 0.6308517, 0.054037213, 0.056263726, 0.44039994, 0.10089093, 0.36095104, 0.03592727, 0.17111848, 0.7510937, 0.059974585, 0.07291982, 0.6588125, 0.01834645, 0.041172907, 0.015330595, 0.9288007, 0.017969469, 0.07054565, 0.32764325, 0.3057765, 0.016964182, 0.6426206, 0.07845957, 0.7856813, 0.60311776, 0.51980776, 0.72028047, 0.73663366, 0.024378212, 0.9563754, 0.46982017, 0.17718399, 0.07845957, 0.12520397, 0.61223894, 0.115658075, 0.09438288, 0.059479803, 0.24282593, 0.026617315, 0.9817629, 0.8252207, 0.2855005, 0.3389984, 0.07450261, 0.54823303, 0.82048255, 0.017089844, 0.1460314, 0.03309893, 0.025792383, 0.039935954, 0.743089, 0.7510937, 0.027913637, 0.681338, 0.55739564, 0.011183795, 0.568186, 0.3722269, 0.8364697, 0.035691574, 0.017843807, 0.09308127, 0.08004235, 0.04315203, 0.911035, 0.34757367, 0.5140397, 0.911035, 0.48021027, 0.78207105, 0.5559701, 0.021667719, 0.43230394, 0.055026773, 0.23343207, 0.19789438, 0.010743983, 0.14082454, 0.6027529, 0.6289369, 0.944597, 0.03969839, 0.5024724, 0.8364697, 0.031684756, 0.85173553, 0.0056547276, 0.10870059, 0.11347008, 0.5885171, 0.6027529, 0.15213956, 0.3281604, 0.22846605, 0.029327808, 0.61223894, 0.058490243, 0.6989911, 0.17111848, 0.89241093, 0.6020386, 0.049089402, 0.7510937, 0.12867521, 0.031331215, 0.509388, 0.11181668, 0.014011159, 0.48021027, 0.56269526, 0.44039994, 0.5885171, 0.0060631246, 0.52272606, 0.39231625, 0.01426248, 0.4269174, 0.8460273, 0.2854937, 0.015267765, 0.8252207, 0.055521555, 0.61223894, 0.014576632, 0.8988238, 0.018849092, 0.09655223, 0.51980776, 0.15103401, 0.05230548, 0.08716487, 0.8364697, 0.06184035, 0.52007306, 0.059479803, 0.05898502, 0.51980776, 0.6827122, 0.19314334, 0.4269174, 0.04711028, 0.03592727, 0.010743983, 0.51980776, 0.82048255, 0.3260917, 0.60254884, 0.718943, 0.4575469, 0.059727192, 0.015644746, 0.057005897, 0.14256015, 0.062236045, 0.45090583, 0.021314176, 0.7510937, 0.8299589, 0.04290464, 0.60254884, 0.027913637, 0.022964042, 0.014073989, 0.035691574, 0.0154562555, 0.027088705, 0.03734144, 0.04166769, 0.042657252, 0.53579444, 0.17198499, 0.013571346, 0.9248995, 0.71760553, 0.034748793, 0.76523775, 0.044636376, 0.78711975, 0.017341165, 0.017843807, 0.013508516, 0.20172562, 0.57271194, 0.743089, 0.025203144, 0.04785245, 0.568186, 0.15269235, 0.015833238, 0.032627538, 0.057005897, 0.006691428, 0.20102765, 0.0414203, 0.025085296, 0.25462922, 0.28547668, 0.3266089, 0.31963667, 0.035691574, 0.103060275, 0.52272606, 0.7856813, 0.010806813, 0.6027529, 0.42985553, 0.50759226, 0.10826672, 0.8403191, 0.76523775, 0.6308517, 0.20572066, 0.681338, 0.7105462, 0.2854699, 0.038048524, 0.03875561, 0.020607091, 0.3266089, 0.89241093, 0.41910073, 0.15158679, 0.37340668, 0.029327808, 0.27236435, 0.83334327, 0.74954444, 0.85850734, 0.012063419, 0.029445656, 0.82048255, 0.1587729, 0.32397532, 0.85333383, 0.026263772, 0.944597, 0.568186, 0.029092113, 0.054284602, 0.7308154, 0.8778702, 0.04785245, 0.055521555, 0.025320992, 0.60152835, 0.08874765, 0.4475325, 0.22980402, 0.02543884, 0.032156147, 0.5024724, 0.025674535, 0.03734144, 0.112746716, 0.37751234, 0.7510937, 0.043399423, 0.8364697, 0.9248995, 0.04315203, 0.0042096307, 0.08874765, 0.01017851, 0.015958898, 0.0414203, 0.01822079, 0.52811706, 0.026263772, 0.91625386, 0.016964182, 0.033334624, 0.6852916, 0.911035, 0.5721988, 0.3286776, 0.031684756, 0.2854971, 0.54325575, 0.64447093, 0.11202335, 0.021667719, 0.6667219, 0.059479803, 0.12520397, 0.06421452, 0.0058432184, 0.6407703, 0.5532103, 0.041172907, 0.36095104, 0.25915736, 0.112850055, 0.017466826, 0.027324399, 0.4402136, 0.119997114, 0.22043827, 0.4269174, 0.01438814, 0.5566829, 0.034984488, 0.044636376, 0.50503236, 0.028620722, 0.75208336, 0.17111848, 0.025674535, 0.53579444, 0.4977744, 0.85850734, 0.8364697, 0.112436704, 0.7761081, 0.042657252, 0.25462922, 0.37458646, 0.054284602, 0.6027529, 0.07291982, 0.012691722, 0.83334327, 0.013885498, 0.7570315, 0.8364697, 0.8364697, 0.51980776, 0.968226, 0.55739564, 0.11057663, 0.019226074, 0.015267765, 0.09394901, 0.10870059, 0.1373533, 0.03062413, 0.584095, 0.7105462, 0.045625936, 0.010492661, 0.0059688794, 0.016210219, 0.15269235, 0.03639866, 0.06421452, 0.11479026, 0.08716487, 0.016712861, 0.02343543, 0.08479069, 0.01646154, 0.09568449, 0.47119883, 0.8778702, 0.17545098, 0.123468354, 0.49139655, 0.37751234, 0.056758508, 0.02873857, 0.3666224, 0.032156147, 0.13908891, 0.23379272, 0.033334624, 0.03309893, 0.743089, 0.011183795, 0.01859777, 0.85333383, 0.03592727, 0.067380086, 0.4014846, 0.509388, 0.038048524, 0.36095104, 0.72028047, 0.40336934, 0.075294, 0.055768944, 0.06579731, 0.76523775, 0.8696708, 0.048099842, 0.7510937, 0.38601747, 0.01608456, 0.112953395, 0.76523775, 0.029445656, 0.013885498, 0.3969567, 0.016712861, 0.4014846, 0.024378212, 0.046368107, 0.112540044, 0.030859824, 0.7510937, 0.63782936, 0.0154562555, 0.031684756, 0.20172562, 0.4014846, 0.016838523, 0.028974265, 0.9029226, 0.30716252, 0.2820025, 0.60152835, 0.034513097, 0.1991664, 0.102192536, 0.4269174, 0.50503236, 0.31686464, 0.071337044, 0.7252971, 0.10653123, 0.03592727, 0.55739564, 0.7252971, 0.36095104, 0.016587202, 0.20265625, 0.568186, 0.743089, 0.6027529, 0.50503236, 0.19599396, 0.053295042, 0.0438942, 0.4398409, 0.44002727, 0.016838523, 0.049584184, 0.0021833533, 0.23812068, 0.6491204, 0.6289369, 0.30993456, 0.013131535, 0.12086493, 0.4269174, 0.7308154, 0.012754552, 0.2412222, 0.091913216, 0.015644746, 0.07291982, 0.7675452, 0.13214645, 0.044883765, 0.077668175, 0.05230548, 0.11171334, 0.6852916, 0.2854835, 0.8403191, 0.37751234, 0.51869136, 0.028502874, 0.8115627, 0.19219314, 0.28857216]\n"
     ]
    }
   ],
   "source": [
    "toxic_df = pd.DataFrame()\n",
    "# toxic_df['toxicity_scores'] = ''\n",
    "toxic_score_list = []\n",
    "#comments = []\n",
    "    \n",
    "# Use the function to get toxicity scores for each comment in the sample data\n",
    "count = 0\n",
    "for index, comment in df.iterrows():\n",
    "    comment = comment['comment_text']\n",
    "    #comments.append(comment)\n",
    "    try:\n",
    "        score = toxicity_score(comment) \n",
    "        toxic_score_list.append(score)\n",
    "    except Exception as e:\n",
    "        print(comment)\n",
    "        print(e)\n",
    "        break\n",
    "#     print(comment)\n",
    "    \n",
    "    #toxic_df = toxic_df.append({'toxicity_scores': score}, ignore_index=True)\n",
    "    time.sleep(2)\n",
    "    \n",
    "#     count += 1\n",
    "    \n",
    "#     if count > 6:\n",
    "#         break\n",
    "\n",
    "print(toxic_score_list)\n",
    "#print(comments)"
   ]
  },
  {
   "cell_type": "code",
   "execution_count": 149,
   "id": "4df11ba3",
   "metadata": {},
   "outputs": [
    {
     "data": {
      "text/html": [
       "<div>\n",
       "<style scoped>\n",
       "    .dataframe tbody tr th:only-of-type {\n",
       "        vertical-align: middle;\n",
       "    }\n",
       "\n",
       "    .dataframe tbody tr th {\n",
       "        vertical-align: top;\n",
       "    }\n",
       "\n",
       "    .dataframe thead th {\n",
       "        text-align: right;\n",
       "    }\n",
       "</style>\n",
       "<table border=\"1\" class=\"dataframe\">\n",
       "  <thead>\n",
       "    <tr style=\"text-align: right;\">\n",
       "      <th></th>\n",
       "      <th>comment_text</th>\n",
       "      <th>toxic</th>\n",
       "      <th>toxicity_scores</th>\n",
       "    </tr>\n",
       "  </thead>\n",
       "  <tbody>\n",
       "    <tr>\n",
       "      <th>0</th>\n",
       "      <td>Thank you</td>\n",
       "      <td>no</td>\n",
       "      <td>0.011309</td>\n",
       "    </tr>\n",
       "    <tr>\n",
       "      <th>1</th>\n",
       "      <td>dbadvert tag on KPDFCA   Wow Doesnt seem to...</td>\n",
       "      <td>no</td>\n",
       "      <td>0.150481</td>\n",
       "    </tr>\n",
       "    <tr>\n",
       "      <th>2</th>\n",
       "      <td>Good Bye Intoronto1125 RIP  Hope to see you in...</td>\n",
       "      <td>yes</td>\n",
       "      <td>0.730815</td>\n",
       "    </tr>\n",
       "    <tr>\n",
       "      <th>3</th>\n",
       "      <td>You were trying to ban me Perhaps in future yo...</td>\n",
       "      <td>yes</td>\n",
       "      <td>0.507899</td>\n",
       "    </tr>\n",
       "    <tr>\n",
       "      <th>4</th>\n",
       "      <td>retarded cousin of the spork</td>\n",
       "      <td>yes</td>\n",
       "      <td>0.637829</td>\n",
       "    </tr>\n",
       "  </tbody>\n",
       "</table>\n",
       "</div>"
      ],
      "text/plain": [
       "                                        comment_text toxic  toxicity_scores\n",
       "0                                          Thank you    no         0.011309\n",
       "1     dbadvert tag on KPDFCA   Wow Doesnt seem to...    no         0.150481\n",
       "2  Good Bye Intoronto1125 RIP  Hope to see you in...   yes         0.730815\n",
       "3  You were trying to ban me Perhaps in future yo...   yes         0.507899\n",
       "4                       retarded cousin of the spork   yes         0.637829"
      ]
     },
     "execution_count": 149,
     "metadata": {},
     "output_type": "execute_result"
    }
   ],
   "source": [
    "# Form a separate column containing toxicity scores. Name it as \"toxicity_scores\".\n",
    "df['toxicity_scores'] = toxic_score_list\n",
    "df.head()"
   ]
  },
  {
   "cell_type": "code",
   "execution_count": 150,
   "id": "f2d1b008",
   "metadata": {},
   "outputs": [
    {
     "name": "stdout",
     "output_type": "stream",
     "text": [
      "Transformed Scores\n",
      "---------------------\n",
      "[0, 0, 1, 1, 1, 0, 1, 1, 0, 1, 0, 0, 1, 0, 0, 0, 1, 1, 0, 0, 0, 1, 0, 0, 0, 0, 1, 0, 0, 0, 0, 0, 0, 0, 1, 0, 0, 0, 0, 0, 0, 0, 1, 0, 0, 1, 0, 0, 0, 1, 0, 0, 0, 0, 0, 1, 0, 1, 1, 1, 1, 1, 0, 1, 0, 0, 0, 0, 1, 0, 0, 0, 0, 0, 1, 1, 0, 0, 0, 1, 1, 0, 0, 0, 0, 0, 1, 1, 0, 1, 1, 0, 1, 0, 1, 0, 0, 0, 0, 0, 1, 0, 1, 1, 0, 1, 1, 0, 0, 0, 0, 0, 0, 0, 1, 1, 1, 0, 1, 1, 0, 1, 0, 0, 0, 1, 1, 0, 0, 0, 0, 1, 0, 1, 0, 1, 1, 0, 1, 0, 0, 1, 0, 0, 0, 1, 0, 1, 0, 1, 0, 0, 0, 1, 0, 0, 1, 0, 1, 0, 1, 0, 0, 1, 0, 0, 0, 1, 0, 1, 0, 0, 1, 1, 0, 0, 0, 0, 0, 1, 1, 0, 1, 1, 0, 0, 0, 0, 0, 0, 0, 0, 1, 1, 0, 1, 0, 0, 0, 0, 0, 0, 0, 0, 0, 1, 0, 0, 1, 1, 0, 1, 0, 1, 0, 0, 0, 0, 1, 1, 0, 0, 1, 0, 0, 0, 0, 0, 0, 0, 0, 0, 0, 0, 0, 0, 0, 1, 1, 0, 1, 0, 1, 0, 1, 1, 1, 0, 1, 1, 0, 0, 0, 0, 0, 1, 0, 0, 0, 0, 0, 1, 1, 1, 0, 0, 1, 0, 0, 1, 0, 1, 1, 0, 0, 1, 1, 0, 0, 0, 1, 0, 0, 0, 0, 0, 1, 0, 0, 0, 0, 1, 0, 1, 1, 0, 0, 0, 0, 0, 0, 0, 1, 0, 1, 0, 0, 1, 1, 1, 0, 0, 0, 1, 1, 0, 0, 1, 0, 0, 0, 0, 1, 1, 0, 0, 0, 0, 0, 0, 0, 0, 0, 0, 0, 1, 0, 0, 1, 0, 1, 0, 0, 1, 0, 1, 1, 0, 1, 0, 0, 0, 0, 1, 0, 0, 1, 0, 1, 1, 1, 1, 1, 1, 0, 0, 0, 0, 0, 0, 0, 1, 1, 0, 0, 0, 0, 0, 0, 0, 0, 0, 0, 0, 0, 0, 0, 0, 1, 0, 0, 0, 0, 0, 0, 0, 0, 0, 0, 0, 0, 1, 0, 0, 1, 0, 0, 0, 1, 0, 0, 1, 0, 0, 0, 0, 1, 1, 0, 1, 0, 0, 0, 1, 0, 0, 0, 0, 0, 0, 0, 0, 0, 1, 1, 0, 0, 0, 0, 0, 0, 1, 0, 0, 1, 0, 0, 0, 0, 1, 0, 0, 1, 0, 0, 1, 1, 0, 0, 0, 1, 1, 1, 1, 0, 0, 0, 0, 0, 0, 0, 0, 0, 1, 1, 0, 0, 0, 0, 1, 0, 0, 0, 0, 0, 1, 0, 0, 0, 0, 0, 1, 0, 1, 0, 1, 0, 1, 0, 0]\n"
     ]
    }
   ],
   "source": [
    "# Apply a thresholding mechanism to transform the scores into 0/1 classes\n",
    "# Set the threshold to 0.5\n",
    "transformed_toxicity_scores = []\n",
    "for score in toxic_score_list:\n",
    "    if score > 0.5:\n",
    "        toxic_label = 1\n",
    "    else:\n",
    "        toxic_label = 0\n",
    "    transformed_toxicity_scores.append(toxic_label)\n",
    "    \n",
    "print('Transformed Scores','---------------------', transformed_toxicity_scores,sep='\\n')"
   ]
  },
  {
   "cell_type": "code",
   "execution_count": 151,
   "id": "499669cc",
   "metadata": {},
   "outputs": [
    {
     "data": {
      "text/html": [
       "<div>\n",
       "<style scoped>\n",
       "    .dataframe tbody tr th:only-of-type {\n",
       "        vertical-align: middle;\n",
       "    }\n",
       "\n",
       "    .dataframe tbody tr th {\n",
       "        vertical-align: top;\n",
       "    }\n",
       "\n",
       "    .dataframe thead th {\n",
       "        text-align: right;\n",
       "    }\n",
       "</style>\n",
       "<table border=\"1\" class=\"dataframe\">\n",
       "  <thead>\n",
       "    <tr style=\"text-align: right;\">\n",
       "      <th></th>\n",
       "      <th>comment_text</th>\n",
       "      <th>toxic</th>\n",
       "      <th>toxicity_scores</th>\n",
       "      <th>toxic_predicted</th>\n",
       "    </tr>\n",
       "  </thead>\n",
       "  <tbody>\n",
       "    <tr>\n",
       "      <th>0</th>\n",
       "      <td>Thank you</td>\n",
       "      <td>no</td>\n",
       "      <td>0.011309</td>\n",
       "      <td>0</td>\n",
       "    </tr>\n",
       "    <tr>\n",
       "      <th>1</th>\n",
       "      <td>dbadvert tag on KPDFCA   Wow Doesnt seem to...</td>\n",
       "      <td>no</td>\n",
       "      <td>0.150481</td>\n",
       "      <td>0</td>\n",
       "    </tr>\n",
       "    <tr>\n",
       "      <th>2</th>\n",
       "      <td>Good Bye Intoronto1125 RIP  Hope to see you in...</td>\n",
       "      <td>yes</td>\n",
       "      <td>0.730815</td>\n",
       "      <td>1</td>\n",
       "    </tr>\n",
       "    <tr>\n",
       "      <th>3</th>\n",
       "      <td>You were trying to ban me Perhaps in future yo...</td>\n",
       "      <td>yes</td>\n",
       "      <td>0.507899</td>\n",
       "      <td>1</td>\n",
       "    </tr>\n",
       "    <tr>\n",
       "      <th>4</th>\n",
       "      <td>retarded cousin of the spork</td>\n",
       "      <td>yes</td>\n",
       "      <td>0.637829</td>\n",
       "      <td>1</td>\n",
       "    </tr>\n",
       "  </tbody>\n",
       "</table>\n",
       "</div>"
      ],
      "text/plain": [
       "                                        comment_text toxic  toxicity_scores  \\\n",
       "0                                          Thank you    no         0.011309   \n",
       "1     dbadvert tag on KPDFCA   Wow Doesnt seem to...    no         0.150481   \n",
       "2  Good Bye Intoronto1125 RIP  Hope to see you in...   yes         0.730815   \n",
       "3  You were trying to ban me Perhaps in future yo...   yes         0.507899   \n",
       "4                       retarded cousin of the spork   yes         0.637829   \n",
       "\n",
       "   toxic_predicted  \n",
       "0                0  \n",
       "1                0  \n",
       "2                1  \n",
       "3                1  \n",
       "4                1  "
      ]
     },
     "execution_count": 151,
     "metadata": {},
     "output_type": "execute_result"
    }
   ],
   "source": [
    "# Form another column named \"toxic_predicted\"\n",
    "df['toxic_predicted'] = transformed_toxicity_scores\n",
    "df.head()"
   ]
  },
  {
   "cell_type": "code",
   "execution_count": 152,
   "id": "b59cc8e9",
   "metadata": {},
   "outputs": [
    {
     "name": "stdout",
     "output_type": "stream",
     "text": [
      "[0, 0, 1, 1, 1, 1, 1, 1, 0, 1, 0, 0, 1, 0, 0, 0, 1, 1, 0, 0, 0, 1, 0, 0, 0, 0, 1, 0, 0, 0, 0, 0, 0, 0, 0, 0, 0, 0, 0, 0, 0, 0, 1, 0, 0, 0, 0, 0, 0, 1, 0, 0, 0, 0, 0, 1, 0, 1, 0, 0, 0, 1, 0, 1, 1, 0, 0, 0, 1, 0, 0, 0, 1, 0, 1, 1, 0, 0, 0, 0, 1, 0, 0, 0, 0, 0, 1, 1, 0, 1, 1, 0, 1, 0, 1, 0, 0, 0, 0, 0, 1, 1, 0, 1, 1, 1, 1, 0, 0, 0, 0, 0, 0, 0, 0, 1, 1, 0, 1, 1, 0, 0, 0, 0, 0, 1, 1, 0, 0, 0, 0, 1, 0, 1, 0, 1, 1, 0, 1, 0, 0, 1, 0, 0, 1, 0, 0, 0, 0, 0, 0, 0, 0, 1, 0, 0, 1, 0, 1, 0, 1, 0, 0, 0, 0, 0, 0, 1, 0, 1, 0, 0, 1, 1, 0, 0, 0, 0, 0, 0, 1, 0, 1, 1, 0, 0, 0, 0, 0, 0, 0, 0, 1, 1, 0, 1, 0, 0, 0, 0, 0, 0, 0, 0, 0, 0, 0, 0, 1, 1, 0, 1, 0, 1, 0, 0, 0, 0, 0, 1, 0, 0, 1, 0, 0, 0, 0, 0, 0, 0, 0, 0, 0, 0, 0, 0, 0, 0, 1, 0, 0, 0, 1, 0, 1, 1, 1, 0, 1, 1, 0, 0, 0, 0, 0, 1, 1, 0, 0, 0, 0, 1, 1, 1, 0, 0, 1, 0, 1, 1, 0, 1, 1, 0, 0, 1, 1, 0, 0, 0, 1, 0, 1, 0, 0, 0, 1, 0, 0, 0, 0, 1, 0, 1, 1, 0, 0, 0, 0, 0, 0, 0, 1, 0, 1, 0, 0, 1, 1, 0, 0, 0, 0, 0, 1, 0, 0, 1, 0, 0, 0, 0, 1, 0, 0, 0, 0, 0, 0, 0, 0, 0, 0, 1, 0, 1, 0, 0, 1, 0, 1, 0, 0, 1, 0, 1, 1, 0, 1, 0, 0, 0, 0, 1, 0, 0, 1, 0, 1, 1, 1, 1, 1, 1, 0, 0, 0, 0, 0, 0, 0, 0, 1, 0, 0, 0, 0, 0, 0, 0, 0, 0, 0, 0, 0, 0, 0, 0, 1, 0, 0, 1, 0, 0, 0, 0, 0, 0, 0, 0, 0, 1, 0, 0, 1, 0, 0, 0, 0, 0, 1, 1, 0, 0, 0, 0, 1, 1, 0, 0, 0, 0, 0, 1, 0, 0, 0, 0, 0, 0, 0, 0, 0, 1, 1, 0, 0, 0, 0, 0, 0, 1, 0, 0, 0, 0, 0, 0, 0, 1, 0, 0, 1, 0, 0, 1, 0, 0, 0, 0, 1, 1, 0, 1, 0, 0, 0, 0, 0, 0, 0, 0, 0, 1, 0, 0, 0, 0, 0, 1, 0, 0, 0, 0, 0, 1, 0, 0, 0, 0, 0, 1, 0, 1, 0, 1, 0, 1, 0, 0]\n"
     ]
    }
   ],
   "source": [
    "# Transforming toxic to binary values\n",
    "transformed_toxics = []\n",
    "for index, toxic in df.iterrows():\n",
    "    toxic = toxic['toxic']\n",
    "    value = 0\n",
    "    if toxic == 'no':\n",
    "        value = 0\n",
    "    elif (toxic == 'yes'):\n",
    "        value = 1\n",
    "    transformed_toxics.append(value)\n",
    "\n",
    "print(transformed_toxics)"
   ]
  },
  {
   "cell_type": "code",
   "execution_count": 153,
   "id": "a87e20cd",
   "metadata": {},
   "outputs": [
    {
     "data": {
      "text/html": [
       "<div>\n",
       "<style scoped>\n",
       "    .dataframe tbody tr th:only-of-type {\n",
       "        vertical-align: middle;\n",
       "    }\n",
       "\n",
       "    .dataframe tbody tr th {\n",
       "        vertical-align: top;\n",
       "    }\n",
       "\n",
       "    .dataframe thead th {\n",
       "        text-align: right;\n",
       "    }\n",
       "</style>\n",
       "<table border=\"1\" class=\"dataframe\">\n",
       "  <thead>\n",
       "    <tr style=\"text-align: right;\">\n",
       "      <th></th>\n",
       "      <th>comment_text</th>\n",
       "      <th>toxic</th>\n",
       "      <th>toxicity_scores</th>\n",
       "      <th>toxic_predicted</th>\n",
       "    </tr>\n",
       "  </thead>\n",
       "  <tbody>\n",
       "    <tr>\n",
       "      <th>0</th>\n",
       "      <td>Thank you</td>\n",
       "      <td>no</td>\n",
       "      <td>0.011309</td>\n",
       "      <td>0</td>\n",
       "    </tr>\n",
       "    <tr>\n",
       "      <th>1</th>\n",
       "      <td>dbadvert tag on KPDFCA   Wow Doesnt seem to...</td>\n",
       "      <td>no</td>\n",
       "      <td>0.150481</td>\n",
       "      <td>0</td>\n",
       "    </tr>\n",
       "    <tr>\n",
       "      <th>2</th>\n",
       "      <td>Good Bye Intoronto1125 RIP  Hope to see you in...</td>\n",
       "      <td>yes</td>\n",
       "      <td>0.730815</td>\n",
       "      <td>1</td>\n",
       "    </tr>\n",
       "    <tr>\n",
       "      <th>3</th>\n",
       "      <td>You were trying to ban me Perhaps in future yo...</td>\n",
       "      <td>yes</td>\n",
       "      <td>0.507899</td>\n",
       "      <td>1</td>\n",
       "    </tr>\n",
       "    <tr>\n",
       "      <th>4</th>\n",
       "      <td>retarded cousin of the spork</td>\n",
       "      <td>yes</td>\n",
       "      <td>0.637829</td>\n",
       "      <td>1</td>\n",
       "    </tr>\n",
       "  </tbody>\n",
       "</table>\n",
       "</div>"
      ],
      "text/plain": [
       "                                        comment_text toxic  toxicity_scores  \\\n",
       "0                                          Thank you    no         0.011309   \n",
       "1     dbadvert tag on KPDFCA   Wow Doesnt seem to...    no         0.150481   \n",
       "2  Good Bye Intoronto1125 RIP  Hope to see you in...   yes         0.730815   \n",
       "3  You were trying to ban me Perhaps in future yo...   yes         0.507899   \n",
       "4                       retarded cousin of the spork   yes         0.637829   \n",
       "\n",
       "   toxic_predicted  \n",
       "0                0  \n",
       "1                0  \n",
       "2                1  \n",
       "3                1  \n",
       "4                1  "
      ]
     },
     "execution_count": 153,
     "metadata": {},
     "output_type": "execute_result"
    }
   ],
   "source": [
    "df.head()"
   ]
  },
  {
   "cell_type": "code",
   "execution_count": 154,
   "id": "d418c02b",
   "metadata": {},
   "outputs": [
    {
     "data": {
      "text/html": [
       "<div>\n",
       "<style scoped>\n",
       "    .dataframe tbody tr th:only-of-type {\n",
       "        vertical-align: middle;\n",
       "    }\n",
       "\n",
       "    .dataframe tbody tr th {\n",
       "        vertical-align: top;\n",
       "    }\n",
       "\n",
       "    .dataframe thead th {\n",
       "        text-align: right;\n",
       "    }\n",
       "</style>\n",
       "<table border=\"1\" class=\"dataframe\">\n",
       "  <thead>\n",
       "    <tr style=\"text-align: right;\">\n",
       "      <th></th>\n",
       "      <th>comment_text</th>\n",
       "      <th>toxicity_scores</th>\n",
       "      <th>toxic_predicted</th>\n",
       "    </tr>\n",
       "  </thead>\n",
       "  <tbody>\n",
       "    <tr>\n",
       "      <th>0</th>\n",
       "      <td>Thank you</td>\n",
       "      <td>0.011309</td>\n",
       "      <td>0</td>\n",
       "    </tr>\n",
       "    <tr>\n",
       "      <th>1</th>\n",
       "      <td>dbadvert tag on KPDFCA   Wow Doesnt seem to...</td>\n",
       "      <td>0.150481</td>\n",
       "      <td>0</td>\n",
       "    </tr>\n",
       "    <tr>\n",
       "      <th>2</th>\n",
       "      <td>Good Bye Intoronto1125 RIP  Hope to see you in...</td>\n",
       "      <td>0.730815</td>\n",
       "      <td>1</td>\n",
       "    </tr>\n",
       "    <tr>\n",
       "      <th>3</th>\n",
       "      <td>You were trying to ban me Perhaps in future yo...</td>\n",
       "      <td>0.507899</td>\n",
       "      <td>1</td>\n",
       "    </tr>\n",
       "    <tr>\n",
       "      <th>4</th>\n",
       "      <td>retarded cousin of the spork</td>\n",
       "      <td>0.637829</td>\n",
       "      <td>1</td>\n",
       "    </tr>\n",
       "  </tbody>\n",
       "</table>\n",
       "</div>"
      ],
      "text/plain": [
       "                                        comment_text  toxicity_scores  \\\n",
       "0                                          Thank you         0.011309   \n",
       "1     dbadvert tag on KPDFCA   Wow Doesnt seem to...         0.150481   \n",
       "2  Good Bye Intoronto1125 RIP  Hope to see you in...         0.730815   \n",
       "3  You were trying to ban me Perhaps in future yo...         0.507899   \n",
       "4                       retarded cousin of the spork         0.637829   \n",
       "\n",
       "   toxic_predicted  \n",
       "0                0  \n",
       "1                0  \n",
       "2                1  \n",
       "3                1  \n",
       "4                1  "
      ]
     },
     "execution_count": 154,
     "metadata": {},
     "output_type": "execute_result"
    }
   ],
   "source": [
    "df = df.drop(['toxic'], axis=1)\n",
    "df.head()"
   ]
  },
  {
   "cell_type": "code",
   "execution_count": 155,
   "id": "76bf4c50",
   "metadata": {},
   "outputs": [
    {
     "data": {
      "text/html": [
       "<div>\n",
       "<style scoped>\n",
       "    .dataframe tbody tr th:only-of-type {\n",
       "        vertical-align: middle;\n",
       "    }\n",
       "\n",
       "    .dataframe tbody tr th {\n",
       "        vertical-align: top;\n",
       "    }\n",
       "\n",
       "    .dataframe thead th {\n",
       "        text-align: right;\n",
       "    }\n",
       "</style>\n",
       "<table border=\"1\" class=\"dataframe\">\n",
       "  <thead>\n",
       "    <tr style=\"text-align: right;\">\n",
       "      <th></th>\n",
       "      <th>comment_text</th>\n",
       "      <th>toxicity_scores</th>\n",
       "      <th>toxic_predicted</th>\n",
       "      <th>toxic</th>\n",
       "    </tr>\n",
       "  </thead>\n",
       "  <tbody>\n",
       "    <tr>\n",
       "      <th>0</th>\n",
       "      <td>Thank you</td>\n",
       "      <td>0.011309</td>\n",
       "      <td>0</td>\n",
       "      <td>0</td>\n",
       "    </tr>\n",
       "    <tr>\n",
       "      <th>1</th>\n",
       "      <td>dbadvert tag on KPDFCA   Wow Doesnt seem to...</td>\n",
       "      <td>0.150481</td>\n",
       "      <td>0</td>\n",
       "      <td>0</td>\n",
       "    </tr>\n",
       "    <tr>\n",
       "      <th>2</th>\n",
       "      <td>Good Bye Intoronto1125 RIP  Hope to see you in...</td>\n",
       "      <td>0.730815</td>\n",
       "      <td>1</td>\n",
       "      <td>1</td>\n",
       "    </tr>\n",
       "    <tr>\n",
       "      <th>3</th>\n",
       "      <td>You were trying to ban me Perhaps in future yo...</td>\n",
       "      <td>0.507899</td>\n",
       "      <td>1</td>\n",
       "      <td>1</td>\n",
       "    </tr>\n",
       "    <tr>\n",
       "      <th>4</th>\n",
       "      <td>retarded cousin of the spork</td>\n",
       "      <td>0.637829</td>\n",
       "      <td>1</td>\n",
       "      <td>1</td>\n",
       "    </tr>\n",
       "  </tbody>\n",
       "</table>\n",
       "</div>"
      ],
      "text/plain": [
       "                                        comment_text  toxicity_scores  \\\n",
       "0                                          Thank you         0.011309   \n",
       "1     dbadvert tag on KPDFCA   Wow Doesnt seem to...         0.150481   \n",
       "2  Good Bye Intoronto1125 RIP  Hope to see you in...         0.730815   \n",
       "3  You were trying to ban me Perhaps in future yo...         0.507899   \n",
       "4                       retarded cousin of the spork         0.637829   \n",
       "\n",
       "   toxic_predicted  toxic  \n",
       "0                0      0  \n",
       "1                0      0  \n",
       "2                1      1  \n",
       "3                1      1  \n",
       "4                1      1  "
      ]
     },
     "execution_count": 155,
     "metadata": {},
     "output_type": "execute_result"
    }
   ],
   "source": [
    "df['toxic'] = transformed_toxics\n",
    "df.head()"
   ]
  },
  {
   "cell_type": "code",
   "execution_count": 156,
   "id": "467f7ffb",
   "metadata": {},
   "outputs": [
    {
     "name": "stdout",
     "output_type": "stream",
     "text": [
      "              precision    recall  f1-score   support\n",
      "\n",
      "     class 0       0.96      0.92      0.94       357\n",
      "     class 1       0.82      0.92      0.87       143\n",
      "\n",
      "    accuracy                           0.92       500\n",
      "   macro avg       0.89      0.92      0.91       500\n",
      "weighted avg       0.92      0.92      0.92       500\n",
      "\n"
     ]
    }
   ],
   "source": [
    "# Generate a classification report using sklearn.metrics.classification_report. Consider toxic and toxic_predicted columns\n",
    "from sklearn.metrics import classification_report\n",
    "\n",
    "num = 0\n",
    "set_value = 50\n",
    "y_true = [] # toxic\n",
    "y_pred =[] # toxic_predicted\n",
    "\n",
    "# taking first few rows\n",
    "while num < set_value:\n",
    "    for index, toxic in df.iterrows():\n",
    "        toxic = toxic['toxic']\n",
    "        y_true.append(toxic)\n",
    "        num += 1 \n",
    "\n",
    "# print('y_true:',y_true)\n",
    "\n",
    "num = 0 \n",
    "\n",
    "while num < set_value:\n",
    "    for index, toxic_predicted in df.iterrows():\n",
    "        toxic_predicted = toxic_predicted['toxic_predicted']\n",
    "        y_pred.append(toxic_predicted)\n",
    "        num += 1 \n",
    "\n",
    "# print('y_pred:',y_pred)\n",
    "\n",
    "target_names = ['class 0','class 1']\n",
    "print(classification_report(y_true,y_pred,target_names=target_names))"
   ]
  },
  {
   "cell_type": "markdown",
   "id": "11e61747",
   "metadata": {},
   "source": [
    "#### Insights on Results\n",
    "\n",
    "I see that 0.5 is a good threshold as it produces an accuracy of 0.92, and we know that an accuracy closest to 1.00 is most desirable. If someone wanted to predict whether a comment was toxic or not, then a threshold of 0.5 would be a good value to compare its toxicity score to. "
   ]
  },
  {
   "cell_type": "markdown",
   "id": "3063cbaa",
   "metadata": {},
   "source": [
    "## Step 3) Get the best threshold by computing the RoC curve"
   ]
  },
  {
   "cell_type": "code",
   "execution_count": 157,
   "id": "e71bbe92",
   "metadata": {},
   "outputs": [
    {
     "name": "stdout",
     "output_type": "stream",
     "text": [
      "Threshold = 2.0000, TPR = 0.0000, FPR = 0.0000\n",
      "Threshold = 1.0000, TPR = 0.9161, FPR = 0.0784\n",
      "Threshold = 0.0000, TPR = 1.0000, FPR = 1.0000\n"
     ]
    },
    {
     "data": {
      "image/png": "[encoded data removed]",
      "text/plain": [
       "<Figure size 640x480 with 1 Axes>"
      ]
     },
     "metadata": {},
     "output_type": "display_data"
    },
    {
     "name": "stdout",
     "output_type": "stream",
     "text": [
      "Optimal threshold value is: 1\n"
     ]
    }
   ],
   "source": [
    "from sklearn import metrics\n",
    "import matplotlib.pyplot as plt\n",
    "\n",
    "fpr, tpr, thresholds = metrics.roc_curve(y_true, y_pred)\n",
    "i = 0\n",
    "# for f in fpr:\n",
    "#     print (f\"Threshold = {thresholds[i]}, TPR = {tpr[i]} FPR = {f}\")\n",
    "#     i+=1\n",
    "    \n",
    "\n",
    "# Plot ROC curve\n",
    "plt.plot(fpr, tpr)\n",
    "\n",
    "# Set axis labels and title\n",
    "plt.xlabel('False Positive Rate')\n",
    "plt.ylabel('True Positive Rate')\n",
    "plt.title('ROC Curve')\n",
    "\n",
    "# Print threshold, TPR, and FPR for each point on the curve\n",
    "for i in range(len(thresholds)):\n",
    "    print(f\"Threshold = {thresholds[i]:.4f}, TPR = {tpr[i]:.4f}, FPR = {fpr[i]:.4f}\")\n",
    "\n",
    "# Show the plot\n",
    "plt.show()\n",
    "\n",
    "optimal_idx = np.argmax(tpr - fpr)\n",
    "optimal_threshold = thresholds[optimal_idx]\n",
    "print(\"Optimal threshold value is:\", optimal_threshold)"
   ]
  },
  {
   "cell_type": "markdown",
   "id": "a31c061d",
   "metadata": {},
   "source": [
    "### Insights\n",
    "Based on the RoC curve which threshold value is best? Write your threshold value and insights in a markdown block. Was 0.5 a good or bad threshold, based on the RoC analysis? \n",
    "* **Best threshold value based on RoC curve: 1**, or values more closer to 1 like 0.75.\n",
    "* In seeing the provided threshold value by the RoC curve, I was shocked to see how values closer to 1 were better thresholds. In the step before, 0.5 yielded a higher accuracy, so I thought the RoC analysis was going to support this. According to the RoC analysis, a threshold of 0.5 is not really considered \"good\". "
   ]
  },
  {
   "cell_type": "markdown",
   "id": "69e5e052",
   "metadata": {},
   "source": [
    "## Step 4) Generate classification report with the updated threshold"
   ]
  },
  {
   "cell_type": "code",
   "execution_count": 158,
   "id": "a81d4c7b",
   "metadata": {},
   "outputs": [
    {
     "name": "stdout",
     "output_type": "stream",
     "text": [
      "Transformed Scores Again\n",
      "---------------------\n",
      "[0, 0, 0, 0, 0, 0, 0, 0, 0, 0, 0, 0, 0, 0, 0, 0, 0, 0, 0, 0, 0, 0, 0, 0, 0, 0, 0, 0, 0, 0, 0, 0, 0, 0, 0, 0, 0, 0, 0, 0, 0, 0, 0, 0, 0, 0, 0, 0, 0, 0, 0, 0, 0, 0, 0, 0, 0, 0, 0, 0, 0, 0, 0, 0, 0, 0, 0, 0, 0, 0, 0, 0, 0, 0, 0, 0, 0, 0, 0, 0, 0, 0, 0, 0, 0, 0, 0, 0, 0, 0, 0, 0, 0, 0, 0, 0, 0, 0, 0, 0, 0, 0, 0, 0, 0, 0, 0, 0, 0, 0, 0, 0, 0, 0, 0, 0, 0, 0, 0, 0, 0, 0, 0, 0, 0, 0, 0, 0, 0, 0, 0, 0, 0, 0, 0, 0, 0, 0, 0, 0, 0, 0, 0, 0, 0, 0, 0, 0, 0, 0, 0, 0, 0, 0, 0, 0, 0, 0, 0, 0, 0, 0, 0, 0, 0, 0, 0, 0, 0, 0, 0, 0, 0, 0, 0, 0, 0, 0, 0, 0, 0, 0, 0, 0, 0, 0, 0, 0, 0, 0, 0, 0, 0, 0, 0, 0, 0, 0, 0, 0, 0, 0, 0, 0, 0, 0, 0, 0, 0, 0, 0, 0, 0, 0, 0, 0, 0, 0, 0, 0, 0, 0, 0, 0, 0, 0, 0, 0, 0, 0, 0, 0, 0, 0, 0, 0, 0, 0, 0, 0, 0, 0, 0, 0, 0, 0, 0, 0, 0, 0, 0, 0, 0, 0, 0, 0, 0, 0, 0, 0, 0, 0, 0, 0, 0, 0, 0, 0, 0, 0, 0, 0, 0, 0, 0, 0, 0, 0, 0, 0, 0, 0, 0, 0, 0, 0, 0, 0, 0, 0, 0, 0, 0, 0, 0, 0, 0, 0, 0, 0, 0, 0, 0, 0, 0, 0, 0, 0, 0, 0, 0, 0, 0, 0, 0, 0, 0, 0, 0, 0, 0, 0, 0, 0, 0, 0, 0, 0, 0, 0, 0, 0, 0, 0, 0, 0, 0, 0, 0, 0, 0, 0, 0, 0, 0, 0, 0, 0, 0, 0, 0, 0, 0, 0, 0, 0, 0, 0, 0, 0, 0, 0, 0, 0, 0, 0, 0, 0, 0, 0, 0, 0, 0, 0, 0, 0, 0, 0, 0, 0, 0, 0, 0, 0, 0, 0, 0, 0, 0, 0, 0, 0, 0, 0, 0, 0, 0, 0, 0, 0, 0, 0, 0, 0, 0, 0, 0, 0, 0, 0, 0, 0, 0, 0, 0, 0, 0, 0, 0, 0, 0, 0, 0, 0, 0, 0, 0, 0, 0, 0, 0, 0, 0, 0, 0, 0, 0, 0, 0, 0, 0, 0, 0, 0, 0, 0, 0, 0, 0, 0, 0, 0, 0, 0, 0, 0, 0, 0, 0, 0, 0, 0, 0, 0, 0, 0, 0, 0, 0, 0, 0, 0, 0, 0, 0, 0, 0, 0, 0, 0, 0, 0, 0, 0, 0, 0, 0, 0, 0, 0, 0, 0, 0, 0, 0, 0, 0, 0, 0, 0]\n"
     ]
    }
   ],
   "source": [
    "# Set the threshold to <updated threshold>\n",
    "# compute the labels for all entries in \"toxicity_scores\" column\n",
    "transformed_toxicity_scores_v2 = []\n",
    "for score in toxic_score_list:\n",
    "    if score > 1:\n",
    "        toxic_label = 1\n",
    "    else:\n",
    "        toxic_label = 0\n",
    "    transformed_toxicity_scores_v2.append(toxic_label)\n",
    "    \n",
    "print('Transformed Scores Again','---------------------', transformed_toxicity_scores_v2,sep='\\n')"
   ]
  },
  {
   "cell_type": "code",
   "execution_count": 159,
   "id": "5a209e91",
   "metadata": {},
   "outputs": [
    {
     "data": {
      "text/html": [
       "<div>\n",
       "<style scoped>\n",
       "    .dataframe tbody tr th:only-of-type {\n",
       "        vertical-align: middle;\n",
       "    }\n",
       "\n",
       "    .dataframe tbody tr th {\n",
       "        vertical-align: top;\n",
       "    }\n",
       "\n",
       "    .dataframe thead th {\n",
       "        text-align: right;\n",
       "    }\n",
       "</style>\n",
       "<table border=\"1\" class=\"dataframe\">\n",
       "  <thead>\n",
       "    <tr style=\"text-align: right;\">\n",
       "      <th></th>\n",
       "      <th>comment_text</th>\n",
       "      <th>toxicity_scores</th>\n",
       "      <th>toxic_predicted</th>\n",
       "      <th>toxic</th>\n",
       "      <th>toxic_predicted_new</th>\n",
       "    </tr>\n",
       "  </thead>\n",
       "  <tbody>\n",
       "    <tr>\n",
       "      <th>0</th>\n",
       "      <td>Thank you</td>\n",
       "      <td>0.011309</td>\n",
       "      <td>0</td>\n",
       "      <td>0</td>\n",
       "      <td>0</td>\n",
       "    </tr>\n",
       "    <tr>\n",
       "      <th>1</th>\n",
       "      <td>dbadvert tag on KPDFCA   Wow Doesnt seem to...</td>\n",
       "      <td>0.150481</td>\n",
       "      <td>0</td>\n",
       "      <td>0</td>\n",
       "      <td>0</td>\n",
       "    </tr>\n",
       "    <tr>\n",
       "      <th>2</th>\n",
       "      <td>Good Bye Intoronto1125 RIP  Hope to see you in...</td>\n",
       "      <td>0.730815</td>\n",
       "      <td>1</td>\n",
       "      <td>1</td>\n",
       "      <td>0</td>\n",
       "    </tr>\n",
       "    <tr>\n",
       "      <th>3</th>\n",
       "      <td>You were trying to ban me Perhaps in future yo...</td>\n",
       "      <td>0.507899</td>\n",
       "      <td>1</td>\n",
       "      <td>1</td>\n",
       "      <td>0</td>\n",
       "    </tr>\n",
       "    <tr>\n",
       "      <th>4</th>\n",
       "      <td>retarded cousin of the spork</td>\n",
       "      <td>0.637829</td>\n",
       "      <td>1</td>\n",
       "      <td>1</td>\n",
       "      <td>0</td>\n",
       "    </tr>\n",
       "  </tbody>\n",
       "</table>\n",
       "</div>"
      ],
      "text/plain": [
       "                                        comment_text  toxicity_scores  \\\n",
       "0                                          Thank you         0.011309   \n",
       "1     dbadvert tag on KPDFCA   Wow Doesnt seem to...         0.150481   \n",
       "2  Good Bye Intoronto1125 RIP  Hope to see you in...         0.730815   \n",
       "3  You were trying to ban me Perhaps in future yo...         0.507899   \n",
       "4                       retarded cousin of the spork         0.637829   \n",
       "\n",
       "   toxic_predicted  toxic  toxic_predicted_new  \n",
       "0                0      0                    0  \n",
       "1                0      0                    0  \n",
       "2                1      1                    0  \n",
       "3                1      1                    0  \n",
       "4                1      1                    0  "
      ]
     },
     "execution_count": 159,
     "metadata": {},
     "output_type": "execute_result"
    }
   ],
   "source": [
    "# Form another column named \"toxic_predicted_new\"\n",
    "df['toxic_predicted_new'] = transformed_toxicity_scores_v2\n",
    "df.head()"
   ]
  },
  {
   "cell_type": "code",
   "execution_count": 160,
   "id": "d671ef1c",
   "metadata": {
    "scrolled": true
   },
   "outputs": [
    {
     "name": "stdout",
     "output_type": "stream",
     "text": [
      "              precision    recall  f1-score   support\n",
      "\n",
      "     class 0       0.71      1.00      0.83       357\n",
      "     class 1       0.00      0.00      0.00       143\n",
      "\n",
      "    accuracy                           0.71       500\n",
      "   macro avg       0.36      0.50      0.42       500\n",
      "weighted avg       0.51      0.71      0.59       500\n",
      "\n"
     ]
    }
   ],
   "source": [
    "# Generate a classification report using sklearn.metrics.classification_report. Consider toxic and toxic_predicted_new columns.\n",
    "from sklearn.metrics import classification_report\n",
    "\n",
    "num = 0\n",
    "set_value = 50\n",
    "y_true = [] # toxic\n",
    "y_pred =[] # toxic_predicted_new\n",
    "\n",
    "# taking first few rows\n",
    "while num < set_value:\n",
    "    for index, toxic in df.iterrows():\n",
    "        toxic = toxic['toxic']\n",
    "        y_true.append(toxic)\n",
    "        num += 1 \n",
    "\n",
    "# print('y_true:',y_true)\n",
    "\n",
    "num = 0 \n",
    "\n",
    "while num < set_value:\n",
    "    for index, toxic_predicted in df.iterrows():\n",
    "        toxic_predicted = toxic_predicted['toxic_predicted_new']\n",
    "        y_pred.append(toxic_predicted)\n",
    "        num += 1 \n",
    "\n",
    "# print('y_pred:',y_pred)\n",
    "\n",
    "target_names = ['class 0','class 1']\n",
    "print(classification_report(y_true,y_pred,target_names=target_names))"
   ]
  },
  {
   "cell_type": "markdown",
   "id": "619b3d1b",
   "metadata": {},
   "source": [
    "### Insights\n",
    "What do you make out of the results? Write your insights in a markdown block.\n",
    "\n",
    "* After doing a classification report with a threshold of 1, I see that accuracy actually went down by at least 0.20. This tells me that very high thresholds are not good as they produce a lower accuracy. Perhaps there was an error in determining the best threshold using the RoC analysis. \n",
    "* Threshold values closer to 0.5 rather than 1 actually produce higher accuracy, contrary to the RoC analysis results. "
   ]
  },
  {
   "cell_type": "markdown",
   "id": "d1c5d1ee",
   "metadata": {},
   "source": [
    "### Testing a threshold of 0.55 (for extra measures)"
   ]
  },
  {
   "cell_type": "code",
   "execution_count": 161,
   "id": "86ca70b5",
   "metadata": {},
   "outputs": [],
   "source": [
    "# Set the threshold to <updated threshold>\n",
    "# compute the labels for all entries in \"toxicity_scores\" column\n",
    "transformed_toxicity_scores_v2 = []\n",
    "for score in toxic_score_list:\n",
    "    if score > 0.55:\n",
    "        toxic_label = 1\n",
    "    else:\n",
    "        toxic_label = 0\n",
    "    transformed_toxicity_scores_v2.append(toxic_label)\n",
    "    \n",
    "# print('Transformed Scores Again','---------------------', transformed_toxicity_scores_v2,sep='\\n')"
   ]
  },
  {
   "cell_type": "code",
   "execution_count": 162,
   "id": "a04896a8",
   "metadata": {},
   "outputs": [],
   "source": [
    "# Form another column named \"toxic_predicted_new\"\n",
    "df['toxic_predicted_new'] = transformed_toxicity_scores_v2"
   ]
  },
  {
   "cell_type": "code",
   "execution_count": 163,
   "id": "4f74f713",
   "metadata": {},
   "outputs": [
    {
     "data": {
      "text/html": [
       "<div>\n",
       "<style scoped>\n",
       "    .dataframe tbody tr th:only-of-type {\n",
       "        vertical-align: middle;\n",
       "    }\n",
       "\n",
       "    .dataframe tbody tr th {\n",
       "        vertical-align: top;\n",
       "    }\n",
       "\n",
       "    .dataframe thead th {\n",
       "        text-align: right;\n",
       "    }\n",
       "</style>\n",
       "<table border=\"1\" class=\"dataframe\">\n",
       "  <thead>\n",
       "    <tr style=\"text-align: right;\">\n",
       "      <th></th>\n",
       "      <th>comment_text</th>\n",
       "      <th>toxicity_scores</th>\n",
       "      <th>toxic_predicted</th>\n",
       "      <th>toxic</th>\n",
       "      <th>toxic_predicted_new</th>\n",
       "    </tr>\n",
       "  </thead>\n",
       "  <tbody>\n",
       "    <tr>\n",
       "      <th>0</th>\n",
       "      <td>Thank you</td>\n",
       "      <td>0.011309</td>\n",
       "      <td>0</td>\n",
       "      <td>0</td>\n",
       "      <td>0</td>\n",
       "    </tr>\n",
       "    <tr>\n",
       "      <th>1</th>\n",
       "      <td>dbadvert tag on KPDFCA   Wow Doesnt seem to...</td>\n",
       "      <td>0.150481</td>\n",
       "      <td>0</td>\n",
       "      <td>0</td>\n",
       "      <td>0</td>\n",
       "    </tr>\n",
       "    <tr>\n",
       "      <th>2</th>\n",
       "      <td>Good Bye Intoronto1125 RIP  Hope to see you in...</td>\n",
       "      <td>0.730815</td>\n",
       "      <td>1</td>\n",
       "      <td>1</td>\n",
       "      <td>1</td>\n",
       "    </tr>\n",
       "    <tr>\n",
       "      <th>3</th>\n",
       "      <td>You were trying to ban me Perhaps in future yo...</td>\n",
       "      <td>0.507899</td>\n",
       "      <td>1</td>\n",
       "      <td>1</td>\n",
       "      <td>0</td>\n",
       "    </tr>\n",
       "    <tr>\n",
       "      <th>4</th>\n",
       "      <td>retarded cousin of the spork</td>\n",
       "      <td>0.637829</td>\n",
       "      <td>1</td>\n",
       "      <td>1</td>\n",
       "      <td>1</td>\n",
       "    </tr>\n",
       "  </tbody>\n",
       "</table>\n",
       "</div>"
      ],
      "text/plain": [
       "                                        comment_text  toxicity_scores  \\\n",
       "0                                          Thank you         0.011309   \n",
       "1     dbadvert tag on KPDFCA   Wow Doesnt seem to...         0.150481   \n",
       "2  Good Bye Intoronto1125 RIP  Hope to see you in...         0.730815   \n",
       "3  You were trying to ban me Perhaps in future yo...         0.507899   \n",
       "4                       retarded cousin of the spork         0.637829   \n",
       "\n",
       "   toxic_predicted  toxic  toxic_predicted_new  \n",
       "0                0      0                    0  \n",
       "1                0      0                    0  \n",
       "2                1      1                    1  \n",
       "3                1      1                    0  \n",
       "4                1      1                    1  "
      ]
     },
     "execution_count": 163,
     "metadata": {},
     "output_type": "execute_result"
    }
   ],
   "source": [
    "# Form another column named \"toxic_predicted_new\"\n",
    "df['toxic_predicted_new'] = transformed_toxicity_scores_v2\n",
    "df.head()"
   ]
  },
  {
   "cell_type": "code",
   "execution_count": 164,
   "id": "f940e9ba",
   "metadata": {},
   "outputs": [
    {
     "name": "stdout",
     "output_type": "stream",
     "text": [
      "              precision    recall  f1-score   support\n",
      "\n",
      "     class 0       0.93      0.95      0.94       357\n",
      "     class 1       0.87      0.82      0.84       143\n",
      "\n",
      "    accuracy                           0.91       500\n",
      "   macro avg       0.90      0.88      0.89       500\n",
      "weighted avg       0.91      0.91      0.91       500\n",
      "\n"
     ]
    }
   ],
   "source": [
    "# Generate a classification report using sklearn.metrics.classification_report. Consider toxic and toxic_predicted_new columns.\n",
    "from sklearn.metrics import classification_report\n",
    "\n",
    "num = 0\n",
    "set_value = 50\n",
    "y_true = [] # toxic\n",
    "y_pred =[] # toxic_predicted_new\n",
    "\n",
    "# taking first few rows\n",
    "while num < set_value:\n",
    "    for index, toxic in df.iterrows():\n",
    "        toxic = toxic['toxic']\n",
    "        y_true.append(toxic)\n",
    "        num += 1 \n",
    "\n",
    "# print('y_true:',y_true)\n",
    "\n",
    "num = 0 \n",
    "\n",
    "while num < set_value:\n",
    "    for index, toxic_predicted in df.iterrows():\n",
    "        toxic_predicted = toxic_predicted['toxic_predicted_new']\n",
    "        y_pred.append(toxic_predicted)\n",
    "        num += 1 \n",
    "\n",
    "# print('y_pred:',y_pred)\n",
    "\n",
    "target_names = ['class 0','class 1']\n",
    "print(classification_report(y_true,y_pred,target_names=target_names))"
   ]
  },
  {
   "cell_type": "markdown",
   "id": "d33eb45f",
   "metadata": {},
   "source": [
    "### More Thresholds Tested for Experimentation Purposes\n",
    "\n",
    "* threshold: 0.2 - accuracy: 0.8\n",
    "* threshold: 0.55 - accuracy: 0.91\n",
    "* threshold: 0.8 - accuracy: 0.8\n",
    "* threshold: 0.9 - accuracy: 0.74\n",
    "\n",
    "Thresholds closer to 0 and 1 produce lower accuracies."
   ]
  }
 ],
 "metadata": {
  "kernelspec": {
   "display_name": "Python 3 (ipykernel)",
   "language": "python",
   "name": "python3"
  },
  "language_info": {
   "codemirror_mode": {
    "name": "ipython",
    "version": 3
   },
   "file_extension": ".py",
   "mimetype": "text/x-python",
   "name": "python",
   "nbconvert_exporter": "python",
   "pygments_lexer": "ipython3",
   "version": "3.9.13"
  }
 },
 "nbformat": 4,
 "nbformat_minor": 5
}
