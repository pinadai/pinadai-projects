{
 "cells": [
  {
   "cell_type": "markdown",
   "id": "eac0620e",
   "metadata": {},
   "source": [
    "# Predicting Heart Attacks Using Machine Learning Techniques\n",
    "Anjali Kanumuri, Maahe Kazmi, Daisy Pinaroc, Maddy Thattanakham\n",
    "\n",
    "I 320D: Applied Machine Learning with Python\n",
    "\n",
    "May 1, 2023"
   ]
  },
  {
   "cell_type": "markdown",
   "id": "9c2ffd15",
   "metadata": {},
   "source": [
    "We'll first start by importing any necessary libraries."
   ]
  },
  {
   "cell_type": "code",
   "execution_count": 1,
   "id": "f11f15c4",
   "metadata": {},
   "outputs": [],
   "source": [
    "import pandas as pd\n",
    "import numpy\n",
    "from sklearn.linear_model import LogisticRegression\n",
    "from sklearn.metrics import classification_report"
   ]
  },
  {
   "cell_type": "markdown",
   "id": "147d1b9f",
   "metadata": {},
   "source": [
    "To get an inital view of our dataset, we decide to display the first 5 rows."
   ]
  },
  {
   "cell_type": "code",
   "execution_count": 2,
   "id": "6b3dd2e4",
   "metadata": {
    "scrolled": true
   },
   "outputs": [
    {
     "data": {
      "text/html": [
       "<div>\n",
       "<style scoped>\n",
       "    .dataframe tbody tr th:only-of-type {\n",
       "        vertical-align: middle;\n",
       "    }\n",
       "\n",
       "    .dataframe tbody tr th {\n",
       "        vertical-align: top;\n",
       "    }\n",
       "\n",
       "    .dataframe thead th {\n",
       "        text-align: right;\n",
       "    }\n",
       "</style>\n",
       "<table border=\"1\" class=\"dataframe\">\n",
       "  <thead>\n",
       "    <tr style=\"text-align: right;\">\n",
       "      <th></th>\n",
       "      <th>age</th>\n",
       "      <th>sex</th>\n",
       "      <th>cp</th>\n",
       "      <th>trestbps</th>\n",
       "      <th>chol</th>\n",
       "      <th>fbs</th>\n",
       "      <th>restecg</th>\n",
       "      <th>thalach</th>\n",
       "      <th>exang</th>\n",
       "      <th>oldpeak</th>\n",
       "      <th>slope</th>\n",
       "      <th>ca</th>\n",
       "      <th>thal</th>\n",
       "      <th>target</th>\n",
       "    </tr>\n",
       "  </thead>\n",
       "  <tbody>\n",
       "    <tr>\n",
       "      <th>0</th>\n",
       "      <td>63</td>\n",
       "      <td>1</td>\n",
       "      <td>3</td>\n",
       "      <td>145</td>\n",
       "      <td>233</td>\n",
       "      <td>1</td>\n",
       "      <td>0</td>\n",
       "      <td>150</td>\n",
       "      <td>0</td>\n",
       "      <td>2.3</td>\n",
       "      <td>0</td>\n",
       "      <td>0</td>\n",
       "      <td>1</td>\n",
       "      <td>1</td>\n",
       "    </tr>\n",
       "    <tr>\n",
       "      <th>1</th>\n",
       "      <td>37</td>\n",
       "      <td>1</td>\n",
       "      <td>2</td>\n",
       "      <td>130</td>\n",
       "      <td>250</td>\n",
       "      <td>0</td>\n",
       "      <td>1</td>\n",
       "      <td>187</td>\n",
       "      <td>0</td>\n",
       "      <td>3.5</td>\n",
       "      <td>0</td>\n",
       "      <td>0</td>\n",
       "      <td>2</td>\n",
       "      <td>1</td>\n",
       "    </tr>\n",
       "    <tr>\n",
       "      <th>2</th>\n",
       "      <td>41</td>\n",
       "      <td>0</td>\n",
       "      <td>1</td>\n",
       "      <td>130</td>\n",
       "      <td>204</td>\n",
       "      <td>0</td>\n",
       "      <td>0</td>\n",
       "      <td>172</td>\n",
       "      <td>0</td>\n",
       "      <td>1.4</td>\n",
       "      <td>2</td>\n",
       "      <td>0</td>\n",
       "      <td>2</td>\n",
       "      <td>1</td>\n",
       "    </tr>\n",
       "    <tr>\n",
       "      <th>3</th>\n",
       "      <td>56</td>\n",
       "      <td>1</td>\n",
       "      <td>1</td>\n",
       "      <td>120</td>\n",
       "      <td>236</td>\n",
       "      <td>0</td>\n",
       "      <td>1</td>\n",
       "      <td>178</td>\n",
       "      <td>0</td>\n",
       "      <td>0.8</td>\n",
       "      <td>2</td>\n",
       "      <td>0</td>\n",
       "      <td>2</td>\n",
       "      <td>1</td>\n",
       "    </tr>\n",
       "    <tr>\n",
       "      <th>4</th>\n",
       "      <td>57</td>\n",
       "      <td>0</td>\n",
       "      <td>0</td>\n",
       "      <td>120</td>\n",
       "      <td>354</td>\n",
       "      <td>0</td>\n",
       "      <td>1</td>\n",
       "      <td>163</td>\n",
       "      <td>1</td>\n",
       "      <td>0.6</td>\n",
       "      <td>2</td>\n",
       "      <td>0</td>\n",
       "      <td>2</td>\n",
       "      <td>1</td>\n",
       "    </tr>\n",
       "  </tbody>\n",
       "</table>\n",
       "</div>"
      ],
      "text/plain": [
       "   age  sex  cp  trestbps  chol  fbs  restecg  thalach  exang  oldpeak  slope  \\\n",
       "0   63    1   3       145   233    1        0      150      0      2.3      0   \n",
       "1   37    1   2       130   250    0        1      187      0      3.5      0   \n",
       "2   41    0   1       130   204    0        0      172      0      1.4      2   \n",
       "3   56    1   1       120   236    0        1      178      0      0.8      2   \n",
       "4   57    0   0       120   354    0        1      163      1      0.6      2   \n",
       "\n",
       "   ca  thal  target  \n",
       "0   0     1       1  \n",
       "1   0     2       1  \n",
       "2   0     2       1  \n",
       "3   0     2       1  \n",
       "4   0     2       1  "
      ]
     },
     "execution_count": 2,
     "metadata": {},
     "output_type": "execute_result"
    }
   ],
   "source": [
    "df = pd.read_csv('heart.csv')\n",
    "\n",
    "df.head()"
   ]
  },
  {
   "cell_type": "code",
   "execution_count": 3,
   "id": "6b2beb23",
   "metadata": {},
   "outputs": [
    {
     "data": {
      "text/plain": [
       "Index(['age', 'sex', 'cp', 'trestbps', 'chol', 'fbs', 'restecg', 'thalach',\n",
       "       'exang', 'oldpeak', 'slope', 'ca', 'thal', 'target'],\n",
       "      dtype='object')"
      ]
     },
     "execution_count": 3,
     "metadata": {},
     "output_type": "execute_result"
    }
   ],
   "source": [
    "df.columns"
   ]
  },
  {
   "cell_type": "code",
   "execution_count": 4,
   "id": "ae5cd213",
   "metadata": {},
   "outputs": [],
   "source": [
    "from sklearn.preprocessing import OneHotEncoder, MinMaxScaler\n",
    "df = df.drop_duplicates()"
   ]
  },
  {
   "cell_type": "code",
   "execution_count": 5,
   "id": "e66776c3",
   "metadata": {},
   "outputs": [
    {
     "data": {
      "text/html": [
       "<div>\n",
       "<style scoped>\n",
       "    .dataframe tbody tr th:only-of-type {\n",
       "        vertical-align: middle;\n",
       "    }\n",
       "\n",
       "    .dataframe tbody tr th {\n",
       "        vertical-align: top;\n",
       "    }\n",
       "\n",
       "    .dataframe thead th {\n",
       "        text-align: right;\n",
       "    }\n",
       "</style>\n",
       "<table border=\"1\" class=\"dataframe\">\n",
       "  <thead>\n",
       "    <tr style=\"text-align: right;\">\n",
       "      <th></th>\n",
       "      <th>age</th>\n",
       "      <th>sex</th>\n",
       "      <th>cp</th>\n",
       "      <th>trestbps</th>\n",
       "      <th>chol</th>\n",
       "      <th>fbs</th>\n",
       "      <th>restecg</th>\n",
       "      <th>exang</th>\n",
       "      <th>oldpeak</th>\n",
       "      <th>slope</th>\n",
       "      <th>ca</th>\n",
       "      <th>thal</th>\n",
       "    </tr>\n",
       "  </thead>\n",
       "  <tbody>\n",
       "    <tr>\n",
       "      <th>0</th>\n",
       "      <td>63</td>\n",
       "      <td>1</td>\n",
       "      <td>3</td>\n",
       "      <td>145</td>\n",
       "      <td>233</td>\n",
       "      <td>1</td>\n",
       "      <td>0</td>\n",
       "      <td>0</td>\n",
       "      <td>2.3</td>\n",
       "      <td>0</td>\n",
       "      <td>0</td>\n",
       "      <td>1</td>\n",
       "    </tr>\n",
       "    <tr>\n",
       "      <th>1</th>\n",
       "      <td>37</td>\n",
       "      <td>1</td>\n",
       "      <td>2</td>\n",
       "      <td>130</td>\n",
       "      <td>250</td>\n",
       "      <td>0</td>\n",
       "      <td>1</td>\n",
       "      <td>0</td>\n",
       "      <td>3.5</td>\n",
       "      <td>0</td>\n",
       "      <td>0</td>\n",
       "      <td>2</td>\n",
       "    </tr>\n",
       "    <tr>\n",
       "      <th>2</th>\n",
       "      <td>41</td>\n",
       "      <td>0</td>\n",
       "      <td>1</td>\n",
       "      <td>130</td>\n",
       "      <td>204</td>\n",
       "      <td>0</td>\n",
       "      <td>0</td>\n",
       "      <td>0</td>\n",
       "      <td>1.4</td>\n",
       "      <td>2</td>\n",
       "      <td>0</td>\n",
       "      <td>2</td>\n",
       "    </tr>\n",
       "    <tr>\n",
       "      <th>3</th>\n",
       "      <td>56</td>\n",
       "      <td>1</td>\n",
       "      <td>1</td>\n",
       "      <td>120</td>\n",
       "      <td>236</td>\n",
       "      <td>0</td>\n",
       "      <td>1</td>\n",
       "      <td>0</td>\n",
       "      <td>0.8</td>\n",
       "      <td>2</td>\n",
       "      <td>0</td>\n",
       "      <td>2</td>\n",
       "    </tr>\n",
       "    <tr>\n",
       "      <th>4</th>\n",
       "      <td>57</td>\n",
       "      <td>0</td>\n",
       "      <td>0</td>\n",
       "      <td>120</td>\n",
       "      <td>354</td>\n",
       "      <td>0</td>\n",
       "      <td>1</td>\n",
       "      <td>1</td>\n",
       "      <td>0.6</td>\n",
       "      <td>2</td>\n",
       "      <td>0</td>\n",
       "      <td>2</td>\n",
       "    </tr>\n",
       "  </tbody>\n",
       "</table>\n",
       "</div>"
      ],
      "text/plain": [
       "   age  sex  cp  trestbps  chol  fbs  restecg  exang  oldpeak  slope  ca  thal\n",
       "0   63    1   3       145   233    1        0      0      2.3      0   0     1\n",
       "1   37    1   2       130   250    0        1      0      3.5      0   0     2\n",
       "2   41    0   1       130   204    0        0      0      1.4      2   0     2\n",
       "3   56    1   1       120   236    0        1      0      0.8      2   0     2\n",
       "4   57    0   0       120   354    0        1      1      0.6      2   0     2"
      ]
     },
     "execution_count": 5,
     "metadata": {},
     "output_type": "execute_result"
    }
   ],
   "source": [
    "# Selecting all relevant columns (includes features and labels)\n",
    "selected_columns_df = df[[\"age\", \"sex\", \"cp\", \"trestbps\", \"chol\", \"fbs\", \"restecg\", \"exang\", \"oldpeak\", \"slope\",\"ca\",\"thal\",\"target\"]]\n",
    "\n",
    "# Dropping any incomplete columns (columns with nan values)\n",
    "selected_columns_df = selected_columns_df.dropna()\n",
    "\n",
    "heart_features_df = selected_columns_df[[\"age\", \"sex\", \"cp\", \"trestbps\", \"chol\", \"fbs\", \"restecg\", \"exang\", \"oldpeak\", \"slope\",\"ca\",\"thal\"]]\n",
    "heart_features_df.head()\n"
   ]
  },
  {
   "cell_type": "markdown",
   "id": "11c2aeba",
   "metadata": {},
   "source": [
    "Features we used:\n",
    "* Age: Integer\n",
    "* Sex: Categorical\n",
    "* Chest Pain: Categorical\n",
    "* Resting blood pressure: Integer\n",
    "* Cholesterol: Integer\n",
    "* Fasting Blood Sugar: Categorical\n",
    "* Resting electrocardiograph results: Categorical\n",
    "* Thalach: Integer\n",
    "* Exercise-induced Angina: Categorical\n",
    "* Oldpeak: Float\n",
    "* Slope: Categorical\n",
    "* Number of Major Vessels (ca): Integer\n",
    "* Thalassemia: Categorical"
   ]
  },
  {
   "cell_type": "code",
   "execution_count": 6,
   "id": "8aa2517d",
   "metadata": {},
   "outputs": [
    {
     "data": {
      "text/html": [
       "<div>\n",
       "<style scoped>\n",
       "    .dataframe tbody tr th:only-of-type {\n",
       "        vertical-align: middle;\n",
       "    }\n",
       "\n",
       "    .dataframe tbody tr th {\n",
       "        vertical-align: top;\n",
       "    }\n",
       "\n",
       "    .dataframe thead th {\n",
       "        text-align: right;\n",
       "    }\n",
       "</style>\n",
       "<table border=\"1\" class=\"dataframe\">\n",
       "  <thead>\n",
       "    <tr style=\"text-align: right;\">\n",
       "      <th></th>\n",
       "      <th>target</th>\n",
       "    </tr>\n",
       "  </thead>\n",
       "  <tbody>\n",
       "    <tr>\n",
       "      <th>0</th>\n",
       "      <td>1</td>\n",
       "    </tr>\n",
       "    <tr>\n",
       "      <th>1</th>\n",
       "      <td>1</td>\n",
       "    </tr>\n",
       "    <tr>\n",
       "      <th>2</th>\n",
       "      <td>1</td>\n",
       "    </tr>\n",
       "    <tr>\n",
       "      <th>3</th>\n",
       "      <td>1</td>\n",
       "    </tr>\n",
       "    <tr>\n",
       "      <th>4</th>\n",
       "      <td>1</td>\n",
       "    </tr>\n",
       "  </tbody>\n",
       "</table>\n",
       "</div>"
      ],
      "text/plain": [
       "   target\n",
       "0       1\n",
       "1       1\n",
       "2       1\n",
       "3       1\n",
       "4       1"
      ]
     },
     "execution_count": 6,
     "metadata": {},
     "output_type": "execute_result"
    }
   ],
   "source": [
    "# Defining our label\n",
    "target_df  = selected_columns_df[['target']]\n",
    "target_df.head()"
   ]
  },
  {
   "cell_type": "markdown",
   "id": "62fb6b04",
   "metadata": {},
   "source": [
    "Label\n",
    "* Target: Categorical"
   ]
  },
  {
   "cell_type": "markdown",
   "id": "0b974396",
   "metadata": {},
   "source": [
    "# Feature Engineering\n",
    "## MinMax Scaling"
   ]
  },
  {
   "cell_type": "code",
   "execution_count": 7,
   "id": "66d25f77",
   "metadata": {},
   "outputs": [
    {
     "name": "stderr",
     "output_type": "stream",
     "text": [
      "C:\\Users\\daisy\\AppData\\Local\\Temp\\ipykernel_20708\\851435905.py:4: SettingWithCopyWarning: \n",
      "A value is trying to be set on a copy of a slice from a DataFrame.\n",
      "Try using .loc[row_indexer,col_indexer] = value instead\n",
      "\n",
      "See the caveats in the documentation: https://pandas.pydata.org/pandas-docs/stable/user_guide/indexing.html#returning-a-view-versus-a-copy\n",
      "  heart_features_df[all_columns] = scaler.fit_transform(heart_features_df[all_columns])\n"
     ]
    },
    {
     "data": {
      "text/html": [
       "<div>\n",
       "<style scoped>\n",
       "    .dataframe tbody tr th:only-of-type {\n",
       "        vertical-align: middle;\n",
       "    }\n",
       "\n",
       "    .dataframe tbody tr th {\n",
       "        vertical-align: top;\n",
       "    }\n",
       "\n",
       "    .dataframe thead th {\n",
       "        text-align: right;\n",
       "    }\n",
       "</style>\n",
       "<table border=\"1\" class=\"dataframe\">\n",
       "  <thead>\n",
       "    <tr style=\"text-align: right;\">\n",
       "      <th></th>\n",
       "      <th>age</th>\n",
       "      <th>sex</th>\n",
       "      <th>cp</th>\n",
       "      <th>trestbps</th>\n",
       "      <th>chol</th>\n",
       "      <th>fbs</th>\n",
       "      <th>restecg</th>\n",
       "      <th>exang</th>\n",
       "      <th>oldpeak</th>\n",
       "      <th>slope</th>\n",
       "      <th>ca</th>\n",
       "      <th>thal</th>\n",
       "    </tr>\n",
       "  </thead>\n",
       "  <tbody>\n",
       "    <tr>\n",
       "      <th>0</th>\n",
       "      <td>0.708333</td>\n",
       "      <td>1.0</td>\n",
       "      <td>1.000000</td>\n",
       "      <td>0.481132</td>\n",
       "      <td>0.244292</td>\n",
       "      <td>1.0</td>\n",
       "      <td>0.0</td>\n",
       "      <td>0.0</td>\n",
       "      <td>0.370968</td>\n",
       "      <td>0.0</td>\n",
       "      <td>0.0</td>\n",
       "      <td>0.333333</td>\n",
       "    </tr>\n",
       "    <tr>\n",
       "      <th>1</th>\n",
       "      <td>0.166667</td>\n",
       "      <td>1.0</td>\n",
       "      <td>0.666667</td>\n",
       "      <td>0.339623</td>\n",
       "      <td>0.283105</td>\n",
       "      <td>0.0</td>\n",
       "      <td>0.5</td>\n",
       "      <td>0.0</td>\n",
       "      <td>0.564516</td>\n",
       "      <td>0.0</td>\n",
       "      <td>0.0</td>\n",
       "      <td>0.666667</td>\n",
       "    </tr>\n",
       "    <tr>\n",
       "      <th>2</th>\n",
       "      <td>0.250000</td>\n",
       "      <td>0.0</td>\n",
       "      <td>0.333333</td>\n",
       "      <td>0.339623</td>\n",
       "      <td>0.178082</td>\n",
       "      <td>0.0</td>\n",
       "      <td>0.0</td>\n",
       "      <td>0.0</td>\n",
       "      <td>0.225806</td>\n",
       "      <td>1.0</td>\n",
       "      <td>0.0</td>\n",
       "      <td>0.666667</td>\n",
       "    </tr>\n",
       "    <tr>\n",
       "      <th>3</th>\n",
       "      <td>0.562500</td>\n",
       "      <td>1.0</td>\n",
       "      <td>0.333333</td>\n",
       "      <td>0.245283</td>\n",
       "      <td>0.251142</td>\n",
       "      <td>0.0</td>\n",
       "      <td>0.5</td>\n",
       "      <td>0.0</td>\n",
       "      <td>0.129032</td>\n",
       "      <td>1.0</td>\n",
       "      <td>0.0</td>\n",
       "      <td>0.666667</td>\n",
       "    </tr>\n",
       "    <tr>\n",
       "      <th>4</th>\n",
       "      <td>0.583333</td>\n",
       "      <td>0.0</td>\n",
       "      <td>0.000000</td>\n",
       "      <td>0.245283</td>\n",
       "      <td>0.520548</td>\n",
       "      <td>0.0</td>\n",
       "      <td>0.5</td>\n",
       "      <td>1.0</td>\n",
       "      <td>0.096774</td>\n",
       "      <td>1.0</td>\n",
       "      <td>0.0</td>\n",
       "      <td>0.666667</td>\n",
       "    </tr>\n",
       "  </tbody>\n",
       "</table>\n",
       "</div>"
      ],
      "text/plain": [
       "        age  sex        cp  trestbps      chol  fbs  restecg  exang   oldpeak  \\\n",
       "0  0.708333  1.0  1.000000  0.481132  0.244292  1.0      0.0    0.0  0.370968   \n",
       "1  0.166667  1.0  0.666667  0.339623  0.283105  0.0      0.5    0.0  0.564516   \n",
       "2  0.250000  0.0  0.333333  0.339623  0.178082  0.0      0.0    0.0  0.225806   \n",
       "3  0.562500  1.0  0.333333  0.245283  0.251142  0.0      0.5    0.0  0.129032   \n",
       "4  0.583333  0.0  0.000000  0.245283  0.520548  0.0      0.5    1.0  0.096774   \n",
       "\n",
       "   slope   ca      thal  \n",
       "0    0.0  0.0  0.333333  \n",
       "1    0.0  0.0  0.666667  \n",
       "2    1.0  0.0  0.666667  \n",
       "3    1.0  0.0  0.666667  \n",
       "4    1.0  0.0  0.666667  "
      ]
     },
     "execution_count": 7,
     "metadata": {},
     "output_type": "execute_result"
    }
   ],
   "source": [
    "scaler = MinMaxScaler()\n",
    "all_columns = heart_features_df.columns\n",
    "\n",
    "heart_features_df[all_columns] = scaler.fit_transform(heart_features_df[all_columns])\n",
    "heart_features_df.head()"
   ]
  },
  {
   "cell_type": "markdown",
   "id": "c2136d23",
   "metadata": {},
   "source": [
    "# Feature Ablation Test\n",
    "Using Decision Tree & Ensemble Methods"
   ]
  },
  {
   "cell_type": "code",
   "execution_count": 8,
   "id": "84303f91",
   "metadata": {},
   "outputs": [
    {
     "name": "stdout",
     "output_type": "stream",
     "text": [
      "Fold 1 training data shape = ((243, 12), (243, 1))\n",
      "Fold 1 validation data shape = ((28, 12), (28, 1))\n",
      "Fold 2 training data shape = ((244, 12), (244, 1))\n",
      "Fold 2 validation data shape = ((27, 12), (27, 1))\n",
      "Fold 3 training data shape = ((244, 12), (244, 1))\n",
      "Fold 3 validation data shape = ((27, 12), (27, 1))\n",
      "Fold 4 training data shape = ((244, 12), (244, 1))\n",
      "Fold 4 validation data shape = ((27, 12), (27, 1))\n",
      "Fold 5 training data shape = ((244, 12), (244, 1))\n",
      "Fold 5 validation data shape = ((27, 12), (27, 1))\n",
      "Fold 6 training data shape = ((244, 12), (244, 1))\n",
      "Fold 6 validation data shape = ((27, 12), (27, 1))\n",
      "Fold 7 training data shape = ((244, 12), (244, 1))\n",
      "Fold 7 validation data shape = ((27, 12), (27, 1))\n",
      "Fold 8 training data shape = ((244, 12), (244, 1))\n",
      "Fold 8 validation data shape = ((27, 12), (27, 1))\n",
      "Fold 9 training data shape = ((244, 12), (244, 1))\n",
      "Fold 9 validation data shape = ((27, 12), (27, 1))\n",
      "Fold 10 training data shape = ((244, 12), (244, 1))\n",
      "Fold 10 validation data shape = ((27, 12), (27, 1))\n"
     ]
    }
   ],
   "source": [
    "from sklearn.model_selection import train_test_split\n",
    "from sklearn.model_selection import KFold\n",
    "\n",
    "# First extract our test data and store it in x_test, y_test\n",
    "features = heart_features_df.to_numpy()\n",
    "labels = target_df.to_numpy()\n",
    "_x, x_test, _y, y_test = train_test_split(features, labels, test_size=0.10, random_state=42)\n",
    "\n",
    "# set k = 5\n",
    "k = 10\n",
    "\n",
    "kfold_spliiter = KFold(n_splits=k)\n",
    "\n",
    "folds_data = [] # this is an inefficient way but still do it\n",
    "\n",
    "fold = 1\n",
    "for train_index, validation_index in kfold_spliiter.split(_x):\n",
    "    x_train , x_valid = _x[train_index,:],_x[validation_index,:]\n",
    "    y_train , y_valid = _y[train_index,:] , _y[validation_index,:]\n",
    "    print (f\"Fold {fold} training data shape = {(x_train.shape,y_train.shape)}\")\n",
    "    print (f\"Fold {fold} validation data shape = {(x_valid.shape,y_valid.shape)}\")\n",
    "    fold+=1\n",
    "    folds_data.append((x_train,y_train,x_valid,y_valid))"
   ]
  },
  {
   "cell_type": "code",
   "execution_count": 9,
   "id": "53c6a00e",
   "metadata": {},
   "outputs": [
    {
     "name": "stdout",
     "output_type": "stream",
     "text": [
      "We are working with classifiers dict_keys(['lr', 'svm', 'decision_tree', 'random_forest', 'grad_boost', 'voting'])\n"
     ]
    }
   ],
   "source": [
    "from sklearn.svm import SVC\n",
    "from sklearn.tree import DecisionTreeClassifier\n",
    "from sklearn.ensemble import RandomForestClassifier, GradientBoostingClassifier, VotingClassifier\n",
    "\n",
    "\n",
    "lr_vanilla = LogisticRegression(penalty=\"none\") # OR penalty=\"none\" depending on your sklearn version\n",
    "svm_linear = SVC(kernel=\"linear\")\n",
    "dt = DecisionTreeClassifier()\n",
    "rf = RandomForestClassifier(random_state=23) # some random seed for reproducibility\n",
    "grad_boost = GradientBoostingClassifier()\n",
    "voting = VotingClassifier(estimators=[(\"1\",lr_vanilla),(\"2\",svm_linear),(\"3\",dt)])\n",
    "\n",
    "all_models = {\"lr\":lr_vanilla, \n",
    "              \"svm\":svm_linear,\n",
    "              \"decision_tree\":dt,\n",
    "              \"random_forest\":rf,\n",
    "              \"grad_boost\":grad_boost,\n",
    "              \"voting\":voting}\n",
    "\n",
    "print (f\"We are working with classifiers {all_models.keys()}\")"
   ]
  },
  {
   "cell_type": "code",
   "execution_count": 10,
   "id": "a7c870dd",
   "metadata": {},
   "outputs": [
    {
     "name": "stdout",
     "output_type": "stream",
     "text": [
      "Mean cross validation accuracy for model lr = 0.8154882154882156\n",
      "Mean cross validation accuracy for model svm = 0.8191919191919194\n",
      "Mean cross validation accuracy for model decision_tree = 0.771043771043771\n",
      "Mean cross validation accuracy for model random_forest = 0.8449158249158251\n",
      "Mean cross validation accuracy for model grad_boost = 0.8226936026936027\n",
      "Mean cross validation accuracy for model voting = 0.8154882154882154\n",
      "Best model is random_forest with 5-fold accuracy of 0.8449158249158251\n"
     ]
    }
   ],
   "source": [
    "from sklearn.model_selection import cross_val_score\n",
    "\n",
    "# First extract our test data and store it in x_test, y_test\n",
    "features = heart_features_df.to_numpy()\n",
    "labels = target_df.to_numpy()\n",
    "_x, x_test, _y, y_test = train_test_split(features, labels, test_size=0.10, random_state=42)\n",
    "\n",
    "k = 5 # 5-fold\n",
    "\n",
    "# We can use sklearn's cross validation score directly\n",
    "# We can speed up training using n_jobs parameter which specifies how many cpu_cores to use\n",
    "\n",
    "best_model_name = \"\"\n",
    "best_model_valid_accuracy = 0\n",
    "best_model = None\n",
    "\n",
    "for model_name in all_models.keys():\n",
    "    model = all_models[model_name]\n",
    "    cv_scores = cross_val_score(model,_x,_y.flatten(), cv=k, n_jobs=4)\n",
    "    average_cv_score = cv_scores.mean()\n",
    "    print (f\"Mean cross validation accuracy for model {model_name} = {average_cv_score}\")\n",
    "\n",
    "    if average_cv_score > best_model_valid_accuracy :\n",
    "        best_model_name = model_name\n",
    "        best_model_valid_accuracy  = average_cv_score\n",
    "        best_model = model\n",
    "\n",
    "print (f\"Best model is {best_model_name} with {k}-fold accuracy of {best_model_valid_accuracy}\")"
   ]
  },
  {
   "cell_type": "markdown",
   "id": "49129c34",
   "metadata": {},
   "source": [
    "After getting the cross validation accuracies for each of our models, we decide that the random_forest is the best model with highest accuracy."
   ]
  },
  {
   "cell_type": "code",
   "execution_count": 11,
   "id": "98c0efdb",
   "metadata": {},
   "outputs": [
    {
     "name": "stdout",
     "output_type": "stream",
     "text": [
      "Test accuracy for model 0.8064516129032258\n"
     ]
    }
   ],
   "source": [
    "from sklearn.metrics import accuracy_score\n",
    "\n",
    "# Let's fit the best model again with train+valid data\n",
    "# This is the model we are gonna ship/deploy to practice\n",
    "\n",
    "best_model.fit(_x,_y.flatten())\n",
    "\n",
    "y_pred_test = best_model.predict(x_test)\n",
    "test_accuracy = accuracy_score(y_pred_test, y_test.flatten())\n",
    "\n",
    "print (f\"Test accuracy for model {test_accuracy}\")"
   ]
  },
  {
   "cell_type": "code",
   "execution_count": 12,
   "id": "1c8e56a2",
   "metadata": {},
   "outputs": [
    {
     "name": "stdout",
     "output_type": "stream",
     "text": [
      "Removing feature age\n",
      "Mean cross validation accuracy = 0.833939393939394\n",
      "Removing feature sex\n",
      "Mean cross validation accuracy = 0.8302356902356903\n",
      "Removing feature cp\n",
      "Mean cross validation accuracy = 0.8153535353535354\n",
      "Removing feature trestbps\n",
      "Mean cross validation accuracy = 0.8523232323232323\n",
      "Removing feature chol\n",
      "Mean cross validation accuracy = 0.8337373737373737\n",
      "Removing feature fbs\n",
      "Mean cross validation accuracy = 0.8523232323232323\n",
      "Removing feature restecg\n",
      "Mean cross validation accuracy = 0.8486195286195286\n",
      "Removing feature exang\n",
      "Mean cross validation accuracy = 0.8376430976430976\n",
      "Removing feature oldpeak\n",
      "Mean cross validation accuracy = 0.833939393939394\n",
      "Removing feature slope\n",
      "Mean cross validation accuracy = 0.8265319865319863\n",
      "Removing feature ca\n",
      "Mean cross validation accuracy = 0.7711111111111112\n",
      "Removing feature thal\n",
      "Mean cross validation accuracy = 0.8411447811447811\n"
     ]
    }
   ],
   "source": [
    "# Let's run ablation tests on our best model\n",
    "# You could choose any model to do this test\n",
    "best_model = RandomForestClassifier()\n",
    "\n",
    "feature_names = heart_features_df.columns\n",
    "\n",
    "# Let's maintain an accuracy dictionary\n",
    "\n",
    "accuracy_drop_log = {\"No ablation\":0}\n",
    "\n",
    "for i in range(len(feature_names)):\n",
    "    # we are going to drop one feature at a time\n",
    "    feature_name = feature_names[i]\n",
    "    print (f\"Removing feature {feature_name}\")\n",
    "    \n",
    "    # Remmeber? We have the train + valid data in the above section?\n",
    "    # We just remove the feature by not selecting the column from the index i\n",
    "\n",
    "    x_ablated = numpy.delete(_x,i,axis=1) # axis = 1 means columns\n",
    "    \n",
    "    cv_scores = cross_val_score(best_model,x_ablated,_y.flatten(), cv=k, n_jobs=4)\n",
    "    average_cv_score = cv_scores.mean()\n",
    "    print (f\"Mean cross validation accuracy = {average_cv_score}\")\n",
    "    accuracy_drop_log[feature_name] = best_model_valid_accuracy-average_cv_score"
   ]
  },
  {
   "cell_type": "code",
   "execution_count": 13,
   "id": "a52efb73",
   "metadata": {},
   "outputs": [
    {
     "data": {
      "text/plain": [
       "([0, 1, 2, 3, 4, 5, 6, 7, 8, 9, 10, 11, 12],\n",
       " [Text(0, 0, ''),\n",
       "  Text(0, 0, ''),\n",
       "  Text(0, 0, ''),\n",
       "  Text(0, 0, ''),\n",
       "  Text(0, 0, ''),\n",
       "  Text(0, 0, ''),\n",
       "  Text(0, 0, ''),\n",
       "  Text(0, 0, ''),\n",
       "  Text(0, 0, ''),\n",
       "  Text(0, 0, ''),\n",
       "  Text(0, 0, ''),\n",
       "  Text(0, 0, ''),\n",
       "  Text(0, 0, '')])"
      ]
     },
     "execution_count": 13,
     "metadata": {},
     "output_type": "execute_result"
    },
    {
     "data": {
      "image/png": "[encoded data removed]",
      "text/plain": [
       "<Figure size 640x480 with 1 Axes>"
      ]
     },
     "metadata": {},
     "output_type": "display_data"
    }
   ],
   "source": [
    "from matplotlib import pyplot as plt\n",
    "\n",
    "plt.bar(accuracy_drop_log.keys(), accuracy_drop_log.values(), color=\"maroon\", width = 0.4)\n",
    "plt.xticks(rotation=\"vertical\")"
   ]
  },
  {
   "cell_type": "code",
   "execution_count": 14,
   "id": "88097991",
   "metadata": {},
   "outputs": [
    {
     "name": "stdout",
     "output_type": "stream",
     "text": [
      "Features are ranked from best to worst (based on how removing them impacts the accuracy of random_forest)\n",
      "**************************************\n",
      "Feature 1.ca, drop in acc 0.07380471380471387\n",
      "Feature 2.cp, drop in acc 0.02956228956228968\n",
      "Feature 3.slope, drop in acc 0.018383838383838724\n",
      "Feature 4.sex, drop in acc 0.014680134680134738\n",
      "Feature 5.chol, drop in acc 0.011178451178451398\n",
      "Feature 6.age, drop in acc 0.010976430976431084\n",
      "Feature 7.oldpeak, drop in acc 0.010976430976431084\n",
      "Feature 8.exang, drop in acc 0.007272727272727431\n",
      "Feature 9.thal, drop in acc 0.0037710437710439804\n",
      "Feature 10.restecg, drop in acc -0.0037037037037035425\n",
      "Feature 11.trestbps, drop in acc -0.007407407407407196\n",
      "Feature 12.fbs, drop in acc -0.007407407407407196\n"
     ]
    }
   ],
   "source": [
    "def criteria(l):\n",
    "    return l[1]\n",
    "\n",
    "sorted_accs =  sorted(accuracy_drop_log.items(),key=criteria, reverse=True)\n",
    "\n",
    "print (f\"Features are ranked from best to worst (based on how removing them impacts the accuracy of {best_model_name})\")\n",
    "print (f\"**************************************\")\n",
    "\n",
    "i=1\n",
    "for entry in sorted_accs:\n",
    "    feature_name = entry[0]\n",
    "    acc_drop = entry[1]\n",
    "    \n",
    "    # We do not want to print \"No ablation\"\n",
    "    if feature_name != \"No ablation\":\n",
    "        print (f\"Feature {i}.{feature_name}, drop in acc {acc_drop}\")\n",
    "        i=i+1"
   ]
  },
  {
   "cell_type": "markdown",
   "id": "23371815",
   "metadata": {},
   "source": [
    "# Pearson Correlation Matrix\n",
    "Utilizing the libraries seaborn and matplotlib, we'll create correlation matrix plot reliant on a heatmap to indicate how heavily correlated two features are."
   ]
  },
  {
   "cell_type": "code",
   "execution_count": 15,
   "id": "d09e9d44",
   "metadata": {
    "scrolled": true
   },
   "outputs": [
    {
     "data": {
      "image/png": "[encoded data removed]",
      "text/plain": [
       "<Figure size 1200x1000 with 2 Axes>"
      ]
     },
     "metadata": {},
     "output_type": "display_data"
    }
   ],
   "source": [
    "try:\n",
    "    import seaborn as sns\n",
    "except:\n",
    "    !pip install seaborn\n",
    "    import seaborn as sns\n",
    "    \n",
    "import matplotlib.pyplot as plt\n",
    "\n",
    "\n",
    "plt.figure(figsize=(12,10))\n",
    "cor = heart_features_df.corr()\n",
    "sns.heatmap(cor, annot=True, cmap=plt.cm.Reds)\n",
    "plt.show()"
   ]
  },
  {
   "cell_type": "markdown",
   "id": "5b0c2e1a",
   "metadata": {},
   "source": [
    "## Predicting whether user will get heart attack based on provided data\n",
    "Model: Logistic Regression Classification"
   ]
  },
  {
   "cell_type": "code",
   "execution_count": 1,
   "id": "7573abf0",
   "metadata": {},
   "outputs": [
    {
     "ename": "ModuleNotFoundError",
     "evalue": "No module named 'PySimpleGUI'",
     "output_type": "error",
     "traceback": [
      "\u001b[1;31m---------------------------------------------------------------------------\u001b[0m",
      "\u001b[1;31mModuleNotFoundError\u001b[0m                       Traceback (most recent call last)",
      "\u001b[1;32m~\\AppData\\Local\\Temp\\ipykernel_26200\\3087193205.py\u001b[0m in \u001b[0;36m<module>\u001b[1;34m\u001b[0m\n\u001b[1;32m----> 1\u001b[1;33m \u001b[1;32mimport\u001b[0m \u001b[0mPySimpleGUI\u001b[0m \u001b[1;32mas\u001b[0m \u001b[0msg\u001b[0m\u001b[1;33m\u001b[0m\u001b[1;33m\u001b[0m\u001b[0m\n\u001b[0m\u001b[0;32m      2\u001b[0m \u001b[1;33m\u001b[0m\u001b[0m\n\u001b[0;32m      3\u001b[0m \u001b[1;31m# Split the dataset into features and target\u001b[0m\u001b[1;33m\u001b[0m\u001b[1;33m\u001b[0m\u001b[0m\n\u001b[0;32m      4\u001b[0m \u001b[0mX\u001b[0m \u001b[1;33m=\u001b[0m \u001b[0mdf\u001b[0m\u001b[1;33m.\u001b[0m\u001b[0mdrop\u001b[0m\u001b[1;33m(\u001b[0m\u001b[1;34m\"target\"\u001b[0m\u001b[1;33m,\u001b[0m \u001b[0maxis\u001b[0m\u001b[1;33m=\u001b[0m\u001b[1;36m1\u001b[0m\u001b[1;33m)\u001b[0m\u001b[1;33m\u001b[0m\u001b[1;33m\u001b[0m\u001b[0m\n\u001b[0;32m      5\u001b[0m \u001b[0my\u001b[0m \u001b[1;33m=\u001b[0m \u001b[0mdf\u001b[0m\u001b[1;33m[\u001b[0m\u001b[1;34m\"target\"\u001b[0m\u001b[1;33m]\u001b[0m\u001b[1;33m\u001b[0m\u001b[1;33m\u001b[0m\u001b[0m\n",
      "\u001b[1;31mModuleNotFoundError\u001b[0m: No module named 'PySimpleGUI'"
     ]
    }
   ],
   "source": [
    "import PySimpleGUI as sg\n",
    "\n",
    "# Split the dataset into features and target\n",
    "X = df.drop(\"target\", axis=1)\n",
    "y = df[\"target\"]\n",
    "\n",
    "# Train a logistic regression model on the dataset\n",
    "model = LogisticRegression().fit(X, y)\n",
    "\n",
    "# Define the feature names and their input types\n",
    "feature_names = [\"age\", \"sex\", \"cp\", \"trestbps\", \"chol\", \"fbs\", \"restecg\",\n",
    "                 \"thalach\", \"exang\", \"oldpeak\", \"slope\", \"ca\", \"thal\"]\n",
    "input_types = [\"int\", \"int\", \"int\", \"int\", \"int\", \"int\", \"int\", \"int\",\n",
    "               \"int\", \"float\", \"int\", \"int\", \"int\"]\n",
    "\n",
    "# Define the layout of the GUI\n",
    "layout = [[sg.Text(\"Enter the values for the following features:\")]]\n",
    "for name, type_ in zip(feature_names, input_types):\n",
    "    layout.append([sg.Text(name), sg.Input(key=name, size=(10, 1))])\n",
    "layout.append([sg.Button(\"Predict\"), sg.Exit()])\n",
    "\n",
    "# Create the GUI window\n",
    "window = sg.Window(\"Heart Disease Prediction\", layout)\n",
    "\n",
    "# Define a function to predict the target based on the input features\n",
    "def predict_target(features):\n",
    "    X_new = pd.DataFrame([features], columns=feature_names)\n",
    "    y_pred = model.predict(X_new)\n",
    "    if y_pred[0] == 0:\n",
    "        sg.popup(\"You are not likely to get a heart attack.\")\n",
    "    else:\n",
    "        sg.popup(\"You are likely to get a heart attack.\")\n",
    "\n",
    "# Process the events in the GUI\n",
    "while True:\n",
    "    event, values = window.read()\n",
    "    if event == sg.WIN_CLOSED or event == \"Exit\":\n",
    "        break\n",
    "    features = []\n",
    "    for name, type_ in zip(feature_names, input_types):\n",
    "        value = values[name]\n",
    "        if type_ == \"int\":\n",
    "            value = int(value)\n",
    "        elif type_ == \"float\":\n",
    "            value = float(value)\n",
    "        features.append(value)\n",
    "    predict_target(features)\n",
    "\n",
    "# Close the GUI window\n",
    "window.close()"
   ]
  },
  {
   "cell_type": "code",
   "execution_count": null,
   "id": "014098a1",
   "metadata": {},
   "outputs": [],
   "source": [
    "# Display the learned coefficients (i.e., weights) of each feature\n",
    "for name, coef in zip(feature_names, model.coef_[0]):\n",
    "    print(f\"{name}: {coef}\")"
   ]
  },
  {
   "cell_type": "markdown",
   "id": "2ac12883",
   "metadata": {},
   "source": [
    "### Classification report"
   ]
  },
  {
   "cell_type": "code",
   "execution_count": null,
   "id": "3145c599",
   "metadata": {},
   "outputs": [],
   "source": [
    "# Generating classification report with precision, recall, f1-score\n",
    "\n",
    "# Use the trained model to predict the target variable for the entire dataset\n",
    "y_pred = model.predict(X)\n",
    "\n",
    "# Generate a classification report\n",
    "target_names = [\"Not having heart attack\", \"Having heart attack\"]\n",
    "print(classification_report(y, y_pred, target_names=target_names))\n"
   ]
  },
  {
   "cell_type": "markdown",
   "id": "03f7a85b",
   "metadata": {},
   "source": [
    "### Computing ROC curve"
   ]
  },
  {
   "cell_type": "code",
   "execution_count": null,
   "id": "5668de4d",
   "metadata": {
    "scrolled": true
   },
   "outputs": [],
   "source": [
    "from sklearn.metrics import roc_curve\n",
    "\n",
    "# Generate predicted probabilities for the positive class (class 1)\n",
    "y_pred_proba = model.predict_proba(X)[:,1]\n",
    "\n",
    "# Compute the false positive rate (fpr), true positive rate (tpr), and thresholds\n",
    "fpr, tpr, thresholds = roc_curve(y, y_pred_proba)\n",
    "\n",
    "# Find the optimal threshold value based on the highest Youden's J statistic\n",
    "optimal_idx = numpy.argmax(tpr - fpr)\n",
    "optimal_threshold = thresholds[optimal_idx]\n",
    "optimal_tpr = tpr[optimal_idx]\n",
    "optimal_fpr = fpr[optimal_idx]\n",
    "\n",
    "# Plot the ROC curve\n",
    "plt.plot(fpr, tpr)\n",
    "plt.xlabel(\"False Positive Rate (1 - Specificity)\")\n",
    "plt.ylabel(\"True Positive Rate (Sensitivity)\")\n",
    "plt.title(\"Receiver Operating Characteristic (ROC) Curve\")\n",
    "\n",
    "# Add diagonal line for random classifier\n",
    "plt.plot([0, 1], [0, 1], linestyle='--')\n",
    "\n",
    "# Display the optimal threshold value\n",
    "plt.text(0.5, 0.3, f\"Optimal Threshold: {optimal_threshold:.2f}\\nTPR: {optimal_tpr:.2f}\\nFPR: {optimal_fpr:.2f}\",\n",
    "         bbox=dict(facecolor='white', alpha=0.5))\n",
    "\n",
    "plt.show()"
   ]
  },
  {
   "cell_type": "markdown",
   "id": "09911a2b",
   "metadata": {},
   "source": [
    "### Getting best threshold values from the ROC curve"
   ]
  },
  {
   "cell_type": "code",
   "execution_count": null,
   "id": "75e32690",
   "metadata": {},
   "outputs": [],
   "source": [
    "# Print threshold, TPR, and FPR for each point on the curve\n",
    "for i in range(len(thresholds)):\n",
    "    print(f\"Threshold = {thresholds[i]:.4f}, TPR = {tpr[i]:.4f}, FPR = {fpr[i]:.4f}\")\n",
    "    \n",
    "optimal_idx = numpy.argmax(tpr - fpr)\n",
    "optimal_threshold = thresholds[optimal_idx]\n",
    "print(\"Optimal threshold value is:\", optimal_threshold)"
   ]
  }
 ],
 "metadata": {
  "kernelspec": {
   "display_name": "Python 3 (ipykernel)",
   "language": "python",
   "name": "python3"
  },
  "language_info": {
   "codemirror_mode": {
    "name": "ipython",
    "version": 3
   },
   "file_extension": ".py",
   "mimetype": "text/x-python",
   "name": "python",
   "nbconvert_exporter": "python",
   "pygments_lexer": "ipython3",
   "version": "3.9.13"
  }
 },
 "nbformat": 4,
 "nbformat_minor": 5
}
