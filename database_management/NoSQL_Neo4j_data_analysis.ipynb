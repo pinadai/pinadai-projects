{
 "cells": [
  {
   "cell_type": "markdown",
   "id": "adec9df1",
   "metadata": {},
   "source": [
    "# NoSQL: Neo4j Database Analysis\n",
    "## By: Daisy Pinaroc"
   ]
  },
  {
   "cell_type": "code",
   "execution_count": 48,
   "id": "d4cae14a-437a-4155-b952-90ea2e27710b",
   "metadata": {},
   "outputs": [],
   "source": [
    "from IPython.core.magic import register_cell_magic\n",
    "import shlex"
   ]
  },
  {
   "cell_type": "code",
   "execution_count": null,
   "id": "003c4fb1-9649-4830-a580-418d0184af11",
   "metadata": {},
   "outputs": [],
   "source": [
    "%env CYPHER=XXXX\n",
    "%env HOST=XXXX  \n",
    "%env USER=XXXX\n",
    "%env PW=XXXX"
   ]
  },
  {
   "cell_type": "code",
   "execution_count": 69,
   "id": "87db4a48-252f-4cf7-bf8f-1a9d506effa7",
   "metadata": {},
   "outputs": [],
   "source": [
    "CONNECT=\"$CYPHER -a $HOST -u $USER -p $PW\""
   ]
  },
  {
   "cell_type": "code",
   "execution_count": 70,
   "id": "be76651a-edd3-4920-b9e0-cb8ea4faa37e",
   "metadata": {},
   "outputs": [],
   "source": [
    "@register_cell_magic('neo')\n",
    "def neo(line, cell):\n",
    "    !{CONNECT} {shlex.quote(cell)}"
   ]
  },
  {
   "cell_type": "markdown",
   "id": "11dfaeaf-df41-40a8-b64f-36a48d05ae4d",
   "metadata": {},
   "source": [
    "### Testing connectivity"
   ]
  },
  {
   "cell_type": "code",
   "execution_count": 51,
   "id": "bad78d21-4c28-4de6-8cdd-78c69618e5b3",
   "metadata": {},
   "outputs": [
    {
     "name": "stdout",
     "output_type": "stream",
     "text": [
      "+------------------------------------+\n",
      "| n                                  |\n",
      "+------------------------------------+\n",
      "| (:Author {name: \"Tony Tobin\"})     |\n",
      "| (:Author {name: \"Jane Hornby\"})    |\n",
      "| (:Author {name: \"Sarah Cook\"})     |\n",
      "| (:Author {name: \"Good Food\"})      |\n",
      "| (:Author {name: \"Jennifer Joyce\"}) |\n",
      "+------------------------------------+\n",
      "\n",
      "5 rows\n",
      "ready to start consuming query after 9 ms, results consumed after another 1 ms\n"
     ]
    }
   ],
   "source": [
    "%%neo\n",
    "MATCH (n)\n",
    "RETURN n LIMIT 5;"
   ]
  },
  {
   "cell_type": "markdown",
   "id": "32a96e80-930e-4c96-a6a6-a88e068ae6d5",
   "metadata": {},
   "source": [
    "# Begin Neo4j work"
   ]
  },
  {
   "cell_type": "markdown",
   "id": "52f3cb9c-9fbb-404e-a568-ca3b1935bafd",
   "metadata": {},
   "source": [
    "### 1) Returns the unique node labels and the number of nodes for each. Sorts the results by the number of nodes in descending order."
   ]
  },
  {
   "cell_type": "code",
   "execution_count": 52,
   "id": "e92c1a9d-9248-4da3-9ccc-e1166e3b7668",
   "metadata": {},
   "outputs": [
    {
     "name": "stdout",
     "output_type": "stream",
     "text": [
      "+----------------------------+\n",
      "| node_label     | num_nodes |\n",
      "+----------------------------+\n",
      "| [\"Recipe\"]     | 11634     |\n",
      "| [\"Ingredient\"] | 3077      |\n",
      "| [\"Collection\"] | 1049      |\n",
      "| [\"Author\"]     | 303       |\n",
      "| [\"DietType\"]   | 12        |\n",
      "+----------------------------+\n",
      "\n",
      "5 rows\n",
      "ready to start consuming query after 11 ms, results consumed after another 10 ms\n"
     ]
    }
   ],
   "source": [
    "%%neo\n",
    "MATCH (n)\n",
    "RETURN DISTINCT LABELS(n) as node_label, COUNT(*) as num_nodes\n",
    "ORDER BY num_nodes DESC;"
   ]
  },
  {
   "cell_type": "markdown",
   "id": "b30e2845-5358-4257-abba-d5516a4348d2",
   "metadata": {},
   "source": [
    "### 2) Returns the unique relationship types and the number of relationships for each. Sorts the results by the number of relationships in descending order."
   ]
  },
  {
   "cell_type": "code",
   "execution_count": 53,
   "id": "2aa2a614-2064-4fb7-9797-9570e80b350a",
   "metadata": {},
   "outputs": [
    {
     "name": "stdout",
     "output_type": "stream",
     "text": [
      "+-------------------------------------------+\n",
      "| relationship_type     | num_relationships |\n",
      "+-------------------------------------------+\n",
      "| \"CONTAINS_INGREDIENT\" | 106148            |\n",
      "| \"COLLECTION\"          | 32240             |\n",
      "| \"DIET_TYPE\"           | 14858             |\n",
      "| \"WROTE\"               | 11634             |\n",
      "+-------------------------------------------+\n",
      "\n",
      "4 rows\n",
      "ready to start consuming query after 11 ms, results consumed after another 26 ms\n"
     ]
    }
   ],
   "source": [
    "%%neo\n",
    "MATCH ()-[r]->() \n",
    "RETURN DISTINCT TYPE(r) as relationship_type, COUNT(r) as num_relationships\n",
    "ORDER BY num_relationships DESC;"
   ]
  },
  {
   "cell_type": "markdown",
   "id": "41172f67-6e20-4c76-a901-e5a6d0c824b8",
   "metadata": {},
   "source": [
    "### 3) Finds all the recipes that contain both \"chicken\" and \"lemon\" as ingredients, but were NOT written by the author \"Good Food\"."
   ]
  },
  {
   "cell_type": "code",
   "execution_count": 56,
   "id": "377f9655-65b6-42ad-8083-5a7d5b61f113",
   "metadata": {},
   "outputs": [
    {
     "name": "stdout",
     "output_type": "stream",
     "text": [
      "+----------------------------------------------------------------------------------------------------------------------------------------------------------------------------------------------------------------------------------------------------------------------------------------------------------------------------------------------------------------------+\n",
      "| recipe_author   | recipe                                                                                                                                                                                                                                                                                                                                             |\n",
      "+----------------------------------------------------------------------------------------------------------------------------------------------------------------------------------------------------------------------------------------------------------------------------------------------------------------------------------------------------------------------+\n",
      "| \"Cassie Best\"   | (:Recipe {name: \"Sticky citrus chicken with griddled avocado & beet salad\", preparationTime: 900, description: \"Soft, creamy avocado and zesty chicken make the perfect pairing for a family supper - a great recipe for using up avocados that refuse to ripen!\", id: \"5748506\", skillLevel: \"Easy\", cookingTime: 3600})                          |\n",
      "| \"Sara Buenfeld\" | (:Recipe {name: \"Meal prep: pasta\", preparationTime: 1200, description: \"Make three lunchbox pasta meals in one go to save you time midweek. They're nutritious and healthy with variations using salmon, chicken and aubergine\", id: \"6762641\", skillLevel: \"Easy\", cookingTime: 1800})                                                           |\n",
      "| \"Diana Henry\"   | (:Recipe {name: \"Chilli, garlic & oregano spatchcock chicken with chipotle aÃ¯oli\", preparationTime: 2400, description: \"Take simple ingredients beyond the norm with this fabulous spicy, herby spatchcock chicken with chipotle aÃ¯oli. Serve with sweet potato wedges and salad\", id: \"8256666\", skillLevel: \"More effort\", cookingTime: 3600}) |\n",
      "+----------------------------------------------------------------------------------------------------------------------------------------------------------------------------------------------------------------------------------------------------------------------------------------------------------------------------------------------------------------------+\n",
      "\n",
      "3 rows\n",
      "ready to start consuming query after 105 ms, results consumed after another 3 ms\n"
     ]
    }
   ],
   "source": [
    "%%neo\n",
    "MATCH (a:Author)-[:WROTE]->(r:Recipe)-[:CONTAINS_INGREDIENT]->(i1:Ingredient {name: 'chicken'}), (r)-[:CONTAINS_INGREDIENT]->(i2:Ingredient {name: 'lemon'})\n",
    "WHERE NOT a.name = 'Good Food' \n",
    "RETURN a.name as recipe_author, r as recipe\n",
    "LIMIT 3;"
   ]
  },
  {
   "cell_type": "markdown",
   "id": "1154f106-f8c5-4954-9d4e-75f7be95247d",
   "metadata": {},
   "source": [
    "### 4) Returns recipes that are either dairy-free, fall under the \"Christmas dinner\" collection, or is written by author John Torode."
   ]
  },
  {
   "cell_type": "code",
   "execution_count": 83,
   "id": "0929bd24-b7c8-4786-a67e-415e78d632b5",
   "metadata": {},
   "outputs": [
    {
     "name": "stdout",
     "output_type": "stream",
     "text": [
      "+----------------------------------------------------------------------------------------------------------------------------------------------------------------------------------------------------------------------------------------+\n",
      "| recipe                                   | recipe_description                                                                                                                    | diet_type    | collection           | author        |\n",
      "+----------------------------------------------------------------------------------------------------------------------------------------------------------------------------------------------------------------------------------------+\n",
      "| \"Cranberry sauce with port & star anise\" | \"Star anise gives this classic sauce a really Christmassy flavour, and a contemporary update\"                                         | \"Low-salt\"   | \"Christmas dinner\"   | \"Tony Tobin\"  |\n",
      "| \"Strawberry & rose sorbet\"               | \"A ruby-red iced dessert with subtle floral hints - a refreshing end to spicy meals\"                                                  | \"Dairy-free\" | \"Sorbet\"             | \"Jane Hornby\" |\n",
      "| \"Strawberry & rose sorbet\"               | \"A ruby-red iced dessert with subtle floral hints - a refreshing end to spicy meals\"                                                  | \"Dairy-free\" | \"Dairy-free dessert\" | \"Jane Hornby\" |\n",
      "| \"Strawberry & rose sorbet\"               | \"A ruby-red iced dessert with subtle floral hints - a refreshing end to spicy meals\"                                                  | \"Dairy-free\" | \"Vegan dessert\"      | \"Jane Hornby\" |\n",
      "| \"Easy vegan chocolate cake\"              | \"This indulgent, fudgy vegan bake is topped with a rich frosting – you'd never guess that it's free from dairy, eggs, wheat and nuts\" | \"Dairy-free\" | \"Vegan cake\"         | \"Jane Hornby\" |\n",
      "+----------------------------------------------------------------------------------------------------------------------------------------------------------------------------------------------------------------------------------------+\n",
      "\n",
      "5 rows\n",
      "ready to start consuming query after 112 ms, results consumed after another 4 ms\n"
     ]
    }
   ],
   "source": [
    "%%neo\n",
    "MATCH (r:Recipe),\n",
    "(r)-[:DIET_TYPE]->(dt:DietType),\n",
    "(r)-[:COLLECTION]->(c:Collection),\n",
    "(r)<-[:WROTE]-(a:Author) \n",
    "WHERE dt.name = 'Dairy-free' or c.name = 'Christmas dinner' or a.name = 'John Torode'\n",
    "RETURN r.name as recipe, r.description as recipe_description, dt.name AS diet_type, c.name AS collection, a.name AS author\n",
    "LIMIT 5; "
   ]
  },
  {
   "cell_type": "markdown",
   "id": "aca1251c-7c60-47fa-bca6-fa90b24bae8f",
   "metadata": {},
   "source": [
    "### 5) Finds recipes that are both part of the \"Christmas dinner\" collection and contain chocolate as an ingredient."
   ]
  },
  {
   "cell_type": "code",
   "execution_count": 64,
   "id": "a590944d-bda5-44dc-9b7b-063dfac78ca2",
   "metadata": {},
   "outputs": [
    {
     "name": "stdout",
     "output_type": "stream",
     "text": [
      "+-----------------------------------------------------------------------------------------------------------------------------------------------------------+\n",
      "| recipe               | recipe_description                                                                                            | recipe_skill_level |\n",
      "+-----------------------------------------------------------------------------------------------------------------------------------------------------------+\n",
      "| \"Yule chocolate log\" | \"Mary Cadoganâ€™s festive chocolate log will go down a treat with everyone - it's a lighter recipe than most\" | \"More effort\"      |\n",
      "+-----------------------------------------------------------------------------------------------------------------------------------------------------------+\n",
      "\n",
      "1 row\n",
      "ready to start consuming query after 90 ms, results consumed after another 5 ms\n"
     ]
    }
   ],
   "source": [
    "%%neo\n",
    "MATCH (rp:Recipe)-[r:COLLECTION]->(c:Collection {name: 'Christmas dinner'}), (rp:Recipe)-[:CONTAINS_INGREDIENT]->(i:Ingredient {name: 'chocolate'})\n",
    "RETURN rp.name as recipe, rp.description AS recipe_description, rp.skillLevel AS recipe_skill_level \n",
    "ORDER BY rp.name ASC \n",
    "LIMIT 3;"
   ]
  },
  {
   "cell_type": "markdown",
   "id": "cb4356fb-a116-4922-8163-df99cd3ba8a8",
   "metadata": {},
   "source": [
    "### 6) Returns recipes that DON'T contain onion OR mozzarella."
   ]
  },
  {
   "cell_type": "code",
   "execution_count": 113,
   "id": "24e37574-8bec-4728-b7b9-0a8efdbc6e0f",
   "metadata": {},
   "outputs": [
    {
     "name": "stdout",
     "output_type": "stream",
     "text": [
      "+----------------------------------------------------------------------------------------------------------------------------------------------------------------------------------------------------------------------------------------------------------------------------------------------------------------------+\n",
      "| recipe                                                                                                                                                                                                                                                                                                               |\n",
      "+----------------------------------------------------------------------------------------------------------------------------------------------------------------------------------------------------------------------------------------------------------------------------------------------------------------------+\n",
      "| (:Recipe {name: \" Apricot & pistachio frangipane blondies\", preparationTime: 1200, description: \"Make the most of summer's sweet, golden apricots with these moreish apricot and pistachio frangipane blondies. They make a perfect treat for afternoon tea\", id: \"7945231\", skillLevel: \"Easy\", cookingTime: 1800}) |\n",
      "| (:Recipe {name: \" Camomile tea with honey \", preparationTime: 300, description: \"Combine dried camomile flowers with aromatic lavender and honey to make this wonderfully calming tea, perfect in the morning or for winding down in the evening\", id: \"7924461\", skillLevel: \"Easy\", cookingTime: 0})               |\n",
      "| (:Recipe {name: \" Pastry snakes\", preparationTime: 1620, description: \"Serve these pastry snakes at a Halloween party or as a spooky snack for kids. Keep the flavours interesting by coating your snakes with a variety of seeds\", id: \"8645886\", skillLevel: \"Easy\", cookingTime: 840})                            |\n",
      "+----------------------------------------------------------------------------------------------------------------------------------------------------------------------------------------------------------------------------------------------------------------------------------------------------------------------+\n",
      "\n",
      "3 rows\n",
      "ready to start consuming query after 118 ms, results consumed after another 158 ms\n"
     ]
    }
   ],
   "source": [
    "%%neo\n",
    "MATCH (r:Recipe)\n",
    "WHERE NOT (r)-[:CONTAINS_INGREDIENT]->(:Ingredient {name: 'onion'})\n",
    "    OR NOT (r)-[:CONTAINS_INGREDIENT]->(:Ingredient {name: 'mozzarella'})\n",
    "RETURN r as recipe\n",
    "ORDER BY r.name\n",
    "LIMIT 3;"
   ]
  },
  {
   "cell_type": "markdown",
   "id": "1a0aa9b5-a275-477c-9eaf-e48a0042bd19",
   "metadata": {},
   "source": [
    "### 7) Finds Vegan summer recipes written by Miriam Nice."
   ]
  },
  {
   "cell_type": "code",
   "execution_count": 81,
   "id": "8ac105f0-0ca5-4511-b880-9671b215e324",
   "metadata": {},
   "outputs": [
    {
     "name": "stdout",
     "output_type": "stream",
     "text": [
      "+--------------------------------------------------------------------------------------------------------------------------------------------------------------------------------------------------------------------------------------------------------------------------------------------------------------------------------------------------------------------------------------------+\n",
      "| recipe                                                                                                                                                                                                                                                                                    | diet_type                   | collection                     | author                          |\n",
      "+--------------------------------------------------------------------------------------------------------------------------------------------------------------------------------------------------------------------------------------------------------------------------------------------------------------------------------------------------------------------------------------------+\n",
      "| (:Recipe {name: \"Appletini\", preparationTime: 300, description: \"Mix vodka with apple juice, lemon juice and maple syrup to make this divine appletini cocktail. Serve in a martini glass and garnish with a slice of apple\", id: \"8015901\", skillLevel: \"Easy\", cookingTime: 0})         | (:DietType {name: \"Vegan\"}) | (:Collection {name: \"Summer\"}) | (:Author {name: \"Miriam Nice\"}) |\n",
      "| (:Recipe {name: \"Elderflower gin\", preparationTime: 300, description: \"Add a touch of summer to a classic tipple with this delicious elderflower-infused gin. Great for a summer gathering, served with tonic water and lots of ice\", id: \"6607836\", skillLevel: \"Easy\", cookingTime: 0}) | (:DietType {name: \"Vegan\"}) | (:Collection {name: \"Summer\"}) | (:Author {name: \"Miriam Nice\"}) |\n",
      "| (:Recipe {name: \"Sea breeze\", preparationTime: 300, description: \"Blend vodka, cranberry juice and grapefruit juice to make a classic sea breeze cocktail. Serve in a tall glass and garnish with lime for a taste of summer\", id: \"8016091\", skillLevel: \"Easy\", cookingTime: 0})        | (:DietType {name: \"Vegan\"}) | (:Collection {name: \"Summer\"}) | (:Author {name: \"Miriam Nice\"}) |\n",
      "| (:Recipe {name: \"Woo woo\", preparationTime: 300, description: \"Mix vodka, peach schnapps, cranberry juice and fresh lime to make this perfect party cocktail, garnished with a lime wedge (and maybe a tiny umbrella too)\", id: \"8016111\", skillLevel: \"Easy\", cookingTime: 0})           | (:DietType {name: \"Vegan\"}) | (:Collection {name: \"Summer\"}) | (:Author {name: \"Miriam Nice\"}) |\n",
      "+--------------------------------------------------------------------------------------------------------------------------------------------------------------------------------------------------------------------------------------------------------------------------------------------------------------------------------------------------------------------------------------------+\n",
      "\n",
      "4 rows\n",
      "ready to start consuming query after 119 ms, results consumed after another 6 ms\n"
     ]
    }
   ],
   "source": [
    "%%neo\n",
    "MATCH (rp:Recipe)-[r: DIET_TYPE]->(dt:DietType {name:'Vegan'}), \n",
    "(rp)-[:COLLECTION]->(c:Collection {name: 'Summer'}), \n",
    "(rp)<-[:WROTE]-(a:Author {name: 'Miriam Nice'})\n",
    "RETURN rp AS recipe, dt AS diet_type, c AS collection, a AS author\n",
    "ORDER BY rp.name;"
   ]
  },
  {
   "cell_type": "markdown",
   "id": "ef6f9a19-fd0d-4284-b659-a54beadf76d3",
   "metadata": {},
   "source": [
    "### 8) Returns the IDs and relationship type of the last few relationships in the dataset."
   ]
  },
  {
   "cell_type": "code",
   "execution_count": 117,
   "id": "274c6a31-1240-4180-92ea-cae2adbf86ac",
   "metadata": {},
   "outputs": [
    {
     "name": "stdout",
     "output_type": "stream",
     "text": [
      "+-------------------------------------+\n",
      "| relationship_type | relationship_id |\n",
      "+-------------------------------------+\n",
      "| \"COLLECTION\"      | 164879          |\n",
      "| \"COLLECTION\"      | 164878          |\n",
      "| \"COLLECTION\"      | 164877          |\n",
      "| \"COLLECTION\"      | 164876          |\n",
      "| \"COLLECTION\"      | 164875          |\n",
      "+-------------------------------------+\n",
      "\n",
      "5 rows\n",
      "ready to start consuming query after 42 ms, results consumed after another 102 ms\n"
     ]
    }
   ],
   "source": [
    "%%neo\n",
    "MATCH ()-[r]->()\n",
    "RETURN TYPE(r) as relationship_type, ID(r) as relationship_id\n",
    "ORDER BY relationship_id DESC\n",
    "LIMIT 5;"
   ]
  },
  {
   "cell_type": "markdown",
   "id": "a5a6d932-b6fe-4e8d-8e7e-cdaac97c89b0",
   "metadata": {},
   "source": [
    "### 9) Returns recipes that are in the \"Dinner party starter\" collection, are a \"Low-fat\" diet-type, and don't contain cheese as an ingredient."
   ]
  },
  {
   "cell_type": "code",
   "execution_count": 116,
   "id": "894207e3-1124-4080-a7bf-859034e7571f",
   "metadata": {},
   "outputs": [
    {
     "name": "stdout",
     "output_type": "stream",
     "text": [
      "+----------------------------------------------------------------------------------------------------+\n",
      "| author_name      | recipe                                     | diet_type | collection             |\n",
      "+----------------------------------------------------------------------------------------------------+\n",
      "| \"\"               | \"Melon with mint & feta\"                   | \"Low-fat\" | \"Dinner party starter\" |\n",
      "| \"Good Food\"      | \"Creamy smoked salmon, leek & potato soup\" | \"Low-fat\" | \"Dinner party starter\" |\n",
      "| \"Jennifer Joyce\" | \"Prawn cakes with cucumber peanut relish\"  | \"Low-fat\" | \"Dinner party starter\" |\n",
      "+----------------------------------------------------------------------------------------------------+\n",
      "\n",
      "3 rows\n",
      "ready to start consuming query after 177 ms, results consumed after another 15 ms\n"
     ]
    }
   ],
   "source": [
    "%%neo\n",
    "MATCH (r:Recipe)-[:COLLECTION]->(c:Collection {name: 'Dinner party starter'}),\n",
    "      (r)-[:DIET_TYPE]->(d:DietType {name: 'Low-fat'}),\n",
    "      (r)-[:CONTAINS_INGREDIENT]->(i:Ingredient)\n",
    "WHERE NOT i.name = 'cheese'\n",
    "MATCH (r)<-[:WROTE]-(a:Author)\n",
    "RETURN DISTINCT a.name AS author_name, r.name AS recipe, d.name AS diet_type, c.name AS collection\n",
    "ORDER BY author_name; "
   ]
  },
  {
   "cell_type": "markdown",
   "id": "f75ec58e-2348-4074-9808-cfae18c5fa0f",
   "metadata": {},
   "source": [
    "### 10) Returns the relationship IDs for recipes written by Tana Ramsay. "
   ]
  },
  {
   "cell_type": "code",
   "execution_count": 115,
   "id": "af975c52-549a-45b5-b55f-3da7aade2a36",
   "metadata": {},
   "outputs": [
    {
     "name": "stdout",
     "output_type": "stream",
     "text": [
      "+-------------------------------------------------+\n",
      "| author_id | relationship_type | relationship_id |\n",
      "+-------------------------------------------------+\n",
      "| 71        | \"WROTE\"           | 8516            |\n",
      "| 71        | \"WROTE\"           | 5689            |\n",
      "| 71        | \"WROTE\"           | 6375            |\n",
      "| 71        | \"WROTE\"           | 483             |\n",
      "| 71        | \"WROTE\"           | 7635            |\n",
      "+-------------------------------------------------+\n",
      "\n",
      "5 rows\n",
      "ready to start consuming query after 51 ms, results consumed after another 3 ms\n"
     ]
    }
   ],
   "source": [
    "%%neo\n",
    "MATCH (a:Author {name: 'Tana Ramsay'})-[rel:WROTE]->(r:Recipe)\n",
    "RETURN ID(a) as author_id, TYPE(rel) as relationship_type, ID(rel) as relationship_id;"
   ]
  },
  {
   "cell_type": "markdown",
   "id": "c4e63164-c928-48ea-a7b9-1222a3b0c734",
   "metadata": {},
   "source": [
    "# More Neo4j Practice"
   ]
  },
  {
   "cell_type": "markdown",
   "id": "614e38fc-9f43-46e8-849e-a4b0405e6d67",
   "metadata": {},
   "source": [
    "### 1) Creates a new node for each existing node label with at least one property for a signature coffee chocolate cake recipe."
   ]
  },
  {
   "cell_type": "code",
   "execution_count": 114,
   "id": "8e6dfac9-1250-45b8-a965-892a3ecab298",
   "metadata": {},
   "outputs": [
    {
     "name": "stdout",
     "output_type": "stream",
     "text": [
      "0 rows\n",
      "ready to start consuming query after 345 ms, results consumed after another 0 ms\n",
      "Added 1 nodes, Set 1 properties, Added 1 labels\n",
      "0 rows\n",
      "ready to start consuming query after 25 ms, results consumed after another 0 ms\n",
      "Added 1 nodes, Set 1 properties, Added 1 labels\n",
      "0 rows\n",
      "ready to start consuming query after 20 ms, results consumed after another 0 ms\n",
      "Added 1 nodes, Set 1 properties, Added 1 labels\n",
      "0 rows\n",
      "ready to start consuming query after 20 ms, results consumed after another 0 ms\n",
      "Added 1 nodes, Set 1 properties, Added 1 labels\n",
      "0 rows\n",
      "ready to start consuming query after 20 ms, results consumed after another 0 ms\n",
      "Added 1 nodes, Set 1 properties, Added 1 labels\n"
     ]
    }
   ],
   "source": [
    "%%neo\n",
    "CREATE (:Recipe {name: \"Coffee Chocolate Cake\"});\n",
    "CREATE (:Ingredient {name: \"chocolate\"});\n",
    "CREATE (:Collection {name: \"Birthday\"});\n",
    "CREATE (:Author {name: \"Daisy Pinaroc\"});\n",
    "CREATE (:DietType {name: \"Nut-free\"});"
   ]
  },
  {
   "cell_type": "markdown",
   "id": "efdad802-ff97-48f5-a001-4869f33c83d4",
   "metadata": {},
   "source": [
    "### 2) Create a new relationship for each existing relationship type:\n",
    "* Adds the \"Herby slashed roasties\" Recipe under the \"Comfort food\" Collection\n",
    "* Adds the \"Butternut soup shots with crispy pancetta soldiers\" Recipe under the \"Low-sugar\" Diet Type\n",
    "* Includes ground cumin as an ingredient for \"Sizzled lamb steaks with warm beetroot salad\"\n",
    "* Adds Daisy Pinaroc as an author for the \"Creamy tarragon chicken & potato bake\" recipe"
   ]
  },
  {
   "cell_type": "code",
   "execution_count": 118,
   "id": "e4dcf0c7-b520-40ac-9899-4889356125d1",
   "metadata": {},
   "outputs": [
    {
     "name": "stdout",
     "output_type": "stream",
     "text": [
      "0 rows\n",
      "ready to start consuming query after 142 ms, results consumed after another 0 ms\n",
      "Created 1 relationships\n",
      "0 rows\n",
      "ready to start consuming query after 59 ms, results consumed after another 0 ms\n",
      "Created 1 relationships\n",
      "0 rows\n",
      "ready to start consuming query after 58 ms, results consumed after another 0 ms\n",
      "Created 1 relationships\n",
      "0 rows\n",
      "ready to start consuming query after 54 ms, results consumed after another 0 ms\n",
      "Created 1 relationships\n"
     ]
    }
   ],
   "source": [
    "%%neo\n",
    "MATCH (r:Recipe {name:'Herby slashed roasties'})\n",
    "MATCH (c:Collection {name: 'Comfort food'})\n",
    "CREATE (r)-[:COLLECTION]->(c);\n",
    "\n",
    "MATCH (r:Recipe {name:'Butternut soup shots with crispy pancetta soldiers'})\n",
    "MATCH (dt:DietType {name:'Low-sugar'})\n",
    "CREATE (r)-[:DIET_TYPE]->(dt);\n",
    "\n",
    "MATCH (r:Recipe {name:'Sizzled lamb steaks with warm beetroot salad'})\n",
    "MATCH (i:Ingredient {name:'ground cumin'})\n",
    "CREATE (r)-[:CONTAINS_INGREDIENT]->(i);\n",
    "\n",
    "MATCH (a:Author {name:'Daisy Pinaroc'})\n",
    "MATCH (r:Recipe {name:'Creamy tarragon chicken & potato bake'})\n",
    "CREATE (a)-[:WROTE]->(r);"
   ]
  },
  {
   "cell_type": "markdown",
   "id": "13a14159-0c44-4bf9-9215-f73d9d6369d4",
   "metadata": {},
   "source": [
    "### 3) Updates the properties of the \"Crispy duck pancakes\" Recipe node. Adds more to the recipe description and changes the skill level from \"Easy\" to \"Medium\"."
   ]
  },
  {
   "cell_type": "code",
   "execution_count": 121,
   "id": "2cc49528-2b17-4622-a86d-8655288ab4e6",
   "metadata": {},
   "outputs": [
    {
     "name": "stdout",
     "output_type": "stream",
     "text": [
      "+-----------------------------------------------------------------------------------------------------------------------------------------------------------------------------------------------------------------------------------------------------------------+\n",
      "| r.name                 | r.description                                                                                                                                                                                                           | r.skillLevel |\n",
      "+-----------------------------------------------------------------------------------------------------------------------------------------------------------------------------------------------------------------------------------------------------------------+\n",
      "| \"Crispy duck pancakes\" | \"Don't call the Chinese takeaway for crispy duck with pancakes – our recipe is so easy to make and it's healthier, too. Serve with a classic plum sauce and syrup if that's what you prefer. Perfect for Thanksgiving!\" | \"Medium\"     |\n",
      "+-----------------------------------------------------------------------------------------------------------------------------------------------------------------------------------------------------------------------------------------------------------------+\n",
      "\n",
      "1 row\n",
      "ready to start consuming query after 148 ms, results consumed after another 324 ms\n",
      "Set 2 properties\n"
     ]
    }
   ],
   "source": [
    "%%neo\n",
    "MATCH (r:Recipe {name: 'Crispy duck pancakes'})\n",
    "SET r.description = \"Don't call the Chinese takeaway for crispy duck with pancakes – our recipe is so easy to make and it's healthier, too. Serve with a classic plum sauce and syrup if that's what you prefer. Perfect for Thanksgiving!\",\n",
    "    r.skillLevel = \"Medium\"\n",
    "RETURN r.name, r.description, r.skillLevel; "
   ]
  },
  {
   "cell_type": "markdown",
   "id": "6c0621f3-f23f-43cc-8c88-efa701f100a2",
   "metadata": {},
   "source": [
    "### 4) Updating the properties of the COLLECTION relationship between the \"Coconut hot chocolate\" recipe and \"Festive drinks\" collection to have a new property called \"weather\". This query sets \"cold\" to that property."
   ]
  },
  {
   "cell_type": "code",
   "execution_count": 126,
   "id": "19f26848-a17d-4022-a1f2-2a53e6525b35",
   "metadata": {},
   "outputs": [
    {
     "name": "stdout",
     "output_type": "stream",
     "text": [
      "+-----------------------------------------------------+\n",
      "| r.name                  | type(rel)   | rel.weather |\n",
      "+-----------------------------------------------------+\n",
      "| \"Coconut hot chocolate\" | \"COLLECTON\" | \"cold\"      |\n",
      "+-----------------------------------------------------+\n",
      "\n",
      "1 row\n",
      "ready to start consuming query after 21 ms, results consumed after another 31 ms\n",
      "Set 1 properties\n"
     ]
    }
   ],
   "source": [
    "%%neo\n",
    "MATCH (r:Recipe {name: 'Coconut hot chocolate'}), (c:Collection {name: 'Festive drinks'})\n",
    "MERGE (r)-[rel:COLLECTON]->(c)\n",
    "ON MATCH SET rel.weather = 'cold' \n",
    "RETURN r.name, type(rel), rel.weather; "
   ]
  },
  {
   "cell_type": "markdown",
   "id": "3ce23041-68af-46f7-abd1-e9453d97887b",
   "metadata": {},
   "source": [
    "### 5) Added a new node label called \"Special\" to the existing Recipe node \"Marinated lamb steaks with paprika roast tomatoes & butterbean smash\"."
   ]
  },
  {
   "cell_type": "code",
   "execution_count": 127,
   "id": "fbf7bf1b-114d-41e3-aed9-ae9f884d1608",
   "metadata": {},
   "outputs": [
    {
     "name": "stdout",
     "output_type": "stream",
     "text": [
      "+------------------------------------------------------------------------------------------------+\n",
      "| r.name                                                                 | labels                |\n",
      "+------------------------------------------------------------------------------------------------+\n",
      "| \"Marinated lamb steaks with paprika roast tomatoes & butterbean smash\" | [\"Recipe\", \"Special\"] |\n",
      "+------------------------------------------------------------------------------------------------+\n",
      "\n",
      "1 row\n",
      "ready to start consuming query after 57 ms, results consumed after another 37 ms\n",
      "Added 1 labels\n"
     ]
    }
   ],
   "source": [
    "%%neo\n",
    "MATCH (r {name: 'Marinated lamb steaks with paprika roast tomatoes & butterbean smash'})\n",
    "SET r:Special\n",
    "RETURN r.name, labels(r) AS labels;"
   ]
  },
  {
   "cell_type": "markdown",
   "id": "6ee3a1b2-8fd6-4bf8-bda1-467aeb0f3dd4",
   "metadata": {},
   "source": [
    "### 6) Renaming the relationship type \"COLLECTION\" to \"IS_COLLECTION\"."
   ]
  },
  {
   "cell_type": "code",
   "execution_count": 130,
   "id": "c0ececba-a88b-4a28-acbd-81621438ad0c",
   "metadata": {},
   "outputs": [
    {
     "name": "stdout",
     "output_type": "stream",
     "text": [
      "0 rows\n",
      "ready to start consuming query after 113 ms, results consumed after another 0 ms\n",
      "+-----------------------------------------------------------------------------------------------------------------------------------------------------------------------------------------------------------------------------------------------------------------------------------------------------------------------------+\n",
      "| r                                                                                                                                                                                                                                                                    | rel2             | c                                 |\n",
      "+-----------------------------------------------------------------------------------------------------------------------------------------------------------------------------------------------------------------------------------------------------------------------------------------------------------------------------+\n",
      "| (:Recipe {name: \"Nectarines in red wine\", preparationTime: 600, description: \"This is a stunningly simple, grown-up way to enjoy perfectly ripe nectarines, or peaches\", id: \"94276\", skillLevel: \"Easy\", cookingTime: 0})                                           | [:IS_COLLECTION] | (:Collection {name: \"Nectarine\"}) |\n",
      "| (:Recipe {preparationTime: 720, name: \"Baked nectarines with almonds & Marsala\", description: \"Create a delicious Italian-style topping for peaches and nectarines for a simple summer dessert\", id: \"97491\", skillLevel: \"Easy\", cookingTime: 3000})                | [:IS_COLLECTION] | (:Collection {name: \"Nectarine\"}) |\n",
      "| (:Recipe {name: \"Nectarine & strawberry pots\", preparationTime: 900, description: \"Based on a traditional Russian dessert with sweet mascarpone and finshed with a naughty warm chocolate sauce\", id: \"102117\", skillLevel: \"Easy\", cookingTime: 0})                 | [:IS_COLLECTION] | (:Collection {name: \"Nectarine\"}) |\n",
      "| (:Recipe {name: \"RosÃ© sangria\", preparationTime: 600, description: \"This refreshing fruity drink is perfect for warmer weather, with nectarines, strawberries and orange liqueur - easily doubled for parties\", id: \"5148501\", skillLevel: \"Easy\", cookingTime: 0}) | [:IS_COLLECTION] | (:Collection {name: \"Nectarine\"}) |\n",
      "| (:Recipe {preparationTime: 900, name: \"Nectarine & pistachio crunch layers\", description: \"Keep the crunch in these healthy, fruity puds by assembling just before serving\", id: \"96236\", skillLevel: \"Easy\", cookingTime: 480})                                     | [:IS_COLLECTION] | (:Collection {name: \"Nectarine\"}) |\n",
      "+-----------------------------------------------------------------------------------------------------------------------------------------------------------------------------------------------------------------------------------------------------------------------------------------------------------------------------+\n",
      "\n",
      "5 rows\n",
      "ready to start consuming query after 56 ms, results consumed after another 10 ms\n"
     ]
    }
   ],
   "source": [
    "%%neo\n",
    "MATCH (r:Recipe)-[rel:COLLECTION]->(c:Collection)\n",
    "MERGE (r)-[:IS_COLLECTION]->(c)\n",
    "DELETE rel;\n",
    "\n",
    "MATCH (r:Recipe)-[rel2:IS_COLLECTION]->(c:Collection)\n",
    "RETURN r, rel2, c\n",
    "LIMIT 5"
   ]
  },
  {
   "cell_type": "markdown",
   "id": "972a6440-78ec-4834-92a8-6213b2fec967",
   "metadata": {},
   "source": [
    "### 7) Deletes all the relationships between the author \"Ping Coombes\" and all the recipes they wrote."
   ]
  },
  {
   "cell_type": "code",
   "execution_count": 131,
   "id": "0fb58b32-9d17-408f-b04d-c0f03d423b3a",
   "metadata": {},
   "outputs": [
    {
     "name": "stdout",
     "output_type": "stream",
     "text": [
      "0 rows\n",
      "ready to start consuming query after 53 ms, results consumed after another 0 ms\n",
      "Deleted 8 relationships\n"
     ]
    }
   ],
   "source": [
    "%%neo\n",
    "MATCH (a:Author {name: 'Ping Coombes'})-[rel:WROTE]->(r:Recipe)\n",
    "DELETE rel"
   ]
  },
  {
   "cell_type": "markdown",
   "id": "303a1985-b090-4282-b3b5-d8f4e9b0ef95",
   "metadata": {},
   "source": [
    "### 8) Deleted all recipe nodes that had less than 9 ingredients and were under the \"Cannelloni\" collection."
   ]
  },
  {
   "cell_type": "code",
   "execution_count": 132,
   "id": "c1b7b54f-4876-4f63-ba7f-ae8e82b6d048",
   "metadata": {},
   "outputs": [
    {
     "name": "stdout",
     "output_type": "stream",
     "text": [
      "0 rows\n",
      "ready to start consuming query after 104 ms, results consumed after another 0 ms\n",
      "Deleted 2 nodes, Deleted 24 relationships\n"
     ]
    }
   ],
   "source": [
    "%%neo\n",
    "MATCH (c:Collection {name: 'Cannelloni'})<-[:IS_COLLECTION]-(r:Recipe)-[:CONTAINS_INGREDIENT]->(i)\n",
    "WITH r, count(i) as num_ingredients\n",
    "WHERE num_ingredients < 9\n",
    "DETACH DELETE r; "
   ]
  },
  {
   "cell_type": "markdown",
   "id": "5d179837-9925-4468-bfe7-62e6f373e03b",
   "metadata": {},
   "source": [
    "### 9) Creates a unique constraint for the \"id\" property for all Recipe nodes."
   ]
  },
  {
   "cell_type": "code",
   "execution_count": 136,
   "id": "d7d88473-6b55-432f-a04f-e610359ba661",
   "metadata": {},
   "outputs": [
    {
     "name": "stdout",
     "output_type": "stream",
     "text": [
      "0 rows\n",
      "ready to start consuming query after 6 ms, results consumed after another 0 ms\n"
     ]
    }
   ],
   "source": [
    "%%neo\n",
    "CREATE CONSTRAINT unique_recipe_node_id_constraint IF NOT EXISTS\n",
    "FOR (r:Recipe)\n",
    "REQUIRE r.id IS NODE UNIQUE;"
   ]
  },
  {
   "cell_type": "markdown",
   "id": "8bd7a55a-ca2c-46f8-9697-0e0f7db9381b",
   "metadata": {
    "tags": []
   },
   "source": [
    "### 10) Creates a unique constraint for the relationship ID for the DIET_TYPE relationship."
   ]
  },
  {
   "cell_type": "code",
   "execution_count": 139,
   "id": "087cc89a-e07d-4a37-b1c0-50b5f6dd8940",
   "metadata": {},
   "outputs": [
    {
     "name": "stdout",
     "output_type": "stream",
     "text": [
      "0 rows\n",
      "ready to start consuming query after 66 ms, results consumed after another 0 ms\n",
      "Added 1 constraints\n"
     ]
    }
   ],
   "source": [
    "%%neo\n",
    "CREATE CONSTRAINT unique_diet_type_rel_constraint IF NOT EXISTS\n",
    "FOR ()-[r:DIET_TYPE]-()\n",
    "REQUIRE r.id IS RELATIONSHIP UNIQUE"
   ]
  }
 ],
 "metadata": {
  "environment": {
   "kernel": "python3",
   "name": "common-cpu.m112",
   "type": "gcloud",
   "uri": "gcr.io/deeplearning-platform-release/base-cpu:m112"
  },
  "kernelspec": {
   "display_name": "Python 3",
   "language": "python",
   "name": "python3"
  },
  "language_info": {
   "codemirror_mode": {
    "name": "ipython",
    "version": 3
   },
   "file_extension": ".py",
   "mimetype": "text/x-python",
   "name": "python",
   "nbconvert_exporter": "python",
   "pygments_lexer": "ipython3",
   "version": "3.10.12"
  }
 },
 "nbformat": 4,
 "nbformat_minor": 5
}
