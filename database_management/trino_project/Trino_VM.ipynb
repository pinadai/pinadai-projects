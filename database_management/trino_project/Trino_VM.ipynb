{
 "cells": [
  {
   "cell_type": "markdown",
   "id": "99170872-f901-444c-a273-aeb3cbaba721",
   "metadata": {},
   "source": [
    "# Final Project, Milestone 2"
   ]
  },
  {
   "cell_type": "code",
   "execution_count": 62,
   "id": "5bf273fc-5aef-4df5-b337-9fd8eed4209b",
   "metadata": {
    "tags": []
   },
   "outputs": [],
   "source": [
    "URL=\"http://10.128.0.4:8080\""
   ]
  },
  {
   "cell_type": "code",
   "execution_count": 3,
   "id": "980c0604-b4e4-4bed-a112-7373f95049d6",
   "metadata": {
    "tags": []
   },
   "outputs": [
    {
     "name": "stdout",
     "output_type": "stream",
     "text": [
      "WARNING: An illegal reflective access operation has occurred\n",
      "WARNING: Illegal reflective access by org.jline.terminal.impl.exec.ExecTerminalProvider$ReflectionRedirectPipeCreator (file:/usr/local/bin/trino) to constructor java.lang.ProcessBuilder$RedirectPipeImpl()\n",
      "WARNING: Please consider reporting this to the maintainers of org.jline.terminal.impl.exec.ExecTerminalProvider$ReflectionRedirectPipeCreator\n",
      "WARNING: Use --illegal-access=warn to enable warnings of further illegal reflective access operations\n",
      "WARNING: All illegal access operations will be denied in a future release\n",
      "\"bigquery\"\n",
      "\"mongo\"\n",
      "\"mysql\"\n",
      "\"postgres\"\n",
      "\"system\"\n",
      "\"tpch\"\n"
     ]
    }
   ],
   "source": [
    "!trino $URL --execute \"show catalogs\""
   ]
  },
  {
   "cell_type": "markdown",
   "id": "63515a8d-c4f2-4454-8023-7cd1dccd55de",
   "metadata": {},
   "source": [
    "## Data Preparation"
   ]
  },
  {
   "cell_type": "markdown",
   "id": "ff3da9b7-155f-40ec-8a15-a07d6144ab5f",
   "metadata": {},
   "source": [
    "## Testing the databases"
   ]
  },
  {
   "cell_type": "markdown",
   "id": "62209bd0-df16-4645-9d2e-96fde5a2ab53",
   "metadata": {},
   "source": [
    "### Querying MySQL through Trino:"
   ]
  },
  {
   "cell_type": "code",
   "execution_count": 12,
   "id": "91517317-7ab1-4ed8-bee0-b3cff0031f9e",
   "metadata": {
    "tags": []
   },
   "outputs": [
    {
     "name": "stdout",
     "output_type": "stream",
     "text": [
      "WARNING: An illegal reflective access operation has occurred\n",
      "WARNING: Illegal reflective access by org.jline.terminal.impl.exec.ExecTerminalProvider$ReflectionRedirectPipeCreator (file:/usr/local/bin/trino) to constructor java.lang.ProcessBuilder$RedirectPipeImpl()\n",
      "WARNING: Please consider reporting this to the maintainers of org.jline.terminal.impl.exec.ExecTerminalProvider$ReflectionRedirectPipeCreator\n",
      "WARNING: Use --illegal-access=warn to enable warnings of further illegal reflective access operations\n",
      "WARNING: All illegal access operations will be denied in a future release\n",
      "\"final_project\"\n",
      "\"information_schema\"\n",
      "\"performance_schema\"\n"
     ]
    }
   ],
   "source": [
    "!trino $URL --execute \"show schemas from mysql\""
   ]
  },
  {
   "cell_type": "code",
   "execution_count": 15,
   "id": "fff22d1f-28da-4d12-a109-858dee4acefd",
   "metadata": {
    "tags": []
   },
   "outputs": [
    {
     "name": "stdout",
     "output_type": "stream",
     "text": [
      "WARNING: An illegal reflective access operation has occurred\n",
      "WARNING: Illegal reflective access by org.jline.terminal.impl.exec.ExecTerminalProvider$ReflectionRedirectPipeCreator (file:/usr/local/bin/trino) to constructor java.lang.ProcessBuilder$RedirectPipeImpl()\n",
      "WARNING: Please consider reporting this to the maintainers of org.jline.terminal.impl.exec.ExecTerminalProvider$ReflectionRedirectPipeCreator\n",
      "WARNING: Use --illegal-access=warn to enable warnings of further illegal reflective access operations\n",
      "WARNING: All illegal access operations will be denied in a future release\n",
      "\"shopper\"\n"
     ]
    }
   ],
   "source": [
    "!trino $URL --execute \"show tables from mysql.final_project\""
   ]
  },
  {
   "cell_type": "code",
   "execution_count": 17,
   "id": "5c51b813-a619-4763-b7fd-5d7b12a6ccf3",
   "metadata": {
    "tags": []
   },
   "outputs": [
    {
     "name": "stdout",
     "output_type": "stream",
     "text": [
      "WARNING: An illegal reflective access operation has occurred\n",
      "WARNING: Illegal reflective access by org.jline.terminal.impl.exec.ExecTerminalProvider$ReflectionRedirectPipeCreator (file:/usr/local/bin/trino) to constructor java.lang.ProcessBuilder$RedirectPipeImpl()\n",
      "WARNING: Please consider reporting this to the maintainers of org.jline.terminal.impl.exec.ExecTerminalProvider$ReflectionRedirectPipeCreator\n",
      "WARNING: Use --illegal-access=warn to enable warnings of further illegal reflective access operations\n",
      "WARNING: All illegal access operations will be denied in a future release\n",
      "\"1\",\"Joseph\",\"Lopez\",\"Vincent-Lane\",\"412 Kelly Rue Suite 279\",\"Suite 984\",\"Port Danielleville\",\"Smithfurt\",\"DC\",\"07289\",\"402-759-8598\",\"(486)395-765\",\"williamrobinson@example.org\"\n",
      "\"2\",\"Susan\",\"Harvey\",\"Smith PLC\",\"07244 Thomas Common\",\"Apt. 410\",\"Justinland\",\"Tinaview\",\"SD\",\"58509\",\"969-886-3466\",\"3479738356  \",\"rogerwelch@example.com\"\n",
      "\"3\",\"Kerri\",\"Wilson\",\"Bell-Johnson\",\"775 Tina Tunnel Suite 964\",\"Suite 178\",\"Port Kenneth\",\"Odonnellshire\",\"AL\",\"24610\",\"+1-740-921-7\",\"432-964-3447\",\"sheribrown@example.com\"\n"
     ]
    }
   ],
   "source": [
    "!trino $URL --execute \"select * from mysql.final_project.shopper limit 3\""
   ]
  },
  {
   "cell_type": "markdown",
   "id": "9f2769b3-dd9e-435c-beba-19e85333a356",
   "metadata": {},
   "source": [
    "### Querying Postgres through Trino:"
   ]
  },
  {
   "cell_type": "code",
   "execution_count": 18,
   "id": "f7cdffa1-f87b-457d-b128-03b3492f5042",
   "metadata": {
    "tags": []
   },
   "outputs": [
    {
     "name": "stdout",
     "output_type": "stream",
     "text": [
      "WARNING: An illegal reflective access operation has occurred\n",
      "WARNING: Illegal reflective access by org.jline.terminal.impl.exec.ExecTerminalProvider$ReflectionRedirectPipeCreator (file:/usr/local/bin/trino) to constructor java.lang.ProcessBuilder$RedirectPipeImpl()\n",
      "WARNING: Please consider reporting this to the maintainers of org.jline.terminal.impl.exec.ExecTerminalProvider$ReflectionRedirectPipeCreator\n",
      "WARNING: Use --illegal-access=warn to enable warnings of further illegal reflective access operations\n",
      "WARNING: All illegal access operations will be denied in a future release\n",
      "\"final_project\"\n",
      "\"information_schema\"\n",
      "\"pg_catalog\"\n",
      "\"public\"\n"
     ]
    }
   ],
   "source": [
    "!trino $URL --execute \"show schemas from postgres\""
   ]
  },
  {
   "cell_type": "code",
   "execution_count": 44,
   "id": "aaa543d8-2e3b-46fd-9e4a-abf68abdb055",
   "metadata": {
    "tags": []
   },
   "outputs": [
    {
     "name": "stdout",
     "output_type": "stream",
     "text": [
      "WARNING: An illegal reflective access operation has occurred\n",
      "WARNING: Illegal reflective access by org.jline.terminal.impl.exec.ExecTerminalProvider$ReflectionRedirectPipeCreator (file:/usr/local/bin/trino) to constructor java.lang.ProcessBuilder$RedirectPipeImpl()\n",
      "WARNING: Please consider reporting this to the maintainers of org.jline.terminal.impl.exec.ExecTerminalProvider$ReflectionRedirectPipeCreator\n",
      "WARNING: Use --illegal-access=warn to enable warnings of further illegal reflective access operations\n",
      "WARNING: All illegal access operations will be denied in a future release\n",
      "\"reservations\"\n",
      "\"reviews\"\n",
      "\"shopper\"\n"
     ]
    }
   ],
   "source": [
    "!trino $URL --execute \"show tables from postgres.final_project\""
   ]
  },
  {
   "cell_type": "code",
   "execution_count": 20,
   "id": "f40558ee-9ff3-423e-be85-9e6b65bc572f",
   "metadata": {
    "tags": []
   },
   "outputs": [
    {
     "name": "stdout",
     "output_type": "stream",
     "text": [
      "WARNING: An illegal reflective access operation has occurred\n",
      "WARNING: Illegal reflective access by org.jline.terminal.impl.exec.ExecTerminalProvider$ReflectionRedirectPipeCreator (file:/usr/local/bin/trino) to constructor java.lang.ProcessBuilder$RedirectPipeImpl()\n",
      "WARNING: Please consider reporting this to the maintainers of org.jline.terminal.impl.exec.ExecTerminalProvider$ReflectionRedirectPipeCreator\n",
      "WARNING: Use --illegal-access=warn to enable warnings of further illegal reflective access operations\n",
      "WARNING: All illegal access operations will be denied in a future release\n",
      "\"1\",\"13\",\"Wilson, Cooper and Brewer\",\"and Sons\",\"92579 Jamie Locks\",\"Apt. 262\",\"West Timothy\",\"MO\",\"64095\",\"71.876170\",\"-154.609189\",\"EG\",\"2023-11-27\",\"2023-12-03\",\"6243.60\"\n",
      "\"2\",\"20\",\"Ramos Inc\",\"Ltd\",\"32601 Murray Alley Suite 713\",\"Apt. 345\",\"West Derekborough\",\"RI\",\"57910\",\"59.807628\",\"61.185516\",\"BR\",\"2023-11-21\",\"2023-11-22\",\"2363.32\"\n",
      "\"3\",\"3\",\"Miller-Smith\",\"and Sons\",\"514 Walker Village Apt. 922\",\"Apt. 975\",\"Lozanostad\",\"NE\",\"39982\",\"17.988926\",\"-152.458124\",\"BH\",\"2023-12-22\",\"2023-12-25\",\"8309.81\"\n"
     ]
    }
   ],
   "source": [
    "!trino $URL --execute \"select * from postgres.final_project.reservations limit 3\""
   ]
  },
  {
   "cell_type": "markdown",
   "id": "71f6b862-2967-4f7f-ad1e-3119d9353285",
   "metadata": {
    "tags": []
   },
   "source": [
    "### Querying MongoDB through Trino:"
   ]
  },
  {
   "cell_type": "code",
   "execution_count": 4,
   "id": "b2871c6a-0429-465f-904e-77120b5435b4",
   "metadata": {
    "tags": []
   },
   "outputs": [
    {
     "name": "stdout",
     "output_type": "stream",
     "text": [
      "WARNING: An illegal reflective access operation has occurred\n",
      "WARNING: Illegal reflective access by org.jline.terminal.impl.exec.ExecTerminalProvider$ReflectionRedirectPipeCreator (file:/usr/local/bin/trino) to constructor java.lang.ProcessBuilder$RedirectPipeImpl()\n",
      "WARNING: Please consider reporting this to the maintainers of org.jline.terminal.impl.exec.ExecTerminalProvider$ReflectionRedirectPipeCreator\n",
      "WARNING: Use --illegal-access=warn to enable warnings of further illegal reflective access operations\n",
      "WARNING: All illegal access operations will be denied in a future release\n",
      "\"college\"\n",
      "\"final_project\"\n",
      "\"information_schema\"\n"
     ]
    }
   ],
   "source": [
    "!trino $URL --execute \"show schemas from mongo\""
   ]
  },
  {
   "cell_type": "code",
   "execution_count": 5,
   "id": "8aa4af26-4279-45cb-89e6-45becba53748",
   "metadata": {
    "tags": []
   },
   "outputs": [
    {
     "name": "stdout",
     "output_type": "stream",
     "text": [
      "WARNING: An illegal reflective access operation has occurred\n",
      "WARNING: Illegal reflective access by org.jline.terminal.impl.exec.ExecTerminalProvider$ReflectionRedirectPipeCreator (file:/usr/local/bin/trino) to constructor java.lang.ProcessBuilder$RedirectPipeImpl()\n",
      "WARNING: Please consider reporting this to the maintainers of org.jline.terminal.impl.exec.ExecTerminalProvider$ReflectionRedirectPipeCreator\n",
      "WARNING: Use --illegal-access=warn to enable warnings of further illegal reflective access operations\n",
      "WARNING: All illegal access operations will be denied in a future release\n",
      "\"ticketing\"\n"
     ]
    }
   ],
   "source": [
    "!trino $URL --execute \"show tables from mongo.final_project\""
   ]
  },
  {
   "cell_type": "code",
   "execution_count": 6,
   "id": "ad8edc01-5a20-4d8f-8b70-db53ac9ddb4a",
   "metadata": {
    "tags": []
   },
   "outputs": [
    {
     "name": "stdout",
     "output_type": "stream",
     "text": [
      "WARNING: An illegal reflective access operation has occurred\n",
      "WARNING: Illegal reflective access by org.jline.terminal.impl.exec.ExecTerminalProvider$ReflectionRedirectPipeCreator (file:/usr/local/bin/trino) to constructor java.lang.ProcessBuilder$RedirectPipeImpl()\n",
      "WARNING: Please consider reporting this to the maintainers of org.jline.terminal.impl.exec.ExecTerminalProvider$ReflectionRedirectPipeCreator\n",
      "WARNING: Use --illegal-access=warn to enable warnings of further illegal reflective access operations\n",
      "WARNING: All illegal access operations will be denied in a future release\n",
      "\"656aa6c648a03d23c924e3b4\",\"c7ea34f4-ccb0-45cd-bd64-f920e72bd44c\",\"25\",\"Batik Air\",\"5677\",\"Helsinki Vantaa airport\",\"Bologna airport\",\"2023-11-16\",\"1900-01-01 15:16:38\",\"2023-11-20\",\"1900-01-01 17:16:38\",\"1\",\"448\",\"KHR\"\n",
      "\"656aa6c648a03d23c924e3b5\",\"8d17742f-816f-45fe-9da6-1c9d1a04fcd3\",\"39\",\"China United Airlines\",\"9711\",\"Philip S W Goldson International airport\",\"Schiphol airport\",\"2023-11-04\",\"1900-01-01 12:43:36\",\"2023-11-14\",\"1900-01-01 19:43:36\",\"2\",\"774\",\"SBD\"\n",
      "\"656aa6c648a03d23c924e3b6\",\"4bf97b83-fe10-4601-9f65-fa6ff0b4165b\",\"30\",\"S7 Airlines\",\"1726\",\"Nanning-Wuyu airport\",\"Port Columbus International airport\",\"2023-12-23\",\"1900-01-01 08:56:23\",\"2023-12-23\",\"1900-01-01 14:56:23\",\"2\",\"915\",\"MYR\"\n"
     ]
    }
   ],
   "source": [
    "!trino $URL --execute \"select * from mongo.final_project.ticketing limit 3\""
   ]
  },
  {
   "cell_type": "markdown",
   "id": "d89a8291-ce65-4c3a-b34c-80328477022a",
   "metadata": {},
   "source": [
    "### Querying BigQuery through Trino:"
   ]
  },
  {
   "cell_type": "code",
   "execution_count": 25,
   "id": "f18ce07a-5ebc-4085-84e7-d46ea883caca",
   "metadata": {
    "tags": []
   },
   "outputs": [
    {
     "name": "stdout",
     "output_type": "stream",
     "text": [
      "WARNING: An illegal reflective access operation has occurred\n",
      "WARNING: Illegal reflective access by org.jline.terminal.impl.exec.ExecTerminalProvider$ReflectionRedirectPipeCreator (file:/usr/local/bin/trino) to constructor java.lang.ProcessBuilder$RedirectPipeImpl()\n",
      "WARNING: Please consider reporting this to the maintainers of org.jline.terminal.impl.exec.ExecTerminalProvider$ReflectionRedirectPipeCreator\n",
      "WARNING: Use --illegal-access=warn to enable warnings of further illegal reflective access operations\n",
      "WARNING: All illegal access operations will be denied in a future release\n",
      "\"cs327e_final_project_2023\"\n",
      "\"information_schema\"\n"
     ]
    }
   ],
   "source": [
    "!trino $URL --execute \"show schemas from bigquery\""
   ]
  },
  {
   "cell_type": "code",
   "execution_count": 26,
   "id": "d188368c-4bec-4028-97a2-825c4920b2cc",
   "metadata": {
    "tags": []
   },
   "outputs": [
    {
     "name": "stdout",
     "output_type": "stream",
     "text": [
      "WARNING: An illegal reflective access operation has occurred\n",
      "WARNING: Illegal reflective access by org.jline.terminal.impl.exec.ExecTerminalProvider$ReflectionRedirectPipeCreator (file:/usr/local/bin/trino) to constructor java.lang.ProcessBuilder$RedirectPipeImpl()\n",
      "WARNING: Please consider reporting this to the maintainers of org.jline.terminal.impl.exec.ExecTerminalProvider$ReflectionRedirectPipeCreator\n",
      "WARNING: Use --illegal-access=warn to enable warnings of further illegal reflective access operations\n",
      "WARNING: All illegal access operations will be denied in a future release\n",
      "\"currency\"\n",
      "\"reservations\"\n",
      "\"ticketing\"\n"
     ]
    }
   ],
   "source": [
    "!trino $URL --execute \"show tables from bigquery.cs327e_final_project_2023\""
   ]
  },
  {
   "cell_type": "code",
   "execution_count": 27,
   "id": "0fea67f0-e77f-444c-930f-b08a630277d1",
   "metadata": {
    "tags": []
   },
   "outputs": [
    {
     "name": "stdout",
     "output_type": "stream",
     "text": [
      "WARNING: An illegal reflective access operation has occurred\n",
      "WARNING: Illegal reflective access by org.jline.terminal.impl.exec.ExecTerminalProvider$ReflectionRedirectPipeCreator (file:/usr/local/bin/trino) to constructor java.lang.ProcessBuilder$RedirectPipeImpl()\n",
      "WARNING: Please consider reporting this to the maintainers of org.jline.terminal.impl.exec.ExecTerminalProvider$ReflectionRedirectPipeCreator\n",
      "WARNING: Use --illegal-access=warn to enable warnings of further illegal reflective access operations\n",
      "WARNING: All illegal access operations will be denied in a future release\n",
      "\"STD\",\"Guatemalan quetzal\",\"AL\",\"Burundi\"\n",
      "\"SVC\",\"United States dollar\",\"CV\",\"Mexico\"\n",
      "\"MNT\",\"Uzbekistani soʻm\",\"CV\",\"Iran\"\n"
     ]
    }
   ],
   "source": [
    "!trino $URL --execute \"select * from bigquery.cs327e_final_project_2023.currency limit 3\""
   ]
  },
  {
   "cell_type": "markdown",
   "id": "de6f331a-d12f-4b95-ba40-aef8fc51972b",
   "metadata": {},
   "source": [
    "## Part 2: Federated Queries"
   ]
  },
  {
   "cell_type": "markdown",
   "id": "5e7f2b0b-1b53-43cb-9cac-0fbb73b55abd",
   "metadata": {},
   "source": [
    "Q1: Who are the shoppers who have reservations in a different city from their own city and who\n",
    "paid for their reservations in Mongolian Tugrugs ~US dollars~ ? For those shoppers, return their cust_id, email, along with their reservation count. Order the results by cust_id. Limit the results to 5 records."
   ]
  },
  {
   "cell_type": "code",
   "execution_count": 58,
   "id": "99cf3d7e-a693-4a89-9bbc-6c014f52b05a",
   "metadata": {},
   "outputs": [
    {
     "name": "stdout",
     "output_type": "stream",
     "text": [
      "WARNING: An illegal reflective access operation has occurred\n",
      "WARNING: Illegal reflective access by org.jline.terminal.impl.exec.ExecTerminalProvider$ReflectionRedirectPipeCreator (file:/usr/local/bin/trino) to constructor java.lang.ProcessBuilder$RedirectPipeImpl()\n",
      "WARNING: Please consider reporting this to the maintainers of org.jline.terminal.impl.exec.ExecTerminalProvider$ReflectionRedirectPipeCreator\n",
      "WARNING: Use --illegal-access=warn to enable warnings of further illegal reflective access operations\n",
      "WARNING: All illegal access operations will be denied in a future release\n",
      "\"8\",\"fischerlori@example.net\",\"3\"\n"
     ]
    }
   ],
   "source": [
    "!trino $URL --execute \"SELECT s.cust_id, s.email, COUNT(r.res_id) AS reservation_count \\\n",
    "FROM mysql.final_project.shopper s \\\n",
    "JOIN postgres.final_project.reservations r ON s.cust_id = r.cust_id \\\n",
    "JOIN mongo.final_project.ticketing t ON s.cust_id = t.cust_id \\\n",
    "JOIN bigquery.cs327e_final_project_2023.currency c ON t.curr_code = c.curr_code \\\n",
    "WHERE r.city <> s.city AND c.curr_code ='MNT' \\\n",
    "GROUP BY s.cust_id, s.email \\\n",
    "ORDER BY s.cust_id \\\n",
    "LIMIT 5; \\\n",
    "\"\n",
    "# was missing a backlash at end"
   ]
  },
  {
   "cell_type": "markdown",
   "id": "21916b68-54b7-4991-a8fa-607325898e05",
   "metadata": {},
   "source": [
    "Q2: Who are the shoppers who have bought non-stop tickets on ~American~ Shandong Airlines with a\n",
    "departure date between 01/01/2020 and 12/31/2024? Return the shopper’s cust_id, email,\n",
    "dep_airport and dep_date. Order the results by dep_date. Limit the results to 5 records."
   ]
  },
  {
   "cell_type": "code",
   "execution_count": 75,
   "id": "8fea003b-80cc-420d-8319-439f3eb15488",
   "metadata": {},
   "outputs": [
    {
     "name": "stdout",
     "output_type": "stream",
     "text": [
      "WARNING: An illegal reflective access operation has occurred\n",
      "WARNING: Illegal reflective access by org.jline.terminal.impl.exec.ExecTerminalProvider$ReflectionRedirectPipeCreator (file:/usr/local/bin/trino) to constructor java.lang.ProcessBuilder$RedirectPipeImpl()\n",
      "WARNING: Please consider reporting this to the maintainers of org.jline.terminal.impl.exec.ExecTerminalProvider$ReflectionRedirectPipeCreator\n",
      "WARNING: Use --illegal-access=warn to enable warnings of further illegal reflective access operations\n",
      "WARNING: All illegal access operations will be denied in a future release\n",
      "\"14\",\"ijohnson@example.com\",\"William P Hobby airport\",\"2023-11-09\"\n",
      "\"41\",\"imoss@example.com\",\"Chennai International airport\",\"2023-11-26\"\n",
      "\"48\",\"douglasjasmine@example.org\",\"Cataratas del Iguazu airport\",\"2023-12-10\"\n",
      "\"31\",\"louis41@example.net\",\"Macapa International airport\",\"2023-12-30\"\n"
     ]
    }
   ],
   "source": [
    "!trino $URL --execute \"SELECT s.cust_id, s.email, t.dep_airport, t.dep_date \\\n",
    "FROM mysql.final_project.shopper s \\\n",
    "JOIN mongo.final_project.ticketing t ON s.cust_id = t.cust_id \\\n",
    "WHERE t.airline = 'Shandong Airlines' AND t.stops = 'non-stop' AND CAST(t.dep_date AS date) BETWEEN DATE '2020-01-01' AND DATE '2024-12-31' \\\n",
    "ORDER BY CAST(t.dep_date AS date) \\\n",
    "LIMIT 5; \\\n",
    "\""
   ]
  },
  {
   "cell_type": "markdown",
   "id": "766af594-40e2-4db5-87e1-11109eaf9ae6",
   "metadata": {},
   "source": [
    "Q3: Which shoppers have reservations and tickets with matching dates such that the arr_date\n",
    "and dep_date are equal between reservations and ticketing? For such shoppers, sum up their\n",
    "pmt_amt and tik_amt and return this sum as trip_amount. Also, return the shoppers’ cust_id,\n",
    "email, pmt_amt, tik_amt. Order the results by trip_amount in descending order. Limit the results\n",
    "to 5 records."
   ]
  },
  {
   "cell_type": "code",
   "execution_count": 76,
   "id": "710ab32f-c48d-43f6-b65d-ba4c847936c8",
   "metadata": {},
   "outputs": [
    {
     "name": "stdout",
     "output_type": "stream",
     "text": [
      "WARNING: An illegal reflective access operation has occurred\n",
      "WARNING: Illegal reflective access by org.jline.terminal.impl.exec.ExecTerminalProvider$ReflectionRedirectPipeCreator (file:/usr/local/bin/trino) to constructor java.lang.ProcessBuilder$RedirectPipeImpl()\n",
      "WARNING: Please consider reporting this to the maintainers of org.jline.terminal.impl.exec.ExecTerminalProvider$ReflectionRedirectPipeCreator\n",
      "WARNING: Use --illegal-access=warn to enable warnings of further illegal reflective access operations\n",
      "WARNING: All illegal access operations will be denied in a future release\n",
      "\"17\",\"jamesstanton@example.org\",\"13093.95\",\"11824.95\",\"1269\"\n",
      "\"47\",\"wgarcia@example.com\",\"5902.32\",\"3394.32\",\"2508\"\n",
      "\"46\",\"taylorkent@example.org\",\"4233.83\",\"3648.83\",\"585\"\n",
      "\"21\",\"ttyler@example.org\",\"1498.62\",\"1188.62\",\"310\"\n"
     ]
    }
   ],
   "source": [
    "!trino $URL --execute \"SELECT s.cust_id, s.email, SUM(r.pmt_amt) + SUM(t.tik_amt) AS trip_amount, SUM(r.pmt_amt) AS pmt_amt, SUM(t.tik_amt) AS tik_amt \\\n",
    "FROM mysql.final_project.shopper s \\\n",
    "JOIN postgres.final_project.reservations r ON s.cust_id = r.cust_id \\\n",
    "JOIN mongo.final_project.ticketing t ON s.cust_id = t.cust_id \\\n",
    "WHERE CAST(r.dep_date as date) = CAST(t.arr_date as date) OR CAST(r.arr_date as date) = CAST(t.dep_date as date) \\\n",
    "GROUP BY s.cust_id, s.email \\\n",
    "ORDER BY trip_amount DESC \\\n",
    "LIMIT 5; \\\n",
    "\""
   ]
  },
  {
   "cell_type": "markdown",
   "id": "994feb8d-0ea5-4f8c-9146-1055b75489e3",
   "metadata": {},
   "source": [
    "## Part 3: Trino Evaluation"
   ]
  },
  {
   "cell_type": "markdown",
   "id": "2ce0f6ff-ce66-4620-9033-b2f2f8400825",
   "metadata": {},
   "source": [
    "Conduct a more thorough evaluation of Trino. Think of other tests you can run to gain a more complete picture of Trino’s functionality. Come up with some tests and run them from your notebook. Test a variety of scenarios:\n",
    "* DDL\n",
    "* DML\n",
    "* SELECT statements"
   ]
  },
  {
   "cell_type": "markdown",
   "id": "3421a1c1-3f70-4a58-a0e1-af2af8da3282",
   "metadata": {},
   "source": [
    "### DDL (CREATE, ALTER, DROP)"
   ]
  },
  {
   "cell_type": "markdown",
   "id": "3cf4a376-aa4e-499a-8f5e-8e3b33afc4cd",
   "metadata": {},
   "source": [
    "**PostgreSQL: CREATE a new table that contains reviews/ratings from customers regarding their reservation stay.**"
   ]
  },
  {
   "cell_type": "code",
   "execution_count": 65,
   "id": "26dda4fd-1654-4d83-8aa6-2fd3bef26f9f",
   "metadata": {
    "tags": []
   },
   "outputs": [
    {
     "name": "stdout",
     "output_type": "stream",
     "text": [
      "WARNING: An illegal reflective access operation has occurred\n",
      "WARNING: Illegal reflective access by org.jline.terminal.impl.exec.ExecTerminalProvider$ReflectionRedirectPipeCreator (file:/usr/local/bin/trino) to constructor java.lang.ProcessBuilder$RedirectPipeImpl()\n",
      "WARNING: Please consider reporting this to the maintainers of org.jline.terminal.impl.exec.ExecTerminalProvider$ReflectionRedirectPipeCreator\n",
      "WARNING: Use --illegal-access=warn to enable warnings of further illegal reflective access operations\n",
      "WARNING: All illegal access operations will be denied in a future release\n",
      "DROP TABLE\n",
      "WARNING: An illegal reflective access operation has occurred\n",
      "WARNING: Illegal reflective access by org.jline.terminal.impl.exec.ExecTerminalProvider$ReflectionRedirectPipeCreator (file:/usr/local/bin/trino) to constructor java.lang.ProcessBuilder$RedirectPipeImpl()\n",
      "WARNING: Please consider reporting this to the maintainers of org.jline.terminal.impl.exec.ExecTerminalProvider$ReflectionRedirectPipeCreator\n",
      "WARNING: Use --illegal-access=warn to enable warnings of further illegal reflective access operations\n",
      "WARNING: All illegal access operations will be denied in a future release\n",
      "CREATE TABLE\n",
      "postgres.final_project.reviews successfully created.\n"
     ]
    }
   ],
   "source": [
    "!trino $URL --execute \"DROP TABLE IF EXISTS postgres.final_project.reviews;\"\n",
    "\n",
    "!trino $URL --execute \"CREATE TABLE IF NOT EXISTS postgres.final_project.reviews (\\\n",
    "review_id INT,\\\n",
    "cust_id INT,\\\n",
    "review_comment VARCHAR,\\\n",
    "rating INT,\\\n",
    "review_date DATE\\\n",
    ");\\\n",
    "\"\n",
    "print(\"postgres.final_project.reviews successfully created.\")"
   ]
  },
  {
   "cell_type": "markdown",
   "id": "924bc1c6-4e76-4c8d-b6c4-bde649c9fe03",
   "metadata": {},
   "source": [
    "**MySQL: Add two new columns to mysql.final_project.shoppers that include a shopper's reward points for their booked reservations and flights.**"
   ]
  },
  {
   "cell_type": "code",
   "execution_count": 55,
   "id": "c20a861c-7635-457d-aa70-10e4ebdf9548",
   "metadata": {
    "tags": []
   },
   "outputs": [
    {
     "name": "stdout",
     "output_type": "stream",
     "text": [
      "WARNING: An illegal reflective access operation has occurred\n",
      "WARNING: Illegal reflective access by org.jline.terminal.impl.exec.ExecTerminalProvider$ReflectionRedirectPipeCreator (file:/usr/local/bin/trino) to constructor java.lang.ProcessBuilder$RedirectPipeImpl()\n",
      "WARNING: Please consider reporting this to the maintainers of org.jline.terminal.impl.exec.ExecTerminalProvider$ReflectionRedirectPipeCreator\n",
      "WARNING: Use --illegal-access=warn to enable warnings of further illegal reflective access operations\n",
      "WARNING: All illegal access operations will be denied in a future release\n",
      "ADD COLUMN\n",
      "WARNING: An illegal reflective access operation has occurred\n",
      "WARNING: Illegal reflective access by org.jline.terminal.impl.exec.ExecTerminalProvider$ReflectionRedirectPipeCreator (file:/usr/local/bin/trino) to constructor java.lang.ProcessBuilder$RedirectPipeImpl()\n",
      "WARNING: Please consider reporting this to the maintainers of org.jline.terminal.impl.exec.ExecTerminalProvider$ReflectionRedirectPipeCreator\n",
      "WARNING: Use --illegal-access=warn to enable warnings of further illegal reflective access operations\n",
      "WARNING: All illegal access operations will be denied in a future release\n",
      "ADD COLUMN\n"
     ]
    }
   ],
   "source": [
    "!trino $URL --execute \"ALTER TABLE IF EXISTS mysql.final_project.shopper ADD COLUMN IF NOT EXISTS reservations_points INT;\"\n",
    "\n",
    "!trino $URL --execute \"ALTER TABLE IF EXISTS mysql.final_project.shopper ADD COLUMN IF NOT EXISTS travel_points INT;\""
   ]
  },
  {
   "cell_type": "markdown",
   "id": "937582ae-d0be-4231-92b4-ab98c435aa3a",
   "metadata": {},
   "source": [
    "### DML (INSERT, UPDATE, DELETE)"
   ]
  },
  {
   "cell_type": "markdown",
   "id": "45b3ff06-3de0-4b8d-bf9f-3b43170b7b5d",
   "metadata": {},
   "source": [
    "**mysql.final_project.reviews: Insert a new row**"
   ]
  },
  {
   "cell_type": "code",
   "execution_count": 69,
   "id": "be6a7ed8-5fb8-43ac-a9c4-2713e2d6d8d6",
   "metadata": {
    "tags": []
   },
   "outputs": [
    {
     "name": "stdout",
     "output_type": "stream",
     "text": [
      "WARNING: An illegal reflective access operation has occurred\n",
      "WARNING: Illegal reflective access by org.jline.terminal.impl.exec.ExecTerminalProvider$ReflectionRedirectPipeCreator (file:/usr/local/bin/trino) to constructor java.lang.ProcessBuilder$RedirectPipeImpl()\n",
      "WARNING: Please consider reporting this to the maintainers of org.jline.terminal.impl.exec.ExecTerminalProvider$ReflectionRedirectPipeCreator\n",
      "WARNING: Use --illegal-access=warn to enable warnings of further illegal reflective access operations\n",
      "WARNING: All illegal access operations will be denied in a future release\n",
      "INSERT: 1 row\n"
     ]
    }
   ],
   "source": [
    "!trino $URL --execute \"INSERT INTO postgres.final_project.reviews (review_id, cust_id, review_comment, rating, review_date)\\\n",
    "VALUES (1, 1, 'The Cityscape Retreat''s impeccable cleanliness and convenient location near attractions make it a standout choice.', 5, CAST('2023-12-06' AS date));\"  "
   ]
  },
  {
   "cell_type": "markdown",
   "id": "fbe696be-7d29-4f99-8d12-e35f8d67a39c",
   "metadata": {},
   "source": [
    "**BigQuery: Inserts a new row into the currency table.**"
   ]
  },
  {
   "cell_type": "code",
   "execution_count": 49,
   "id": "59a22ff3-65a2-47d4-b48e-9b60f8d971a8",
   "metadata": {
    "tags": []
   },
   "outputs": [
    {
     "name": "stdout",
     "output_type": "stream",
     "text": [
      "WARNING: An illegal reflective access operation has occurred\n",
      "WARNING: Illegal reflective access by org.jline.terminal.impl.exec.ExecTerminalProvider$ReflectionRedirectPipeCreator (file:/usr/local/bin/trino) to constructor java.lang.ProcessBuilder$RedirectPipeImpl()\n",
      "WARNING: Please consider reporting this to the maintainers of org.jline.terminal.impl.exec.ExecTerminalProvider$ReflectionRedirectPipeCreator\n",
      "WARNING: Use --illegal-access=warn to enable warnings of further illegal reflective access operations\n",
      "WARNING: All illegal access operations will be denied in a future release\n",
      "INSERT: 1 row\n"
     ]
    }
   ],
   "source": [
    "!trino $URL --execute \"INSERT INTO bigquery.cs327e_final_project_2023.currency (curr_code, curr_name, cntry_code, cntry_name)\\\n",
    "VALUES ('DRP', 'Darub pounds', 'PH', 'Philippines');\""
   ]
  },
  {
   "cell_type": "markdown",
   "id": "bde12e45-b890-429d-b394-df6036d3d3d9",
   "metadata": {},
   "source": [
    "**MongoDB: Deletes rows from mongo.final_project.ticketing collection that have \"Spirit Airlines\" as the airline.**"
   ]
  },
  {
   "cell_type": "code",
   "execution_count": 52,
   "id": "2e310758-8761-4093-af0f-c27bc8549fd6",
   "metadata": {
    "tags": []
   },
   "outputs": [
    {
     "name": "stdout",
     "output_type": "stream",
     "text": [
      "WARNING: An illegal reflective access operation has occurred\n",
      "WARNING: Illegal reflective access by org.jline.terminal.impl.exec.ExecTerminalProvider$ReflectionRedirectPipeCreator (file:/usr/local/bin/trino) to constructor java.lang.ProcessBuilder$RedirectPipeImpl()\n",
      "WARNING: Please consider reporting this to the maintainers of org.jline.terminal.impl.exec.ExecTerminalProvider$ReflectionRedirectPipeCreator\n",
      "WARNING: Use --illegal-access=warn to enable warnings of further illegal reflective access operations\n",
      "WARNING: All illegal access operations will be denied in a future release\n",
      "DELETE: 1 row\n"
     ]
    }
   ],
   "source": [
    "!trino $URL --execute \"DELETE FROM mongo.final_project.ticketing WHERE airline = 'Spirit Airlines';\""
   ]
  },
  {
   "cell_type": "markdown",
   "id": "d1b41298-6857-4616-aca3-dc759fbefda4",
   "metadata": {},
   "source": [
    "## SELECT statements"
   ]
  },
  {
   "cell_type": "code",
   "execution_count": 70,
   "id": "1d69105b-5850-48ab-b851-e980a5373b02",
   "metadata": {
    "tags": []
   },
   "outputs": [
    {
     "name": "stdout",
     "output_type": "stream",
     "text": [
      "WARNING: An illegal reflective access operation has occurred\n",
      "WARNING: Illegal reflective access by org.jline.terminal.impl.exec.ExecTerminalProvider$ReflectionRedirectPipeCreator (file:/usr/local/bin/trino) to constructor java.lang.ProcessBuilder$RedirectPipeImpl()\n",
      "WARNING: Please consider reporting this to the maintainers of org.jline.terminal.impl.exec.ExecTerminalProvider$ReflectionRedirectPipeCreator\n",
      "WARNING: Use --illegal-access=warn to enable warnings of further illegal reflective access operations\n",
      "WARNING: All illegal access operations will be denied in a future release\n",
      "\"1\",\"1\",\"The Cityscape Retreat's impeccable cleanliness and convenient location near attractions make it a standout choice.\",\"5\",\"2023-12-06\"\n"
     ]
    }
   ],
   "source": [
    "# Show all data from the newly created reviews table in Postgres\n",
    "!trino $URL --execute \"SELECT * FROM postgres.final_project.reviews;\""
   ]
  },
  {
   "cell_type": "code",
   "execution_count": 74,
   "id": "35234ae0-2ca2-437a-b842-ffb5bac2a094",
   "metadata": {
    "tags": []
   },
   "outputs": [
    {
     "name": "stdout",
     "output_type": "stream",
     "text": [
      "WARNING: An illegal reflective access operation has occurred\n",
      "WARNING: Illegal reflective access by org.jline.terminal.impl.exec.ExecTerminalProvider$ReflectionRedirectPipeCreator (file:/usr/local/bin/trino) to constructor java.lang.ProcessBuilder$RedirectPipeImpl()\n",
      "WARNING: Please consider reporting this to the maintainers of org.jline.terminal.impl.exec.ExecTerminalProvider$ReflectionRedirectPipeCreator\n",
      "WARNING: Use --illegal-access=warn to enable warnings of further illegal reflective access operations\n",
      "WARNING: All illegal access operations will be denied in a future release\n",
      "\"1\",\"\",\"\"\n",
      "\"2\",\"\",\"\"\n",
      "\"3\",\"\",\"\"\n",
      "\"4\",\"\",\"\"\n",
      "\"5\",\"\",\"\"\n"
     ]
    }
   ],
   "source": [
    "# For the first 5 records, display the new added columns along with cust_id\n",
    "# There shouldn't be any values in the new columns because no data was added yet\n",
    "!trino $URL --execute \"SELECT cust_id, reservations_points, travel_points FROM mysql.final_project.shopper LIMIT 5;\""
   ]
  },
  {
   "cell_type": "code",
   "execution_count": 71,
   "id": "c9297080-5b02-4dfc-adf1-7e4b1354162a",
   "metadata": {
    "tags": []
   },
   "outputs": [
    {
     "name": "stdout",
     "output_type": "stream",
     "text": [
      "WARNING: An illegal reflective access operation has occurred\n",
      "WARNING: Illegal reflective access by org.jline.terminal.impl.exec.ExecTerminalProvider$ReflectionRedirectPipeCreator (file:/usr/local/bin/trino) to constructor java.lang.ProcessBuilder$RedirectPipeImpl()\n",
      "WARNING: Please consider reporting this to the maintainers of org.jline.terminal.impl.exec.ExecTerminalProvider$ReflectionRedirectPipeCreator\n",
      "WARNING: Use --illegal-access=warn to enable warnings of further illegal reflective access operations\n",
      "WARNING: All illegal access operations will be denied in a future release\n",
      "\"DRP\",\"Darub pounds\",\"PH\",\"Philippines\"\n"
     ]
    }
   ],
   "source": [
    "# Display all rows from the currency table whose currency code is DRP.\n",
    "!trino $URL --execute \"SELECT * FROM bigquery.cs327e_final_project_2023.currency WHERE curr_code = 'DRP';\""
   ]
  },
  {
   "cell_type": "code",
   "execution_count": 72,
   "id": "39aa1109-65f0-49bf-9e11-7f7ccc0187c1",
   "metadata": {
    "tags": []
   },
   "outputs": [
    {
     "name": "stdout",
     "output_type": "stream",
     "text": [
      "WARNING: An illegal reflective access operation has occurred\n",
      "WARNING: Illegal reflective access by org.jline.terminal.impl.exec.ExecTerminalProvider$ReflectionRedirectPipeCreator (file:/usr/local/bin/trino) to constructor java.lang.ProcessBuilder$RedirectPipeImpl()\n",
      "WARNING: Please consider reporting this to the maintainers of org.jline.terminal.impl.exec.ExecTerminalProvider$ReflectionRedirectPipeCreator\n",
      "WARNING: Use --illegal-access=warn to enable warnings of further illegal reflective access operations\n",
      "WARNING: All illegal access operations will be denied in a future release\n"
     ]
    }
   ],
   "source": [
    "# Checking to see if there's any ticketing data whose airline is Spirit Airlines\n",
    "# There should be no data returned because all these rows were previously deleted\n",
    "!trino $URL --execute \"SELECT * FROM mongo.final_project.ticketing WHERE airline = 'Spirit Airlines';\""
   ]
  },
  {
   "cell_type": "markdown",
   "id": "7a4f8636-de79-4cfc-9bd2-5034addd4aa4",
   "metadata": {},
   "source": [
    "### Trino Findings Summary"
   ]
  },
  {
   "cell_type": "markdown",
   "id": "8d03c94c-11f3-4e7f-b665-01b42c187323",
   "metadata": {},
   "source": [
    "After testing a variety of Trino scenarios including DDL, DML, and SELECT statements, it was found that data spanning various types of databases could be accessed and modified. The **CREATE TABLE** SQL statement against the PostgreSQL final_project schema resulted in a new table named “reviews”, which included new data that was inserted using an **INSERT INTO** statement. It was also seen that new columns, “reservations_points” and “travel_points”, were added to the MySQL final_project schema, represented by the **ALTER TABLE** statement. Although this Trino connector didn’t support **UPDATE**, it supported **INSERT** and **DELETE**, represented by the **INSERT INTO** statement against the BigQuery final_project currency table, resulting in a new row containing a new currency. The **DELETE FROM** statement against the MongoDB final_project ticketing collection resulted in deletion of all rows satisfying a certain criterion (Spirit Airlines), which represents how Trino successfully supports DML scenarios. Lastly, after running a **SELECT** statement to verify each DDL and DML scenario, it was seen that the newly inserted data was successfully returned (Postgres and BigQuery), new columns were shown (MySQL), and no data was returned (MongoDB). "
   ]
  }
 ],
 "metadata": {
  "environment": {
   "kernel": "conda-root-py",
   "name": "workbench-notebooks.m113",
   "type": "gcloud",
   "uri": "gcr.io/deeplearning-platform-release/workbench-notebooks:m113"
  },
  "kernelspec": {
   "display_name": "Python 3 (ipykernel) (Local)",
   "language": "python",
   "name": "conda-root-py"
  },
  "language_info": {
   "codemirror_mode": {
    "name": "ipython",
    "version": 3
   },
   "file_extension": ".py",
   "mimetype": "text/x-python",
   "name": "python",
   "nbconvert_exporter": "python",
   "pygments_lexer": "ipython3",
   "version": "3.10.13"
  }
 },
 "nbformat": 4,
 "nbformat_minor": 5
}
