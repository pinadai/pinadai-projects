{
 "cells": [
  {
   "cell_type": "markdown",
   "id": "ce176e86-2207-4c73-a26b-3f6440b067be",
   "metadata": {},
   "source": [
    "# Final Project Milestone 2\n",
    "# MongoDB - Trino VM"
   ]
  },
  {
   "cell_type": "code",
   "execution_count": null,
   "id": "fb66274a-9a19-425b-a3f9-411c823e9da4",
   "metadata": {},
   "outputs": [],
   "source": [
    "HOST = \"XXXX\"\n",
    "PORT = \"XXXX\"\n",
    "DB = \"XXXX\""
   ]
  },
  {
   "cell_type": "code",
   "execution_count": 2,
   "id": "fd4d5795-8b96-46d1-bc05-29c7562e222f",
   "metadata": {},
   "outputs": [],
   "source": [
    "# milestone 2\n",
    "from pymongo import MongoClient\n",
    "\n",
    "def connect():\n",
    "    url = \"mongodb://{}:{}\".format(HOST, PORT)\n",
    "    connection = MongoClient(url)\n",
    "    print(connection)\n",
    "    return connection[DB]"
   ]
  },
  {
   "cell_type": "markdown",
   "id": "b238cddd-fa81-47b7-89a9-7788e24635b2",
   "metadata": {},
   "source": [
    "### 1. Test Connection"
   ]
  },
  {
   "cell_type": "code",
   "execution_count": null,
   "id": "b4d1e378-b459-408a-ba9b-22a1c5ccc734",
   "metadata": {
    "tags": []
   },
   "outputs": [],
   "source": [
    "connection = connect()\n",
    "\n",
    "print(connection)"
   ]
  },
  {
   "cell_type": "markdown",
   "id": "cb2e125d-bce1-4204-88d5-d499ad27e4a0",
   "metadata": {},
   "source": [
    "### 2. Populating \"final_project\" w/ ticketing data from Milestone 1"
   ]
  },
  {
   "cell_type": "markdown",
   "id": "fd036ef8-5c41-45df-94be-0fc848b54528",
   "metadata": {},
   "source": [
    "**Populate the ticketing collection with 100 unique records**"
   ]
  },
  {
   "cell_type": "code",
   "execution_count": null,
   "id": "8c475e5f-951b-4610-b087-0d5ad0c2794d",
   "metadata": {
    "tags": []
   },
   "outputs": [],
   "source": [
    "# Creating the final_project collection & populating it with the ticketing data from Milestone 1\n",
    "import pandas as pd\n",
    "from gcsfs import GCSFileSystem\n",
    "\n",
    "# GCS path to the CSV file\n",
    "gcs_path = 'gs://XXXX'\n",
    "\n",
    "# Using GCSFileSystem to open the file\n",
    "fs = GCSFileSystem(project='XXXX')\n",
    "with fs.open(gcs_path, 'rb') as file:\n",
    "    # Use pandas to read the CSV file\n",
    "    ticketing_data = pd.read_csv(file, low_memory=False)\n",
    "\n",
    "try: \n",
    "    connection = connect()\n",
    "    collection = connection[\"ticketing\"]\n",
    "    collection.insert_many(ticketing_data.to_dict(orient='records'))\n",
    "    print(\"Data synchronized/transferred successfully to MongoDB\")\n",
    "except Exception as e:\n",
    "    print(\"Error occurred while synchronizing/transferring data:\", e)"
   ]
  },
  {
   "cell_type": "markdown",
   "id": "073ead0f-f9d2-486b-b62e-9c115fe7dd6b",
   "metadata": {},
   "source": [
    "**Sanity check**"
   ]
  },
  {
   "cell_type": "code",
   "execution_count": null,
   "id": "e70ce725-fb6a-47b3-ac03-ae70d871cd6d",
   "metadata": {
    "tags": []
   },
   "outputs": [],
   "source": [
    "# Show collections in database\n",
    "connection = connect()\n",
    "\n",
    "try:\n",
    "    collections = connection.list_collection_names()\n",
    "\n",
    "    # Print collections\n",
    "    print(\"Collections in the database:\")\n",
    "    for n in collections:\n",
    "        print(n)\n",
    "except Exceptions as e:\n",
    "    print(\"Error printing collections:\", e)"
   ]
  },
  {
   "cell_type": "code",
   "execution_count": null,
   "id": "83967d92-61ef-41f0-b991-6fb94a57fdd4",
   "metadata": {
    "tags": []
   },
   "outputs": [],
   "source": [
    "# Showing num documents in collection\n",
    "\n",
    "try:\n",
    "    connection = connect()\n",
    "    collection = connection[\"ticketing\"]\n",
    "    \n",
    "    # Get number of documents in shopper collection\n",
    "    doc_count = collection.count_documents({})\n",
    "\n",
    "    # Print document count\n",
    "    print(f\"Number of documents in {collection.name}: {doc_count}\")\n",
    "except Exception as e:\n",
    "    print(\"Error occurred while counting documents:\", e)"
   ]
  },
  {
   "cell_type": "code",
   "execution_count": 20,
   "id": "c33a3291-aa25-4d7c-88d1-f67917cc93da",
   "metadata": {
    "tags": []
   },
   "outputs": [],
   "source": [
    "# renaming collection, depending on the assignment requirements \n",
    "# connection = connect()\n",
    "# connection[\"ticketing\"].rename(\"final_project\")\n",
    "# print(\"Renamed\")"
   ]
  },
  {
   "cell_type": "code",
   "execution_count": null,
   "id": "d74016af-9d10-4f8e-a249-21c5116a9521",
   "metadata": {
    "tags": []
   },
   "outputs": [],
   "source": [
    "# connection = connect()\n",
    "# collection = connection[\"final_project\"]\n",
    "# collection.delete_many({})\n",
    "\n",
    "# connection[\"final_project\"].drop()"
   ]
  }
 ],
 "metadata": {
  "environment": {
   "kernel": "conda-root-py",
   "name": "workbench-notebooks.m113",
   "type": "gcloud",
   "uri": "gcr.io/deeplearning-platform-release/workbench-notebooks:m113"
  },
  "kernelspec": {
   "display_name": "Python 3 (ipykernel) (Local)",
   "language": "python",
   "name": "conda-root-py"
  },
  "language_info": {
   "codemirror_mode": {
    "name": "ipython",
    "version": 3
   },
   "file_extension": ".py",
   "mimetype": "text/x-python",
   "name": "python",
   "nbconvert_exporter": "python",
   "pygments_lexer": "ipython3",
   "version": "3.10.13"
  }
 },
 "nbformat": 4,
 "nbformat_minor": 5
}
