{
 "cells": [
  {
   "cell_type": "markdown",
   "id": "0d1a28a8-eeca-4719-91c9-8f0fdacda9e8",
   "metadata": {},
   "source": [
    "# Final Project Milestone 1\n",
    "# Part 2: PostgreSQL\n",
    "## Daisy Pinaroc"
   ]
  },
  {
   "cell_type": "code",
   "execution_count": 16,
   "id": "12e3307e-403d-4dac-a9bb-04ab4e42c698",
   "metadata": {
    "tags": []
   },
   "outputs": [],
   "source": [
    "HOST = \"XXXX\"\n",
    "USER = \"XXXX\"\n",
    "PW=\"XXXX\"\n",
    "DB=\"XXXX\""
   ]
  },
  {
   "cell_type": "code",
   "execution_count": 17,
   "id": "67a2dbc8-6f68-447a-b5bb-75478b78c382",
   "metadata": {
    "tags": []
   },
   "outputs": [],
   "source": [
    "import psycopg\n",
    "\n",
    "def connect():\n",
    "    \n",
    "    url = \"dbname='{}' user='{}' host={} port=XXXX password={}\".format(DB, USER, HOST, PW)\n",
    "    connection = psycopg.connect(url)\n",
    "\n",
    "    return connection"
   ]
  },
  {
   "cell_type": "markdown",
   "id": "f3e592bc-059e-4d34-8388-3f529ad8032e",
   "metadata": {},
   "source": [
    "**1. Test connection**"
   ]
  },
  {
   "cell_type": "code",
   "execution_count": 18,
   "id": "85f5d65d-cc6c-4612-a897-b7824bf7ecbe",
   "metadata": {
    "tags": []
   },
   "outputs": [
    {
     "name": "stdout",
     "output_type": "stream",
     "text": [
      "<psycopg.Connection [IDLE] (host=10.65.160.5 database=postgres) at 0x7fc74e31fac0>\n"
     ]
    }
   ],
   "source": [
    "import psycopg\n",
    "\n",
    "connection = connect()\n",
    "\n",
    "print(connection)"
   ]
  },
  {
   "cell_type": "markdown",
   "id": "c4710f5a-ca0e-40b2-ac27-529f061ca175",
   "metadata": {},
   "source": [
    "**2. Create a schema in Postgres with a table by the name of reservations (and drop it if it already exists)**"
   ]
  },
  {
   "cell_type": "code",
   "execution_count": 19,
   "id": "351486fa-7ce6-402c-929b-704d817a4f12",
   "metadata": {
    "tags": []
   },
   "outputs": [
    {
     "name": "stdout",
     "output_type": "stream",
     "text": [
      "Dropped schema: final_project\n",
      "Created schema: final_project\n"
     ]
    }
   ],
   "source": [
    "# Create a schema called final_project\n",
    "drop_schema = \"DROP SCHEMA IF EXISTS final_project CASCADE \"\n",
    "create_schema = \"CREATE SCHEMA IF NOT EXISTS final_project\"\n",
    "try:\n",
    "    cursor = connection.cursor()\n",
    "    cursor.execute(drop_schema)\n",
    "    print(\"Dropped schema: final_project\")\n",
    "    \n",
    "    cursor = connection.cursor()\n",
    "    cursor.execute(create_schema)\n",
    "    print(\"Created schema: final_project\")\n",
    "    \n",
    "    connection.commit()\n",
    "except Exception as e:\n",
    "    print(\"Error occurred while creating final_project schema:\", e)"
   ]
  },
  {
   "cell_type": "code",
   "execution_count": 20,
   "id": "518189b2-3b43-419f-a6d8-4ec0aeff3995",
   "metadata": {
    "tags": []
   },
   "outputs": [
    {
     "name": "stdout",
     "output_type": "stream",
     "text": [
      "Data synchronized/transferred successfully\n"
     ]
    }
   ],
   "source": [
    "# To ensure referential integrity, we get the shopper data generated in final-project-mysql.ipynb\n",
    "# This data was hard-coded in final-project-mysql.ipynb\n",
    "from sqlalchemy import create_engine\n",
    "import pandas as pd\n",
    "from gcsfs import GCSFileSystem\n",
    "\n",
    "# GCS path to the CSV file\n",
    "# gsutil\n",
    "gcs_path = 'gs://XXXX'\n",
    "\n",
    "# Using GCSFileSystem to open the file\n",
    "fs = GCSFileSystem(project='XXXX')\n",
    "with fs.open(gcs_path, 'rb') as file:\n",
    "    # Use pandas to read the CSV file \n",
    "    shopper_data = pd.read_csv(file, low_memory=False)\n",
    "\n",
    "# Transfer the data to Postgres database, into final_project schema\n",
    "try:\n",
    "    postgres_engine = create_engine('postgresql://XXXX')\n",
    "    shopper_data.to_sql('shopper', postgres_engine, schema='final_project', if_exists='replace', index=False)\n",
    "    print(\"Data synchronized/transferred successfully\")\n",
    "except Exception as e:\n",
    "    print(\"Error occurred while synchronizing data:\", e)"
   ]
  },
  {
   "cell_type": "code",
   "execution_count": 21,
   "id": "fde7fbae-38d6-4c53-8c2a-98519e97b796",
   "metadata": {
    "tags": []
   },
   "outputs": [
    {
     "name": "stdout",
     "output_type": "stream",
     "text": [
      "<psycopg.Connection [IDLE] (host=10.65.160.5 database=postgres) at 0x7fc74e72e350>\n",
      "Added unique constraint to cust_id in the shopper table\n"
     ]
    }
   ],
   "source": [
    "# This code block adds a unique constraint to cust_id, which ensures that all postgres.reservations.cust_id exist in mysql.shopper.cust_id\n",
    "import psycopg\n",
    "\n",
    "connection = connect()\n",
    "print(connection)\n",
    "\n",
    "try:\n",
    "    cursor = connection.cursor()\n",
    "\n",
    "    # SQL statement to add the constraint\n",
    "    add_unique_constraint = '''\n",
    "    ALTER TABLE final_project.shopper\n",
    "    ADD CONSTRAINT unique_cust_id UNIQUE (cust_id);\n",
    "    '''\n",
    "\n",
    "    cursor.execute(add_unique_constraint)\n",
    "    print('Added unique constraint to cust_id in the shopper table')\n",
    "    connection.commit()  # commit the changes\n",
    "except Exception as e:\n",
    "    print(\"Error occurred while adding unique constraint to cust_id:\", e)"
   ]
  },
  {
   "cell_type": "code",
   "execution_count": 22,
   "id": "7e2219f4-7d91-4c6a-aa61-c6df05afb550",
   "metadata": {
    "tags": []
   },
   "outputs": [
    {
     "name": "stdout",
     "output_type": "stream",
     "text": [
      "<psycopg.Connection [IDLE] (host=10.65.160.5 database=postgres) at 0x7fc74e6d5c00>\n",
      "DROP TABLE IF EXISTS final_project.reservations\n",
      "CREATE TABLE final_project.reservations(\n",
      "    res_id SERIAL PRIMARY KEY,\n",
      "    cust_id SERIAL NOT NULL,\n",
      "    prp_nm VARCHAR(100) NOT NULL,\n",
      "    prp_ch VARCHAR(40) NOT NULL,\n",
      "    adr_line_1 VARCHAR(41) NOT NULL,\n",
      "    adr_line_2 VARCHAR(41),\n",
      "    city VARCHAR(29) NOT NULL,\n",
      "    state CHAR(2) NOT NULL,\n",
      "    postal_cd CHAR(5) NOT NULL,\n",
      "    lat NUMERIC(10, 6) NOT NULL,\n",
      "    long NUMERIC(10, 6) NOT NULL,\n",
      "    cnt_code CHAR(2) NOT NULL,\n",
      "    arr_date DATE NOT NULL,\n",
      "    dep_date DATE NOT NULL,\n",
      "    pmt_amt NUMERIC(12, 2) NOT NULL,\n",
      "    FOREIGN KEY (cust_id) REFERENCES final_project.shopper(cust_id)\n",
      ")\n",
      "Dropped reservations table\n",
      "Created reservations table\n"
     ]
    }
   ],
   "source": [
    "import psycopg\n",
    "\n",
    "connection = connect()\n",
    "print(connection)\n",
    "\n",
    "drop_reservations = 'DROP TABLE IF EXISTS final_project.reservations'\n",
    "\n",
    "create_reservations = '''CREATE TABLE final_project.reservations(\n",
    "    res_id SERIAL PRIMARY KEY,\n",
    "    cust_id SERIAL NOT NULL,\n",
    "    prp_nm VARCHAR(100) NOT NULL,\n",
    "    prp_ch VARCHAR(40) NOT NULL,\n",
    "    adr_line_1 VARCHAR(41) NOT NULL,\n",
    "    adr_line_2 VARCHAR(41),\n",
    "    city VARCHAR(29) NOT NULL,\n",
    "    state CHAR(2) NOT NULL,\n",
    "    postal_cd CHAR(5) NOT NULL,\n",
    "    lat NUMERIC(10, 6) NOT NULL,\n",
    "    long NUMERIC(10, 6) NOT NULL,\n",
    "    cnt_code CHAR(2) NOT NULL,\n",
    "    arr_date DATE NOT NULL,\n",
    "    dep_date DATE NOT NULL,\n",
    "    pmt_amt NUMERIC(12, 2) NOT NULL,\n",
    "    FOREIGN KEY (cust_id) REFERENCES final_project.shopper(cust_id)\n",
    ")'''\n",
    "\n",
    "print(drop_reservations)\n",
    "print(create_reservations)\n",
    "\n",
    "try:\n",
    "    cursor = connection.cursor()\n",
    "    cursor.execute(drop_reservations)\n",
    "    print('Dropped reservations table')\n",
    "\n",
    "    cursor = connection.cursor()\n",
    "    cursor.execute(create_reservations)\n",
    "    print('Created reservations table')\n",
    "\n",
    "    connection.commit()  # commit the changes\n",
    "except Exception as e:\n",
    "    print(\"Error occurred while creating reservations table:\", e)"
   ]
  },
  {
   "cell_type": "markdown",
   "id": "25627505-a1ac-458d-b2ab-87ab0eb733d0",
   "metadata": {},
   "source": [
    "**3. Insert records into the table**"
   ]
  },
  {
   "cell_type": "code",
   "execution_count": 23,
   "id": "51872857-71f5-4c3d-b406-c29cd645908b",
   "metadata": {
    "tags": []
   },
   "outputs": [
    {
     "name": "stdout",
     "output_type": "stream",
     "text": [
      "All records deleted from the reservations table.\n"
     ]
    }
   ],
   "source": [
    "# DELETE all records from final_project.reservations, if needed\n",
    "'''\n",
    "try:\n",
    "    cursor = connection.cursor()\n",
    "\n",
    "    # Delete all records from the reservations table\n",
    "    delete_query = 'DELETE FROM final_project.reservations'\n",
    "    cursor.execute(delete_query)\n",
    "\n",
    "    connection.commit()   # commit the changes\n",
    "\n",
    "    print(\"All records deleted from the reservations table.\")\n",
    "    \n",
    "except Exception as e:\n",
    "    print(\"Error occurred while deleting records:\", e)\n",
    "'''"
   ]
  },
  {
   "cell_type": "code",
   "execution_count": 24,
   "id": "23071ccf-eb1e-4e74-b6ab-6fe92fd4a684",
   "metadata": {
    "tags": []
   },
   "outputs": [
    {
     "name": "stdout",
     "output_type": "stream",
     "text": [
      "<psycopg.Connection [IDLE] (host=10.65.160.5 database=postgres) at 0x7fc74e37d600>\n",
      "100 records written into reservations table\n"
     ]
    }
   ],
   "source": [
    "# Insert data into reservations table\n",
    "from faker import Faker\n",
    "from random import randrange\n",
    "from datetime import timedelta\n",
    "\n",
    "connection = connect()\n",
    "print(connection)\n",
    "\n",
    "fake = Faker()\n",
    "\n",
    "sql = '''\n",
    "INSERT INTO final_project.reservations (\n",
    "    cust_id, prp_nm, prp_ch, adr_line_1, adr_line_2, city, state, postal_cd,\n",
    "    lat, long, cnt_code, arr_date, dep_date, pmt_amt\n",
    ") VALUES (%s, %s, %s, %s, %s, %s, %s, %s, %s, %s, %s, %s, %s, %s)\n",
    "'''\n",
    "\n",
    "cursor = connection.cursor()\n",
    "\n",
    "# Query existing cust_id values from the shopper table\n",
    "cursor.execute(\"SELECT cust_id FROM final_project.shopper\")\n",
    "existing_cust_ids = [row[0] for row in cursor.fetchall()]\n",
    "\n",
    "reservations_records = []\n",
    "num_records = 0\n",
    "\n",
    "# Create 100 records using Faker(), Insert them into the reservations table\n",
    "for _ in range(100):\n",
    "    cust_id = fake.random_element(existing_cust_ids)\n",
    "    prp_nm = fake.company()\n",
    "    prp_ch = fake.company_suffix()\n",
    "    adr_line_1 = fake.street_address()\n",
    "    adr_line_2 = fake.secondary_address()\n",
    "    city = fake.city()\n",
    "    state = fake.state_abbr()\n",
    "    postal_cd = fake.zipcode()\n",
    "    lat = fake.latitude()\n",
    "    long = fake.longitude()\n",
    "    cnt_code = fake.country_code(representation=\"alpha-2\")\n",
    "    arr_date = fake.date_between(start_date=\"-30d\", end_date=\"+30d\")\n",
    "    dep_date = arr_date + timedelta(days=randrange(1, 15))  \n",
    "    pmt_amt = round(fake.random.uniform(100, 10000), 2) \n",
    "\n",
    "    record = (\n",
    "        cust_id, prp_nm, prp_ch, adr_line_1, adr_line_2, city, state, postal_cd,\n",
    "        lat, long, cnt_code, arr_date, dep_date, pmt_amt\n",
    "    )\n",
    "\n",
    "    reservations_records.append(record)\n",
    "    \n",
    "    num_records += 1 \n",
    "# Insert the records into the reservations table\n",
    "try:\n",
    "    cursor.executemany(sql, reservations_records)\n",
    "    connection.commit()\n",
    "    print(f\"{num_records} records written into reservations table\")\n",
    "except Exception as e:\n",
    "    print(\"Failed to insert records into reservations table:\", e)"
   ]
  },
  {
   "cell_type": "code",
   "execution_count": 25,
   "id": "7f222e86-35b9-4763-9be9-77707083632f",
   "metadata": {
    "collapsed": true,
    "jupyter": {
     "outputs_hidden": true
    },
    "tags": []
   },
   "outputs": [
    {
     "name": "stdout",
     "output_type": "stream",
     "text": [
      "(1, 13, 'Wilson, Cooper and Brewer', 'and Sons', '92579 Jamie Locks', 'Apt. 262', 'West Timothy', 'MO', '64095', Decimal('71.876170'), Decimal('-154.609189'), 'EG', datetime.date(2023, 11, 27), datetime.date(2023, 12, 3), Decimal('6243.60'))\n",
      "(2, 20, 'Ramos Inc', 'Ltd', '32601 Murray Alley Suite 713', 'Apt. 345', 'West Derekborough', 'RI', '57910', Decimal('59.807628'), Decimal('61.185516'), 'BR', datetime.date(2023, 11, 21), datetime.date(2023, 11, 22), Decimal('2363.32'))\n",
      "(3, 3, 'Miller-Smith', 'and Sons', '514 Walker Village Apt. 922', 'Apt. 975', 'Lozanostad', 'NE', '39982', Decimal('17.988926'), Decimal('-152.458124'), 'BH', datetime.date(2023, 12, 22), datetime.date(2023, 12, 25), Decimal('8309.81'))\n",
      "(4, 47, 'Riley-Kline', 'Inc', '57968 Jonathan Neck Apt. 209', 'Suite 808', 'South Michelle', 'WY', '08308', Decimal('24.000295'), Decimal('53.266712'), 'AL', datetime.date(2023, 11, 12), datetime.date(2023, 11, 24), Decimal('481.70'))\n",
      "(5, 34, 'Hill, Weaver and Baldwin', 'and Sons', '5439 Best Mountains Apt. 644', 'Suite 675', 'Youngstad', 'NM', '69242', Decimal('81.661193'), Decimal('136.919396'), 'NI', datetime.date(2023, 12, 6), datetime.date(2023, 12, 15), Decimal('847.76'))\n",
      "(6, 4, 'Nguyen PLC', 'Inc', '712 David Place', 'Suite 530', 'Hollyhaven', 'RI', '33121', Decimal('-35.088058'), Decimal('151.738579'), 'HT', datetime.date(2023, 12, 2), datetime.date(2023, 12, 11), Decimal('7210.88'))\n",
      "(7, 21, 'Peters-Harris', 'and Sons', '7246 Conway Fork', 'Apt. 890', 'Andreaburgh', 'ME', '26506', Decimal('-82.543719'), Decimal('-76.993546'), 'JP', datetime.date(2023, 11, 7), datetime.date(2023, 11, 12), Decimal('472.42'))\n",
      "(8, 36, 'Richards-Lopez', 'Group', '398 David Gardens Suite 641', 'Apt. 721', 'Port Josephton', 'IA', '91256', Decimal('-75.443720'), Decimal('-28.300615'), 'CV', datetime.date(2023, 12, 2), datetime.date(2023, 12, 6), Decimal('9613.02'))\n",
      "(9, 11, 'Richardson Ltd', 'and Sons', '332 Wright Rest', 'Suite 557', 'Patriciamouth', 'MD', '56374', Decimal('14.173970'), Decimal('-98.280457'), 'ZW', datetime.date(2023, 12, 24), datetime.date(2024, 1, 6), Decimal('1618.94'))\n",
      "(10, 33, 'Schroeder, Sullivan and Woods', 'PLC', '33921 Jeffery Skyway', 'Apt. 884', 'West Andrew', 'MN', '54770', Decimal('37.218476'), Decimal('23.150510'), 'LV', datetime.date(2023, 12, 8), datetime.date(2023, 12, 15), Decimal('1830.09'))\n",
      "(11, 30, 'Hall, Ford and Johnson', 'PLC', '436 Joseph Well Suite 128', 'Apt. 883', 'Henryhaven', 'MS', '47067', Decimal('-48.261788'), Decimal('-144.109554'), 'MW', datetime.date(2023, 11, 1), datetime.date(2023, 11, 7), Decimal('9056.78'))\n",
      "(12, 1, 'Solomon-Collins', 'Group', '7650 Moore Village', 'Apt. 728', 'East Mark', 'OR', '69892', Decimal('22.170058'), Decimal('-62.512399'), 'SG', datetime.date(2023, 12, 23), datetime.date(2024, 1, 2), Decimal('9452.04'))\n",
      "(13, 18, 'Crawford, Brown and Wilson', 'Group', '96739 Brandy Freeway', 'Apt. 855', 'Millerton', 'WI', '79670', Decimal('-70.213087'), Decimal('-22.232987'), 'VN', datetime.date(2023, 11, 30), datetime.date(2023, 12, 11), Decimal('1439.94'))\n",
      "(14, 27, 'Obrien-Freeman', 'PLC', '723 Scott Spring Suite 881', 'Suite 192', 'Lake Elizabethland', 'SC', '91646', Decimal('4.457683'), Decimal('-106.110518'), 'TD', datetime.date(2023, 12, 23), datetime.date(2024, 1, 2), Decimal('7847.38'))\n",
      "(15, 42, 'Welch, Young and Rangel', 'and Sons', '15451 Allison Motorway', 'Suite 972', 'North Lori', 'CA', '86018', Decimal('13.771222'), Decimal('24.617630'), 'RO', datetime.date(2023, 12, 9), datetime.date(2023, 12, 15), Decimal('5830.49'))\n",
      "(16, 40, 'Johnson Ltd', 'LLC', '59746 Derek Estates', 'Apt. 678', 'West Victorton', 'NE', '40378', Decimal('38.741556'), Decimal('44.962387'), 'NE', datetime.date(2023, 12, 15), datetime.date(2023, 12, 21), Decimal('2299.37'))\n",
      "(17, 40, 'Pope LLC', 'Ltd', '09062 Phillips Vista', 'Suite 443', 'Joelton', 'WV', '38444', Decimal('-54.351853'), Decimal('124.727087'), 'BI', datetime.date(2023, 11, 14), datetime.date(2023, 11, 17), Decimal('9041.12'))\n",
      "(18, 46, 'Kent Group', 'Ltd', '891 Michelle Route', 'Suite 834', 'Markstad', 'CO', '52657', Decimal('-34.944837'), Decimal('148.518742'), 'BI', datetime.date(2023, 11, 25), datetime.date(2023, 11, 27), Decimal('2473.12'))\n",
      "(19, 29, 'Cannon, Perry and Miller', 'Ltd', '724 Alexander Ramp', 'Apt. 886', 'Kevinview', 'SC', '35492', Decimal('-43.198793'), Decimal('34.442617'), 'LU', datetime.date(2023, 12, 5), datetime.date(2023, 12, 14), Decimal('1261.83'))\n",
      "(20, 8, 'Taylor Inc', 'Group', '7390 Omar Passage Suite 398', 'Suite 151', 'Christopherland', 'IN', '99231', Decimal('45.138502'), Decimal('114.867438'), 'DJ', datetime.date(2023, 11, 11), datetime.date(2023, 11, 23), Decimal('4793.05'))\n",
      "(21, 30, 'Newton, Miller and Aguilar', 'LLC', '3287 Cooper Islands', 'Apt. 579', 'Loveburgh', 'MH', '47264', Decimal('-40.602347'), Decimal('167.985527'), 'VA', datetime.date(2023, 12, 11), datetime.date(2023, 12, 20), Decimal('7164.54'))\n",
      "(22, 1, 'Davis-Smith', 'Ltd', '897 Smith Orchard Suite 360', 'Apt. 517', 'Lake Eddiemouth', 'IA', '84402', Decimal('76.208570'), Decimal('175.161462'), 'PS', datetime.date(2023, 12, 11), datetime.date(2023, 12, 16), Decimal('1924.11'))\n",
      "(23, 1, 'Lee Ltd', 'PLC', '083 Gomez Center', 'Suite 258', 'Hinesside', 'IA', '67104', Decimal('-78.522690'), Decimal('-0.780100'), 'MU', datetime.date(2023, 12, 1), datetime.date(2023, 12, 12), Decimal('1938.23'))\n",
      "(24, 2, 'Thompson-Diaz', 'and Sons', '962 Jessica Station', 'Apt. 168', 'Jamesfurt', 'WA', '27532', Decimal('-43.033915'), Decimal('107.574097'), 'AF', datetime.date(2023, 12, 29), datetime.date(2023, 12, 31), Decimal('7863.19'))\n",
      "(25, 21, 'Marquez, Craig and Perry', 'Ltd', '5757 Blair Plains Suite 473', 'Suite 990', 'Jacquelineport', 'VI', '41444', Decimal('0.373384'), Decimal('153.521081'), 'ER', datetime.date(2023, 12, 19), datetime.date(2023, 12, 25), Decimal('1188.62'))\n",
      "(26, 37, 'Reed, Bruce and Osborne', 'Ltd', '216 Carla Key', 'Suite 628', 'West Abigailview', 'TX', '40469', Decimal('50.245252'), Decimal('-164.491786'), 'LU', datetime.date(2023, 11, 7), datetime.date(2023, 11, 19), Decimal('8383.94'))\n",
      "(27, 33, 'Wagner-Blake', 'Ltd', '25123 Rogers Harbors Apt. 188', 'Suite 016', 'Michaelberg', 'AS', '44845', Decimal('59.745756'), Decimal('-109.166511'), 'TO', datetime.date(2023, 12, 5), datetime.date(2023, 12, 6), Decimal('9854.45'))\n",
      "(28, 14, 'Davis, Sharp and Smith', 'and Sons', '11457 Flowers Ports', 'Apt. 921', 'Nicoleview', 'WA', '10407', Decimal('1.887176'), Decimal('133.554305'), 'AG', datetime.date(2023, 11, 1), datetime.date(2023, 11, 9), Decimal('7708.12'))\n",
      "(29, 18, 'Rivera, Vance and Baker', 'Ltd', '9356 Andre Vista Suite 910', 'Suite 228', 'New Desireebury', 'MO', '95749', Decimal('28.796861'), Decimal('-90.292739'), 'BH', datetime.date(2023, 12, 11), datetime.date(2023, 12, 17), Decimal('8239.76'))\n",
      "(30, 43, 'Shelton-Smith', 'Group', '154 Moore Ways', 'Suite 709', 'Sherryport', 'VA', '21092', Decimal('-63.391741'), Decimal('163.300706'), 'QA', datetime.date(2023, 12, 4), datetime.date(2023, 12, 6), Decimal('9643.70'))\n",
      "(31, 47, 'Benson-Hernandez', 'Inc', '2239 Tina Route', 'Suite 108', 'Nicholsonfurt', 'NJ', '46860', Decimal('-57.843264'), Decimal('-145.402090'), 'KE', datetime.date(2023, 11, 18), datetime.date(2023, 11, 24), Decimal('1456.31'))\n",
      "(32, 46, 'Brown Inc', 'PLC', '003 Johnson Gateway', 'Suite 829', 'Laurastad', 'TN', '15446', Decimal('-45.733138'), Decimal('33.984506'), 'CV', datetime.date(2023, 11, 11), datetime.date(2023, 11, 18), Decimal('5551.85'))\n",
      "(33, 44, 'Turner, Thompson and Murray', 'PLC', '06993 Kenneth Route Apt. 357', 'Apt. 157', 'West Samuelville', 'MS', '32571', Decimal('9.262827'), Decimal('126.757735'), 'DJ', datetime.date(2023, 11, 1), datetime.date(2023, 11, 14), Decimal('9302.51'))\n",
      "(34, 28, 'Guzman Ltd', 'PLC', '75998 Margaret Brooks Suite 968', 'Suite 376', 'Dennisport', 'WY', '95309', Decimal('45.434366'), Decimal('36.713549'), 'CV', datetime.date(2023, 12, 16), datetime.date(2023, 12, 30), Decimal('8848.25'))\n",
      "(35, 29, 'White-Mccoy', 'LLC', '26653 Black Ports Suite 726', 'Apt. 760', 'Jenniferburgh', 'SC', '35495', Decimal('-37.734257'), Decimal('-116.450877'), 'CG', datetime.date(2023, 11, 22), datetime.date(2023, 11, 24), Decimal('4441.14'))\n",
      "(36, 32, 'Brown-Bowman', 'Group', '914 Abbott Ville Suite 649', 'Apt. 076', 'Youngfurt', 'DE', '12550', Decimal('50.698788'), Decimal('39.270564'), 'LK', datetime.date(2023, 11, 6), datetime.date(2023, 11, 7), Decimal('8374.50'))\n",
      "(37, 25, 'Lambert-Gonzalez', 'Inc', '37150 Christopher Stravenue', 'Apt. 489', 'Bakerland', 'AR', '18623', Decimal('-3.167789'), Decimal('138.596577'), 'GY', datetime.date(2023, 11, 10), datetime.date(2023, 11, 15), Decimal('8977.82'))\n",
      "(38, 46, 'Richards Inc', 'and Sons', '00519 Katelyn Stravenue Suite 700', 'Suite 692', 'Paynemouth', 'FL', '40276', Decimal('-65.185146'), Decimal('-144.393647'), 'FJ', datetime.date(2023, 12, 7), datetime.date(2023, 12, 14), Decimal('5418.67'))\n",
      "(39, 17, 'Tate Group', 'and Sons', '0008 Jackson Light', 'Apt. 882', 'South Maryside', 'VI', '34848', Decimal('-65.110842'), Decimal('-48.726308'), 'GY', datetime.date(2023, 11, 7), datetime.date(2023, 11, 15), Decimal('6226.85'))\n",
      "(40, 28, 'Thomas, Elliott and Aguilar', 'LLC', '5540 Collins Alley', 'Apt. 753', 'Gregoryland', 'CO', '63914', Decimal('-40.161525'), Decimal('179.353485'), 'NL', datetime.date(2023, 12, 30), datetime.date(2024, 1, 4), Decimal('5404.47'))\n",
      "(41, 41, 'Robinson and Sons', 'Inc', '47938 Brown Gardens', 'Suite 660', 'Courtneyport', 'WI', '66085', Decimal('68.722117'), Decimal('85.788341'), 'BW', datetime.date(2023, 11, 18), datetime.date(2023, 11, 20), Decimal('196.47'))\n",
      "(42, 34, 'Glover-Wong', 'Inc', '63560 Cannon Avenue', 'Apt. 496', 'North Dominiquechester', 'MA', '44296', Decimal('45.843829'), Decimal('-129.319644'), 'GE', datetime.date(2023, 11, 8), datetime.date(2023, 11, 13), Decimal('608.76'))\n",
      "(43, 1, 'Riggs-Grant', 'PLC', '4865 Rodgers Flats', 'Suite 331', 'Howardside', 'SD', '86990', Decimal('-25.488302'), Decimal('-73.122042'), 'PS', datetime.date(2023, 12, 4), datetime.date(2023, 12, 8), Decimal('2577.50'))\n",
      "(44, 26, 'Ramos-Olson', 'PLC', '0361 Palmer Street', 'Suite 441', 'West Jonathan', 'AL', '65367', Decimal('87.839236'), Decimal('-169.360793'), 'LB', datetime.date(2023, 12, 30), datetime.date(2024, 1, 5), Decimal('1024.78'))\n",
      "(45, 29, 'Cordova-Miller', 'Ltd', '44670 Garza Pines', 'Suite 328', 'Williamchester', 'SC', '39908', Decimal('-67.648142'), Decimal('-77.493788'), 'ZM', datetime.date(2023, 12, 9), datetime.date(2023, 12, 16), Decimal('6215.22'))\n",
      "(46, 21, 'Williams, Taylor and Adams', 'and Sons', '026 Huff Wall', 'Suite 789', 'East Robert', 'NE', '31465', Decimal('75.158424'), Decimal('-165.084757'), 'LT', datetime.date(2023, 12, 11), datetime.date(2023, 12, 22), Decimal('3010.37'))\n",
      "(47, 18, 'Buck-Burns', 'Ltd', '7743 Tiffany Island', 'Suite 525', 'Garymouth', 'ID', '77337', Decimal('71.926621'), Decimal('-109.114020'), 'GH', datetime.date(2023, 11, 29), datetime.date(2023, 12, 4), Decimal('6052.94'))\n",
      "(48, 29, 'Hernandez, Goodman and Johnson', 'Ltd', '911 George Prairie Apt. 977', 'Suite 314', 'Lake Sarah', 'AR', '43415', Decimal('-14.403756'), Decimal('131.349682'), 'AO', datetime.date(2023, 12, 7), datetime.date(2023, 12, 16), Decimal('3569.16'))\n",
      "(49, 23, 'Johns, Jones and Wilson', 'Inc', '2914 Jensen Gardens', 'Suite 035', 'Port Lauratown', 'MN', '12530', Decimal('-59.154490'), Decimal('177.078288'), 'LU', datetime.date(2023, 11, 7), datetime.date(2023, 11, 10), Decimal('2841.73'))\n",
      "(50, 1, 'Soto Inc', 'Group', '754 Elizabeth Course', 'Apt. 168', 'Karenside', 'MI', '23095', Decimal('-72.195748'), Decimal('83.844105'), 'CD', datetime.date(2023, 11, 1), datetime.date(2023, 11, 8), Decimal('6540.43'))\n",
      "(51, 8, 'Valentine, Burns and Brown', 'LLC', '67768 Griffin Mountain Suite 112', 'Apt. 952', 'Wilsonfurt', 'NV', '23325', Decimal('-57.637246'), Decimal('62.113032'), 'LR', datetime.date(2023, 12, 17), datetime.date(2023, 12, 28), Decimal('4140.32'))\n",
      "(52, 48, 'Anderson-Hayes', 'and Sons', '51834 Shelton Inlet', 'Suite 903', 'South Davidborough', 'ID', '15494', Decimal('-22.889828'), Decimal('51.160679'), 'FM', datetime.date(2023, 11, 1), datetime.date(2023, 11, 9), Decimal('2335.24'))\n",
      "(53, 10, 'Perry LLC', 'Group', '13758 Dillon Parks Suite 121', 'Suite 375', 'Kevinborough', 'MN', '39918', Decimal('3.458537'), Decimal('-130.083808'), 'SA', datetime.date(2023, 11, 14), datetime.date(2023, 11, 28), Decimal('8846.99'))\n",
      "(54, 10, 'Allen Group', 'LLC', '667 Stewart Inlet', 'Suite 270', 'New Brianmouth', 'TX', '85491', Decimal('21.586202'), Decimal('66.170608'), 'HU', datetime.date(2023, 11, 16), datetime.date(2023, 11, 29), Decimal('9167.26'))\n",
      "(55, 25, 'Bates, Robinson and Soto', 'Group', '318 Douglas Plain Apt. 299', 'Apt. 236', 'West Juan', 'MS', '64241', Decimal('-8.367154'), Decimal('61.961058'), 'LR', datetime.date(2023, 11, 3), datetime.date(2023, 11, 8), Decimal('4731.22'))\n",
      "(56, 28, 'Rodriguez and Sons', 'Ltd', '7723 Lindsey Ridges', 'Suite 596', 'Gibsonland', 'PA', '09227', Decimal('17.954508'), Decimal('-0.523369'), 'LV', datetime.date(2023, 11, 29), datetime.date(2023, 12, 7), Decimal('6354.49'))\n",
      "(57, 31, 'Singh-Davis', 'Inc', '47794 Lisa Union', 'Suite 867', 'Port Ryanmouth', 'NH', '61158', Decimal('-40.796725'), Decimal('153.586934'), 'PG', datetime.date(2023, 12, 4), datetime.date(2023, 12, 14), Decimal('5165.70'))\n",
      "(58, 30, 'Mitchell Ltd', 'PLC', '3462 Angela Cliff', 'Suite 645', 'Steinhaven', 'ID', '20672', Decimal('-36.023883'), Decimal('-114.998185'), 'RS', datetime.date(2023, 12, 11), datetime.date(2023, 12, 14), Decimal('6932.96'))\n",
      "(59, 9, 'Carpenter, Lee and Carpenter', 'Ltd', '306 David Oval Suite 344', 'Suite 573', 'Karlville', 'NV', '13654', Decimal('-57.491230'), Decimal('130.818148'), 'LU', datetime.date(2023, 11, 18), datetime.date(2023, 11, 29), Decimal('2053.55'))\n",
      "(60, 13, 'Buchanan Ltd', 'Ltd', '406 Matthew Corners Apt. 437', 'Suite 976', 'South Michaelport', 'NV', '63546', Decimal('-6.042743'), Decimal('-65.321164'), 'CD', datetime.date(2023, 12, 8), datetime.date(2023, 12, 22), Decimal('3022.34'))\n",
      "(61, 50, 'Johnson-Johnson', 'Group', '1854 Melissa Landing Apt. 364', 'Apt. 891', 'Amyhaven', 'DC', '77874', Decimal('58.244997'), Decimal('-83.026352'), 'GT', datetime.date(2023, 11, 25), datetime.date(2023, 12, 2), Decimal('6281.94'))\n",
      "(62, 42, 'Sullivan-Howard', 'PLC', '914 Garza Fork Suite 019', 'Suite 219', 'South Timothyside', 'AL', '95347', Decimal('80.413741'), Decimal('149.872878'), 'LU', datetime.date(2023, 11, 9), datetime.date(2023, 11, 19), Decimal('562.13'))\n",
      "(63, 32, 'Johnston and Sons', 'and Sons', '64415 Lisa Squares', 'Suite 211', 'Port Jaybury', 'ID', '10843', Decimal('-4.778513'), Decimal('29.544818'), 'MK', datetime.date(2023, 12, 15), datetime.date(2023, 12, 18), Decimal('2155.80'))\n",
      "(64, 32, 'Parker, Parker and Smith', 'and Sons', '46146 Willie Neck Apt. 373', 'Suite 369', 'Lisatown', 'MN', '37014', Decimal('-40.739877'), Decimal('-141.325330'), 'JP', datetime.date(2023, 12, 23), datetime.date(2024, 1, 2), Decimal('5551.51'))\n",
      "(65, 29, 'Allison, Norton and Smith', 'Group', '63113 Melissa Brooks', 'Suite 204', 'New Michael', 'HI', '63081', Decimal('76.517800'), Decimal('7.404452'), 'TM', datetime.date(2023, 12, 28), datetime.date(2024, 1, 5), Decimal('2213.39'))\n",
      "(66, 45, 'Ramos, Hubbard and Anderson', 'PLC', '452 Herrera Walk', 'Apt. 415', 'Port Michael', 'VA', '87286', Decimal('71.926159'), Decimal('64.198289'), 'BJ', datetime.date(2023, 11, 3), datetime.date(2023, 11, 14), Decimal('2980.58'))\n",
      "(67, 34, 'Decker-Brown', 'Inc', '13394 Campos Drive Apt. 371', 'Suite 023', 'Ryanburgh', 'NJ', '75961', Decimal('-77.975868'), Decimal('30.035542'), 'CH', datetime.date(2023, 12, 5), datetime.date(2023, 12, 11), Decimal('2199.09'))\n",
      "(68, 24, 'Meza LLC', 'Inc', '256 Francisco Springs Apt. 313', 'Apt. 335', 'Kristopherchester', 'WY', '43137', Decimal('-63.870981'), Decimal('-2.916779'), 'TT', datetime.date(2023, 11, 29), datetime.date(2023, 12, 3), Decimal('5067.84'))\n",
      "(69, 37, 'Miller PLC', 'Inc', '0419 Lori Oval Suite 082', 'Apt. 904', 'South Anthonyton', 'VI', '11594', Decimal('-49.457014'), Decimal('139.668566'), 'ME', datetime.date(2023, 12, 16), datetime.date(2023, 12, 18), Decimal('9909.27'))\n",
      "(70, 13, 'Shaw-Harvey', 'and Sons', '8479 Reed Flat', 'Suite 302', 'West Alejandroburgh', 'WV', '33445', Decimal('27.197826'), Decimal('-93.137305'), 'PT', datetime.date(2023, 11, 23), datetime.date(2023, 11, 26), Decimal('5631.82'))\n",
      "(71, 14, 'Garcia-Walker', 'Inc', '80576 Rogers Drives', 'Apt. 536', 'Staceyfurt', 'LA', '24328', Decimal('16.307368'), Decimal('-170.736714'), 'SE', datetime.date(2023, 12, 12), datetime.date(2023, 12, 17), Decimal('3283.12'))\n",
      "(72, 6, 'Kim Ltd', 'Ltd', '55125 Jennifer Mission', 'Suite 055', 'Colemouth', 'DC', '18630', Decimal('-55.319530'), Decimal('39.450356'), 'NA', datetime.date(2023, 11, 6), datetime.date(2023, 11, 20), Decimal('6818.83'))\n",
      "(73, 25, 'Meyer, Tucker and Stark', 'Inc', '27265 Cox Club', 'Suite 179', 'West Mark', 'LA', '29603', Decimal('-38.244632'), Decimal('-74.724840'), 'UG', datetime.date(2023, 11, 13), datetime.date(2023, 11, 17), Decimal('7792.67'))\n",
      "(74, 26, 'Swanson Group', 'LLC', '8987 Owen Unions Suite 684', 'Apt. 592', 'Gomezmouth', 'NE', '29994', Decimal('79.436775'), Decimal('-114.747335'), 'SI', datetime.date(2023, 11, 2), datetime.date(2023, 11, 5), Decimal('1746.72'))\n",
      "(75, 21, 'Best PLC', 'Inc', '3902 Hobbs Junctions', 'Suite 760', 'South Michael', 'AL', '21764', Decimal('64.948688'), Decimal('76.295877'), 'ID', datetime.date(2023, 12, 10), datetime.date(2023, 12, 15), Decimal('7313.46'))\n",
      "(76, 3, 'Gonzalez, Brown and Anderson', 'Ltd', '223 Lee Rue Suite 259', 'Suite 494', 'South Stevenborough', 'AL', '59572', Decimal('-13.912756'), Decimal('-140.617158'), 'LB', datetime.date(2023, 11, 21), datetime.date(2023, 12, 4), Decimal('803.17'))\n",
      "(77, 13, 'Osborn, Byrd and Turner', 'Inc', '713 Stephanie Points', 'Apt. 341', 'Wendychester', 'AK', '89455', Decimal('-79.019091'), Decimal('-92.229007'), 'FR', datetime.date(2023, 11, 4), datetime.date(2023, 11, 11), Decimal('9771.41'))\n",
      "(78, 8, 'Rios, Wilson and Meyer', 'PLC', '267 Russo Ridge', 'Suite 948', 'Cathybury', 'GU', '30138', Decimal('47.826262'), Decimal('61.236086'), 'MZ', datetime.date(2023, 12, 25), datetime.date(2024, 1, 8), Decimal('7712.13'))\n",
      "(79, 7, 'Randolph-Scott', 'Ltd', '3664 Eddie Street Apt. 970', 'Apt. 984', 'New Samanthashire', 'TN', '47448', Decimal('72.790393'), Decimal('22.011800'), 'CZ', datetime.date(2023, 12, 7), datetime.date(2023, 12, 10), Decimal('6734.51'))\n",
      "(80, 20, 'Watts-Archer', 'Ltd', '389 Thomas Station', 'Apt. 014', 'Lake Jessicaberg', 'FL', '84821', Decimal('-2.528887'), Decimal('127.853807'), 'FM', datetime.date(2023, 12, 2), datetime.date(2023, 12, 4), Decimal('4102.96'))\n",
      "(81, 36, 'Smith, Moran and Bishop', 'LLC', '05068 Richardson Roads', 'Apt. 278', 'West Jose', 'AR', '40786', Decimal('-25.972643'), Decimal('-100.928368'), 'ES', datetime.date(2023, 12, 1), datetime.date(2023, 12, 9), Decimal('9226.85'))\n",
      "(82, 22, 'Crane Inc', 'Ltd', '7765 Harris Overpass Apt. 121', 'Apt. 285', 'Medinamouth', 'KS', '39628', Decimal('-8.133675'), Decimal('158.126701'), 'PH', datetime.date(2023, 11, 24), datetime.date(2023, 12, 6), Decimal('3130.07'))\n",
      "(83, 9, 'Livingston LLC', 'Group', '2545 James Via', 'Apt. 969', 'Port Nicoleton', 'AS', '57693', Decimal('-80.258781'), Decimal('-145.280341'), 'PY', datetime.date(2023, 11, 17), datetime.date(2023, 11, 20), Decimal('6460.07'))\n",
      "(84, 42, 'Mcneil-Schmidt', 'LLC', '928 Robert Brook Apt. 811', 'Suite 532', 'Bridgesstad', 'WI', '05117', Decimal('7.628179'), Decimal('98.845729'), 'GE', datetime.date(2023, 12, 7), datetime.date(2023, 12, 19), Decimal('4768.85'))\n",
      "(85, 23, 'Leonard, Marshall and Wheeler', 'Ltd', '00480 Jaime Shoals', 'Apt. 316', 'Amyland', 'LA', '54226', Decimal('-51.627618'), Decimal('-98.803399'), 'VU', datetime.date(2023, 12, 6), datetime.date(2023, 12, 20), Decimal('7288.99'))\n",
      "(86, 19, 'Stewart-White', 'LLC', '1232 Fields Bypass Apt. 171', 'Apt. 826', 'West Karen', 'CO', '88255', Decimal('12.482385'), Decimal('-50.483501'), 'AM', datetime.date(2023, 11, 21), datetime.date(2023, 11, 26), Decimal('1439.99'))\n",
      "(87, 12, 'Richardson, Taylor and Davis', 'and Sons', '76446 Amy Avenue Suite 763', 'Apt. 041', 'East Richardhaven', 'AZ', '04660', Decimal('84.249553'), Decimal('-141.272126'), 'TG', datetime.date(2023, 12, 12), datetime.date(2023, 12, 22), Decimal('1113.02'))\n",
      "(88, 10, 'Huang, Santiago and Howard', 'LLC', '31068 Daniel Fords', 'Suite 962', 'West Morganville', 'HI', '51272', Decimal('28.567239'), Decimal('-1.475617'), 'CG', datetime.date(2023, 12, 27), datetime.date(2024, 1, 2), Decimal('8016.57'))\n",
      "(89, 32, 'Hudson-Davis', 'and Sons', '8220 Gregory Neck Suite 267', 'Suite 009', 'Port Amytown', 'SD', '94644', Decimal('28.219400'), Decimal('0.565542'), 'IE', datetime.date(2023, 11, 14), datetime.date(2023, 11, 20), Decimal('5442.59'))\n",
      "(90, 25, 'Howell, Bautista and Pineda', 'Ltd', '968 Brian Bypass Suite 938', 'Suite 863', 'Port Andrestad', 'TN', '73435', Decimal('-33.769867'), Decimal('-178.438378'), 'US', datetime.date(2023, 12, 6), datetime.date(2023, 12, 15), Decimal('8632.94'))\n",
      "(91, 20, 'Morrow-Evans', 'Ltd', '453 David Ports', 'Apt. 594', 'Port Leroyfort', 'CT', '89639', Decimal('-22.979833'), Decimal('-23.856936'), 'AZ', datetime.date(2023, 12, 3), datetime.date(2023, 12, 10), Decimal('9543.72'))\n",
      "(92, 42, 'Thompson, Williams and Ryan', 'LLC', '629 John Springs Apt. 111', 'Apt. 464', 'Port Nathanside', 'ME', '16106', Decimal('48.444431'), Decimal('77.263310'), 'IR', datetime.date(2023, 11, 5), datetime.date(2023, 11, 7), Decimal('7539.33'))\n",
      "(93, 20, 'Jones, Hughes and Fuentes', 'Ltd', '883 Young Wall Suite 285', 'Apt. 867', 'West Nancyshire', 'LA', '67948', Decimal('-83.632852'), Decimal('-27.809618'), 'TV', datetime.date(2023, 11, 20), datetime.date(2023, 11, 25), Decimal('1819.57'))\n",
      "(94, 7, 'Clarke, Best and Morse', 'LLC', '552 Kevin Orchard Apt. 036', 'Suite 526', 'North Katelyn', 'AK', '21595', Decimal('27.917888'), Decimal('121.364911'), 'RU', datetime.date(2023, 11, 13), datetime.date(2023, 11, 19), Decimal('3286.93'))\n",
      "(95, 11, 'Zamora PLC', 'Inc', '919 Lynn Groves', 'Suite 971', 'Lake Caitlyn', 'GU', '96258', Decimal('-81.266983'), Decimal('-67.584298'), 'SK', datetime.date(2023, 12, 17), datetime.date(2023, 12, 23), Decimal('562.19'))\n",
      "(96, 46, 'Ballard, Mcdonald and Smith', 'Ltd', '2446 Torres Pike Suite 200', 'Suite 487', 'Port Caitlin', 'OK', '74383', Decimal('-72.969129'), Decimal('52.174249'), 'PW', datetime.date(2023, 12, 24), datetime.date(2023, 12, 25), Decimal('3648.83'))\n",
      "(97, 14, 'Monroe LLC', 'and Sons', '250 Ray Lake', 'Suite 933', 'New Michellestad', 'DC', '54042', Decimal('14.519781'), Decimal('-75.157577'), 'LY', datetime.date(2023, 12, 2), datetime.date(2023, 12, 14), Decimal('6517.58'))\n",
      "(98, 47, 'Callahan, Wells and Villanueva', 'PLC', '04675 Matthew Turnpike', 'Apt. 692', 'Bakerville', 'VT', '10724', Decimal('15.328280'), Decimal('82.545768'), 'MU', datetime.date(2023, 12, 13), datetime.date(2023, 12, 16), Decimal('6414.40'))\n",
      "(99, 17, 'Hernandez-Pearson', 'LLC', '551 Adam Road Suite 210', 'Apt. 055', 'Parkerside', 'VT', '85121', Decimal('24.000139'), Decimal('-78.386720'), 'ZA', datetime.date(2023, 12, 4), datetime.date(2023, 12, 11), Decimal('5598.10'))\n",
      "(100, 45, 'Montgomery, Robinson and Khan', 'and Sons', '95282 Oliver Shoal', 'Suite 725', 'Jenkinsmouth', 'NE', '33067', Decimal('-50.240741'), Decimal('60.075502'), 'NA', datetime.date(2023, 11, 30), datetime.date(2023, 12, 13), Decimal('4208.95'))\n"
     ]
    }
   ],
   "source": [
    "# Sanity check: Print records of reservations table\n",
    "try:\n",
    "    sql_select_query = '''\n",
    "    SELECT * FROM final_project.reservations\n",
    "    '''\n",
    "    cursor.execute(sql_select_query)\n",
    "    records = cursor.fetchall()\n",
    "    for record in records:\n",
    "        print(record)\n",
    "except Exception as e:\n",
    "    print(\"Error occurred while fetching records:\", e)"
   ]
  },
  {
   "cell_type": "markdown",
   "id": "7da57872-0136-4c51-a268-bee81391df8a",
   "metadata": {},
   "source": [
    "**Hard-coding the reservations data to later ensure referential integrity between the tables**\n",
    "\n",
    "Making sure that:\n",
    "* postgres.reservations.cust_id exist in mysql.shopper.cust_id\n",
    "* postgres.reservations.cnt_code exist in bigquery.currency.cnt_code"
   ]
  },
  {
   "cell_type": "code",
   "execution_count": 26,
   "id": "61d22ab2-f6c4-46e1-bef7-df1e01398fdd",
   "metadata": {
    "tags": []
   },
   "outputs": [],
   "source": [
    "# importing necessary libraries for hard-coding\n",
    "import csv\n",
    "from io import StringIO\n",
    "from google.cloud import storage\n",
    "import psycopg2"
   ]
  },
  {
   "cell_type": "code",
   "execution_count": 27,
   "id": "5cc315e2-d6f8-4969-bc76-990c0a02fc2a",
   "metadata": {
    "tags": []
   },
   "outputs": [
    {
     "name": "stdout",
     "output_type": "stream",
     "text": [
      "<psycopg.Connection [IDLE] (host=10.65.160.5 database=postgres) at 0x7fc74e37cca0>\n",
      "Successfully fetched records\n"
     ]
    }
   ],
   "source": [
    "# Select data from reservations table\n",
    "\n",
    "connection = connect()\n",
    "print(connection)\n",
    "\n",
    "try:\n",
    "    cursor = connection.cursor()\n",
    "    select_query = \"SELECT * FROM final_project.reservations\"\n",
    "    cursor.execute(select_query)\n",
    "    records = cursor.fetchall()\n",
    "\n",
    "    # Get column names\n",
    "    column_names = [desc[0] for desc in cursor.description]\n",
    "\n",
    "    # Convert records to a list of dictionaries\n",
    "    records_as_dicts = [dict(zip(column_names, record)) for record in records]\n",
    "    \n",
    "    print(\"Successfully fetched records\")\n",
    "    \n",
    "    cursor.close()\n",
    "except Exception as e:\n",
    "    print(\"Error occurred while fetching records:\", e)"
   ]
  },
  {
   "cell_type": "code",
   "execution_count": 28,
   "id": "2faad834-46ed-473d-b191-cd0211e4fbc2",
   "metadata": {
    "tags": []
   },
   "outputs": [
    {
     "name": "stdout",
     "output_type": "stream",
     "text": [
      "CSV file containing reservations data written successfully\n"
     ]
    }
   ],
   "source": [
    "# Write data to a CSV file in memory\n",
    "csv_data = StringIO()\n",
    "try:\n",
    "    fieldnames = ['res_id', 'cust_id', 'prp_nm', 'prp_ch', 'adr_line_1', 'adr_line_2', 'city', 'state', 'postal_cd',\n",
    "                  'lat', 'long', 'cnt_code', 'arr_date', 'dep_date', 'pmt_amt']\n",
    "    writer = csv.DictWriter(csv_data, fieldnames=fieldnames)\n",
    "\n",
    "    writer.writeheader()\n",
    "    for record in records_as_dicts:\n",
    "        writer.writerow(record)\n",
    "    print(\"CSV file containing reservations data written successfully\")\n",
    "except Exception as e:\n",
    "    print(\"Error occurred while writing to CSV file in memory:\", e)"
   ]
  },
  {
   "cell_type": "code",
   "execution_count": 29,
   "id": "c783b80f-4e32-41e6-afd4-283a05fdffaa",
   "metadata": {
    "tags": []
   },
   "outputs": [
    {
     "name": "stdout",
     "output_type": "stream",
     "text": [
      "Data exported to gs://cs327e-final-project/reservations_data_postgresql.csv\n"
     ]
    }
   ],
   "source": [
    "# Upload CSV data to a Google Cloud Storage bucket\n",
    "bucket_name = 'XXXX'\n",
    "blob_name = 'reservations_data_postgresql.csv'\n",
    "try:\n",
    "    client = storage.Client()\n",
    "    bucket = client.get_bucket(bucket_name)\n",
    "    blob = bucket.blob(blob_name)\n",
    "\n",
    "    # Convert CSV data to bytes and upload it to the blob\n",
    "    blob.upload_from_string(csv_data.getvalue().encode('utf-8'), content_type='text/csv')\n",
    "\n",
    "    print(f'Data exported to gs://{bucket_name}/{blob_name}')\n",
    "except Exception as e:\n",
    "    print(\"Error occurred while uploading to Google Cloud Storage:\", e)"
   ]
  },
  {
   "cell_type": "code",
   "execution_count": 30,
   "id": "9eaf0109-42e8-4713-9146-977ce44caef2",
   "metadata": {
    "tags": []
   },
   "outputs": [
    {
     "name": "stderr",
     "output_type": "stream",
     "text": [
      "Copying gs://cs327e-final-project/reservations_data_postgresql.csv...\n",
      "/ [1 files][ 13.7 KiB/ 13.7 KiB]                                                \n",
      "Operation completed over 1 objects/13.7 KiB.                                     \n"
     ]
    },
    {
     "name": "stdout",
     "output_type": "stream",
     "text": [
      "File downloaded successfully.\n"
     ]
    }
   ],
   "source": [
    "# Check if the csv file's correct - download to jupyter notebook instance\n",
    "import subprocess\n",
    "\n",
    "# Define Google Cloud bucket_name and file_path\n",
    "bucket_name = 'XXXX'\n",
    "file_path = 'reservations_data_postgresql.csv'\n",
    "\n",
    "# Download the file using gsutil\n",
    "# Official documentation here: https://cloud.google.com/storage/docs/gsutil_install\n",
    "subprocess.run(['gsutil', 'cp', f'gs://{bucket_name}/{file_path}', 'reservations_data_postgresql.csv'])\n",
    "print('File downloaded successfully.')"
   ]
  }
 ],
 "metadata": {
  "environment": {
   "kernel": "conda-root-py",
   "name": "workbench-notebooks.m113",
   "type": "gcloud",
   "uri": "gcr.io/deeplearning-platform-release/workbench-notebooks:m113"
  },
  "kernelspec": {
   "display_name": "Python 3 (ipykernel) (Local)",
   "language": "python",
   "name": "conda-root-py"
  },
  "language_info": {
   "codemirror_mode": {
    "name": "ipython",
    "version": 3
   },
   "file_extension": ".py",
   "mimetype": "text/x-python",
   "name": "python",
   "nbconvert_exporter": "python",
   "pygments_lexer": "ipython3",
   "version": "3.10.13"
  }
 },
 "nbformat": 4,
 "nbformat_minor": 5
}
