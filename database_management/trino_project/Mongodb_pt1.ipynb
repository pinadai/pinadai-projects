{
 "cells": [
  {
   "cell_type": "markdown",
   "id": "ce176e86-2207-4c73-a26b-3f6440b067be",
   "metadata": {},
   "source": [
    "# Final Project Milestone 1\n",
    "# Part 3: MongoDB\n",
    "## Daisy Pinaroc"
   ]
  },
  {
   "cell_type": "code",
   "execution_count": 31,
   "id": "fb66274a-9a19-425b-a3f9-411c823e9da4",
   "metadata": {},
   "outputs": [],
   "source": [
    "USER = \"XXXX\"\n",
    "PSWRD = \"XXXX\"\n",
    "HOST = \"XXXX\"\n",
    "DB = \"XXXX\""
   ]
  },
  {
   "cell_type": "code",
   "execution_count": 32,
   "id": "fd4d5795-8b96-46d1-bc05-29c7562e222f",
   "metadata": {},
   "outputs": [],
   "source": [
    "from pymongo import MongoClient\n",
    "\n",
    "def connect():\n",
    "    url = \"mongodb+srv://{}:{}@{}?retryWrites=true&w=majority\".format(USER, PSWRD, HOST)\n",
    "    connection = MongoClient(url)\n",
    "    print(connection)\n",
    "    return connection[DB]"
   ]
  },
  {
   "cell_type": "markdown",
   "id": "b238cddd-fa81-47b7-89a9-7788e24635b2",
   "metadata": {},
   "source": [
    "### 1. Test Connection"
   ]
  },
  {
   "cell_type": "code",
   "execution_count": null,
   "id": "b4d1e378-b459-408a-ba9b-22a1c5ccc734",
   "metadata": {
    "tags": []
   },
   "outputs": [],
   "source": [
    "connection = connect()\n",
    "\n",
    "print(connection)"
   ]
  },
  {
   "cell_type": "code",
   "execution_count": null,
   "id": "88fc30ed-9e0e-4aea-a91e-df83f714a753",
   "metadata": {
    "tags": []
   },
   "outputs": [],
   "source": [
    "# Test connection, show collections in database\n",
    "connection = connect()\n",
    "\n",
    "try:\n",
    "    collections = connection.list_collection_names()\n",
    "\n",
    "    # Print collections\n",
    "    print(\"Collections in the database:\")\n",
    "    for n in collections:\n",
    "        print(n)\n",
    "except Exceptions as e:\n",
    "    print(\"Error printing collections:\", e)"
   ]
  },
  {
   "cell_type": "markdown",
   "id": "cb2e125d-bce1-4204-88d5-d499ad27e4a0",
   "metadata": {},
   "source": [
    "### 2. Write records into collection"
   ]
  },
  {
   "cell_type": "code",
   "execution_count": 4,
   "id": "a7693007-51c8-4568-9acf-3b1dacb36995",
   "metadata": {
    "tags": []
   },
   "outputs": [],
   "source": [
    "import pandas as pd\n",
    "from faker import Faker"
   ]
  },
  {
   "cell_type": "markdown",
   "id": "1b7eab27-f134-485b-a395-4a95b18968ff",
   "metadata": {},
   "source": [
    "**Importing data for referential integrity purposes**"
   ]
  },
  {
   "cell_type": "code",
   "execution_count": 28,
   "id": "3c47ed07-526e-4812-a064-8f5febccd574",
   "metadata": {
    "tags": []
   },
   "outputs": [
    {
     "name": "stdout",
     "output_type": "stream",
     "text": [
      "MongoClient(host=['ac-xocz8ol-shard-00-00.osacpym.mongodb.net:27017', 'ac-xocz8ol-shard-00-02.osacpym.mongodb.net:27017', 'ac-xocz8ol-shard-00-01.osacpym.mongodb.net:27017'], document_class=dict, tz_aware=False, connect=True, retrywrites=True, w='majority', authsource='admin', replicaset='atlas-drupfk-shard-0', tls=True)\n",
      "Data synchronized/transferred successfully to MongoDB\n"
     ]
    }
   ],
   "source": [
    "# To ensure referential integrity, we get the shopper data generated in final-project-mysql.ipynb\n",
    "# This data was hard-coded in final-project-mysql.ipynb\n",
    "from gcsfs import GCSFileSystem\n",
    "\n",
    "# GCS path to the CSV file\n",
    "gcs_path = 'gs://XXXX'\n",
    "\n",
    "# Using GCSFileSystem to open the file\n",
    "fs = GCSFileSystem(project='XXXX')\n",
    "with fs.open(gcs_path, 'rb') as file:\n",
    "    # Use pandas to read the CSV file\n",
    "    shopper_data = pd.read_csv(file, low_memory=False)\n",
    "\n",
    "try: \n",
    "    connection = connect()\n",
    "    collection = connection[\"shopper\"]\n",
    "    collection.insert_many(shopper_data.to_dict(orient='records'))\n",
    "    print(\"Data synchronized/transferred successfully to MongoDB\")\n",
    "except Exception as e:\n",
    "    print(\"Error occurred while synchronizing/transferring data:\", e)"
   ]
  },
  {
   "cell_type": "code",
   "execution_count": 29,
   "id": "014b70a3-e850-45f6-905b-25ef51c07b3e",
   "metadata": {
    "tags": []
   },
   "outputs": [
    {
     "name": "stdout",
     "output_type": "stream",
     "text": [
      "MongoClient(host=['ac-xocz8ol-shard-00-00.osacpym.mongodb.net:27017', 'ac-xocz8ol-shard-00-02.osacpym.mongodb.net:27017', 'ac-xocz8ol-shard-00-01.osacpym.mongodb.net:27017'], document_class=dict, tz_aware=False, connect=True, retrywrites=True, w='majority', authsource='admin', replicaset='atlas-drupfk-shard-0', tls=True)\n",
      "Number of documents in shopper: 50\n"
     ]
    }
   ],
   "source": [
    "# Showing num documents in shopper collection\n",
    "\n",
    "try:\n",
    "    connection = connect()\n",
    "    collection = connection[\"shopper\"]\n",
    "    \n",
    "    # Get number of documents in shopper collection\n",
    "    doc_count = collection.count_documents({})\n",
    "\n",
    "    # Print document count\n",
    "    print(f\"Number of documents in {collection.name}: {doc_count}\")\n",
    "except Exception as e:\n",
    "    print(\"Error occurred while counting documents:\", e)"
   ]
  },
  {
   "cell_type": "markdown",
   "id": "fd036ef8-5c41-45df-94be-0fc848b54528",
   "metadata": {},
   "source": [
    "**Populate the ticketing collection with 100 unique records**"
   ]
  },
  {
   "cell_type": "code",
   "execution_count": 67,
   "id": "ef8a8568-5c9b-40bf-ae5d-d647127041d5",
   "metadata": {
    "tags": []
   },
   "outputs": [
    {
     "name": "stdout",
     "output_type": "stream",
     "text": [
      "MongoClient(host=['ac-xocz8ol-shard-00-00.osacpym.mongodb.net:27017', 'ac-xocz8ol-shard-00-02.osacpym.mongodb.net:27017', 'ac-xocz8ol-shard-00-01.osacpym.mongodb.net:27017'], document_class=dict, tz_aware=False, connect=True, retrywrites=True, w='majority', authsource='admin', replicaset='atlas-drupfk-shard-0', tls=True)\n",
      "MongoClient(host=['ac-xocz8ol-shard-00-00.osacpym.mongodb.net:27017', 'ac-xocz8ol-shard-00-02.osacpym.mongodb.net:27017', 'ac-xocz8ol-shard-00-01.osacpym.mongodb.net:27017'], document_class=dict, tz_aware=False, connect=True, retrywrites=True, w='majority', authsource='admin', replicaset='atlas-drupfk-shard-0', tls=True)\n",
      "100 documents written into ticketing collection\n"
     ]
    }
   ],
   "source": [
    "from pymongo import MongoClient\n",
    "from faker import Faker\n",
    "from faker_airtravel import AirTravelProvider\n",
    "from datetime import datetime, timedelta, time\n",
    "from random import randrange\n",
    "\n",
    "fake = Faker()\n",
    "fake.add_provider(AirTravelProvider)\n",
    "connection = connect()\n",
    "shopper_collection = connection['shopper']\n",
    "\n",
    "def get_random_shopper():\n",
    "    try: \n",
    "        random_shopper = list(shopper_collection.aggregate([{'$sample': { 'size': 1 } }]))[0]\n",
    "        return random_shopper\n",
    "    except IndexError as e:\n",
    "        print('Unable to retrieve document: No documents found in shopper collection')\n",
    "\n",
    "# 100 unique records\n",
    "tickets = []\n",
    "for _ in range(100):\n",
    "    # Using fake.flight() from faker_airtravel\n",
    "    flight_info = fake.flight()\n",
    "    \n",
    "    # Get a random shopper for its cust_id\n",
    "    random_shopper = get_random_shopper()\n",
    "    \n",
    "    # Generate random departure and arrival dates\n",
    "    dep_date = fake.date_between(start_date='-30d', end_date='+30d')\n",
    "    arr_date = fake.date_between(start_date=dep_date, end_date=dep_date + timedelta(days=randrange(1, 31)))\n",
    "    \n",
    "    # Generate random departure time\n",
    "    dep_time = datetime.strptime(fake.time(), \"%H:%M:%S\")\n",
    "    # Add a random duration to the departure time for arrival time\n",
    "    duration = timedelta(hours=randrange(1, 11))\n",
    "    arr_time = dep_time + duration \n",
    "    \n",
    "    ticket = {\n",
    "        \"tck_id\": fake.uuid4(),\n",
    "        \"cust_id\": random_shopper['cust_id'],     # make sure mongodb.ticketing.cust_id exists in mysql.shopper.cust_id\n",
    "        \"airline\": flight_info['airline'],\n",
    "        \"flight_nm\": fake.random_int(min=1000, max=9999),\n",
    "        \"dep_airport\": flight_info['origin']['airport'],\n",
    "        \"arr_airport\": flight_info['destination']['airport'],\n",
    "        \"dep_date\": datetime.combine(dep_date, datetime.min.time()),\n",
    "        \"dep_time\": dep_time,\n",
    "        \"arr_date\": datetime.combine(arr_date, datetime.min.time()),\n",
    "        \"arr_time\": arr_time,\n",
    "        \"stops\": flight_info['stops'],\n",
    "        \"tik_amt\": flight_info['price'],\n",
    "        \"curr_code\": fake.currency_code(),\n",
    "    }\n",
    "    tickets.append(ticket)\n",
    "    \n",
    "# inserting the documents\n",
    "try:\n",
    "    connection = connect()\n",
    "    ticketing_collection = connection[\"ticketing\"]\n",
    "    ticketing_collection.insert_many(tickets)\n",
    "    print(f\"{len(tickets)} documents written into {ticketing_collection.name} collection\") \n",
    "except Exception as e:\n",
    "    print(\"Error writing documents into collection:\", e)"
   ]
  },
  {
   "cell_type": "markdown",
   "id": "74d65701-8448-4f98-bc8a-418ce30f5165",
   "metadata": {},
   "source": [
    "### Hard-coding \"ticketing\" data for referential integrity"
   ]
  },
  {
   "cell_type": "code",
   "execution_count": 71,
   "id": "a9557dd7-81c2-46ca-8a5c-274e8219cb10",
   "metadata": {
    "tags": []
   },
   "outputs": [
    {
     "name": "stdout",
     "output_type": "stream",
     "text": [
      "MongoClient(host=['ac-xocz8ol-shard-00-00.osacpym.mongodb.net:27017', 'ac-xocz8ol-shard-00-02.osacpym.mongodb.net:27017', 'ac-xocz8ol-shard-00-01.osacpym.mongodb.net:27017'], document_class=dict, tz_aware=False, connect=True, retrywrites=True, w='majority', authsource='admin', replicaset='atlas-drupfk-shard-0', tls=True)\n",
      "Done\n"
     ]
    }
   ],
   "source": [
    "# Write data to a CSV file in memory\n",
    "import pandas as pd\n",
    "from pymongo import MongoClient\n",
    "\n",
    "try:\n",
    "    connection = connect()\n",
    "    tickets_collection = connection[\"ticketing\"]\n",
    "    \n",
    "    # Get data from tickets collection\n",
    "    data = list(tickets_collection.find())\n",
    "    \n",
    "    # Convert data to a DataFrame\n",
    "    df = pd.DataFrame(data)\n",
    "    \n",
    "    # Write df to CSV file\n",
    "    df.to_csv(\"/home/jupyter/final_proj/ticketing_data_mongodb.csv\", index=False)\n",
    "    \n",
    "    print(\"Done\")\n",
    "except Exception as e:\n",
    "    print(\"Error:\", e)\n"
   ]
  },
  {
   "cell_type": "code",
   "execution_count": 72,
   "id": "c29e3290-9283-42a9-a4f2-aa261e10373c",
   "metadata": {
    "tags": []
   },
   "outputs": [
    {
     "name": "stdout",
     "output_type": "stream",
     "text": [
      "Data exported to gs://<Bucket: cs327e-final-project>/<Blob: cs327e-final-project, ticketing_data_mongodb.csv, 1701489782358612>\n"
     ]
    }
   ],
   "source": [
    "# Upload CSV data to a Google Cloud Storage bucket\n",
    "from google.cloud import storage\n",
    "\n",
    "try:\n",
    "    client = storage.Client()\n",
    "    bucket = client.get_bucket(\"XXXX\")\n",
    "    blob = bucket.blob(\"ticketing_data_mongodb.csv\")\n",
    "\n",
    "    # Upload CSV file to Google Cloud Storage\n",
    "    blob.upload_from_filename(\"/home/jupyter/final_proj/ticketing_data_mongodb.csv\", content_type='text/csv')\n",
    "\n",
    "    print(f'Data exported to gs://{bucket}/{blob}')\n",
    "except Exception as e:\n",
    "    print(\"Error occurred while uploading to Google Cloud Storage:\", e)"
   ]
  }
 ],
 "metadata": {
  "environment": {
   "kernel": "conda-root-py",
   "name": "workbench-notebooks.m113",
   "type": "gcloud",
   "uri": "gcr.io/deeplearning-platform-release/workbench-notebooks:m113"
  },
  "kernelspec": {
   "display_name": "Python 3 (ipykernel) (Local)",
   "language": "python",
   "name": "conda-root-py"
  },
  "language_info": {
   "codemirror_mode": {
    "name": "ipython",
    "version": 3
   },
   "file_extension": ".py",
   "mimetype": "text/x-python",
   "name": "python",
   "nbconvert_exporter": "python",
   "pygments_lexer": "ipython3",
   "version": "3.10.13"
  }
 },
 "nbformat": 4,
 "nbformat_minor": 5
}
