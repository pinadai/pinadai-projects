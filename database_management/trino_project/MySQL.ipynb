{
 "cells": [
  {
   "cell_type": "markdown",
   "id": "0521dfb2-654e-454c-a43c-a18762e79d46",
   "metadata": {
    "tags": []
   },
   "source": [
    "# Final Project Milestone 1\n",
    "# Part 1: MySQL\n",
    "## Daisy Pinaroc"
   ]
  },
  {
   "cell_type": "code",
   "execution_count": 1,
   "id": "3eb09488-e75f-4a77-8fff-c73fd1bc92db",
   "metadata": {
    "tags": []
   },
   "outputs": [],
   "source": [
    "HOST = \"XXXX\"\n",
    "USER = \"XXXX\"\n",
    "PW=\"XXXX\"\n",
    "DB=\"XXXX\""
   ]
  },
  {
   "cell_type": "code",
   "execution_count": 2,
   "id": "9054042f-c6e6-419c-85ed-258a64fed904",
   "metadata": {
    "tags": []
   },
   "outputs": [],
   "source": [
    "import mysql.connector\n",
    "\n",
    "def connect():\n",
    "    connection = mysql.connector.connect(\n",
    "    host=HOST,\n",
    "    user=USER,\n",
    "    password=PW,\n",
    "    database=DB,\n",
    "    autocommit=False)\n",
    "    \n",
    "    return connection"
   ]
  },
  {
   "cell_type": "markdown",
   "id": "888e7ba3-bbf1-4026-8964-bba5f61807a3",
   "metadata": {},
   "source": [
    "**Test connection** "
   ]
  },
  {
   "cell_type": "code",
   "execution_count": 3,
   "id": "106cfa33-81b5-45a1-b29a-38337379d892",
   "metadata": {
    "tags": []
   },
   "outputs": [
    {
     "name": "stdout",
     "output_type": "stream",
     "text": [
      "<mysql.connector.connection_cext.CMySQLConnection object at 0x7f8ae1e3f5b0>\n"
     ]
    }
   ],
   "source": [
    "import mysql.connector\n",
    "\n",
    "connection = connect()\n",
    "print(connection)"
   ]
  },
  {
   "cell_type": "markdown",
   "id": "2c181b1a-ad24-4749-a3cd-d2b550ed787f",
   "metadata": {},
   "source": [
    "**Create a table named \"shopper\" in the database.**"
   ]
  },
  {
   "cell_type": "code",
   "execution_count": 5,
   "id": "62572eec-ba73-4eba-8200-885c0325cc0a",
   "metadata": {
    "tags": []
   },
   "outputs": [
    {
     "name": "stdout",
     "output_type": "stream",
     "text": [
      "<mysql.connector.connection_cext.CMySQLConnection object at 0x7f8af130df90>\n",
      "DROP TABLE IF EXISTS shopper\n",
      "CREATE TABLE shopper(\n",
      "    cust_id MEDIUMINT NOT NULL AUTO_INCREMENT,\n",
      "    first_name VARCHAR(20) NOT NULL,\n",
      "    last_name VARCHAR(23) NOT NULL,\n",
      "    company VARCHAR(40) NOT NULL, \n",
      "    street_1 VARCHAR(41) NOT NULL,\n",
      "    street_2 VARCHAR(41) NOT NULL,\n",
      "    city VARCHAR(29) NOT NULL,\n",
      "    county VARCHAR(30) NOT NULL, \n",
      "    state CHAR(2) NOT NULL, \n",
      "    zip CHAR(5) NOT NULL,\n",
      "    phone_1 CHAR(12) NOT NULL,\n",
      "    phone_2 CHAR(12) NOT NULL,\n",
      "    email VARCHAR(44) NOT NULL,\n",
      "    PRIMARY KEY  (cust_id)\n",
      ")\n",
      "Dropped shopper table\n",
      "Created shopper table\n"
     ]
    }
   ],
   "source": [
    "import mysql.connector\n",
    "\n",
    "connection = connect()\n",
    "print(connection)\n",
    "\n",
    "drop = 'DROP TABLE IF EXISTS shopper'\n",
    "\n",
    "create = '''CREATE TABLE shopper(\n",
    "    cust_id MEDIUMINT NOT NULL AUTO_INCREMENT,\n",
    "    first_name VARCHAR(20) NOT NULL,\n",
    "    last_name VARCHAR(23) NOT NULL,\n",
    "    company VARCHAR(40) NOT NULL, \n",
    "    street_1 VARCHAR(41) NOT NULL,\n",
    "    street_2 VARCHAR(41) NOT NULL,\n",
    "    city VARCHAR(29) NOT NULL,\n",
    "    county VARCHAR(30) NOT NULL, \n",
    "    state CHAR(2) NOT NULL, \n",
    "    zip CHAR(5) NOT NULL,\n",
    "    phone_1 CHAR(12) NOT NULL,\n",
    "    phone_2 CHAR(12) NOT NULL,\n",
    "    email VARCHAR(44) NOT NULL,\n",
    "    PRIMARY KEY  (cust_id)\n",
    ")'''\n",
    "\n",
    "print(drop)\n",
    "print(create)\n",
    "\n",
    "try:\n",
    "    cursor = connection.cursor()\n",
    "    cursor.execute(drop)\n",
    "    print('Dropped shopper table')\n",
    "    \n",
    "    cursor = connection.cursor()\n",
    "    cursor.execute(create)\n",
    "    print('Created shopper table')\n",
    "except Exception as e:\n",
    "    print(\"Error occurred while creating shopper table:\", e)"
   ]
  },
  {
   "cell_type": "markdown",
   "id": "0052eaae-91a5-4aec-833e-7ecfbe80e533",
   "metadata": {},
   "source": [
    "**Generate the shopper records and writes them into previously created\n",
    "table in MySQL.**"
   ]
  },
  {
   "cell_type": "code",
   "execution_count": 18,
   "id": "59636e6a-8dd2-42a9-b1dc-7519600686d2",
   "metadata": {
    "collapsed": true,
    "jupyter": {
     "outputs_hidden": true
    },
    "tags": []
   },
   "outputs": [
    {
     "name": "stdout",
     "output_type": "stream",
     "text": [
      "All records deleted from the 'shopper' table\n"
     ]
    }
   ],
   "source": [
    "# Deletes all records from shopper table, if needed\n",
    "'''\n",
    "try:\n",
    "    cursor = connection.cursor()\n",
    "    delete_query = \"DELETE FROM shopper\"\n",
    "    cursor.execute(delete_query)\n",
    "    connection.commit()\n",
    "    print(\"All records deleted from the 'shopper' table\")\n",
    "    cursor.close()\n",
    "except Exception as e:\n",
    "    connection.rollback()\n",
    "    print(\"Error occurred while deleting records:\", e)\n",
    "'''"
   ]
  },
  {
   "cell_type": "code",
   "execution_count": 6,
   "id": "cb049b66-5741-4071-8a26-3ce31282d721",
   "metadata": {
    "tags": []
   },
   "outputs": [
    {
     "name": "stdout",
     "output_type": "stream",
     "text": [
      "<mysql.connector.connection_cext.CMySQLConnection object at 0x7f8ae1e3eb30>\n",
      "50 records written into shopper table\n"
     ]
    }
   ],
   "source": [
    "from faker import Faker\n",
    "\n",
    "import mysql.connector\n",
    "\n",
    "connection = connect()\n",
    "print(connection)\n",
    "\n",
    "fake = Faker(\"en_US\")\n",
    "\n",
    "shopper_records = []\n",
    "for _ in range(50):\n",
    "    shopper_record = (\n",
    "        fake.first_name(),\n",
    "        fake.last_name(),\n",
    "        fake.company(),\n",
    "        fake.street_address(),\n",
    "        fake.secondary_address(),\n",
    "        fake.city(),\n",
    "        fake.city(),\n",
    "        fake.state_abbr(),\n",
    "        fake.zipcode(),\n",
    "        fake.phone_number()[:12],\n",
    "        fake.phone_number()[:12],\n",
    "        fake.email(),\n",
    "    )\n",
    "    shopper_records.append(shopper_record)\n",
    "\n",
    "sql = \"\"\"INSERT INTO shopper (\n",
    "    first_name, last_name, company, street_1, street_2, city, county, state, zip, phone_1, phone_2, email\n",
    ") VALUES (%s, %s, %s, %s, %s, %s, %s, %s, %s, %s, %s, %s)\"\"\"\n",
    "\n",
    "try:\n",
    "    cursor = connection.cursor()\n",
    "    cursor.executemany(sql, shopper_records)\n",
    "    connection.commit()\n",
    "    print('50 records written into shopper table')\n",
    "    cursor.close()\n",
    "except Exception as e:\n",
    "    print(\"Error occurred while writing records:\", e)"
   ]
  },
  {
   "cell_type": "markdown",
   "id": "1cb4cb72-c220-4bb4-95ce-cac54e48eeb3",
   "metadata": {},
   "source": [
    "**Hard-coding the shopper data to later ensure referential integrity between the tables**"
   ]
  },
  {
   "cell_type": "code",
   "execution_count": 7,
   "id": "73195a94-494e-4106-b139-5743da401cf0",
   "metadata": {
    "collapsed": true,
    "jupyter": {
     "outputs_hidden": true
    },
    "tags": []
   },
   "outputs": [
    {
     "name": "stdout",
     "output_type": "stream",
     "text": [
      "[{'cust_id': 1, 'first_name': 'Joseph', 'last_name': 'Lopez', 'company': 'Vincent-Lane', 'street_1': '412 Kelly Rue Suite 279', 'street_2': 'Suite 984', 'city': 'Port Danielleville', 'county': 'Smithfurt', 'state': 'DC', 'zip': '07289', 'phone_1': '402-759-8598', 'phone_2': '(486)395-765', 'email': 'williamrobinson@example.org'}, {'cust_id': 2, 'first_name': 'Susan', 'last_name': 'Harvey', 'company': 'Smith PLC', 'street_1': '07244 Thomas Common', 'street_2': 'Apt. 410', 'city': 'Justinland', 'county': 'Tinaview', 'state': 'SD', 'zip': '58509', 'phone_1': '969-886-3466', 'phone_2': '3479738356', 'email': 'rogerwelch@example.com'}, {'cust_id': 3, 'first_name': 'Kerri', 'last_name': 'Wilson', 'company': 'Bell-Johnson', 'street_1': '775 Tina Tunnel Suite 964', 'street_2': 'Suite 178', 'city': 'Port Kenneth', 'county': 'Odonnellshire', 'state': 'AL', 'zip': '24610', 'phone_1': '+1-740-921-7', 'phone_2': '432-964-3447', 'email': 'sheribrown@example.com'}, {'cust_id': 4, 'first_name': 'Vincent', 'last_name': 'Byrd', 'company': 'Garcia-Bradford', 'street_1': '321 Christopher Inlet', 'street_2': 'Apt. 224', 'city': 'Robinsonberg', 'county': 'Joelside', 'state': 'WA', 'zip': '75428', 'phone_1': '+1-242-725-0', 'phone_2': '4036090208', 'email': 'craigschroeder@example.net'}, {'cust_id': 5, 'first_name': 'Heather', 'last_name': 'Estrada', 'company': 'Reyes, Andrews and Shelton', 'street_1': '810 Kimberly Parks Suite 128', 'street_2': 'Suite 217', 'city': 'East Rebecca', 'county': 'Port William', 'state': 'DE', 'zip': '28645', 'phone_1': '935.437.0095', 'phone_2': '(690)980-283', 'email': 'dfox@example.org'}, {'cust_id': 6, 'first_name': 'Anne', 'last_name': 'Thomas', 'company': 'Gardner Group', 'street_1': '70668 Kyle Courts Apt. 954', 'street_2': 'Apt. 671', 'city': 'Figueroaton', 'county': 'New Alec', 'state': 'ID', 'zip': '28920', 'phone_1': '(762)720-762', 'phone_2': '776.368.2095', 'email': 'markcarter@example.net'}, {'cust_id': 7, 'first_name': 'Cheryl', 'last_name': 'Carney', 'company': 'Gomez and Sons', 'street_1': '742 Scott Locks', 'street_2': 'Apt. 838', 'city': 'Kaylamouth', 'county': 'Lake Michael', 'state': 'AZ', 'zip': '81121', 'phone_1': '+1-795-442-8', 'phone_2': '719-443-4405', 'email': 'ithomas@example.net'}, {'cust_id': 8, 'first_name': 'Jason', 'last_name': 'Gonzalez', 'company': 'Mccullough, Villegas and Monroe', 'street_1': '59955 Ronald Road', 'street_2': 'Apt. 536', 'city': 'Lake Gregory', 'county': 'Ryanbury', 'state': 'FM', 'zip': '73259', 'phone_1': '435.611.8495', 'phone_2': '+1-739-707-3', 'email': 'fischerlori@example.net'}, {'cust_id': 9, 'first_name': 'Christopher', 'last_name': 'Smith', 'company': 'Wilson-Lane', 'street_1': '58235 Tonya Mountain Apt. 554', 'street_2': 'Suite 844', 'city': 'Belltown', 'county': 'East Andre', 'state': 'CO', 'zip': '01672', 'phone_1': '799.945.7411', 'phone_2': '+1-545-250-1', 'email': 'brownjeanette@example.com'}, {'cust_id': 10, 'first_name': 'Hector', 'last_name': 'Mccarthy', 'company': 'Gould-Obrien', 'street_1': '53728 Rice Via', 'street_2': 'Apt. 809', 'city': 'Blaketon', 'county': 'Rileytown', 'state': 'AR', 'zip': '21153', 'phone_1': '+1-800-268-7', 'phone_2': '774.222.0637', 'email': 'cpowell@example.org'}, {'cust_id': 11, 'first_name': 'Troy', 'last_name': 'Franco', 'company': 'Mills-Powers', 'street_1': '67074 Mckinney Trail Apt. 566', 'street_2': 'Apt. 609', 'city': 'Williamhaven', 'county': 'Port Richardfort', 'state': 'SD', 'zip': '96020', 'phone_1': '264.940.1873', 'phone_2': '422.268.8257', 'email': 'jestrada@example.net'}, {'cust_id': 12, 'first_name': 'Jared', 'last_name': 'Patterson', 'company': 'Arnold-Coleman', 'street_1': '5748 Carla Locks Suite 093', 'street_2': 'Apt. 197', 'city': 'New Latoyaton', 'county': 'Lake Lisastad', 'state': 'FM', 'zip': '80175', 'phone_1': '(306)957-851', 'phone_2': '(250)415-407', 'email': 'john83@example.org'}, {'cust_id': 13, 'first_name': 'Brian', 'last_name': 'Wong', 'company': 'Giles-Thompson', 'street_1': '31683 Alexander Run Apt. 138', 'street_2': 'Suite 098', 'city': 'Conleyland', 'county': 'Lake Natasha', 'state': 'MI', 'zip': '17946', 'phone_1': '001-920-670-', 'phone_2': '+1-384-223-5', 'email': 'hayescaitlin@example.com'}, {'cust_id': 14, 'first_name': 'Richard', 'last_name': 'Johnson', 'company': 'Hunter, Bradley and Cooper', 'street_1': '512 Bowman Pike Apt. 905', 'street_2': 'Apt. 343', 'city': 'New Charlesport', 'county': 'Floresberg', 'state': 'MP', 'zip': '20178', 'phone_1': '878-545-3110', 'phone_2': '+1-723-792-0', 'email': 'ijohnson@example.com'}, {'cust_id': 15, 'first_name': 'Chase', 'last_name': 'Reed', 'company': 'Thompson PLC', 'street_1': '98501 Kathleen Tunnel', 'street_2': 'Apt. 061', 'city': 'Port Reginaside', 'county': 'Wilsonmouth', 'state': 'OK', 'zip': '42157', 'phone_1': '338.991.9059', 'phone_2': '285.886.1609', 'email': 'robertmoody@example.net'}, {'cust_id': 16, 'first_name': 'Ryan', 'last_name': 'Rodriguez', 'company': 'Gonzalez Ltd', 'street_1': '20852 Cassandra Ports Suite 606', 'street_2': 'Suite 855', 'city': 'Ralphberg', 'county': 'West Richard', 'state': 'ID', 'zip': '37412', 'phone_1': '(959)225-263', 'phone_2': '805-819-7684', 'email': 'cruzmargaret@example.net'}, {'cust_id': 17, 'first_name': 'Christopher', 'last_name': 'Lopez', 'company': 'Dennis-Melendez', 'street_1': '33546 Chambers Road Suite 354', 'street_2': 'Apt. 917', 'city': 'West Wayne', 'county': 'Ramosmouth', 'state': 'MD', 'zip': '56878', 'phone_1': '973.956.2412', 'phone_2': '(654)246-098', 'email': 'jamesstanton@example.org'}, {'cust_id': 18, 'first_name': 'Luis', 'last_name': 'Munoz', 'company': 'Douglas-Archer', 'street_1': '4503 Wilson Forge Suite 805', 'street_2': 'Suite 482', 'city': 'Michaelfort', 'county': 'Oliverberg', 'state': 'TN', 'zip': '99213', 'phone_1': '785.583.0149', 'phone_2': '609-752-7148', 'email': 'zbender@example.org'}, {'cust_id': 19, 'first_name': 'Travis', 'last_name': 'Jordan', 'company': 'Martinez-Wyatt', 'street_1': '0785 Wilson Heights', 'street_2': 'Apt. 646', 'city': 'Shellyborough', 'county': 'Port Angelamouth', 'state': 'PW', 'zip': '52702', 'phone_1': '394.392.0734', 'phone_2': '+1-663-889-1', 'email': 'qtownsend@example.net'}, {'cust_id': 20, 'first_name': 'Richard', 'last_name': 'Johnson', 'company': 'Perez, Prince and Lee', 'street_1': '459 David Estates', 'street_2': 'Suite 529', 'city': 'Jenniferstad', 'county': 'Lake Devon', 'state': 'NE', 'zip': '35027', 'phone_1': '565-280-7351', 'phone_2': '001-992-831-', 'email': 'cgross@example.com'}, {'cust_id': 21, 'first_name': 'Mark', 'last_name': 'Murray', 'company': 'Smith-Hale', 'street_1': '7538 Moreno Corners', 'street_2': 'Apt. 232', 'city': 'Elijahmouth', 'county': 'Barrymouth', 'state': 'AZ', 'zip': '13428', 'phone_1': '+1-261-638-1', 'phone_2': '001-505-784-', 'email': 'ttyler@example.org'}, {'cust_id': 22, 'first_name': 'Jeremy', 'last_name': 'Reed', 'company': 'Young-Beltran', 'street_1': '2186 Moreno Stream', 'street_2': 'Suite 145', 'city': 'North Patriciaberg', 'county': 'Harrisstad', 'state': 'AR', 'zip': '82815', 'phone_1': '516-806-0413', 'phone_2': '(426)368-019', 'email': 'chaneylisa@example.org'}, {'cust_id': 23, 'first_name': 'Marco', 'last_name': 'Davis', 'company': 'Rollins and Sons', 'street_1': '59253 Matthew Shore Suite 627', 'street_2': 'Suite 946', 'city': 'West Tanner', 'county': 'Johnport', 'state': 'MS', 'zip': '73792', 'phone_1': '(591)316-043', 'phone_2': '771-911-1417', 'email': 'johnjones@example.org'}, {'cust_id': 24, 'first_name': 'Richard', 'last_name': 'Smith', 'company': 'Snyder-Hodge', 'street_1': '74276 Patel Streets', 'street_2': 'Suite 530', 'city': 'Lloydchester', 'county': 'Harmonburgh', 'state': 'AK', 'zip': '29391', 'phone_1': '+1-579-567-2', 'phone_2': '763.971.6771', 'email': 'mmalone@example.net'}, {'cust_id': 25, 'first_name': 'Michael', 'last_name': 'Brown', 'company': 'Anderson, Wright and Barton', 'street_1': '754 Brown Hill Suite 111', 'street_2': 'Apt. 430', 'city': 'Ashleyland', 'county': 'Simmonsmouth', 'state': 'AR', 'zip': '78526', 'phone_1': '(676)547-516', 'phone_2': '915-883-9498', 'email': 'davidjackson@example.com'}, {'cust_id': 26, 'first_name': 'Monica', 'last_name': 'Simpson', 'company': 'Moreno, Wagner and Charles', 'street_1': '2165 Samantha Street Suite 852', 'street_2': 'Apt. 172', 'city': 'Smithside', 'county': 'Wheelerburgh', 'state': 'MD', 'zip': '40291', 'phone_1': '(365)357-183', 'phone_2': '(904)596-702', 'email': 'nathan33@example.com'}, {'cust_id': 27, 'first_name': 'Cassie', 'last_name': 'Moses', 'company': 'Bryant-Franklin', 'street_1': '448 Young Stravenue Apt. 751', 'street_2': 'Apt. 854', 'city': 'Port Natasha', 'county': 'Port Jeremiahland', 'state': 'GA', 'zip': '87295', 'phone_1': '+1-358-237-4', 'phone_2': '305.416.9928', 'email': 'devinhayes@example.net'}, {'cust_id': 28, 'first_name': 'Daniel', 'last_name': 'Gaines', 'company': 'Arellano-Hartman', 'street_1': '058 Long Dam Suite 252', 'street_2': 'Suite 402', 'city': 'Emilyview', 'county': 'West Christyville', 'state': 'LA', 'zip': '99935', 'phone_1': '001-981-849-', 'phone_2': '585.328.2302', 'email': 'hernandezbrett@example.net'}, {'cust_id': 29, 'first_name': 'Andrew', 'last_name': 'Morrison', 'company': 'Alexander LLC', 'street_1': '0903 Danielle Pike Suite 937', 'street_2': 'Apt. 106', 'city': 'Hubbardport', 'county': 'North Alexanderbury', 'state': 'AS', 'zip': '12584', 'phone_1': '683-805-5091', 'phone_2': '594-655-2163', 'email': 'waltersmichael@example.org'}, {'cust_id': 30, 'first_name': 'Thomas', 'last_name': 'Craig', 'company': 'Garcia-Waller', 'street_1': '655 Clark Wall', 'street_2': 'Suite 443', 'city': 'New Jasonberg', 'county': 'East Christina', 'state': 'AK', 'zip': '51010', 'phone_1': '684-469-3766', 'phone_2': '231.600.1322', 'email': 'heather36@example.com'}, {'cust_id': 31, 'first_name': 'Tara', 'last_name': 'Reeves', 'company': 'Osborne LLC', 'street_1': '86104 White Heights', 'street_2': 'Apt. 855', 'city': 'New Riley', 'county': 'Fernandezmouth', 'state': 'PR', 'zip': '77600', 'phone_1': '494-303-1731', 'phone_2': '(535)307-613', 'email': 'louis41@example.net'}, {'cust_id': 32, 'first_name': 'Terri', 'last_name': 'Schmidt', 'company': 'Bowers and Sons', 'street_1': '6253 Aaron Plaza', 'street_2': 'Apt. 246', 'city': 'Smithburgh', 'county': 'Joshuastad', 'state': 'HI', 'zip': '08631', 'phone_1': '(369)489-645', 'phone_2': '+1-659-719-4', 'email': 'richardskristen@example.org'}, {'cust_id': 33, 'first_name': 'Danielle', 'last_name': 'Pittman', 'company': 'Arellano LLC', 'street_1': '75997 Kaitlin Circles', 'street_2': 'Apt. 050', 'city': 'Gonzalezmouth', 'county': 'Port Stephen', 'state': 'OH', 'zip': '40096', 'phone_1': '7538319012', 'phone_2': '852-897-8742', 'email': 'fsimpson@example.com'}, {'cust_id': 34, 'first_name': 'Jeanette', 'last_name': 'Hayes', 'company': 'Elliott-Jones', 'street_1': '1460 Little Mountain', 'street_2': 'Suite 758', 'city': 'Danielfurt', 'county': 'Theresastad', 'state': 'KS', 'zip': '58718', 'phone_1': '001-995-691-', 'phone_2': '001-761-305-', 'email': 'cummingschristy@example.org'}, {'cust_id': 35, 'first_name': 'Anthony', 'last_name': 'Hoffman', 'company': 'Freeman Ltd', 'street_1': '186 Gonzalez Radial Suite 807', 'street_2': 'Apt. 372', 'city': 'Stephanietown', 'county': 'Lake Lisa', 'state': 'ID', 'zip': '37700', 'phone_1': '(512)424-484', 'phone_2': '001-304-633-', 'email': 'andreamorales@example.org'}, {'cust_id': 36, 'first_name': 'Adam', 'last_name': 'Walker', 'company': 'Flores and Sons', 'street_1': '98828 Edwards Crest Apt. 414', 'street_2': 'Suite 830', 'city': 'Lake Carolyn', 'county': 'Lauriebury', 'state': 'TX', 'zip': '47900', 'phone_1': '(291)777-884', 'phone_2': '890.623.7175', 'email': 'andersonmelvin@example.com'}, {'cust_id': 37, 'first_name': 'Tammy', 'last_name': 'Mccoy', 'company': 'Smith, Thornton and Russell', 'street_1': '7552 Marissa Ramp Apt. 602', 'street_2': 'Suite 583', 'city': 'Port Matthew', 'county': 'Port Lori', 'state': 'PR', 'zip': '16947', 'phone_1': '(480)667-458', 'phone_2': '(511)593-267', 'email': 'blackjenna@example.com'}, {'cust_id': 38, 'first_name': 'Mary', 'last_name': 'Waller', 'company': 'Wood, Martin and Johnson', 'street_1': '9261 Reed Forest Apt. 232', 'street_2': 'Suite 897', 'city': 'Holderborough', 'county': 'Williambury', 'state': 'FL', 'zip': '63936', 'phone_1': '+1-971-700-7', 'phone_2': '916.876.7584', 'email': 'gillespieraymond@example.net'}, {'cust_id': 39, 'first_name': 'Joshua', 'last_name': 'Taylor', 'company': 'Walker, Allen and Watkins', 'street_1': '09870 Ryan Ports', 'street_2': 'Apt. 183', 'city': 'West Aimee', 'county': 'South Lance', 'state': 'MI', 'zip': '84845', 'phone_1': '481-661-3105', 'phone_2': '(213)436-112', 'email': 'nicolewhite@example.org'}, {'cust_id': 40, 'first_name': 'Michele', 'last_name': 'Bender', 'company': 'King, Cooper and Kirby', 'street_1': '61242 Pruitt Junctions', 'street_2': 'Suite 155', 'city': 'North Sean', 'county': 'New Rebeccaland', 'state': 'AK', 'zip': '80101', 'phone_1': '+1-521-872-0', 'phone_2': '+1-698-897-1', 'email': 'georgesuarez@example.com'}, {'cust_id': 41, 'first_name': 'Brian', 'last_name': 'Cummings', 'company': 'Lopez, Fleming and Pope', 'street_1': '5628 Kenneth Wall Suite 395', 'street_2': 'Suite 500', 'city': 'Ramosberg', 'county': 'East Sheila', 'state': 'TN', 'zip': '20529', 'phone_1': '(905)712-384', 'phone_2': '+1-519-828-9', 'email': 'imoss@example.com'}, {'cust_id': 42, 'first_name': 'Spencer', 'last_name': 'Bell', 'company': 'Vaughn-Jones', 'street_1': '15965 Joy Valleys', 'street_2': 'Apt. 605', 'city': 'New Janeside', 'county': 'Kennethshire', 'state': 'AZ', 'zip': '72335', 'phone_1': '(957)736-009', 'phone_2': '+1-544-544-7', 'email': 'charlotte08@example.org'}, {'cust_id': 43, 'first_name': 'Thomas', 'last_name': 'Dawson', 'company': 'Smith, Miller and Cruz', 'street_1': '2984 Reyes Heights Suite 093', 'street_2': 'Apt. 851', 'city': 'Lambertshire', 'county': 'North Kimberly', 'state': 'AK', 'zip': '31942', 'phone_1': '737.226.6336', 'phone_2': '+1-854-759-7', 'email': 'justinclark@example.org'}, {'cust_id': 44, 'first_name': 'Samuel', 'last_name': 'Vazquez', 'company': 'Baker-Anderson', 'street_1': '47281 Decker Center Suite 465', 'street_2': 'Apt. 174', 'city': 'South Jacqueline', 'county': 'New Lawrence', 'state': 'PW', 'zip': '55771', 'phone_1': '219-402-2433', 'phone_2': '+1-527-947-2', 'email': 'samanthaholmes@example.com'}, {'cust_id': 45, 'first_name': 'Dennis', 'last_name': 'Johnson', 'company': 'Daniels Inc', 'street_1': '922 Kimberly Extensions', 'street_2': 'Apt. 562', 'city': 'Evanside', 'county': 'Lake Stevenview', 'state': 'MN', 'zip': '52403', 'phone_1': '625.759.2126', 'phone_2': '469-474-5112', 'email': 'zpage@example.net'}, {'cust_id': 46, 'first_name': 'Fred', 'last_name': 'Gonzalez', 'company': 'Jones, Edwards and Willis', 'street_1': '024 Jason Ridge', 'street_2': 'Suite 666', 'city': 'Willisstad', 'county': 'Hawkinsfort', 'state': 'VI', 'zip': '13774', 'phone_1': '(394)485-624', 'phone_2': '001-825-799-', 'email': 'taylorkent@example.org'}, {'cust_id': 47, 'first_name': 'Daniel', 'last_name': 'Johnson', 'company': 'Lewis Group', 'street_1': '77039 Austin Walk', 'street_2': 'Suite 588', 'city': 'New Marie', 'county': 'Justinfort', 'state': 'TX', 'zip': '01151', 'phone_1': '+1-253-850-3', 'phone_2': '(452)596-395', 'email': 'wgarcia@example.com'}, {'cust_id': 48, 'first_name': 'Adam', 'last_name': 'Fisher', 'company': 'Hopkins-Hernandez', 'street_1': '904 Schmitt Pike Suite 698', 'street_2': 'Suite 065', 'city': 'East Rebecca', 'county': 'Matthewsstad', 'state': 'ME', 'zip': '83415', 'phone_1': '+1-734-685-2', 'phone_2': '001-948-526-', 'email': 'douglasjasmine@example.org'}, {'cust_id': 49, 'first_name': 'Michael', 'last_name': 'Calderon', 'company': 'Holder-Jackson', 'street_1': '7675 Stewart Forks Suite 849', 'street_2': 'Suite 817', 'city': 'Millermouth', 'county': 'Jayland', 'state': 'ND', 'zip': '63730', 'phone_1': '(524)810-905', 'phone_2': '617-554-7413', 'email': 'hunterrichard@example.com'}, {'cust_id': 50, 'first_name': 'Marvin', 'last_name': 'Hester', 'company': 'Scott Inc', 'street_1': '4182 Kevin Mountain', 'street_2': 'Suite 865', 'city': 'Colehaven', 'county': 'Townsendborough', 'state': 'TN', 'zip': '51337', 'phone_1': '(395)912-807', 'phone_2': '+1-990-768-2', 'email': 'ihughes@example.org'}]\n"
     ]
    }
   ],
   "source": [
    "# Select data from shopper table\n",
    "# Also prints data in shopper table\n",
    "try:\n",
    "    cursor = connection.cursor(dictionary=True)\n",
    "    select_query = \"SELECT * FROM shopper\"\n",
    "    cursor.execute(select_query)\n",
    "    records = cursor.fetchall()\n",
    "    print(records)\n",
    "    cursor.close()\n",
    "except Exception as e:\n",
    "    print(\"Error occurred while fetching records:\", e)"
   ]
  },
  {
   "cell_type": "code",
   "execution_count": 10,
   "id": "4b761708-68a4-4f49-8d61-e8d9fdd36553",
   "metadata": {
    "tags": []
   },
   "outputs": [
    {
     "name": "stdout",
     "output_type": "stream",
     "text": [
      "CSV file containing shopper data written successfully\n"
     ]
    }
   ],
   "source": [
    "# Write data to a CSV file in memory\n",
    "from io import StringIO\n",
    "import csv\n",
    "csv_data = StringIO()\n",
    "try:\n",
    "    fieldnames = ['cust_id', 'first_name', 'last_name', 'company', 'street_1', 'street_2', 'city', 'county', 'state', 'zip', 'phone_1', 'phone_2', 'email']\n",
    "    writer = csv.DictWriter(csv_data, fieldnames=fieldnames)\n",
    "\n",
    "    writer.writeheader()\n",
    "    for record in records:\n",
    "        writer.writerow(record)\n",
    "    print (\"CSV file containing shopper data written successfully\")\n",
    "except Exception as e:\n",
    "    print(\"Error occurred while writing to CSV file in memory:\", e)"
   ]
  },
  {
   "cell_type": "code",
   "execution_count": 11,
   "id": "d5ae37d3-4edb-46ba-900a-4833eb9d6504",
   "metadata": {
    "tags": []
   },
   "outputs": [
    {
     "name": "stdout",
     "output_type": "stream",
     "text": [
      "Data exported to gs://cs327e-final-project/shopper_data_mysql.csv\n"
     ]
    }
   ],
   "source": [
    "# Upload CSV data to a Google Cloud Storage bucket\n",
    "# bucket_name: XXXX\n",
    "from google.cloud import storage\n",
    "\n",
    "bucket_name = 'XXXX'\n",
    "blob_name = 'shopper_data_mysql.csv'\n",
    "try:\n",
    "    client = storage.Client()\n",
    "    bucket = client.get_bucket(bucket_name)\n",
    "    blob = bucket.blob(blob_name)\n",
    "\n",
    "    # Convert CSV data to bytes and upload it to the blob\n",
    "    blob.upload_from_string(csv_data.getvalue().encode('utf-8'), content_type='text/csv')\n",
    "\n",
    "    print(f'Data exported to gs://{bucket_name}/{blob_name}')\n",
    "except Exception as e:\n",
    "    print(\"Error occurred while uploading to Google Cloud Storage:\", e)"
   ]
  },
  {
   "cell_type": "code",
   "execution_count": 12,
   "id": "aace4e50-9615-4eb8-b6a8-8c9277f1b9da",
   "metadata": {
    "tags": []
   },
   "outputs": [
    {
     "name": "stderr",
     "output_type": "stream",
     "text": [
      "Copying gs://cs327e-final-project/shopper_data_mysql.csv...\n",
      "/ [1 files][  7.5 KiB/  7.5 KiB]                                                \n",
      "Operation completed over 1 objects/7.5 KiB.                                      \n"
     ]
    },
    {
     "name": "stdout",
     "output_type": "stream",
     "text": [
      "File downloaded successfully.\n"
     ]
    }
   ],
   "source": [
    "# Check if the csv file's correct - download to jupyter notebook instance\n",
    "import subprocess\n",
    "\n",
    "# Define Google Cloud bucket_name and file_path\n",
    "bucket_name = 'XXXX'\n",
    "file_path = 'shopper_data_mysql.csv'\n",
    "\n",
    "# Download the file using gsutil\n",
    "# Official documentation here: https://cloud.google.com/storage/docs/gsutil_install\n",
    "subprocess.run(['gsutil', 'cp', f'gs://{bucket_name}/{file_path}', 'shopper_data_mysql.csv'])\n",
    "print('File downloaded successfully.')"
   ]
  }
 ],
 "metadata": {
  "environment": {
   "kernel": "conda-root-py",
   "name": "workbench-notebooks.m113",
   "type": "gcloud",
   "uri": "gcr.io/deeplearning-platform-release/workbench-notebooks:m113"
  },
  "kernelspec": {
   "display_name": "Python 3 (ipykernel) (Local)",
   "language": "python",
   "name": "conda-root-py"
  },
  "language_info": {
   "codemirror_mode": {
    "name": "ipython",
    "version": 3
   },
   "file_extension": ".py",
   "mimetype": "text/x-python",
   "name": "python",
   "nbconvert_exporter": "python",
   "pygments_lexer": "ipython3",
   "version": "3.10.13"
  }
 },
 "nbformat": 4,
 "nbformat_minor": 5
}
